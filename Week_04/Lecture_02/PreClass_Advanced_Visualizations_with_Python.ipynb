{
  "nbformat": 4,
  "nbformat_minor": 0,
  "metadata": {
    "colab": {
      "name": "PreClass - Advanced Visualizations with Python.ipynb",
      "provenance": [],
      "collapsed_sections": [],
      "authorship_tag": "ABX9TyNzlwlz84bDrnSqvVcCEqXu",
      "include_colab_link": true
    },
    "kernelspec": {
      "name": "python3",
      "display_name": "Python 3"
    },
    "language_info": {
      "name": "python"
    }
  },
  "cells": [
    {
      "cell_type": "markdown",
      "metadata": {
        "id": "view-in-github",
        "colab_type": "text"
      },
      "source": [
        "<a href=\"https://colab.research.google.com/github/sensei-jirving/Online-DS-PT-01.24.22-cohort-notes/blob/main/Week_04/Lecture_02/PreClass_Advanced_Visualizations_with_Python.ipynb\" target=\"_parent\"><img src=\"https://colab.research.google.com/assets/colab-badge.svg\" alt=\"Open In Colab\"/></a>"
      ]
    },
    {
      "cell_type": "markdown",
      "source": [
        "# Advanced Visualizations with Python"
      ],
      "metadata": {
        "id": "NLYr_YI25nAK"
      }
    },
    {
      "cell_type": "markdown",
      "source": [
        "- 02/18/22\n",
        "- 01.24.22 Cohort"
      ],
      "metadata": {
        "id": "Jt0g4pt48-kx"
      }
    },
    {
      "cell_type": "markdown",
      "source": [
        "## Learning Objectives"
      ],
      "metadata": {
        "id": "ePcEuUbd53LU"
      }
    },
    {
      "cell_type": "markdown",
      "source": [
        "> Today we are going to focus on examples of advanced and more complex visualization construction with matplotlib/pandas/seaborn.\n",
        "\n",
        "- Instead of a single-dataset-driven activity, we are going to use several datasets to demonstrate different visualizations tasks/tweaks.\n",
        "\n",
        "\n",
        "\n"
      ],
      "metadata": {
        "id": "0_DshKjj55Im"
      }
    },
    {
      "cell_type": "markdown",
      "source": [
        "### Previously Promised in Class\n"
      ],
      "metadata": {
        "id": "4NEkyscW6cO6"
      }
    },
    {
      "cell_type": "markdown",
      "source": [
        "\n",
        "- Formatting ticks - location and text formatting\n",
        "- Matplotlib styles/seaborn themes\n",
        "- Font customization (titles/axis labels, etc)\n",
        "- Figures with multiple subplots\n",
        "    - Multiple subplots with DIFFERENT figure sizes.\n",
        "- Saving/exporting figures (programatically)\n"
      ],
      "metadata": {
        "id": "8uekomB46gXp"
      }
    },
    {
      "cell_type": "markdown",
      "source": [
        "\n",
        "\n",
        "### Requested\n"
      ],
      "metadata": {
        "id": "DCUspKlH7ByO"
      }
    },
    {
      "cell_type": "markdown",
      "source": [
        "- Review loading and saving files to Google Drive.\n",
        "\n",
        "\n",
        "- Using lists to iterate through the custom creation of Subplots; data frames, filters, colors, labels etc\n",
        "\n",
        "\n",
        "\n",
        "- OOP Syntax and Using Axes\n",
        "\n",
        "\n",
        "\n",
        "- Selective removal of frame/spines\n",
        "\n"
      ],
      "metadata": {
        "id": "9g515xIy6l9Z"
      }
    },
    {
      "cell_type": "markdown",
      "source": [
        "## Datasets Used Today"
      ],
      "metadata": {
        "id": "kOYFdvVXCQUT"
      }
    },
    {
      "cell_type": "markdown",
      "source": [
        ">- All data files used today are stored in [this Google Drive folder](https://drive.google.com/drive/folders/10O96wCNedDmmuKaO_NBc5rsNCUoiLuXs?usp=sharing).\n",
        "    - You will want to click the add to google drive button on the top right.\n",
        "    - or you can download the files locally and then add to colab/drive.\n",
        "\n",
        "\n",
        "\n",
        "- Super Heroes Dataset: https://www.kaggle.com/claudiodavi/superhero-set\n",
        "    - Files:\n",
        "        - heroes_information.csv\n",
        "        - super_hero_powers.csv\n",
        "\n",
        "- Ames Housing Dataset: https://www.kaggle.com/c/house-prices-advanced-regression-techniques/data\n",
        "    - Files:\n",
        "        - train.csv - renamed to -> ames-train.csv\n"
      ],
      "metadata": {
        "id": "pc6dSfiPCTTN"
      }
    },
    {
      "cell_type": "markdown",
      "source": [
        "# Working with Folders and Stored Files **with Python**\n"
      ],
      "metadata": {
        "id": "RvtQE_91EuIc"
      }
    },
    {
      "cell_type": "markdown",
      "source": [
        "## Using Google Drive - with Python\n"
      ],
      "metadata": {
        "id": "cGA3AtmzEAJP"
      }
    },
    {
      "cell_type": "markdown",
      "source": [
        "\n",
        "### Mounting Google Drive\n"
      ],
      "metadata": {
        "id": "x5O16-dmHNxx"
      }
    },
    {
      "cell_type": "markdown",
      "source": [
        "\n",
        "- When I click the Mount google drive button on the Files sidebar, I always hit `Cancel`, which automatically inserts the following cell of code.\n",
        "```python\n",
        "from google.colab import drive\n",
        "drive.mount('/content/drive')\n",
        "```\n",
        "\n",
        "\n",
        "- If you uploaded new files on Google Drive's website, you may need to reload the contents of your drive in Colab. \n",
        "    - To Do so, add `force_remount=True`\n",
        "```python\n",
        "from google.colab import drive\n",
        "drive.mount('/content/drive',force_remount=True)\n",
        "```\n"
      ],
      "metadata": {
        "id": "vK5sDv1DHkQt"
      }
    },
    {
      "cell_type": "markdown",
      "source": [
        "\n",
        "### Saving Filepaths as Variables\n"
      ],
      "metadata": {
        "id": "NIgNaOYGHimk"
      }
    },
    {
      "cell_type": "markdown",
      "source": [
        "- I have all of my bootcamp materials saved on google drive in a \"`DS-Bootcamp`\" folder.\n",
        "\n",
        "- My data files are stored in on gdrive in the following \"`Data`\" folder:\n",
        "    - `My Drive` > `DS-Bootcamp` > `Data`\n",
        "\n",
        "- **I may want to save files back to Google Drive, somewhere inside by `Ds-Bootcamp` folder.**\n",
        "    - So I am going to mount google drive sand **save the filepath for it as `BASE_FOLDER`**\n",
        "        - Tip: I  always make sure that I include a `/` at the END of my folder name, that way I can combine it with file names later.\n",
        "        - `BASE_FOLDER = '/content/drive/MyDrive/DS-Bootcamp/' `\n",
        "\n",
        "    - I also will make a `DATA_FOLDER` variable to make it easier to access the numerous files we will be loading today. \n",
        "        - `DATA_FOLDER = BASE_FOLDER+\"Data/\"`\n"
      ],
      "metadata": {
        "id": "FysCEzdBEwoS"
      }
    },
    {
      "cell_type": "code",
      "source": [
        "from google.colab import drive\n",
        "drive.mount('/content/drive',force_remount=True)"
      ],
      "metadata": {
        "id": "GroQKy8jDXg2"
      },
      "execution_count": null,
      "outputs": []
    },
    {
      "cell_type": "code",
      "source": [
        "## saving filepath variables\n",
        "BASE_FOLDER = '/content/drive/MyDrive/DS-Bootcamp/'\n",
        "DATA_FOLDER = BASE_FOLDER+\"Data/\""
      ],
      "metadata": {
        "id": "N3F772DlHtTh"
      },
      "execution_count": null,
      "outputs": []
    },
    {
      "cell_type": "markdown",
      "source": [
        "### Using the `os` module for managing files and folders"
      ],
      "metadata": {
        "id": "JKRzj9w73jly"
      }
    },
    {
      "cell_type": "markdown",
      "source": [
        "#### Getting Folder Contents"
      ],
      "metadata": {
        "id": "-fFFLnaIJGnO"
      }
    },
    {
      "cell_type": "markdown",
      "source": [
        "- Python has a builtin module called `os` that has lots of helful functions for working with files and folders. \n",
        "\n",
        "- To check the contents of the current folder:\n",
        "```python\n",
        "os.listdir() # list directory contents\n",
        "```\n",
        "    - The current folder is Colab's virtual hard drive, NOT google drive!\n",
        "    "
      ],
      "metadata": {
        "id": "ra2lVbOjH8mp"
      }
    },
    {
      "cell_type": "code",
      "source": [
        "## import module\n",
        "import os\n",
        "\n",
        "##  check current folder\n",
        "os.listdir()"
      ],
      "metadata": {
        "id": "vUq9obnQ3jJO"
      },
      "execution_count": null,
      "outputs": []
    },
    {
      "cell_type": "markdown",
      "source": [
        "\n",
        "\n",
        "- **To check the contents of a different folder**, just provide the folder path as an argument\n",
        "```python\n",
        "os.listdir(DATA_FOLDER) # list directory contents\n",
        "```\n",
        "\n",
        "- To sort the file names alphabetically, pass the above code into the `sorted` function.\n",
        "```python\n",
        "sorted(os.listdir(DATA_FOLDER)) # list directory contents\n",
        "```\n"
      ],
      "metadata": {
        "id": "2K-tm3JSIraE"
      }
    },
    {
      "cell_type": "code",
      "source": [
        "## get list of folders/files in DATA_FOLDER\n",
        "sorted(os.listdir(DATA_FOLDER))"
      ],
      "metadata": {
        "id": "7XoocshRIiyI"
      },
      "execution_count": null,
      "outputs": []
    },
    {
      "cell_type": "code",
      "source": [
        "## get list of folders/files in my BASE_FOLDER\n",
        "sorted(os.listdir(BASE_FOLDER))"
      ],
      "metadata": {
        "id": "-vf6gzIWIDBS"
      },
      "execution_count": null,
      "outputs": []
    },
    {
      "cell_type": "code",
      "source": [
        "## get list of folders/files in Week_04\n",
        "sorted(os.listdir(BASE_FOLDER+'Week_04/'))"
      ],
      "metadata": {
        "id": "4yAhDFAdJsQb"
      },
      "execution_count": null,
      "outputs": []
    },
    {
      "cell_type": "markdown",
      "source": [
        "#### Creating New Folders"
      ],
      "metadata": {
        "id": "xhOj2ccmJEv0"
      }
    },
    {
      "cell_type": "markdown",
      "source": [
        "- I want to create a new folder called \"Advanced Visualizatinons\" inside of the \"`Week_04/Lecture_02/`\" folder we see above.\n",
        "\n",
        "\n",
        "- `os.makedirs` function will create the folders for whatever filepath you provide. It needs the new folder to create as a string\n",
        "\n",
        "\n",
        "\n",
        "- To verify I made my folder path correctly,I can save it as a variable FIRST and then use that variable to make the folder and then check its contents.\n",
        "```python \n",
        "new_folder = BASE_FOLDER+'Week_04/Lecture_02/Advanced_Visualizations/'\n",
        "print(new_folder)\n",
        "```\n",
        "\n",
        "- If the file path looks correct (make sure no missing \"/\"), then create the folder with `os.makedirs`:\n",
        "```python\n",
        "os.makedirs(new_folder,exist_ok=True)\n",
        "```\n",
        "\n",
        "    - adding `exist_ok=True` will prevent errors if the folder already exists\n",
        "    ```python\n",
        "     os.makedirs(BASE_FOLDER+'Week_04/Lecture_02/Advanced_Visualizations/',exist_ok=True\n",
        "    ```\n"
      ],
      "metadata": {
        "id": "Rp8sTRKVJMFQ"
      }
    },
    {
      "cell_type": "code",
      "source": [
        "# checking new folder name\n",
        "new_folder = BASE_FOLDER+'Week_04/Lecture_02/Advanced_Visualizations/'\n",
        "new_folder"
      ],
      "metadata": {
        "id": "3Q9s-bpZJfL5"
      },
      "execution_count": null,
      "outputs": []
    },
    {
      "cell_type": "code",
      "source": [
        "## Creating the new folder\n",
        "os.makedirs(new_folder,exist_ok=True)"
      ],
      "metadata": {
        "id": "9C2gq2tx3lHw"
      },
      "execution_count": null,
      "outputs": []
    },
    {
      "cell_type": "code",
      "source": [
        "## Checking that I can get list of files in new folder\n",
        "sorted(os.listdir(new_folder)) # --> this would error if folder didn't exist"
      ],
      "metadata": {
        "id": "LkHAAmwD4NCi"
      },
      "execution_count": null,
      "outputs": []
    },
    {
      "cell_type": "markdown",
      "source": [
        "- Okay great! No files is ok, because we just created this folder!\n",
        "    - If the folder didn't exist, we would have received an error message.\n",
        "- Now we are ready to start working with our numerous data files and to save our results back to Google Drive!"
      ],
      "metadata": {
        "id": "ernVoXFjO14D"
      }
    },
    {
      "cell_type": "markdown",
      "metadata": {
        "id": "51UQkjD1fVrf"
      },
      "source": [
        "# Task #1 - House Price Insights for Ames, Iowa"
      ]
    },
    {
      "cell_type": "markdown",
      "metadata": {
        "id": "aRZN3LiAfVrf"
      },
      "source": [
        "\n",
        "\n",
        "<img src=\"https://www.brickunderground.com/sites/default/files/styles/blog_primary_image/public/blog/images/080818_desmoinesmain.jpg\" width=50%>\n",
        "\n",
        "- A home owners association from Ames, Iowa has hired us to provide some insights on the prices of homes in the area.  They have provided us with some data on house sales in the region, as well as a list of questions they'd like answered.\n",
        "\n",
        "- We will therefore use the appropriate visualizations to answer their questions in visual-form.\n"
      ]
    },
    {
      "cell_type": "markdown",
      "source": [
        "### Imports and Checking Versions of Packages"
      ],
      "metadata": {
        "id": "uxT3564Qsc93"
      }
    },
    {
      "cell_type": "code",
      "execution_count": null,
      "metadata": {
        "ExecuteTime": {
          "end_time": "2021-08-17T15:53:40.962480Z",
          "start_time": "2021-08-17T15:53:40.045860Z"
        },
        "id": "qzW2tY3Plflp"
      },
      "outputs": [],
      "source": [
        "## Our usual imports\n",
        "import pandas as pd\n",
        "import numpy as np\n",
        "import seaborn as sns\n",
        "import matplotlib.pyplot as plt\n",
        "\n",
        "\n",
        "## Notice the extra matplotlib import!\n",
        "import matplotlib as mpl\n",
        "\n",
        "\n",
        "## Printing the current version of these packages in Colab\n",
        "print('- Package Versions:')\n",
        "print(f'\\tMatplotlib = {mpl.__version__}')\n",
        "print(f'\\tPandas = {pd.__version__}')\n",
        "print(f'\\tSeaborn = {sns.__version__}')"
      ]
    },
    {
      "cell_type": "markdown",
      "metadata": {
        "id": "2Ln3iky3fVrg"
      },
      "source": [
        "### The Questions to Answer"
      ]
    },
    {
      "cell_type": "markdown",
      "metadata": {
        "id": "0IJkeQoGfVrg"
      },
      "source": [
        "1. What is the distribution of house prices in Ames, Iowa?\n",
        "    - What does the full distribution of homes look like?\n",
        "    - Are there any homes that are outliers, in terms of their price? \n",
        "    \n",
        "2. What is the relationship between square footage of the living area (`GrLivArea`)  and sale price (`SalePrice`)?\n",
        "    \n",
        "2. What is the average sale price for each of the different types of homes (BldgType)?"
      ]
    },
    {
      "cell_type": "markdown",
      "metadata": {
        "id": "PTR1zZ83fVrg"
      },
      "source": [
        "### Distribution of House Prices + Outliers "
      ]
    },
    {
      "cell_type": "code",
      "source": [
        "## load the ames-train.csv file into a df\n",
        "df = pd.read_csv(DATA_FOLDER+'ames-train.csv',index_col=0)\n",
        "df"
      ],
      "metadata": {
        "id": "_a8D_hf1fr9a"
      },
      "execution_count": null,
      "outputs": []
    },
    {
      "cell_type": "code",
      "source": [
        "## Keep just a subset of features\n",
        "cols_to_use = ['YrSold', 'MoSold', 'Fireplaces', 'TotRmsAbvGrd', 'GrLivArea',\n",
        "          'FullBath', 'YearRemodAdd', 'YearBuilt', 'OverallCond', \n",
        "          'OverallQual', 'LotArea', 'SalePrice','BldgType']\n"
      ],
      "metadata": {
        "id": "vBomATw_f8nU"
      },
      "execution_count": null,
      "outputs": []
    },
    {
      "cell_type": "code",
      "source": [
        "## super-quick null value and datatype check\n",
        "print(\"- Null Values:\",df.isna().sum(),'\\n',sep='\\n')\n",
        "df.info()"
      ],
      "metadata": {
        "id": "1DG_dEMagGJW"
      },
      "execution_count": null,
      "outputs": []
    },
    {
      "cell_type": "markdown",
      "source": [
        "##### Revisiting Our Visualization from Week 03, Lecture 01"
      ],
      "metadata": {
        "id": "qVYkx-KYe0pt"
      }
    },
    {
      "cell_type": "code",
      "source": [
        "## FROM WEEK 03, LECTURE 01\n",
        "\n",
        "## Make a larger fig/ax before plotting\n",
        "fig, ax = plt.subplots(figsize=(10,5))\n",
        "\n",
        "## Plot histogram\n",
        "sns.histplot(data=df, x='SalePrice', ax=ax)\n",
        "ax.set(title='Distribution of Home Prices in Ames, Iowa');\n",
        "\n",
        "## Annotating mean and median\n",
        "mean_price = df['SalePrice'].mean()\n",
        "ax.axvline(mean_price,color='k', ls=':', \n",
        "           label=f\"Mean Price= ${round(mean_price,2)}\");\n",
        "\n",
        "med_price = df['SalePrice'].median()\n",
        "ax.axvline(med_price,color='k', ls=':', \n",
        "           label=f\"Median Price= ${round(med_price,2)}\");\n",
        "\n",
        "ax.legend();"
      ],
      "metadata": {
        "id": "LCC1tyTA6cC1"
      },
      "execution_count": null,
      "outputs": []
    },
    {
      "cell_type": "markdown",
      "source": [
        "#### Python String Format Specifiers/Code"
      ],
      "metadata": {
        "id": "D1z_0OM5hMKm"
      }
    },
    {
      "cell_type": "markdown",
      "source": [
        "\n",
        "- To get 2-digit prices for our mean and median, we *can*  use the round function to round to 2 digits \n",
        "\n",
        "```python\n",
        "## save mean\n",
        "mean_price = df[\"SalePrice\"].mean()\n",
        "\n",
        "## Add vertical line with mean in the label\n",
        "ax.axvline(mean,label= f'Mean Price= ${round(mean_price,2)}')\n",
        "```\n",
        "\n",
        "- BUT the **better way is to use python string formatting to customize how the number appears.**\n",
        "    - Inside our f'strings curly brackets, after the variable we want to print, we will add a `:` followed by a special format code (see reference below).\n",
        "        - Using \".2f\" would make our float (decimal value) only display 2 decimal places.\n",
        "            - `{mean:.2f}`\n",
        "        - The line of code would look like:\n",
        "```python\n",
        "ax.axvline(mean,label= f'Mean Price= ${mean_price:.2f}')\n",
        "```\n",
        "\n",
        "- Just by adding a `,` to our format code, we can have pyhton add `,`'s as thousands separators (example: `100,000`)\n",
        "    - Put together, our format code would be:\n",
        "        - - `{mean:,.2f}`\n",
        "\n",
        "- Additional Resources:\n",
        "    - [Tutorial: String Formatting](https://www.w3schools.com/python/ref_string_format.asp)\n",
        "    - [Reference Table: String Format Codes](https://mkaz.blog/code/python-string-format-cookbook/)\n",
        "\n",
        "\n",
        "\n"
      ],
      "metadata": {
        "id": "OdIg-QSMhOkq"
      }
    },
    {
      "cell_type": "code",
      "execution_count": null,
      "metadata": {
        "id": "e9z7M9jQ41ue"
      },
      "outputs": [],
      "source": [
        "## Paste our visualization code, but use string formatting instead of rounding"
      ]
    },
    {
      "cell_type": "code",
      "source": [
        "## functionize the above plot and call it plot_dist\n"
      ],
      "metadata": {
        "id": "9bqRT3vuyK2M"
      },
      "execution_count": null,
      "outputs": []
    },
    {
      "cell_type": "code",
      "source": [
        "## test out our function to verify result\n"
      ],
      "metadata": {
        "id": "6YrmAD7ayOjw"
      },
      "execution_count": null,
      "outputs": []
    },
    {
      "cell_type": "markdown",
      "source": [
        ">- What if we wanted our SalePrice ticks to look as good as our legend values?"
      ],
      "metadata": {
        "id": "-lLi9c-FxP5u"
      }
    },
    {
      "cell_type": "markdown",
      "metadata": {
        "id": "3JkfPDxBQ7mO"
      },
      "source": [
        "### Customizing Tick Formatting"
      ]
    },
    {
      "cell_type": "markdown",
      "metadata": {
        "id": "XvOE7g2ZQ7mO"
      },
      "source": [
        "- [Tick Formatters Examples](https://matplotlib.org/stable/gallery/ticks_and_spines/tick-formatters.html)\n",
        "    - [**Reference: String Format Codes**](https://mkaz.blog/code/python-string-format-cookbook/)\n",
        "- [Tick Locator Examples](https://matplotlib.org/stable/gallery/ticks_and_spines/tick-locators.html)\n",
        "\n",
        "\n",
        "- We will use the `StrMethodFormatter` which uses python string format codes to change the tick laebl text.\n",
        "\n",
        "\n",
        "\n",
        "- Let's make our price ticks look more professional\n",
        "    - Add $'s \n",
        "    - Add , separator for thousands\n",
        "    - Show 2 decimal places\n",
        "    \n",
        "- [Tutorial Example](https://matplotlib.org/stable/gallery/pyplots/dollar_ticks.html?highlight=tick)"
      ]
    },
    {
      "cell_type": "code",
      "source": [
        "## Make price_fmt using the StrMethodFormatter and the appropriate format code \n",
        "\n",
        "## Get the fig and ax from our function\n"
      ],
      "metadata": {
        "id": "po5zAPs-yB6o"
      },
      "execution_count": null,
      "outputs": []
    },
    {
      "cell_type": "code",
      "execution_count": null,
      "metadata": {
        "ExecuteTime": {
          "end_time": "2021-08-17T16:00:17.436927Z",
          "start_time": "2021-08-17T16:00:17.151213Z"
        },
        "id": "UIuXNrPCQ7mO"
      },
      "outputs": [],
      "source": [
        "## Now, use the ax.xaxis.set_major_formatter method \n",
        "\n",
        "\n",
        "## Display fig again\n"
      ]
    },
    {
      "cell_type": "markdown",
      "source": [
        "#### Using the `FuncFormatter` to Converting \"\\\\$700,000\" Dollars to \"\\\\$700K\""
      ],
      "metadata": {
        "id": "0Qfx0j66zBtr"
      }
    },
    {
      "cell_type": "markdown",
      "source": [
        "- Example: How to use the FuncFormatter to convert \\\\$'s to millions of \\\\$'s.\n",
        "- To use the Function Formatter:\n",
        "    - Create a function that accepts 2 arguments: `x` and `pos`\n",
        "    - Use f-strings and format codes to specify how to change x. \n",
        "    - e.g. `f\"${x*1e-6:,}M\"` would convert \"2,000,000\" -> \"$2M\"\n",
        "\n",
        "\n",
        "```python\n",
        "from matplotlib.ticker import FuncFormatter\n",
        "\n",
        "def hundred_k(x,pos):\n",
        "    \"\"\"function for use wth matplotlib FuncFormatter -  formats money in millions\"\"\"\n",
        "    return f\"${x*1e-3:,0f}K\"\n",
        "\n",
        "# Create the formatter\n",
        "price_fmt_mill =FuncFormatter(hundred_k)\n",
        "\n",
        "## Set the axis' major formatter\n",
        "ax.xaxis.set_major_formatter(price_fmt_mill)\n",
        "```"
      ],
      "metadata": {
        "id": "yPUDM7sszI_D"
      }
    },
    {
      "cell_type": "code",
      "source": [
        "def hundred_k(x,pos):\n",
        "    \"\"\"function for use wth matplotlib FuncFormatter -  formats money in millions\"\"\"\n",
        "    return f\"${x*1e-3:,.0f}K\"\n",
        "\n",
        "# exxample \n",
        "hundred_k(700000,0)"
      ],
      "metadata": {
        "id": "-y2r8ptJxQHv"
      },
      "execution_count": null,
      "outputs": []
    },
    {
      "cell_type": "code",
      "source": [
        "from matplotlib.ticker import FuncFormatter\n"
      ],
      "metadata": {
        "id": "CM0Hrt8Izg92"
      },
      "execution_count": null,
      "outputs": []
    },
    {
      "cell_type": "code",
      "source": [
        "## Get a new fig from plot_dist and use the new FuncFormatter for price\n"
      ],
      "metadata": {
        "id": "IUASBXN2xQFy"
      },
      "execution_count": null,
      "outputs": []
    },
    {
      "cell_type": "markdown",
      "source": [
        "### Updating our Function with (optional) Tick Formatting"
      ],
      "metadata": {
        "id": "FYOKPkxK2hRK"
      }
    },
    {
      "cell_type": "code",
      "source": [
        "## Creating a BETTER version of our function with fancy price ticks\n",
        "from matplotlib.ticker import FuncFormatter\n",
        "def hundred_k(x,pos):\n",
        "    \"\"\"function for use wth matplotlib FuncFormatter -  formats money in millions\"\"\"\n",
        "    return f\"${x*1e-3:,.0f}K\"\n",
        "\n",
        "\n",
        "def plot_dist():\n",
        "    pass"
      ],
      "metadata": {
        "id": "LVf5Wmy0xQDv"
      },
      "execution_count": null,
      "outputs": []
    },
    {
      "cell_type": "code",
      "source": [
        "# test function"
      ],
      "metadata": {
        "id": "jx-fq8qJxQBP"
      },
      "execution_count": null,
      "outputs": []
    },
    {
      "cell_type": "markdown",
      "source": [
        "## Customizing Fonts"
      ],
      "metadata": {
        "id": "JBwq0YVvjqyz"
      }
    },
    {
      "cell_type": "markdown",
      "source": [
        "- Multiple options, of varying ease-of-use and power:\n",
        "    1. Specifying individual font properties when adding text.\n",
        "    2. Changing the default values for all matplotlib fonts\n",
        "    3. Using seaborn to scale fonts with sns.set_context\n",
        "    4. Using a matplotlib style with larger text\n",
        "\n",
        "- Additional Resources: \n",
        "    - [4-different methods for changing the font size](https://towardsdatascience.com/4-different-methods-for-changing-the-font-size-in-python-seaborn-fd5600592242)"
      ],
      "metadata": {
        "id": "JSqRHpL4pi-m"
      }
    },
    {
      "cell_type": "markdown",
      "source": [
        "### 1) Specifying individual font properties when adding text\n",
        "\n",
        "- Anything that the Text class in Matplotib accepts can be added to `plt.title/ax.set_title`, as well as for all labels,  ticks, and axis labels.\n",
        "- [Text class - Matplotlib](https://matplotlib.org/stable/api/text_api.html#matplotlib.text.Text)\n",
        "    - Examples Text properties:\n",
        "        - fontweight: \n",
        "            - either as a numeric value in range 0-1000\n",
        "            - or one of these:\n",
        "                - 'ultralight', 'light', 'normal', 'regular', 'book', 'medium', 'roman', 'semibold', 'demibold', 'demi', 'bold', 'heavy', 'extra bold', 'black'}`\n",
        "        - fontsize: either the number of pt to use or one of  `{'xx-small', 'x-small', 'small', 'medium', 'large', 'x-large', 'xx-large'}`\n",
        "        - fontfamily\n",
        "        - color\n",
        "- This approach is 100% valid, but can get tedious if you want to scale all of the fonts for every piece of text, including tick labels\n",
        "\n"
      ],
      "metadata": {
        "id": "ogJlXY3mkYZS"
      }
    },
    {
      "cell_type": "code",
      "source": [
        "## Paste our original non-functionized viz code\n",
        "# increase title font size, bold it, and make serif font\n",
        "\n"
      ],
      "metadata": {
        "id": "WVTt938Xjp8U"
      },
      "execution_count": null,
      "outputs": []
    },
    {
      "cell_type": "markdown",
      "source": [
        "### 2) Updating plt.rcParams\n",
        "\n",
        "- `plt.rcPrams` is a dictionary of all of the default settings for all of matplotlib.\n",
        "    - Text properties\n",
        "    - Colors\n",
        "    - Line widths\n",
        "    - etc\n",
        "\n",
        "- We can change individual params by replacing the value stored in the dictionary. \n",
        "    - All font params start with `font.`\n",
        "```python\n",
        "plt.rcParams['font.family'] = 'serif\n",
        "```\n",
        "\n",
        "- If we have many params to update, we can use the dictionary .update method to change multiple params.\n",
        "```python\n",
        "plt.rcParams.update( {'font.family':'serif',\n",
        "                    'font.size':'xx-large',\n",
        "             'font.weight':'semibold'}\n",
        "```"
      ],
      "metadata": {
        "id": "636uKjDhodXI"
      }
    },
    {
      "cell_type": "code",
      "source": [
        "## Saving the current params as default_params,in case I want to un-do\n"
      ],
      "metadata": {
        "id": "TsBPsubu4OYN"
      },
      "execution_count": null,
      "outputs": []
    },
    {
      "cell_type": "code",
      "source": [
        "## Updating rcParams  with the same font params that we used \n"
      ],
      "metadata": {
        "id": "zdWU-B87mlSI"
      },
      "execution_count": null,
      "outputs": []
    },
    {
      "cell_type": "code",
      "source": [
        "## Use our function to see the change\n"
      ],
      "metadata": {
        "id": "MOg01cnMxBnm"
      },
      "execution_count": null,
      "outputs": []
    },
    {
      "cell_type": "code",
      "source": [
        "## resetting rcParams values to defaults that we saved\n"
      ],
      "metadata": {
        "id": "W45oNtgJ32Es"
      },
      "execution_count": null,
      "outputs": []
    },
    {
      "cell_type": "markdown",
      "source": [
        "#"
      ],
      "metadata": {
        "id": "T_EG79bE31vb"
      }
    },
    {
      "cell_type": "markdown",
      "source": [
        "### 3) Using seaborn to scale fonts with sns.set_context"
      ],
      "metadata": {
        "id": "giPbDhXt1e42"
      }
    },
    {
      "cell_type": "markdown",
      "source": [
        "- Seaborn has a `sns.set_context` function which is designed to change the default visualization sizes to be more appropriate for whatever context the figure will be displayed.\n",
        "    - Contexts:\n",
        "        - `'talk'`: powerpoint presentations\n",
        "        - `'poster'`: large printed posters for conferences\n",
        "        - `'paper'`: for printing standard letter-sized paper\n",
        "        - `'notebook'`: for a jupyter/colab notebook\n",
        "- sns.set_context examples:\n",
        "    - https://datavizpyr.com/seaborn-set_context-to-adjust-size-of-plot-labels-and-lines/"
      ],
      "metadata": {
        "id": "eMrbjuat1uSO"
      }
    },
    {
      "cell_type": "code",
      "source": [
        "## test a seaborn context \n"
      ],
      "metadata": {
        "id": "p2dmJFt8ucxE"
      },
      "execution_count": null,
      "outputs": []
    },
    {
      "cell_type": "code",
      "source": [
        "## comparing all 4 contexts\n",
        "\n",
        "    # set context\n",
        "\n",
        "    # generate plot, change title to be style name\n"
      ],
      "metadata": {
        "id": "y8PKnMjBv_t3"
      },
      "execution_count": null,
      "outputs": []
    },
    {
      "cell_type": "code",
      "source": [
        "# choosing final context\n"
      ],
      "metadata": {
        "id": "HAfUiGKg5Gzk"
      },
      "execution_count": null,
      "outputs": []
    },
    {
      "cell_type": "markdown",
      "source": [
        "### 4) Using a matplotlib style to overhaul the default text and theme"
      ],
      "metadata": {
        "id": "KQbkkkfV5KzF"
      }
    },
    {
      "cell_type": "markdown",
      "metadata": {
        "id": "I737qUJ5Q7mQ"
      },
      "source": [
        "- Quick & Easy Visual Overhaul \n",
        "- List of Styles Available:\n",
        "    - `plt.style.available`\n",
        "    - Examples: https://matplotlib.org/stable/gallery/style_sheets/style_sheets_reference.html\n",
        "\n",
        "- To use a style permanently:\n",
        "    - let's say we wanted to use 'ggplot'\n",
        "    ```python\n",
        "    plt.style.use(\"ggplot\")\n",
        "    ```\n",
        "    \n",
        "- To use a style temporarily, we will use a `with` statement (works kind of like an \"if\" statment)\n",
        "    ```python\n",
        "    with plt.style.context('ggplot'):\n",
        "        fig, ax = plt.subplots()\n",
        "        ax.scatter(...etc...\n",
        "    ```\n"
      ]
    },
    {
      "cell_type": "markdown",
      "metadata": {
        "id": "lb28IlpLQ7mQ"
      },
      "source": [
        "#### Matplotlib Styles\n"
      ]
    },
    {
      "cell_type": "code",
      "source": [
        "## Loop to test out all styles\n",
        "    \n",
        "    ## Use plt.stlye.context to temporarily use style\n"
      ],
      "metadata": {
        "id": "avtAO7y46yJO"
      },
      "execution_count": null,
      "outputs": []
    },
    {
      "cell_type": "markdown",
      "source": [
        "- We can even COMBINE styles just by passing a list of style names instead of just 1!"
      ],
      "metadata": {
        "id": "hEO1FVDu7SAl"
      }
    },
    {
      "cell_type": "code",
      "source": [
        "## Testing combining dark_background and seaborn-muted styles \n"
      ],
      "metadata": {
        "id": "tvtOLGxh7EEM"
      },
      "execution_count": null,
      "outputs": []
    },
    {
      "cell_type": "code",
      "source": [
        "## setting my final style choices\n"
      ],
      "metadata": {
        "id": "88S_6JmK7YBe"
      },
      "execution_count": null,
      "outputs": []
    },
    {
      "cell_type": "code",
      "source": [
        "## Create the (near) final version of our figure\n"
      ],
      "metadata": {
        "id": "XHt1Lfy17dno"
      },
      "execution_count": null,
      "outputs": []
    },
    {
      "cell_type": "markdown",
      "source": [
        "#### Removing some plot borders"
      ],
      "metadata": {
        "id": "KcyMdshS8rSG"
      }
    },
    {
      "cell_type": "markdown",
      "source": [
        "- Let's remove the top and right borders of our visualization.\n",
        "    - The 4 sides of our axis are called `Spines`\n",
        "    - `ax.spines` is a special dictionary of left/right/top/bottom spine objects. "
      ],
      "metadata": {
        "id": "fuv07gti8uFW"
      }
    },
    {
      "cell_type": "code",
      "source": [
        "## removing top and right border\n",
        "\n",
        "\n",
        "## repositioning final legend\n"
      ],
      "metadata": {
        "id": "BDzBjRMt8x3t"
      },
      "execution_count": null,
      "outputs": []
    },
    {
      "cell_type": "markdown",
      "source": [
        "## Saving Our Final Visualization To Google Drive"
      ],
      "metadata": {
        "id": "ZknOZ1LS8BTd"
      }
    },
    {
      "cell_type": "markdown",
      "source": [
        "- Reminder: we have already created a `new_folder` variable that we wanted to store our images in.\n",
        "\n",
        "- We can `plt.savefig` or `fig.savefig` to save our figure to an image file (usually a .png or a .jpg.\n",
        "\n",
        "- We will give it the exact filename (including folder) that we want to save it as. \n",
        "\n",
        "- There are a couple of settings we may want to change as we save it.\n",
        "    - dpi: quality of image \n",
        "    - bbox_inches: if set to \"tight\" auto calculate best outer edge\n",
        "    - facecolor: background of the entire figure (normally transparent!)\n",
        "    - pad_inches: if your title or axis label text gets cutoff"
      ],
      "metadata": {
        "id": "KMEBmDrV8E_S"
      }
    },
    {
      "cell_type": "code",
      "source": [
        "## checking if any images already exist (to avoid overwriting a file)\n"
      ],
      "metadata": {
        "id": "2VXevTKb8EF1"
      },
      "execution_count": null,
      "outputs": []
    },
    {
      "cell_type": "code",
      "source": [
        "## Save the final figure\n"
      ],
      "metadata": {
        "id": "YRy9mYrV8Qb2"
      },
      "execution_count": null,
      "outputs": []
    },
    {
      "cell_type": "code",
      "source": [
        "## testing loading image with matplotlib - BETTER TO CHECK IN GOOGEL DRIVE!!\n"
      ],
      "metadata": {
        "id": "hERRkdm8AAuU"
      },
      "execution_count": null,
      "outputs": []
    },
    {
      "cell_type": "markdown",
      "source": [
        "# Task #2: The Tallest Super Heroes (By Super Power)"
      ],
      "metadata": {
        "id": "VWToTEl4QnP4"
      }
    },
    {
      "cell_type": "markdown",
      "source": [
        "<img src=\"https://storage.googleapis.com/kaggle-datasets-images/26532/33799/5651215d143dbcf8afe85f3f57c1b284/dataset-cover.jpg?t=2018-05-14-23-16-16\">"
      ],
      "metadata": {
        "id": "MBWPZmQ7QrUD"
      }
    },
    {
      "cell_type": "markdown",
      "source": [
        "- We will be working with 2 csv's with super heroes data:\n",
        "    - `'heroes_information.csv'`: their stats/general info\n",
        "    - `'super_hero_powers.csv'`: collections of powers.\n",
        "\n",
        "- We are going to find the 10 most common powers in all comics/movies/shows.\n",
        "\n",
        "- For each of these 10 most common powers, we are going to display a bar chart of the 10 tallest heroes with those powers. \n",
        "\n",
        "\n",
        "- We are going to color-code our bars based on the Publisher. \n",
        "    - We will have to manually construct our legend to do so.\n",
        "\n",
        "- We are going to save the images to file with appropraite file names. "
      ],
      "metadata": {
        "id": "JP2VdrAiAgHk"
      }
    },
    {
      "cell_type": "code",
      "source": [
        "## Load in the heroes and powers files\n"
      ],
      "metadata": {
        "id": "jEbvx3o6Qq9Y"
      },
      "execution_count": null,
      "outputs": []
    },
    {
      "cell_type": "code",
      "source": [
        "## set names as index for powers df\n"
      ],
      "metadata": {
        "id": "_ioi2SRgo_Lm"
      },
      "execution_count": null,
      "outputs": []
    },
    {
      "cell_type": "code",
      "source": [
        "## Summing powers True/False will tell us how many heroes have each power\n"
      ],
      "metadata": {
        "id": "oKyB-fmApQ41"
      },
      "execution_count": null,
      "outputs": []
    },
    {
      "cell_type": "code",
      "source": [
        "## Save top 10 most common powers\n"
      ],
      "metadata": {
        "id": "P6wzKZV_pLAi"
      },
      "execution_count": null,
      "outputs": []
    },
    {
      "cell_type": "code",
      "source": [
        "##  Save first power in powers_list as power_name\n",
        "\n",
        "\n",
        "## Selecitng ONLY hereos with that power\n"
      ],
      "metadata": {
        "id": "9_oC03AspZEg"
      },
      "execution_count": null,
      "outputs": []
    },
    {
      "cell_type": "code",
      "source": [
        "## Saving selected heroes names (the index) as heroes_with_power\n"
      ],
      "metadata": {
        "id": "oOxTmMYPFYDW"
      },
      "execution_count": null,
      "outputs": []
    },
    {
      "cell_type": "code",
      "source": [
        "# Use the list of heroes combine with pd.Series.isin to\n",
        "# make a filter_heroes filter var for hereos with the power\n"
      ],
      "metadata": {
        "id": "7jijQ7J1plok"
      },
      "execution_count": null,
      "outputs": []
    },
    {
      "cell_type": "code",
      "source": [
        "## save selected heroes in a new df called selected_heroes\n"
      ],
      "metadata": {
        "id": "zEOx-Hqups2h"
      },
      "execution_count": null,
      "outputs": []
    },
    {
      "cell_type": "code",
      "source": [
        "## Find the 10 largest Heights and save as new var: tallest10\n"
      ],
      "metadata": {
        "id": "dOGsnzV3qAhp"
      },
      "execution_count": null,
      "outputs": []
    },
    {
      "cell_type": "markdown",
      "source": [
        "### Controlling Selective Coloring of Figure Elements"
      ],
      "metadata": {
        "id": "Vr_TreLfGo9E"
      }
    },
    {
      "cell_type": "markdown",
      "source": [
        "- We want to be able to color-code heroes according to which publisher produces their comic/media. \n",
        "\n",
        ">- We want the same colors to be used for the same publishers across any figures we make.\n",
        "\n",
        "- We can use this dictionary with `.map` to get a series with color names to use (whihc we determine using Publisher.\n",
        "    - `df['Publisher'].map(colors_dict)`\n",
        "- Example:\n",
        "```python\n",
        "pub_colors = {'Marvel Comics':'blue', \n",
        "              'Dark Horse Comics':'darkgray', \n",
        "              'DC Comics':'brown'}\n",
        "ax = sns.barplot(data=tallest10,x='name',y='Height',\n",
        "palette = tallest10['Publisher'].map(pub_colors))\n",
        "```"
      ],
      "metadata": {
        "id": "vsP05Kk6jWik"
      }
    },
    {
      "cell_type": "code",
      "source": [
        "## Dict of Colors to use for each publisher\n",
        "pub_colors = {'Marvel Comics':'blue', \n",
        "              'Dark Horse Comics':'darkgray', \n",
        "              'DC Comics':'brown',\n",
        "              'George Lucas':'green',\n",
        "              'J. R. R. Tolkien':'red',\n",
        "              'Image Comics':'purple'}\n",
        "\n",
        "\n",
        "## make a barplot and use the pub_colors dictionary to create the palette \n",
        "\n",
        "\n",
        "## Use the power name to create a descrptive title\n",
        "\n",
        "## Rotate the xlabels so they are readable\n",
        "\n"
      ],
      "metadata": {
        "id": "E5jhi1w_qWRN"
      },
      "execution_count": null,
      "outputs": []
    },
    {
      "cell_type": "markdown",
      "source": [
        "> Using this approach, we cannot automatically add a color legend, since we determined the colors ourselves. \n",
        "\n",
        "- Below is a good example of finding helpful examples on the web and adapting to suit our needs, and citing the sourrce."
      ],
      "metadata": {
        "id": "bpqfbVAolKtZ"
      }
    },
    {
      "cell_type": "code",
      "source": [
        "# Adapted from https://moonbooks.org/Articles/How-to-manually-add-a-legend-with-a-color-box-on-a-matplotlib-figure-/\n",
        "import matplotlib.patches as mpatches\n",
        "\n",
        "## Concstruct the list of handles for the legend\n",
        "handles = []\n",
        "for publisher, color in pub_colors.items():\n",
        "    handles.append(mpatches.Patch(color=color, label=publisher))\n",
        "\n",
        "## Use ax.legend with handles=handles\n",
        "ax.legend(handles=handles,bbox_to_anchor=[1,1])\n",
        "\n",
        "## display fig to see the result.\n",
        "fig"
      ],
      "metadata": {
        "id": "zrReJHnRlNqM"
      },
      "execution_count": null,
      "outputs": []
    },
    {
      "cell_type": "code",
      "source": [
        "## functionize our plot as plot_heroes_color_publisher\n"
      ],
      "metadata": {
        "id": "wYf5pMNTCY5W"
      },
      "execution_count": null,
      "outputs": []
    },
    {
      "cell_type": "code",
      "source": [
        "## for each of the top 10 most common powers... \n",
        "\n",
        "\n",
        "    ## grab the heroes that have that power and \n",
        "\n",
        "\n",
        "\n",
        "    ## slice just filtered heroes\n",
        "\n",
        "\n",
        "    ## find the Tallest/Shortest heroes and plot as...bars?\n",
        "\n",
        "\n",
        "\n",
        "    ## since we only accounted for a few publishers, we may encounter some errors\n",
        "    # using try and except to attempt to plot the data\n",
        "    try:\n",
        "        'something...'\n",
        "    \n",
        "    ## if it errors, print what power had the error and display the unique publishers\n",
        "    except:\n",
        "        'something else'"
      ],
      "metadata": {
        "id": "od8MdgXUoyBb"
      },
      "execution_count": null,
      "outputs": []
    },
    {
      "cell_type": "code",
      "source": [
        "raise Exception(\"stop here!\")"
      ],
      "metadata": {
        "id": "tH02voe1s8z9"
      },
      "execution_count": null,
      "outputs": []
    },
    {
      "cell_type": "markdown",
      "source": [
        "# APPENDIX"
      ],
      "metadata": {
        "id": "XG8v4fqq8eJU"
      }
    },
    {
      "cell_type": "markdown",
      "metadata": {
        "id": "yOlUsMjsQ7mQ"
      },
      "source": [
        "### Seaborn Themes/Contexts/Colorpalette"
      ]
    },
    {
      "cell_type": "markdown",
      "metadata": {
        "id": "X9w4o3c6Q7mQ"
      },
      "source": [
        "- https://seaborn.pydata.org/api.html#themeing\n",
        "- https://seaborn.pydata.org/tutorial/color_palettes.html"
      ]
    },
    {
      "cell_type": "code",
      "execution_count": null,
      "metadata": {
        "ExecuteTime": {
          "end_time": "2021-08-17T16:00:34.820450Z",
          "start_time": "2021-08-17T16:00:34.815655Z"
        },
        "id": "VRj59YyTQ7mQ"
      },
      "outputs": [],
      "source": [
        "sns.color_palette(\"rocket\")"
      ]
    },
    {
      "cell_type": "code",
      "execution_count": null,
      "metadata": {
        "ExecuteTime": {
          "end_time": "2021-08-17T16:00:35.121490Z",
          "start_time": "2021-08-17T16:00:34.822595Z"
        },
        "id": "GmatdewiQ7mQ"
      },
      "outputs": [],
      "source": [
        "palette = sns.color_palette('rocket')\n",
        "sns.barplot(data=df,x='BldgType',y='SalePrice',palette=palette)"
      ]
    }
  ]
}