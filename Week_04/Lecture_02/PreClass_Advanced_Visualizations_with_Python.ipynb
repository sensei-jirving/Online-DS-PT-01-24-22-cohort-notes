{
  "nbformat": 4,
  "nbformat_minor": 0,
  "metadata": {
    "colab": {
      "name": "PreClass_Advanced_Visualizations_with_Python.ipynb",
      "provenance": [],
      "collapsed_sections": [],
      "toc_visible": true,
      "include_colab_link": true
    },
    "kernelspec": {
      "name": "python3",
      "display_name": "Python 3"
    },
    "language_info": {
      "name": "python"
    }
  },
  "cells": [
    {
      "cell_type": "markdown",
      "metadata": {
        "id": "view-in-github",
        "colab_type": "text"
      },
      "source": [
        "<a href=\"https://colab.research.google.com/github/sensei-jirving/Online-DS-PT-01.24.22-cohort-notes/blob/main/Week_04/Lecture_02/PreClass_Advanced_Visualizations_with_Python.ipynb\" target=\"_parent\"><img src=\"https://colab.research.google.com/assets/colab-badge.svg\" alt=\"Open In Colab\"/></a>"
      ]
    },
    {
      "cell_type": "markdown",
      "source": [
        "# 📊 Advanced Visualizations with Python 🎨"
      ],
      "metadata": {
        "id": "NLYr_YI25nAK"
      }
    },
    {
      "cell_type": "markdown",
      "source": [
        "- 02/18/22\n",
        "- 01.24.22 Cohort"
      ],
      "metadata": {
        "id": "Jt0g4pt48-kx"
      }
    },
    {
      "cell_type": "markdown",
      "source": [
        "### 🗂 Table of Contents \n",
        "<a name=\"contents\"></a>\n",
        "\n",
        "- ☁️ [Working with Google Drive with Python](#gdrive)\n",
        "    - Saving google drive folder paths in variables\n",
        "    - Using the `os` module for file management\n",
        "    - Links to Dataset\n",
        "- 🏠 [Task #1: Ames Housing Revisited](#task1):\n",
        "    - Formatting Tick Labels \n",
        "    - Customizing fonts \n",
        "    - Matplotlib styles\n",
        "    - Saving to Google Drive\n",
        "- 🦸 [Task #2: Super Hero Powers](#task2)🦸‍♀️:\n",
        "    - Precise/Selective Coloring of Bars\n",
        "    - Loops through lists, using filters, etc.\n",
        "\n",
        "- [Appendix](#Appendix)\n",
        "    - Seaborn Palettes\n",
        "    - Subplots of Different Sizesa\n",
        "    - Annotating bar values\n",
        "\n"
      ],
      "metadata": {
        "id": "UMD_r8SSdTu2"
      }
    },
    {
      "cell_type": "markdown",
      "source": [
        "## Learning Objectives"
      ],
      "metadata": {
        "id": "ePcEuUbd53LU"
      }
    },
    {
      "cell_type": "markdown",
      "source": [
        "> Today we are going to focus on examples of advanced and more complex visualization construction with matplotlib/pandas/seaborn.\n",
        "\n",
        "- Instead of a single-dataset-driven activity, we are going to use several datasets to demonstrate different visualizations tasks/tweaks.\n",
        "\n",
        "\n",
        "\n"
      ],
      "metadata": {
        "id": "0_DshKjj55Im"
      }
    },
    {
      "cell_type": "markdown",
      "source": [
        "### Previously Promised in Class\n"
      ],
      "metadata": {
        "id": "4NEkyscW6cO6"
      }
    },
    {
      "cell_type": "markdown",
      "source": [
        "\n",
        "- [x] Formatting ticks - location and text formatting\n",
        "- [x] Matplotlib styles/seaborn themes\n",
        "- [x] Font customization (titles/axis labels, etc)\n",
        "- [x] Figures with multiple subplots\n",
        "    - [x] Multiple subplots with DIFFERENT figure sizes. (Appendix)\n",
        "- [x] Saving/exporting figures (programatically)\n"
      ],
      "metadata": {
        "id": "8uekomB46gXp"
      }
    },
    {
      "cell_type": "markdown",
      "source": [
        "\n",
        "\n",
        "### Requested\n"
      ],
      "metadata": {
        "id": "DCUspKlH7ByO"
      }
    },
    {
      "cell_type": "markdown",
      "source": [
        "- [x] Review loading and saving files to Google Drive.\n",
        "\n",
        "\n",
        "- [x] Using lists to iterate through the custom creation of Subplots; data frames, filters, colors, labels etc\n",
        "\n",
        "\n",
        "\n",
        "- [x] OOP Syntax and Using Axes\n",
        "\n",
        "\n",
        "\n",
        "- [x] Selective removal of frame/spines\n",
        "\n"
      ],
      "metadata": {
        "id": "9g515xIy6l9Z"
      }
    },
    {
      "cell_type": "markdown",
      "source": [
        "## Datasets/Files Used Today"
      ],
      "metadata": {
        "id": "kOYFdvVXCQUT"
      }
    },
    {
      "cell_type": "markdown",
      "source": [
        "### Google Drive Data Folder to Save\n",
        "\n",
        "- 💾 All data files used today are stored in [this Google Drive folder](https://drive.google.com/drive/folders/10O96wCNedDmmuKaO_NBc5rsNCUoiLuXs?usp=sharing).\n",
        "    - You will want to click the add to google drive button on the top right.\n",
        "    - or you can download the files locally and then add to colab/drive.\n",
        "\n",
        "\n",
        "### Original Sources\n",
        "- Super Heroes Dataset: https://www.kaggle.com/claudiodavi/superhero-set\n",
        "    - Files:\n",
        "        - `heroes_information.csv`\n",
        "        - `super_hero_powers.csv`\n",
        "\n",
        "- Ames Housing Dataset: https://www.kaggle.com/c/house-prices-advanced-regression-techniques/data\n",
        "    - Files:\n",
        "        - Kaggle file name: `train.csv`\n",
        "        - renamed to `ames-train.csv`\n"
      ],
      "metadata": {
        "id": "pc6dSfiPCTTN"
      }
    },
    {
      "cell_type": "markdown",
      "source": [
        "# ☁️ Working with Folders and Stored Files **with Python** <a name=\"gdrive\"></a> \n",
        "- 🗂[Click to jump to ToC](#contents)\n"
      ],
      "metadata": {
        "id": "RvtQE_91EuIc"
      }
    },
    {
      "cell_type": "markdown",
      "source": [
        "## Using Google Drive - with Python\n"
      ],
      "metadata": {
        "id": "cGA3AtmzEAJP"
      }
    },
    {
      "cell_type": "markdown",
      "source": [
        "\n",
        "### Mounting Google Drive\n"
      ],
      "metadata": {
        "id": "x5O16-dmHNxx"
      }
    },
    {
      "cell_type": "markdown",
      "source": [
        "\n",
        "- When I click the Mount google drive button on the Files sidebar, I always hit `Cancel`, which automatically inserts the following cell of code.\n",
        "```python\n",
        "from google.colab import drive\n",
        "drive.mount('/content/drive')\n",
        "```\n",
        "\n",
        "\n",
        "- If you uploaded new files on Google Drive's website, you may need to reload the contents of your drive in Colab. \n",
        "    - To Do so, add `force_remount=True`\n",
        "```python\n",
        "from google.colab import drive\n",
        "drive.mount('/content/drive',force_remount=True)\n",
        "```\n"
      ],
      "metadata": {
        "id": "vK5sDv1DHkQt"
      }
    },
    {
      "cell_type": "markdown",
      "source": [
        "\n",
        "### Saving Filepaths as Variables\n"
      ],
      "metadata": {
        "id": "NIgNaOYGHimk"
      }
    },
    {
      "cell_type": "markdown",
      "source": [
        "- I have all of my bootcamp materials saved on google drive in a \"`DS-Bootcamp`\" folder.\n",
        "\n",
        "- My data files are stored in on gdrive in the following \"`Data`\" folder:\n",
        "    - `My Drive` > `DS-Bootcamp` > `Data`\n",
        "\n",
        "- **I may want to save files back to Google Drive, somewhere inside by `Ds-Bootcamp` folder.**\n",
        "    - So I am going to mount google drive sand **save the filepath for it as `BASE_FOLDER`**\n",
        "        - Tip: I  always make sure that I include a `/` at the END of my folder name, that way I can combine it with file names later.\n",
        "        - `BASE_FOLDER = '/content/drive/MyDrive/DS-Bootcamp/' `\n",
        "\n",
        "    - I also will make a `DATA_FOLDER` variable to make it easier to access the numerous files we will be loading today. \n",
        "        - `DATA_FOLDER = BASE_FOLDER+\"Data/\"`\n"
      ],
      "metadata": {
        "id": "FysCEzdBEwoS"
      }
    },
    {
      "cell_type": "code",
      "source": [
        "from google.colab import drive\n",
        "drive.mount('/content/drive',force_remount=True)"
      ],
      "metadata": {
        "id": "GroQKy8jDXg2"
      },
      "execution_count": null,
      "outputs": []
    },
    {
      "cell_type": "code",
      "source": [
        "## saving filepath variables\n",
        "BASE_FOLDER = '/content/drive/MyDrive/DS-Bootcamp/'\n",
        "DATA_FOLDER = BASE_FOLDER+\"Data/\""
      ],
      "metadata": {
        "id": "N3F772DlHtTh"
      },
      "execution_count": null,
      "outputs": []
    },
    {
      "cell_type": "markdown",
      "source": [
        "## Using the `os` module for managing files and folders"
      ],
      "metadata": {
        "id": "JKRzj9w73jly"
      }
    },
    {
      "cell_type": "markdown",
      "source": [
        "#### Getting Folder Contents"
      ],
      "metadata": {
        "id": "-fFFLnaIJGnO"
      }
    },
    {
      "cell_type": "markdown",
      "source": [
        "- Python has a builtin module called `os` that has lots of helful functions for working with files and folders. \n",
        "\n",
        "- To check the contents of the current folder:\n",
        "```python\n",
        "os.listdir() # list directory contents\n",
        "```\n",
        "    - The current folder is Colab's virtual hard drive, NOT google drive!\n",
        "    "
      ],
      "metadata": {
        "id": "ra2lVbOjH8mp"
      }
    },
    {
      "cell_type": "code",
      "source": [
        "## import module\n",
        "import os\n",
        "\n",
        "##  check current folder\n",
        "os.listdir()"
      ],
      "metadata": {
        "id": "vUq9obnQ3jJO"
      },
      "execution_count": null,
      "outputs": []
    },
    {
      "cell_type": "markdown",
      "source": [
        "\n",
        "\n",
        "- **To check the contents of a different folder**, just provide the folder path as an argument\n",
        "```python\n",
        "os.listdir(DATA_FOLDER) # list directory contents\n",
        "```\n",
        "\n",
        "- To sort the file names alphabetically, pass the above code into the `sorted` function.\n",
        "```python\n",
        "sorted(os.listdir(DATA_FOLDER)) # list directory contents\n",
        "```\n"
      ],
      "metadata": {
        "id": "2K-tm3JSIraE"
      }
    },
    {
      "cell_type": "code",
      "source": [
        "## get list of folders/files in DATA_FOLDER\n",
        "sorted(os.listdir(DATA_FOLDER))"
      ],
      "metadata": {
        "id": "7XoocshRIiyI"
      },
      "execution_count": null,
      "outputs": []
    },
    {
      "cell_type": "code",
      "source": [
        "## get list of folders/files in my BASE_FOLDER\n",
        "sorted(os.listdir(BASE_FOLDER))"
      ],
      "metadata": {
        "id": "-vf6gzIWIDBS"
      },
      "execution_count": null,
      "outputs": []
    },
    {
      "cell_type": "code",
      "source": [
        "## get list of folders/files in Week_04\n",
        "sorted(os.listdir(BASE_FOLDER+'Week_04/'))"
      ],
      "metadata": {
        "id": "4yAhDFAdJsQb"
      },
      "execution_count": null,
      "outputs": []
    },
    {
      "cell_type": "markdown",
      "source": [
        "#### Creating New Folders"
      ],
      "metadata": {
        "id": "xhOj2ccmJEv0"
      }
    },
    {
      "cell_type": "markdown",
      "source": [
        "- I want to create a new folder called \"Advanced Visualizatinons\" inside of the \"`Week_04/Lecture_02/`\" folder we see above.\n",
        "\n",
        "\n",
        "- `os.makedirs` function will create the folders for whatever filepath you provide. It needs the new folder to create as a string\n",
        "\n",
        "\n",
        "\n",
        "- To verify I made my folder path correctly,I can save it as a variable FIRST and then use that variable to make the folder and then check its contents.\n",
        "```python \n",
        "new_folder = BASE_FOLDER+'Week_04/Lecture_02/Advanced_Visualizations/'\n",
        "print(new_folder)\n",
        "```\n",
        "\n",
        "- If the file path looks correct (make sure no missing \"/\"), then create the folder with `os.makedirs`:\n",
        "```python\n",
        "os.makedirs(new_folder,exist_ok=True)\n",
        "```\n",
        "\n",
        "    - adding `exist_ok=True` will prevent errors if the folder already exists\n",
        "    ```python\n",
        "     os.makedirs(BASE_FOLDER+'Week_04/Lecture_02/Advanced_Visualizations/',exist_ok=True\n",
        "    ```\n"
      ],
      "metadata": {
        "id": "Rp8sTRKVJMFQ"
      }
    },
    {
      "cell_type": "code",
      "source": [
        "# checking new folder name\n",
        "new_folder = BASE_FOLDER+'Week_04/Lecture_02/Advanced_Visualizations/'\n",
        "new_folder"
      ],
      "metadata": {
        "id": "3Q9s-bpZJfL5"
      },
      "execution_count": null,
      "outputs": []
    },
    {
      "cell_type": "code",
      "source": [
        "## Creating the new folder\n",
        "os.makedirs(new_folder,exist_ok=True)"
      ],
      "metadata": {
        "id": "9C2gq2tx3lHw"
      },
      "execution_count": null,
      "outputs": []
    },
    {
      "cell_type": "code",
      "source": [
        "## Checking that I can get list of files in new folder\n",
        "sorted(os.listdir(new_folder)) # --> this would error if folder didn't exist"
      ],
      "metadata": {
        "id": "LkHAAmwD4NCi"
      },
      "execution_count": null,
      "outputs": []
    },
    {
      "cell_type": "markdown",
      "source": [
        "- Okay great! No files is ok, because we just created this folder!\n",
        "    - If the folder didn't exist, we would have received an error message.\n",
        "- Now we are ready to start working with our numerous data files and to save our results back to Google Drive!"
      ],
      "metadata": {
        "id": "ernVoXFjO14D"
      }
    },
    {
      "cell_type": "markdown",
      "metadata": {
        "id": "51UQkjD1fVrf"
      },
      "source": [
        "# 🏠 Task #1 - House Price Insights for Ames, Iowa <a name=\"task1\"></a>\n",
        "- [🗂Click to jump to ToC](#contents)"
      ]
    },
    {
      "cell_type": "markdown",
      "metadata": {
        "id": "aRZN3LiAfVrf"
      },
      "source": [
        "\n",
        "\n",
        "<img src=\"https://www.brickunderground.com/sites/default/files/styles/blog_primary_image/public/blog/images/080818_desmoinesmain.jpg\" width=50%>\n",
        "\n",
        "- A home owners association from Ames, Iowa has hired us to provide some insights on the prices of homes in the area.  They have provided us with some data on house sales in the region, as well as a list of questions they'd like answered.\n",
        "\n",
        "- We will therefore use the appropriate visualizations to answer their questions in visual-form.\n"
      ]
    },
    {
      "cell_type": "markdown",
      "source": [
        "### Imports and Checking Versions of Packages"
      ],
      "metadata": {
        "id": "uxT3564Qsc93"
      }
    },
    {
      "cell_type": "code",
      "execution_count": null,
      "metadata": {
        "ExecuteTime": {
          "end_time": "2021-08-17T15:53:40.962480Z",
          "start_time": "2021-08-17T15:53:40.045860Z"
        },
        "id": "qzW2tY3Plflp"
      },
      "outputs": [],
      "source": [
        "## Our usual imports\n",
        "import pandas as pd\n",
        "import numpy as np\n",
        "import seaborn as sns\n",
        "import matplotlib.pyplot as plt\n",
        "\n",
        "\n",
        "## Notice the extra matplotlib import!\n",
        "import matplotlib as mpl\n",
        "\n",
        "\n",
        "## Printing the current version of these packages in Colab\n",
        "print('- Package Versions:')\n",
        "print(f'\\tMatplotlib = {mpl.__version__}')\n",
        "print(f'\\tPandas = {pd.__version__}')\n",
        "print(f'\\tSeaborn = {sns.__version__}')"
      ]
    },
    {
      "cell_type": "markdown",
      "metadata": {
        "id": "2Ln3iky3fVrg"
      },
      "source": [
        "### The Questions to Answer"
      ]
    },
    {
      "cell_type": "markdown",
      "metadata": {
        "id": "0IJkeQoGfVrg"
      },
      "source": [
        "1. What is the distribution of house prices in Ames, Iowa?\n",
        "    - What does the full distribution of homes look like?\n",
        "    - Are there any homes that are outliers, in terms of their price? \n",
        "    \n",
        "2. What is the relationship between square footage of the living area (`GrLivArea`)  and sale price (`SalePrice`)?\n",
        "    \n",
        "2. What is the average sale price for each of the different types of homes (BldgType)?"
      ]
    },
    {
      "cell_type": "markdown",
      "metadata": {
        "id": "PTR1zZ83fVrg"
      },
      "source": [
        "### Distribution of House Prices + Outliers "
      ]
    },
    {
      "cell_type": "code",
      "source": [
        "## load the ames-train.csv file into a df\n",
        "df = pd.read_csv(DATA_FOLDER+'ames-train.csv',index_col=0)\n",
        "df"
      ],
      "metadata": {
        "id": "_a8D_hf1fr9a"
      },
      "execution_count": null,
      "outputs": []
    },
    {
      "cell_type": "code",
      "source": [
        "## Keeping a subset of features\n",
        "cols_to_use = ['YrSold', 'MoSold', 'Fireplaces', 'TotRmsAbvGrd', 'GrLivArea',\n",
        "          'FullBath', 'YearRemodAdd', 'YearBuilt', 'OverallCond', \n",
        "          'OverallQual', 'LotArea', 'SalePrice','BldgType']\n",
        "df = df[cols_to_use].copy()\n",
        "df"
      ],
      "metadata": {
        "id": "vBomATw_f8nU"
      },
      "execution_count": null,
      "outputs": []
    },
    {
      "cell_type": "code",
      "source": [
        "## super-quick null value and datatype check\n",
        "print(\"- Null Values:\",df.isna().sum(),'\\n',sep='\\n')\n",
        "df.info()"
      ],
      "metadata": {
        "id": "1DG_dEMagGJW"
      },
      "execution_count": null,
      "outputs": []
    },
    {
      "cell_type": "markdown",
      "source": [
        "##### Revisiting Our Visualization from Week 03, Lecture 01"
      ],
      "metadata": {
        "id": "FR9z3fZggSXW"
      }
    },
    {
      "cell_type": "code",
      "source": [
        "## FROM WEEK 03, LECTURE 01\n",
        "\n",
        "## Make a larger fig/ax before plotting\n",
        "fig, ax = plt.subplots(figsize=(10,5))\n",
        "\n",
        "## Plot histogram\n",
        "sns.histplot(data=df, x='SalePrice', ax=ax)\n",
        "ax.set(title='Distribution of Home Prices in Ames, Iowa');\n",
        "\n",
        "## Annotating mean and median\n",
        "mean_price = df['SalePrice'].mean()\n",
        "ax.axvline(mean_price,color='k', ls=':', \n",
        "           label=f\"Mean Price= ${round(mean_price,2)}\");\n",
        "\n",
        "med_price = df['SalePrice'].median()\n",
        "ax.axvline(med_price,color='k', ls=':', \n",
        "           label=f\"Median Price= ${round(med_price,2)}\");\n",
        "\n",
        "ax.legend();"
      ],
      "metadata": {
        "id": "LCC1tyTA6cC1"
      },
      "execution_count": null,
      "outputs": []
    },
    {
      "cell_type": "markdown",
      "source": [
        "#### 🕹 Python String Format Specifiers/Code"
      ],
      "metadata": {
        "id": "D1z_0OM5hMKm"
      }
    },
    {
      "cell_type": "markdown",
      "source": [
        "\n",
        "- To get 2-digit prices for our mean and median, we *can*  use the round function to round to 2 digits \n",
        "\n",
        "```python\n",
        "## save mean\n",
        "mean_price = df[\"SalePrice\"].mean()\n",
        "\n",
        "## Add vertical line with mean in the label\n",
        "ax.axvline(mean,label= f'Mean Price= ${round(mean_price,2)}')\n",
        "```\n",
        "\n",
        "- BUT the better way is to use python string formatting to customize how the number appears.\n",
        "    - Inside our f'strings curly brackets, after the variable we want to print, we will add a `:` followed by a special format code (see reference below).\n",
        "        - Using \".2f\" would make our float (decimal value) only display 2 decimal places.\n",
        "            - `{mean:.2f}`\n",
        "        - The line of code would look like:\n",
        "```python\n",
        "ax.axvline(mean,label= f'Mean Price= ${mean_price:.2f}')\n",
        "```\n",
        "\n",
        "- Just by adding a `,` to our format code, we can have pyhton add `,`'s as thousands separators (example: `100,000`)\n",
        "    - Put together, our format code would be:\n",
        "        - - `{mean:,.2f}`\n",
        "\n",
        "- Additional Resources:\n",
        "    - [Tutorial: String Formatting](https://www.w3schools.com/python/ref_string_format.asp)\n",
        "    - [Reference Table: String Format Codes](https://mkaz.blog/code/python-string-format-cookbook/)\n",
        "\n",
        "\n",
        "\n"
      ],
      "metadata": {
        "id": "OdIg-QSMhOkq"
      }
    },
    {
      "cell_type": "code",
      "execution_count": null,
      "metadata": {
        "id": "e9z7M9jQ41ue"
      },
      "outputs": [],
      "source": [
        "## Paste our visualization code, but use string formatting instead of rounding\n",
        "\n",
        "\n"
      ]
    },
    {
      "cell_type": "code",
      "source": [
        "## functionize the above plot and call it plot_dist\n"
      ],
      "metadata": {
        "id": "9bqRT3vuyK2M"
      },
      "execution_count": null,
      "outputs": []
    },
    {
      "cell_type": "code",
      "source": [
        "## test out our function to verify result\n"
      ],
      "metadata": {
        "id": "6YrmAD7ayOjw"
      },
      "execution_count": null,
      "outputs": []
    },
    {
      "cell_type": "markdown",
      "source": [
        ">- What if we wanted our SalePrice ticks to look as good as our legend values?"
      ],
      "metadata": {
        "id": "-lLi9c-FxP5u"
      }
    },
    {
      "cell_type": "markdown",
      "metadata": {
        "id": "3JkfPDxBQ7mO"
      },
      "source": [
        "### 📚 Customizing Tick Formatting"
      ]
    },
    {
      "cell_type": "markdown",
      "metadata": {
        "id": "XvOE7g2ZQ7mO"
      },
      "source": [
        "- [Tick Formatters Examples](https://matplotlib.org/stable/gallery/ticks_and_spines/tick-formatters.html)\n",
        "    - [**Reference: String Format Codes**](https://mkaz.blog/code/python-string-format-cookbook/)\n",
        "- [Tick Locator Examples](https://matplotlib.org/stable/gallery/ticks_and_spines/tick-locators.html)\n",
        "\n",
        "\n",
        "- We will use the `StrMethodFormatter` which uses python string format codes to change the tick laebl text.\n",
        "\n",
        "\n",
        "\n",
        "- Let's make our price ticks look more professional\n",
        "    - Add $'s \n",
        "    - Add , separator for thousands\n",
        "    - Show 2 decimal places\n",
        "    \n",
        "- [Tutorial Example](https://matplotlib.org/stable/gallery/pyplots/dollar_ticks.html?highlight=tick)"
      ]
    },
    {
      "cell_type": "markdown",
      "source": [
        "#### 🕹Using StrMethodFormatter"
      ],
      "metadata": {
        "id": "deHAdttBjJuH"
      }
    },
    {
      "cell_type": "code",
      "source": [
        "## Make price_fmt using the StrMethodFormatter and the appropriate format code \n",
        "\n",
        "## Get the fig and ax from our function\n"
      ],
      "metadata": {
        "id": "po5zAPs-yB6o"
      },
      "execution_count": null,
      "outputs": []
    },
    {
      "cell_type": "code",
      "execution_count": null,
      "metadata": {
        "ExecuteTime": {
          "end_time": "2021-08-17T16:00:17.436927Z",
          "start_time": "2021-08-17T16:00:17.151213Z"
        },
        "id": "UIuXNrPCQ7mO"
      },
      "outputs": [],
      "source": [
        "## Now, use the ax.xaxis.set_major_formatter method \n",
        "\n",
        "## Display fig again\n"
      ]
    },
    {
      "cell_type": "markdown",
      "source": [
        "#### Using the `FuncFormatter` to Converting \"\\$700,000\" Dollars to \"\\$700K\""
      ],
      "metadata": {
        "id": "0Qfx0j66zBtr"
      }
    },
    {
      "cell_type": "markdown",
      "source": [
        "- Example: How to use the FuncFormatter to convert \\\\$'s to millions of \\\\$'s.\n",
        "- To use the Function Formatter:\n",
        "    - Create a function that accepts 2 arguments: `x` and `pos`\n",
        "    - Use f-strings and format codes to specify how to change x. \n",
        "    - e.g. `f\"${x*1e-6:,}M\"` would convert \"2,000,000\" -> \"$2M\"\n",
        "\n",
        "\n",
        "```python\n",
        "from matplotlib.ticker import FuncFormatter\n",
        "\n",
        "def hundred_k(x,pos):\n",
        "    \"\"\"function for use wth matplotlib FuncFormatter -  formats money in millions\"\"\"\n",
        "    return f\"${x*1e-3:,0f}K\"\n",
        "\n",
        "# Create the formatter\n",
        "price_fmt_mill =FuncFormatter(hundred_k)\n",
        "\n",
        "## Set the axis' major formatter\n",
        "ax.xaxis.set_major_formatter(price_fmt_mill)\n",
        "```"
      ],
      "metadata": {
        "id": "yPUDM7sszI_D"
      }
    },
    {
      "cell_type": "code",
      "source": [
        "def hundred_k(x,pos):\n",
        "    \"\"\"function for use wth matplotlib FuncFormatter -  formats money in millions\"\"\"\n",
        "    return f\"${x*1e-3:,.0f}K\"\n",
        "\n",
        "# exxample, just using 0 for pos to run function to test\n",
        "hundred_k(700000,0)"
      ],
      "metadata": {
        "id": "-y2r8ptJxQHv"
      },
      "execution_count": null,
      "outputs": []
    },
    {
      "cell_type": "code",
      "source": [
        "from matplotlib.ticker import FuncFormatter\n",
        "price_fmt_100k = FuncFormatter(hundred_k)"
      ],
      "metadata": {
        "id": "CM0Hrt8Izg92"
      },
      "execution_count": null,
      "outputs": []
    },
    {
      "cell_type": "code",
      "source": [
        "## Get a new fig from plot_dist and use the new FuncFormatter for price\n",
        "fig, ax = plot_dist(df)\n",
        "ax.xaxis.set_major_formatter(price_fmt_100k)"
      ],
      "metadata": {
        "id": "IUASBXN2xQFy"
      },
      "execution_count": null,
      "outputs": []
    },
    {
      "cell_type": "markdown",
      "source": [
        "#### `𝑓` Updating our Function with (optional) Tick Formatting"
      ],
      "metadata": {
        "id": "FYOKPkxK2hRK"
      }
    },
    {
      "cell_type": "code",
      "source": [
        "## Creating a BETTER version of our function with fancy price ticks\n",
        "from matplotlib.ticker import FuncFormatter\n",
        "def hundred_k(x,pos):\n",
        "    \"\"\"function for use wth matplotlib FuncFormatter -  formats money in millions\"\"\"\n",
        "    return f\"${x*1e-3:,.0f}K\"\n",
        "\n",
        "\n",
        "def plot_dist(data,x='SalePrice',figsize=(10,5),format_price=True):\n",
        "    ## Make a larger fig/ax before plotting\n",
        "    fig, ax = plt.subplots(figsize=figsize)\n",
        "\n",
        "    ## Plot histogram\n",
        "    sns.histplot(data=df,x=x,ax=ax)\n",
        "    ax.set_title('Distribution of Home Prices in Ames, Iowa');\n",
        "\n",
        "\n",
        "    ## Annotating mean and median\n",
        "    mean_price = df[x].mean()\n",
        "    ax.axvline(mean_price,color='slategray', ls='--', lw=3,\n",
        "            label=f\"Mean {x} = ${mean_price:,.2f}\");\n",
        "\n",
        "    med_price = df[x].median()\n",
        "    ax.axvline(med_price,color='skyblue', ls=':', lw=3,\n",
        "            label=f\"Median {x} = ${med_price:,.2f}\");\n",
        "    ax.legend();\n",
        "\n",
        "\n",
        "    ## if format_price is True use our FuncFormatter\n",
        "    if format_price:\n",
        "        \n",
        "        price_fmt_100k = FuncFormatter(hundred_k)\n",
        "        ax.xaxis.set_major_formatter(price_fmt_100k)\n",
        "\n",
        "    return fig,ax"
      ],
      "metadata": {
        "id": "LVf5Wmy0xQDv"
      },
      "execution_count": null,
      "outputs": []
    },
    {
      "cell_type": "code",
      "source": [
        "plot_dist(df);"
      ],
      "metadata": {
        "id": "jx-fq8qJxQBP"
      },
      "execution_count": null,
      "outputs": []
    },
    {
      "cell_type": "markdown",
      "source": [
        "## 📚 Customizing Fonts"
      ],
      "metadata": {
        "id": "JBwq0YVvjqyz"
      }
    },
    {
      "cell_type": "markdown",
      "source": [
        "- Multiple options, of varying ease-of-use and power:\n",
        "    1. Specifying individual font properties when adding text.\n",
        "    2. Changing the default values for all matplotlib fonts\n",
        "    3. Using seaborn to scale fonts with sns.set_context\n",
        "    4. Using a matplotlib style with larger text\n",
        "\n",
        "- Additional Resources: \n",
        "    - [4-different methods for changing the font size](https://towardsdatascience.com/4-different-methods-for-changing-the-font-size-in-python-seaborn-fd5600592242)"
      ],
      "metadata": {
        "id": "JSqRHpL4pi-m"
      }
    },
    {
      "cell_type": "markdown",
      "source": [
        "### 1) Specifying individual font properties when adding text\n"
      ],
      "metadata": {
        "id": "ogJlXY3mkYZS"
      }
    },
    {
      "cell_type": "markdown",
      "source": [
        "\n",
        "- Anything that the Text class in Matplotib accepts can be added to `plt.title/ax.set_title`, as well as for all labels,  ticks, and axis labels.\n",
        "- [Text class - Matplotlib](https://matplotlib.org/stable/api/text_api.html#matplotlib.text.Text)\n",
        "    - Examples Text properties:\n",
        "        - fontweight: \n",
        "            - either as a numeric value in range 0-1000\n",
        "            - or one of these:\n",
        "                - 'ultralight', 'light', 'normal', 'regular', 'book', 'medium', 'roman', 'semibold', 'demibold', 'demi', 'bold', 'heavy', 'extra bold', 'black'}`\n",
        "        - fontsize: either the number of pt to use or one of  `{'xx-small', 'x-small', 'small', 'medium', 'large', 'x-large', 'xx-large'}`\n",
        "        - fontfamily\n",
        "        - color\n",
        "- This approach is 100% valid, but can get tedious if you want to scale all of the fonts for every piece of text, including tick labels\n",
        "\n",
        "\n",
        "\n",
        "\n",
        "- Tip: When you want to change the font of text elements (axis labels, tick labels)  without changing the actual labels, we can use the OOP syntax and `get` and `set` methods.\n",
        "    - Example changing xticklabels withh\n",
        "        - `ax.set_xticklabels()` + `ax.get_xticklabels()` \n",
        "```python\n",
        "# example rotating xticklabels with OOP\n",
        "ax.set_xticklabels(ax.get_xticklabels(), rotation=45,ha='right')\n",
        "```\n",
        "    - Example changing axis labels:\n",
        "        - `ax.xaxis.get_label()` return the Text object\n",
        "        - Adding `get_text()` will retrieve JUST the text values that we want to use.\n",
        "```python\n",
        "## Increasing Axis Label Font Sizes\n",
        "ax.set_xlabel(ax.xaxis.get_label().get_text(),\n",
        "              fontsize='xx-large')\n",
        "```\n",
        "\n"
      ],
      "metadata": {
        "id": "_n7XgQBcjrqB"
      }
    },
    {
      "cell_type": "code",
      "source": [
        "## Paste our original non-functionized viz code\n",
        "# increase title font size, bold it, and make serif font\n",
        "\n",
        "## Make a larger fig/ax before plotting\n",
        "fig, ax = plt.subplots(figsize=(10,5))\n",
        "\n",
        "## Plot histogram\n",
        "sns.histplot(data=df,x='SalePrice',ax=ax)\n",
        "ax.set_title('Distribution of Home Prices in Ames, Iowa', \n",
        "             fontfamily='serif',\n",
        "             fontsize='xx-large',\n",
        "             fontweight='semibold');\n",
        "\n",
        "\n",
        "## Annotating mean and median\n",
        "mean_price = df['SalePrice'].mean()\n",
        "ax.axvline(mean_price,color='k', ls=':', \n",
        "           label=f\"Mean Price= ${mean_price:,.2f}\",);\n",
        "\n",
        "med_price = df['SalePrice'].median()\n",
        "ax.axvline(med_price,color='k', ls=':', \n",
        "           label=f\"Median Price= ${med_price:,.2f}\");\n",
        "\n",
        "\n",
        "## Increasing Axis Label Font Sizes\n",
        "ax.set_xlabel(ax.xaxis.get_label().get_text(),\n",
        "              fontsize='x-large')\n",
        "ax.set_ylabel(ax.yaxis.get_label().get_text(),\n",
        "              fontsize='x-large')\n",
        "\n",
        "# ax.xaxis.label()\n",
        "ax.legend();"
      ],
      "metadata": {
        "id": "WVTt938Xjp8U"
      },
      "execution_count": null,
      "outputs": []
    },
    {
      "cell_type": "markdown",
      "source": [
        "### 2) Updating plt.rcParams\n",
        "\n",
        "- `plt.rcPrams` is a dictionary of all of the default settings for all of matplotlib.\n",
        "    - Text properties\n",
        "    - Colors\n",
        "    - Line widths\n",
        "    - etc\n",
        "\n",
        "- We can change individual params by replacing the value stored in the dictionary. \n",
        "    - All font params start with `font.`\n",
        "```python\n",
        "plt.rcParams['font.family'] = 'serif\n",
        "```\n",
        "\n",
        "- If we have many params to update, we can use the dictionary .update method to change multiple params.\n",
        "```python\n",
        "plt.rcParams.update( {'font.family':'serif',\n",
        "                    'font.size':'xx-large',\n",
        "             'font.weight':'semibold'}\n",
        "```"
      ],
      "metadata": {
        "id": "636uKjDhodXI"
      }
    },
    {
      "cell_type": "code",
      "source": [
        "## Saving the current params as default_params,in case I want to un-do\n",
        "default_params = plt.rcParams.copy()\n",
        "# default_params.keys()"
      ],
      "metadata": {
        "id": "TsBPsubu4OYN"
      },
      "execution_count": null,
      "outputs": []
    },
    {
      "cell_type": "code",
      "source": [
        "# plt.rcParams['axes.labelsize'] = 16#'x-large'"
      ],
      "metadata": {
        "id": "IVVuaazwzyz3"
      },
      "execution_count": null,
      "outputs": []
    },
    {
      "cell_type": "code",
      "source": [
        "## Updating rcParams  with the same font params that we used \n",
        "plt.rcParams.update( {'font.family':'serif',\n",
        "                    #   'figure.figsize':[15,20],\n",
        "                    #   'font.size':'xx-large', #not all options for Text are options here\n",
        "             'font.weight':'bold'})"
      ],
      "metadata": {
        "id": "zdWU-B87mlSI"
      },
      "execution_count": null,
      "outputs": []
    },
    {
      "cell_type": "code",
      "source": [
        "## Use our function to see the change\n",
        "plot_dist(df);"
      ],
      "metadata": {
        "id": "MOg01cnMxBnm"
      },
      "execution_count": null,
      "outputs": []
    },
    {
      "cell_type": "code",
      "source": [
        "## resetting rcParams values to defaults that we saved\n",
        "plt.rcParams.update(default_params)"
      ],
      "metadata": {
        "id": "W45oNtgJ32Es"
      },
      "execution_count": null,
      "outputs": []
    },
    {
      "cell_type": "markdown",
      "source": [
        "### 3) Using seaborn to scale fonts with sns.set_context"
      ],
      "metadata": {
        "id": "giPbDhXt1e42"
      }
    },
    {
      "cell_type": "markdown",
      "source": [
        "- Seaborn has a `sns.set_context` function which is designed to change the default visualization sizes to be more appropriate for whatever context the figure will be displayed.\n",
        "    - Contexts:\n",
        "        - `'talk'`: powerpoint presentations\n",
        "        - `'poster'`: large printed posters for conferences\n",
        "        - `'paper'`: for printing standard letter-sized paper\n",
        "        - `'notebook'`: for a jupyter/colab notebook\n",
        "- sns.set_context examples:\n",
        "    - https://datavizpyr.com/seaborn-set_context-to-adjust-size-of-plot-labels-and-lines/"
      ],
      "metadata": {
        "id": "eMrbjuat1uSO"
      }
    },
    {
      "cell_type": "code",
      "source": [
        "## test a seaborn context \n",
        "sns.set_context('talk')\n",
        "plot_dist(df);"
      ],
      "metadata": {
        "id": "p2dmJFt8ucxE"
      },
      "execution_count": null,
      "outputs": []
    },
    {
      "cell_type": "code",
      "source": [
        "## comparing all 4 contexts\n",
        "for context in ['poster','talk','notebook','paper']:\n",
        "\n",
        "    # set context\n",
        "    sns.set_context(context)\n",
        "\n",
        "    # generate plot, change title to be style name\n",
        "    fig,ax = plot_dist(df)\n",
        "    ax.set_title(context)\n",
        "    fig.show()"
      ],
      "metadata": {
        "id": "y8PKnMjBv_t3"
      },
      "execution_count": null,
      "outputs": []
    },
    {
      "cell_type": "code",
      "source": [
        "# choosing final context\n",
        "sns.set_context('talk')\n",
        "\n",
        "plot_dist(df)"
      ],
      "metadata": {
        "id": "HAfUiGKg5Gzk"
      },
      "execution_count": null,
      "outputs": []
    },
    {
      "cell_type": "markdown",
      "source": [
        "### 4) Using a matplotlib style to overhaul the default text and theme"
      ],
      "metadata": {
        "id": "KQbkkkfV5KzF"
      }
    },
    {
      "cell_type": "markdown",
      "metadata": {
        "id": "I737qUJ5Q7mQ"
      },
      "source": [
        "- Quick & Easy Visual Overhaul \n",
        "- List of Styles Available:\n",
        "    - `plt.style.available`\n",
        "    - Examples: https://matplotlib.org/stable/gallery/style_sheets/style_sheets_reference.html\n",
        "\n",
        "- To use a style permanently:\n",
        "    - let's say we wanted to use 'ggplot'\n",
        "    ```python\n",
        "    plt.style.use(\"ggplot\")\n",
        "    ```\n",
        "    \n",
        "- To use a style temporarily, we will use a `with` statement (works kind of like an \"if\" statment)\n",
        "    ```python\n",
        "    with plt.style.context('ggplot'):\n",
        "        fig, ax = plt.subplots()\n",
        "        ax.scatter(...etc...\n",
        "    ```\n"
      ]
    },
    {
      "cell_type": "markdown",
      "metadata": {
        "id": "lb28IlpLQ7mQ"
      },
      "source": [
        "#### 🕹 Matplotlib Styles\n"
      ]
    },
    {
      "cell_type": "code",
      "source": [
        "## Loop to test out all available styles\n",
        "\n",
        "    ## Use plt.stlye.context to temporarily use style\n",
        "\n",
        "        ## make our figure with our func\n",
        "        \n",
        "\n",
        "        ## set the title to be the style name and show\n",
        "        "
      ],
      "metadata": {
        "id": "avtAO7y46yJO"
      },
      "execution_count": null,
      "outputs": []
    },
    {
      "cell_type": "markdown",
      "source": [
        "- We can even COMBINE styles just by passing a list of style names instead of just 1!"
      ],
      "metadata": {
        "id": "hEO1FVDu7SAl"
      }
    },
    {
      "cell_type": "code",
      "source": [
        "## Testing combining dark_background and seaborn-muted styles \n",
        "with plt.style.context(['dark_background','seaborn-muted']):\n",
        "    fix, ax = plot_dist(df)"
      ],
      "metadata": {
        "id": "tvtOLGxh7EEM"
      },
      "execution_count": null,
      "outputs": []
    },
    {
      "cell_type": "code",
      "source": [
        "## setting my final style choices\n",
        "sns.set_context('talk')\n",
        "plt.style.use(['dark_background','seaborn-muted'])\n",
        "plt.rcParams['font.family'] = 'serif'"
      ],
      "metadata": {
        "id": "88S_6JmK7YBe"
      },
      "execution_count": null,
      "outputs": []
    },
    {
      "cell_type": "code",
      "source": [
        "## Create the (near) final version of our figure\n",
        "final_fig,ax = plot_dist(df)"
      ],
      "metadata": {
        "id": "XHt1Lfy17dno"
      },
      "execution_count": null,
      "outputs": []
    },
    {
      "cell_type": "markdown",
      "source": [
        "#### Removing some plot borders"
      ],
      "metadata": {
        "id": "KcyMdshS8rSG"
      }
    },
    {
      "cell_type": "markdown",
      "source": [
        "- Let's remove the top and right borders of our visualization.\n",
        "    - The 4 sides of our axis are called `Spines`\n",
        "    - `ax.spines` is a special dictionary of left/right/top/bottom spine objects. "
      ],
      "metadata": {
        "id": "fuv07gti8uFW"
      }
    },
    {
      "cell_type": "code",
      "source": [
        "fig, ax = plot_dist(df)\n",
        "\n",
        "## removing top and right border\n",
        "ax.spines['right'].set_visible(False)\n",
        "ax.spines['top'].set_visible(False)\n",
        "\n",
        "## repositioning final legend\n",
        "ax.legend(loc='center right')"
      ],
      "metadata": {
        "id": "BDzBjRMt8x3t"
      },
      "execution_count": null,
      "outputs": []
    },
    {
      "cell_type": "markdown",
      "source": [
        "### `𝑓` Final `plot_dist` Function"
      ],
      "metadata": {
        "id": "m1RqwKQ4XWsu"
      }
    },
    {
      "cell_type": "code",
      "source": [
        "## Creating a BETTER version of our function with fancy price ticks\n",
        "from matplotlib.ticker import FuncFormatter\n",
        "def hundred_k(x,pos):\n",
        "    \"\"\"function for use wth matplotlib FuncFormatter -  formats money in millions\"\"\"\n",
        "    return f\"${x*1e-3:,.0f}K\"\n",
        "\n",
        "\n",
        "def plot_dist(data,x='SalePrice',figsize=(10,5),format_price=True,\n",
        "              despine=True):\n",
        "    ## Make a larger fig/ax before plotting\n",
        "    fig, ax = plt.subplots(figsize=figsize)\n",
        "\n",
        "    ## Plot histogram\n",
        "    sns.histplot(data=df,x=x,ax=ax)\n",
        "    ax.set_title('Distribution of Home Prices in Ames, Iowa',\n",
        "                 fontsize='x-large',y=1.1);\n",
        "\n",
        "\n",
        "    ## Annotating mean and median\n",
        "    mean_price = df[x].mean()\n",
        "    ax.axvline(mean_price,color='slategray', ls='--', lw=3,\n",
        "            label=f\"Mean {x} = ${mean_price:,.2f}\");\n",
        "\n",
        "    med_price = df[x].median()\n",
        "    ax.axvline(med_price,color='skyblue', ls=':', lw=3,\n",
        "            label=f\"Median {x} = ${med_price:,.2f}\");\n",
        "\n",
        "\n",
        "    ## Increasing Axis Label Font Sizes\n",
        "    ax.set_xlabel(ax.xaxis.get_label().get_text(),\n",
        "                fontsize='large')\n",
        "    ax.set_ylabel(ax.yaxis.get_label().get_text(),\n",
        "                fontsize='large')\n",
        "\n",
        "    \n",
        "\n",
        "    ## if format_price is True use our FuncFormatter\n",
        "    if format_price:\n",
        "        \n",
        "        price_fmt_100k = FuncFormatter(hundred_k)\n",
        "        ax.xaxis.set_major_formatter(price_fmt_100k)\n",
        "\n",
        "    if despine:\n",
        "        ## removing top and right border\n",
        "        ax.spines['right'].set_visible(False)\n",
        "        ax.spines['top'].set_visible(False)\n",
        "\n",
        "    ## add a legend        \n",
        "    ax.legend()\n",
        "\n",
        "    return fig,ax"
      ],
      "metadata": {
        "id": "2Omwv2nDXVUU"
      },
      "execution_count": null,
      "outputs": []
    },
    {
      "cell_type": "code",
      "source": [
        "## Final FIgure - Testing Final Function\n",
        "best_fig,ax = plot_dist(df)\n"
      ],
      "metadata": {
        "id": "wGWnBEPaX_gc"
      },
      "execution_count": null,
      "outputs": []
    },
    {
      "cell_type": "markdown",
      "source": [
        "## 📚 Saving Our Final Visualization To Google Drive "
      ],
      "metadata": {
        "id": "ZknOZ1LS8BTd"
      }
    },
    {
      "cell_type": "markdown",
      "source": [
        "- Reminder: we have already created a `new_folder` variable that we wanted to store our images in.\n",
        "\n",
        "- We can `plt.savefig` or `fig.savefig` to save our figure to an image file (usually a .png or a .jpg.\n",
        "\n",
        "- We will give it the exact filename (including folder) that we want to save it as. \n",
        "\n",
        "- There are a couple of settings we may want to change as we save it.\n",
        "    - dpi: quality of image \n",
        "    - bbox_inches: if set to \"tight\" auto calculate best outer edge\n",
        "    - facecolor: background of the entire figure (normally transparent!)\n",
        "    - pad_inches: if your title or axis label text gets cutoff"
      ],
      "metadata": {
        "id": "KMEBmDrV8E_S"
      }
    },
    {
      "cell_type": "code",
      "source": [
        "## checking if any images already exist (to avoid overwriting a file)\n",
        "print(new_folder)\n",
        "sorted(os.listdir(new_folder))"
      ],
      "metadata": {
        "id": "2VXevTKb8EF1"
      },
      "execution_count": null,
      "outputs": []
    },
    {
      "cell_type": "code",
      "source": [
        "## Save the final figure\n",
        "best_fig.savefig(new_folder+'home-prices-in-ames.png',\n",
        "                  dpi=300,facecolor='black',bbox_inches='tight',pad_inches=0.2)"
      ],
      "metadata": {
        "id": "YRy9mYrV8Qb2"
      },
      "execution_count": null,
      "outputs": []
    },
    {
      "cell_type": "code",
      "source": [
        "## testing loading image with matplotlib - BETTER TO CHECK IN GOOGEL DRIVE!!\n",
        "loaded_img = plt.imread(new_folder+'home-prices-in-ames.png',)\n",
        "plt.imshow(loaded_img)\n",
        "plt.axis('off')"
      ],
      "metadata": {
        "id": "hERRkdm8AAuU"
      },
      "execution_count": null,
      "outputs": []
    },
    {
      "cell_type": "markdown",
      "source": [
        "# 🕹 🦸 Task #2: The Tallest Super Heroes (By Super Power) <a name=\"task2\"></a>🦸‍♀️\n",
        "- [🗂Click to jump to ToC ](#contents)"
      ],
      "metadata": {
        "id": "VWToTEl4QnP4"
      }
    },
    {
      "cell_type": "markdown",
      "source": [
        "<img src=\"https://storage.googleapis.com/kaggle-datasets-images/26532/33799/5651215d143dbcf8afe85f3f57c1b284/dataset-cover.jpg?t=2018-05-14-23-16-16\">"
      ],
      "metadata": {
        "id": "MBWPZmQ7QrUD"
      }
    },
    {
      "cell_type": "markdown",
      "source": [
        "- We will be working with 2 csv's with super heroes data:\n",
        "    - `'heroes_information.csv'`: their stats/general info\n",
        "    - `'super_hero_powers.csv'`: collections of powers.\n",
        "\n",
        "- We are going to find the 10 most common powers in all comics/movies/shows.\n",
        "\n",
        "- For each of these 10 most common powers, we are going to display a bar chart of the 10 tallest heroes with those powers. \n",
        "\n",
        "\n",
        "- We are going to color-code our bars based on the Publisher. \n",
        "    - We will have to manually construct our legend to do so.\n",
        "\n",
        "- We are going to save the images to file with appropraite file names. "
      ],
      "metadata": {
        "id": "JP2VdrAiAgHk"
      }
    },
    {
      "cell_type": "code",
      "source": [
        "## Load in the heroes and powers files\n",
        "heroes =pd.read_csv(DATA_FOLDER+'heroes_information.csv',index_col=0)\n",
        "\n",
        "powers = pd.read_csv(DATA_FOLDER+'super_hero_powers.csv')\n",
        "display(heroes.head(),powers.head())"
      ],
      "metadata": {
        "id": "jEbvx3o6Qq9Y"
      },
      "execution_count": null,
      "outputs": []
    },
    {
      "cell_type": "code",
      "source": [
        "## set names as index for powers df\n",
        "powers = powers.set_index('hero_names')\n",
        "powers"
      ],
      "metadata": {
        "id": "_ioi2SRgo_Lm"
      },
      "execution_count": null,
      "outputs": []
    },
    {
      "cell_type": "code",
      "source": [
        "## Summing powers True/False will tell us how many heroes have the power \n"
      ],
      "metadata": {
        "id": "oKyB-fmApQ41"
      },
      "execution_count": null,
      "outputs": []
    },
    {
      "cell_type": "code",
      "source": [
        "## Save top 10 most common powers\n",
        "powers_list = None\n",
        "powers_list"
      ],
      "metadata": {
        "id": "P6wzKZV_pLAi"
      },
      "execution_count": null,
      "outputs": []
    },
    {
      "cell_type": "code",
      "source": [
        "##  Save first power in powers_list as power_name\n",
        "\n",
        "\n",
        "## Select/filter ONLY hereos with that power\n"
      ],
      "metadata": {
        "id": "9_oC03AspZEg"
      },
      "execution_count": null,
      "outputs": []
    },
    {
      "cell_type": "code",
      "source": [
        "## Saving selected heroes names (the index) as heroes_with_power\n",
        "heroes_with_power = None\n",
        "heroes_with_power"
      ],
      "metadata": {
        "id": "oOxTmMYPFYDW"
      },
      "execution_count": null,
      "outputs": []
    },
    {
      "cell_type": "code",
      "source": [
        "# Use the list of heroes combine with pd.Series.isin to\n",
        "# make a filter for hereos with the power\n",
        "filter_heroes = None\n",
        "filter_heroes"
      ],
      "metadata": {
        "id": "7jijQ7J1plok"
      },
      "execution_count": null,
      "outputs": []
    },
    {
      "cell_type": "code",
      "source": [
        "## save selected heroes in a new df called selected_heroes\n",
        "selected_heroes = None\n",
        "selected_heroes"
      ],
      "metadata": {
        "id": "zEOx-Hqups2h"
      },
      "execution_count": null,
      "outputs": []
    },
    {
      "cell_type": "code",
      "source": [
        "## Find the 10 largest Heights and save\n",
        "tallest10 = None\n",
        "tallest10"
      ],
      "metadata": {
        "id": "dOGsnzV3qAhp"
      },
      "execution_count": null,
      "outputs": []
    },
    {
      "cell_type": "markdown",
      "source": [
        "### 📚 Controlling Selective Coloring of Figure Elements"
      ],
      "metadata": {
        "id": "Vr_TreLfGo9E"
      }
    },
    {
      "cell_type": "markdown",
      "source": [
        "- We want to be able to color-code heroes according to which publisher produces their comic/media. \n",
        "\n",
        ">- We want the same colors to be used for the same publishers across any figures we make.\n",
        "\n",
        "- We can use this dictionary with `.map` to get a series with color names to use (whihc we determine using Publisher.\n",
        "    - `df['Publisher'].map(colors_dict)`\n",
        "- Example:\n",
        "```python\n",
        "pub_colors = {'Marvel Comics':'blue', \n",
        "              'Dark Horse Comics':'darkgray', \n",
        "              'DC Comics':'brown'}\n",
        "ax = sns.barplot(data=tallest10,x='name',y='Height',\n",
        "palette = tallest10['Publisher'].map(pub_colors))\n",
        "```"
      ],
      "metadata": {
        "id": "sw08dJGbjMAQ"
      }
    },
    {
      "cell_type": "code",
      "source": [
        "## Dict of Colors to use for each publisher\n",
        "pub_colors = {'Marvel Comics':'blue', \n",
        "              'Dark Horse Comics':'darkgray', \n",
        "              'DC Comics':'brown',\n",
        "              'George Lucas':'green',\n",
        "              'J. R. R. Tolkien':'red',\n",
        "              'Image Comics':'purple'}\n",
        "\n",
        "\n",
        "## make a barplot and use the pub_colors dictionary to create the palette \n",
        "\n",
        "\n",
        "\n",
        "\n",
        "## Use the power name to create a descrptive title\n",
        "\n",
        "\n",
        "## Rotate the xlabels so they are readable\n",
        "\n",
        "\n",
        "\n",
        "## Increasing Axis Label Font Sizes\n",
        "\n"
      ],
      "metadata": {
        "id": "E5jhi1w_qWRN"
      },
      "execution_count": null,
      "outputs": []
    },
    {
      "cell_type": "markdown",
      "source": [
        "> Using this approach, we cannot automatically add a color legend, since we determined the colors ourselves. \n",
        "\n",
        "- Below is a good example of finding helpful examples on the web and adapting to suit our needs, and citing the sourrce."
      ],
      "metadata": {
        "id": "qXecUvzSkov0"
      }
    },
    {
      "cell_type": "code",
      "source": [
        "# Adapted from https://moonbooks.org/Articles/How-to-manually-add-a-legend-with-a-color-box-on-a-matplotlib-figure-/\n",
        "import matplotlib.patches as mpatches\n",
        "\n",
        "## Concstruct the list of handles for the legend\n",
        "handles = []\n",
        "for publisher, color in pub_colors.items():\n",
        "    handles.append(mpatches.Patch(color=color, label=publisher))\n",
        "    \n",
        "\n",
        "## Use ax.legend with handles=handles\n",
        "ax.legend(handles=handles,bbox_to_anchor=[1,1])\n",
        "\n",
        "\n",
        "## display fig to see the result.\n",
        "fig"
      ],
      "metadata": {
        "id": "FJtaPj4etDDe"
      },
      "execution_count": null,
      "outputs": []
    },
    {
      "cell_type": "markdown",
      "source": [
        "### def `plot_heroes_color_publisher` Function"
      ],
      "metadata": {
        "id": "QcrcPMD1bVd7"
      }
    },
    {
      "cell_type": "code",
      "source": [
        "## functionize our plot as plot_heroes_color_publisher\n",
        "def plot_heroes_color_publisher(tallest10,figsize=(12,6), \n",
        "                                pub_colors = {'Marvel Comics':'blue', \n",
        "                                              'Dark Horse Comics':'darkgray', \n",
        "                                              'DC Comics':'brown',\n",
        "                                              'George Lucas':'green',\n",
        "                                              'J. R. R. Tolkien':'red',\n",
        "                                              'Image Comics':'purple'},\n",
        "                                despine=True, \n",
        "                                spines_to_remove=[\"top\",\"right\"]):\n",
        "    \n",
        "    fig, ax = plt.subplots(figsize=figsize)\n",
        "\n",
        "    ## make a barplot and use the pub_colors dictionary to create the palette \n",
        "    sns.barplot(data=tallest10, x='name', y='Height',\n",
        "                edgecolor='white',\n",
        "                     palette=tallest10['Publisher'].map(pub_colors),ax=ax)\n",
        "    \n",
        "    ## Set text\n",
        "    ax.set_title(f'10 Tallest Heroes with the Power of \"{power_name}\"',\n",
        "                 fontsize='x-large', y=1.05)\n",
        "    ax.set_xticklabels(ax.get_xticklabels(), \n",
        "                       rotation=45, ha='right')\n",
        "    \n",
        "    ## Increasing Axis Label Font Sizes\n",
        "    ax.set_xlabel(\"Hero\",\n",
        "                fontsize='large')\n",
        "    ax.set_ylabel(ax.yaxis.get_label().get_text(),\n",
        "                fontsize='large')\n",
        "\n",
        "    # remove spines\n",
        "    if despine:\n",
        "        [ax.spines[side].set_visible(False) for side in spines_to_remove]\n",
        "        \n",
        "    ### Below Code Adapted from https://moonbooks.org/Articles/How-to-manually-add-a-legend-with-a-color-box-on-a-matplotlib-figure-/\n",
        "    ## Manually constructing legend\n",
        "    import matplotlib.patches as mpatches\n",
        "\n",
        "    handles = []\n",
        "    for publisher, color in pub_colors.items():\n",
        "        handles.append(mpatches.Patch(color=color, \n",
        "                                      label=publisher))\n",
        "    \n",
        "    ax.legend(handles=handles, \n",
        "              bbox_to_anchor=[1,1])\n",
        "    \n",
        "\n",
        "    return fig, ax\n",
        "\n",
        "\n",
        "\n",
        "fig,ax = plot_heroes_color_publisher(tallest10)\n"
      ],
      "metadata": {
        "id": "wYf5pMNTCY5W"
      },
      "execution_count": null,
      "outputs": []
    },
    {
      "cell_type": "markdown",
      "source": [
        "### ✅ Future Function To-Dos"
      ],
      "metadata": {
        "id": "3K2-zc24csDf"
      }
    },
    {
      "cell_type": "markdown",
      "source": [
        "- [ ] sort the legend alphabetically\n",
        "- [ ] only include colors in the legend that appear in the filtered dataset"
      ],
      "metadata": {
        "id": "wZ7tixkAcvfw"
      }
    },
    {
      "cell_type": "markdown",
      "source": [
        "### ∞ Final Loop to Make Top Power Figures & Save"
      ],
      "metadata": {
        "id": "7wQzWlKtboAl"
      }
    },
    {
      "cell_type": "code",
      "source": [
        "# Creating a dictionary for saving my figures\n",
        "FIGS = None\n",
        "\n",
        "## for each of the top 10 most common powers... \n",
        "\n",
        "\n",
        "    ## grab the heroes that have that power and \n",
        "\n",
        "\n",
        "    ## slice just filtered heroes\n",
        "\n",
        "\n",
        "    ## find the Tallest/Shortest heroes and plot as...bars?\n",
        "\n",
        "\n",
        "    ## since we only accounted for a few publishers, we may encounter some errors\n",
        "    # using try and except to attempt to plot the data\n",
        "   \n",
        "\n",
        "        ## Saving to FIGS dict\n",
        "\n",
        "    ## if it errors, print what power had the error and display the unique publishers\n"
      ],
      "metadata": {
        "id": "od8MdgXUoyBb"
      },
      "execution_count": null,
      "outputs": []
    },
    {
      "cell_type": "markdown",
      "source": [
        "> Confirm we saved our figures to our new_folder on Google Drive"
      ],
      "metadata": {
        "id": "n0IJ0TEJlxTw"
      }
    },
    {
      "cell_type": "code",
      "source": [
        "print(new_folder)\n",
        "os.listdir(new_folder)"
      ],
      "metadata": {
        "id": "RPdDW4opl0mL"
      },
      "execution_count": null,
      "outputs": []
    },
    {
      "cell_type": "code",
      "source": [
        "# raise Exception(\"Stop here for primary in-class activity!\")"
      ],
      "metadata": {
        "id": "tH02voe1s8z9"
      },
      "execution_count": null,
      "outputs": []
    },
    {
      "cell_type": "markdown",
      "source": [
        "# APPENDIX <a name='Appendix'></a>\n",
        "- [🗂Click to jump to ToC](#contents)"
      ],
      "metadata": {
        "id": "XG8v4fqq8eJU"
      }
    },
    {
      "cell_type": "markdown",
      "metadata": {
        "id": "yOlUsMjsQ7mQ"
      },
      "source": [
        "### Seaborn Themes/Contexts/Colorpalette"
      ]
    },
    {
      "cell_type": "markdown",
      "metadata": {
        "id": "X9w4o3c6Q7mQ"
      },
      "source": [
        "- https://seaborn.pydata.org/api.html#themeing\n",
        "- https://seaborn.pydata.org/tutorial/color_palettes.html"
      ]
    },
    {
      "cell_type": "code",
      "execution_count": null,
      "metadata": {
        "ExecuteTime": {
          "end_time": "2021-08-17T16:00:34.820450Z",
          "start_time": "2021-08-17T16:00:34.815655Z"
        },
        "id": "VRj59YyTQ7mQ"
      },
      "outputs": [],
      "source": [
        "sns.color_palette(\"rocket\")"
      ]
    },
    {
      "cell_type": "code",
      "execution_count": null,
      "metadata": {
        "ExecuteTime": {
          "end_time": "2021-08-17T16:00:35.121490Z",
          "start_time": "2021-08-17T16:00:34.822595Z"
        },
        "id": "GmatdewiQ7mQ"
      },
      "outputs": [],
      "source": [
        "palette = sns.color_palette('rocket')\n",
        "sns.barplot(data=df,x='BldgType',y='SalePrice',palette=palette)"
      ]
    },
    {
      "cell_type": "code",
      "source": [
        ""
      ],
      "metadata": {
        "id": "9Wkf-A0v3avx"
      },
      "execution_count": null,
      "outputs": []
    },
    {
      "cell_type": "markdown",
      "source": [
        "## Annotations"
      ],
      "metadata": {
        "id": "7XNQcl0Ym7xB"
      }
    },
    {
      "cell_type": "markdown",
      "source": [
        "- https://jessica-miles.medium.com/adding-annotations-to-visualizations-using-matplotlib-279e9c770baa\n",
        "- https://www.geeksforgeeks.org/how-to-annotate-bars-in-barplot-with-matplotlib-in-python/"
      ],
      "metadata": {
        "id": "RqufBt9lnxmn"
      }
    },
    {
      "cell_type": "code",
      "source": [
        "df2 = pd.read_csv('https://docs.google.com/spreadsheets/d/e/2PACX-1vRQpH02vlgxAwATTUhJBC0MGiciSz-vUPenWNbrkVH4ijb12NXK-4ut0jLqbANnBgRUo36ZAXDfeQKa/pub?output=csv')\n",
        "df2"
      ],
      "metadata": {
        "id": "b1ltk0y6m9JH"
      },
      "execution_count": null,
      "outputs": []
    },
    {
      "cell_type": "code",
      "source": [
        "\n",
        "df2.nunique()"
      ],
      "metadata": {
        "id": "MtqENvEJ1EsC"
      },
      "execution_count": null,
      "outputs": []
    },
    {
      "cell_type": "code",
      "source": [
        "ax = sns.barplot(data=df2, x='Status',y='Life expectancy')\n",
        "## Adapted from: https://www.geeksforgeeks.org/how-to-annotate-bars-in-barplot-with-matplotlib-in-python/\n",
        "for bar in ax.patches:\n",
        "   \n",
        "  # Using Matplotlib's annotate function and\n",
        "  # passing the coordinates where the annotation shall be done\n",
        "  ax.annotate(format(bar.get_height(), '.2f'),\n",
        "                   (bar.get_x() + bar.get_width() / 2, #x-coordinate: \n",
        "                    bar.get_height()), #y-coordinate:\n",
        "                 ha='center', va='center', # text horizontal and vertical alignment\n",
        "                   size=15, fontfamily='serif',\n",
        "              xytext=(0, 8), ## free space to be left to make graph pleasing: (0, 8)\n",
        "                   textcoords='offset points')\n",
        "  \n",
        "## Making the y-limit 5-units higher to allow for annotation  \n",
        "ax.set_ylim(top=ax.get_ylim()[-1]+5)"
      ],
      "metadata": {
        "id": "od8DqpNj1BlN"
      },
      "execution_count": null,
      "outputs": []
    },
    {
      "cell_type": "markdown",
      "source": [
        "## Multiple Subplots with Different Figure Sizes"
      ],
      "metadata": {
        "id": "BHExk0k_2vaQ"
      }
    },
    {
      "cell_type": "markdown",
      "source": [
        "\n",
        "- Plot two subplots: large histogram and small boxplot\n",
        "    - Give the distribution much more width than the bar plot.\n",
        "        - Using gridspec with matplotlib: \n",
        "            - https://matplotlib.org/stable/tutorials/intermediate/gridspec.html\n",
        "            - https://stackoverflow.com/questions/34268742/how-to-use-gridspec-with-subplots/34269388"
      ],
      "metadata": {
        "id": "LCrmcBxT3NFO"
      }
    },
    {
      "cell_type": "markdown",
      "source": [
        "#### Example of Default Subplots"
      ],
      "metadata": {
        "id": "9TGi0Ov06e0k"
      }
    },
    {
      "cell_type": "code",
      "source": [
        "## Visualize Distributions and Means\n",
        "fig, axes = plt.subplots(nrows=2, sharex=True, figsize=(10,6))\n",
        "\n",
        "sns.histplot(data=df2,x='Life expectancy',kde=True,ax=axes[0])\n",
        "sns.boxplot(data=df2, x='Life expectancy' ,ax=axes[1])\n",
        "\n",
        "[a.grid(axis='x',ls=':',color='gray') for a in axes];\n",
        "fig.tight_layout()"
      ],
      "metadata": {
        "id": "sNX8KgUn6eIi"
      },
      "execution_count": null,
      "outputs": []
    },
    {
      "cell_type": "markdown",
      "source": [
        "#### Using `gridspec_kws` to set different proportions"
      ],
      "metadata": {
        "id": "6jmDiuBc6o1t"
      }
    },
    {
      "cell_type": "code",
      "source": [
        "## Visualize Distributions and Means\n",
        "fig, axes = plt.subplots(nrows=2, sharex=True, figsize=(10,6),\n",
        "                         gridspec_kw={'height_ratios':[0.75,0.25]},)\n",
        "\n",
        "sns.histplot(data=df2,x='Life expectancy',kde=True,ax=axes[0])\n",
        "sns.boxplot(data=df2, x='Life expectancy' ,ax=axes[1])\n",
        "\n",
        "[a.grid(axis='x',ls=':',color='gray') for a in axes];\n",
        "# [a.set(frame_on=False) for a in axes];\n",
        "\n",
        "# fig.frameon(False)"
      ],
      "metadata": {
        "id": "6_jz5k-l2Lov"
      },
      "execution_count": null,
      "outputs": []
    },
    {
      "cell_type": "code",
      "source": [
        ""
      ],
      "metadata": {
        "id": "P6Oi0eZC3ie_"
      },
      "execution_count": null,
      "outputs": []
    },
    {
      "cell_type": "code",
      "source": [
        "## Visualize Distributions and Means\n",
        "fig, axes = plt.subplots(ncols=2, figsize=(10,5),\n",
        "                         gridspec_kw={'width_ratios':[0.8,0.2]})\n",
        "\n",
        "sns.histplot(data=df2,x='Life expectancy',hue='Status' ,ax=axes[0])\n",
        "sns.barplot(data=df2, y='Life expectancy',x='Status' ,ax=axes[1],ci=68)\n",
        "\n",
        "axes[1].set_xticklabels(axes[1].get_xticklabels(), rotation=45,fontsize='small',\n",
        "                        ha='right')\n",
        "# axes[1].legend(handles=axes[0].get_legend().get_handles(),bbox_to_anchor=[1,1])\n",
        "fig.tight_layout()\n"
      ],
      "metadata": {
        "id": "wbRnzW6S49LU"
      },
      "execution_count": null,
      "outputs": []
    },
    {
      "cell_type": "markdown",
      "source": [
        "## Transforming DataFrames to Leverage Seaborn\n"
      ],
      "metadata": {
        "id": "CjR45rrjcsL7"
      }
    },
    {
      "cell_type": "markdown",
      "source": [
        "\n",
        "### Example: Cats Dogs Boxplot"
      ],
      "metadata": {
        "id": "q5MzTrJRmpW3"
      }
    },
    {
      "cell_type": "markdown",
      "source": [
        ""
      ],
      "metadata": {
        "id": "rBLXk8kpfsws"
      }
    },
    {
      "cell_type": "code",
      "source": [
        "df = pd.read_excel('https://docs.google.com/spreadsheets/d/e/2PACX-1vTXqVI5_p-kjmdG6Ww9mxHJfB_rM3VlLIbIk6HGCWgy1b0Fy3i9AscZm2JHU9re5Q/pub?output=xlsx')\n",
        "df"
      ],
      "metadata": {
        "id": "xp4-gpstctwM"
      },
      "execution_count": null,
      "outputs": []
    },
    {
      "cell_type": "code",
      "source": [
        "##  The problem\n",
        "sns.boxplot(data=df, y='Mean Number of Cats',color='orange')\n",
        "sns.boxplot(data=df, y='Mean Number of Dogs per household',color='blue')"
      ],
      "metadata": {
        "id": "QlJ65-HFgOtj"
      },
      "execution_count": null,
      "outputs": []
    },
    {
      "cell_type": "code",
      "source": [
        "## Preivously shared solution - modified for black background\n",
        "## new dict for setting white lines\n",
        "white_lines = dict(color='white')\n",
        "\n",
        "plt.figure(figsize = (12, 5))\n",
        "fig, axes = plt.subplots(nrows = 1, ncols = 1, figsize = (8,5))\n",
        "boxplots = axes.boxplot([df['Mean Number of Cats'],df['Mean Number of Dogs per household']],\n",
        "           notch = True,\n",
        "           labels=['Cats', 'Dogs'],\n",
        "           widths = .7,\n",
        "           patch_artist=True, \n",
        "           medianprops = dict(linestyle='-', linewidth=2, color='Yellow'),\n",
        "           boxprops = dict(linestyle='--', linewidth=2, color='white', facecolor = 'blue', alpha = .4),\n",
        "           whiskerprops=white_lines,\n",
        "           flierprops=white_lines,\n",
        "           capprops=white_lines\n",
        "          );\n",
        "# The more you understand any library, the more you can do\n",
        "boxplot1 = boxplots['boxes'][0]\n",
        "boxplot1.set_facecolor('orange')\n",
        "plt.ylabel('Mean Number of Animals per State', fontsize = 20);\n",
        "plt.xticks(fontsize = 16);\n",
        "plt.yticks(fontsize = 16);"
      ],
      "metadata": {
        "id": "s7p9YqCG0al0"
      },
      "execution_count": null,
      "outputs": []
    },
    {
      "cell_type": "markdown",
      "source": [
        "- Using pd.melt to turn multiple columns into stacked rows.\n",
        "    - https://pandas.pydata.org/docs/reference/api/pandas.melt.html"
      ],
      "metadata": {
        "id": "j2gT_8ns7fiT"
      }
    },
    {
      "cell_type": "code",
      "source": [
        "## melt dataframe, keep only Location as id, and cats/dogs as values\n",
        "melted = pd.melt(df, id_vars='Location',value_vars= ['Mean Number of Cats','Mean Number of Dogs per household'])\n",
        "melted.sort_values(\"Location\")"
      ],
      "metadata": {
        "id": "FOv0OBV9XHiH"
      },
      "execution_count": null,
      "outputs": []
    },
    {
      "cell_type": "code",
      "source": [
        "## give the new columns better name\n",
        "plot_df = pd.melt(df, id_vars=['Location'],\n",
        "                  value_vars= ['Mean Number of Cats','Mean Number of Dogs per household'],\n",
        "                  var_name='Pet Type',\n",
        "                  value_name='Mean Number per household')\n",
        "plot_df"
      ],
      "metadata": {
        "id": "g9d7d1tfc_Rj"
      },
      "execution_count": null,
      "outputs": []
    },
    {
      "cell_type": "code",
      "source": [
        "ax = sns.boxplot(data=plot_df, x='Pet Type', y='Mean Number per household')#,notch=True)"
      ],
      "metadata": {
        "id": "s2Ze0Ppnc_Pe"
      },
      "execution_count": null,
      "outputs": []
    },
    {
      "cell_type": "code",
      "source": [
        "## Replacing long names with just Cats and Dogs\n",
        "rename_map = {\"Mean Number of Cats\":\"Cats\",\"Mean Number of Dogs per household\":\"Dogs\"}\n",
        "plot_df['Pet'] = plot_df['Pet Type'].replace(rename_map)\n",
        "plot_df"
      ],
      "metadata": {
        "id": "7An_tF95d3Bl"
      },
      "execution_count": null,
      "outputs": []
    },
    {
      "cell_type": "code",
      "source": [
        "ax = sns.boxplot(data=plot_df, x='Pet', y='Mean Number per household' )#,notch=True)"
      ],
      "metadata": {
        "id": "0ChtzaP7YV57"
      },
      "execution_count": null,
      "outputs": []
    },
    {
      "cell_type": "code",
      "source": [
        "sns.boxplot(data=plot_df, x='Pet', y='Mean Number per household',notch=True,\n",
        "            medianprops= dict(linestyle='--', linewidth=2, color='Yellow'),\n",
        "            boxprops = dict(linestyle='-', linewidth=2,  alpha = .4))"
      ],
      "metadata": {
        "id": "Q-4D7J66c_Id"
      },
      "execution_count": null,
      "outputs": []
    }
  ]
}