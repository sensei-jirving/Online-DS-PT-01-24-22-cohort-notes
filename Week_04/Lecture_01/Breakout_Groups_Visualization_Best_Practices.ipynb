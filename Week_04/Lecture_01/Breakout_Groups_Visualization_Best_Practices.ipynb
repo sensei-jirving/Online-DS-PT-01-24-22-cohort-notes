{
  "nbformat": 4,
  "nbformat_minor": 0,
  "metadata": {
    "colab": {
      "name": "01.24.22 Visualization-Best-Practices.ipynb",
      "provenance": [],
      "collapsed_sections": [],
      "include_colab_link": true
    },
    "kernelspec": {
      "name": "python3",
      "display_name": "Python 3"
    }
  },
  "cells": [
    {
      "cell_type": "markdown",
      "metadata": {
        "id": "view-in-github",
        "colab_type": "text"
      },
      "source": [
        "<a href=\"https://colab.research.google.com/github/sensei-jirving/Online-DS-PT-01.24.22-cohort-notes/blob/main/Week_04/Lecture_01/Breakout_Groups_Visualization_Best_Practices.ipynb\" target=\"_parent\"><img src=\"https://colab.research.google.com/assets/colab-badge.svg\" alt=\"Open In Colab\"/></a>"
      ]
    },
    {
      "cell_type": "markdown",
      "metadata": {
        "id": "W126R0Qz5QNm"
      },
      "source": [
        "<center>\n",
        "<img src=\"https://course_report_production.s3.amazonaws.com/rich/rich_files/rich_files/2470/s300/cd-logo-blue-600x600.png\" alt=\"Coding Dojo Logo\" class=\"center\" height=\"50\">\n",
        "\n",
        "# What makes a good data visualization?\n",
        "\n",
        "*Make a copy of this notebook to edit!*\n",
        "```\n",
        "File > Save a copy in Drive\n",
        "```\n",
        "\n",
        "</center>\n",
        "\n",
        "**Directions:** For each of the following visualizations, state what you could do differently to make the visualization more clear.\n"
      ]
    },
    {
      "cell_type": "markdown",
      "metadata": {
        "id": "Lws7O8XdyyL_"
      },
      "source": [
        "4. ![](https://64.media.tumblr.com/a64d29869c8e2d8c81c5724b33bb68e0/tumblr_pe8upcvd6k1sgh0voo1_1280.png)"
      ]
    },
    {
      "cell_type": "markdown",
      "metadata": {
        "id": "kNnrHTEexjrm"
      },
      "source": [
        ""
      ]
    },
    {
      "cell_type": "markdown",
      "metadata": {
        "id": "CXMzsxh8xjxl"
      },
      "source": [
        "1. \n",
        "\n",
        "![](https://64.media.tumblr.com/13d27ab07c097b1f1e7961cdf6e035f4/tumblr_qj0tnmeroK1sgh0voo1_1280.png)"
      ]
    },
    {
      "cell_type": "markdown",
      "metadata": {
        "id": "VbQz8sYnxjl0"
      },
      "source": [
        ""
      ]
    },
    {
      "cell_type": "markdown",
      "metadata": {
        "id": "_p70zdZsyyWs"
      },
      "source": [
        "3. ![](https://64.media.tumblr.com/b2d62867279187653c8422f81f4a29b5/tumblr_phbs4pYdXd1sgh0voo1_640.jpg)"
      ]
    },
    {
      "cell_type": "markdown",
      "metadata": {
        "id": "QXrw7QH0yyPt"
      },
      "source": [
        ""
      ]
    },
    {
      "cell_type": "markdown",
      "metadata": {
        "id": "pdLUQuvS2lt6"
      },
      "source": [
        "5. ![](https://64.media.tumblr.com/bc8d62d722f2ee9095528cf1ff30f093/tumblr_otau8uaSJ71sgh0voo1_640.png)"
      ]
    },
    {
      "cell_type": "markdown",
      "metadata": {
        "id": "6bxtIOSxyyHD"
      },
      "source": [
        ""
      ]
    },
    {
      "cell_type": "markdown",
      "metadata": {
        "id": "mEN0iMikxjom"
      },
      "source": [
        "2. \n",
        "\n",
        "![](https://64.media.tumblr.com/ba7f3d0cea406a7cfee2182f940297fe/tumblr_qiguluFfhp1sgh0voo1_1280.jpg)"
      ]
    },
    {
      "cell_type": "markdown",
      "metadata": {
        "id": "GX93q4nn2lqv"
      },
      "source": [
        ""
      ]
    },
    {
      "cell_type": "markdown",
      "metadata": {
        "id": "T0VKSX2U3rIN"
      },
      "source": [
        "View more bad visualizations at the source for this lesson's charts [here](https://viz.wtf/)."
      ]
    }
  ]
}