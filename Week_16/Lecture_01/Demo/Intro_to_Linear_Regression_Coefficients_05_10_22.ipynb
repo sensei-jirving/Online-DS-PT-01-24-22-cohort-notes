{
  "cells": [
    {
      "cell_type": "markdown",
      "metadata": {
        "id": "view-in-github",
        "colab_type": "text"
      },
      "source": [
        "<a href=\"https://colab.research.google.com/github/sensei-jirving/Online-DS-PT-01.24.22-cohort-notes/blob/main/Week_16/Lecture_01/Demo/Intro_to_Linear_Regression_Coefficients_05_10_22.ipynb\" target=\"_parent\"><img src=\"https://colab.research.google.com/assets/colab-badge.svg\" alt=\"Open In Colab\"/></a>"
      ]
    },
    {
      "cell_type": "markdown",
      "metadata": {
        "id": "J-a9WpeOUr20"
      },
      "source": [
        "# Intro to Linear to Logistic Regression Coefficients"
      ]
    },
    {
      "cell_type": "markdown",
      "metadata": {
        "id": "mdbdwshVUr22"
      },
      "source": [
        "- UPDATED 05/10/22\n",
        "- James M. Irving, Ph.D."
      ]
    },
    {
      "cell_type": "markdown",
      "metadata": {
        "ExecuteTime": {
          "end_time": "2021-09-30T17:22:57.157124Z",
          "start_time": "2021-09-30T17:22:57.154414Z"
        },
        "id": "YB2J8wZPUr24"
      },
      "source": [
        "## Learning Objectives\n"
      ]
    },
    {
      "cell_type": "markdown",
      "source": [
        "\n",
        "- To review how linear regression predicts a continuous value.\n",
        "- To understand what coefficients are and how they are used to calcualte the target."
      ],
      "metadata": {
        "id": "i6ikgM1zbvL0"
      }
    },
    {
      "cell_type": "markdown",
      "metadata": {
        "id": "mapj4U_kUr24"
      },
      "source": [
        "- Lesson Duration:\n",
        "    - ~10 mins"
      ]
    },
    {
      "cell_type": "markdown",
      "metadata": {
        "id": "folVhH6CUr24"
      },
      "source": [
        "# Predicting the Price of a Home Using Linear Regression"
      ]
    },
    {
      "cell_type": "markdown",
      "metadata": {
        "id": "0iXcmTP1Ur25"
      },
      "source": [
        "<img src=\"https://github.com/jirvingphd/from-linear-to-logistic-regression-brief-intro/blob/main/images/istock24011682medium_1200xx1697-955-0-88.jpg?raw=1\" width=60% alt=\"Source: https://images.app.goo.gl/oJoMSGU8LGgDjkA76\">"
      ]
    },
    {
      "cell_type": "code",
      "execution_count": null,
      "metadata": {
        "ExecuteTime": {
          "start_time": "2021-10-07T15:08:25.933Z"
        },
        "id": "30QoDlI8Ur25"
      },
      "outputs": [],
      "source": [
        "import pandas as pd\n",
        "import numpy as np\n",
        "import matplotlib as mpl\n",
        "import matplotlib.pyplot as plt\n",
        "import seaborn as sns\n",
        "## Customization Options\n",
        "pd.set_option('display.float_format',lambda x: f\"{x:,.4f}\")\n",
        "plt.style.use('seaborn-talk')\n",
        "plt.rcParams['figure.facecolor']='white'"
      ]
    },
    {
      "cell_type": "code",
      "execution_count": null,
      "metadata": {
        "ExecuteTime": {
          "start_time": "2021-10-07T15:08:25.936Z"
        },
        "id": "D6lViJl_Ur26"
      },
      "outputs": [],
      "source": [
        "## additional required imports\n",
        "from sklearn.model_selection import train_test_split\n",
        "from sklearn.metrics import (r2_score, plot_confusion_matrix,\n",
        "                             classification_report)\n",
        "\n",
        "## Customized Options\n",
        "pd.set_option('display.float_format',lambda x: f\"{x:,.4f}\")\n",
        "plt.style.use('seaborn-talk')"
      ]
    },
    {
      "cell_type": "code",
      "execution_count": null,
      "metadata": {
        "ExecuteTime": {
          "start_time": "2021-10-07T15:08:25.940Z"
        },
        "id": "aTlOMZXMUr27"
      },
      "outputs": [],
      "source": [
        "## Load in the King's County housing dataset and display the head and info\n",
        "df = pd.read_csv(\"https://docs.google.com/spreadsheets/d/e/2PACX-1vSEZQEzxja7Hmj5tr5nc52QqBvFQdCAGb52e1FRK1PDT2_TQrS6rY_TR9tjZjKaMbCy1m5217sVmI5q/pub?output=csv\")\n",
        "display(df.head(),df.info())"
      ]
    },
    {
      "cell_type": "code",
      "source": [
        "## FILTERING EXTREME VALUES FOR DEMONSTRATION PURPOSES\n",
        "df = df.loc[( df['bedrooms'] <8) & (df['price'] < 2_000_000) & df['bathrooms']>0]\n",
        "df"
      ],
      "metadata": {
        "id": "mf5pfaxOclYU"
      },
      "execution_count": null,
      "outputs": []
    },
    {
      "cell_type": "code",
      "execution_count": null,
      "metadata": {
        "ExecuteTime": {
          "start_time": "2021-10-07T15:08:25.943Z"
        },
        "id": "sezo7TrTUr27"
      },
      "outputs": [],
      "source": [
        "## Visualize the distribution of house prices (using seaborn!)\n",
        "sns.displot(df['price'],aspect=2);"
      ]
    },
    {
      "cell_type": "markdown",
      "metadata": {
        "id": "g2S-u9fKUr27"
      },
      "source": [
        "## ~~🕹Activity:~~ Visualizing Our Features vs Our Target"
      ]
    },
    {
      "cell_type": "markdown",
      "metadata": {
        "id": "nVmm-u8rUr27"
      },
      "source": [
        "- We want to determine how features of a home influence its sale price. \n",
        "- Specifically, we will be using:\n",
        "    - `sqft_living`:Square-Footage of all Living Areas\n",
        "    - `bedrooms`: # of Bedrooms\n",
        "    - `bathrooms`: # of Bathrooms"
      ]
    },
    {
      "cell_type": "code",
      "execution_count": null,
      "metadata": {
        "ExecuteTime": {
          "start_time": "2021-10-07T15:08:25.946Z"
        },
        "id": "TvCba57lUr28"
      },
      "outputs": [],
      "source": [
        "from matplotlib.ticker import StrMethodFormatter\n",
        "## Plot a scatter plot of sqft-living vs price\n",
        "ax = sns.scatterplot(data=df,x='sqft_living',y='price',s=50)\n",
        "ax.set_title('Relationship Between Square Footage and House Price')\n",
        "\n",
        "## Formatting Price Axis\n",
        "price_fmt = StrMethodFormatter(\"${x:,.0f}\")\n",
        "ax.yaxis.set_major_formatter(price_fmt)\n",
        "ax.get_figure().set_size_inches(10,6)"
      ]
    },
    {
      "cell_type": "markdown",
      "metadata": {
        "id": "OIrZ37KQUr28"
      },
      "source": [
        "- We can see a positive relationship between sqft-living and price, but it would be better if we could show the line-of-best-fit with it"
      ]
    },
    {
      "cell_type": "markdown",
      "metadata": {
        "id": "RcXgpoKMUr28"
      },
      "source": [
        "### Functionizing Our Code"
      ]
    },
    {
      "cell_type": "code",
      "execution_count": null,
      "metadata": {
        "ExecuteTime": {
          "start_time": "2021-10-07T15:08:25.950Z"
        },
        "id": "j89D6W1iUr28"
      },
      "outputs": [],
      "source": [
        "## NOTE: if we had more time, we would write this together.\n",
        "def plot_feature_vs_target(df,x='sqft_living',y='price',price_format=True):\n",
        "    \"\"\"Plots a seaborn regplot of x vs y.\"\"\"\n",
        "    ax = sns.regplot(data=df,x=x,y=y,\n",
        "                line_kws=dict(color='k',ls='--',lw=2),\n",
        "               scatter_kws=dict(s=50,edgecolor='white',lw=1,alpha=0.8)\n",
        "                    )\n",
        "    \n",
        "    ax.get_figure().set_size_inches(10,6)\n",
        "    ax.set_title(f'{x} vs {y}')\n",
        "    ax.get_figure().set_facecolor('white')\n",
        "    \n",
        "    if price_format:\n",
        "        ## Formatting Price Axis\n",
        "        price_fmt = StrMethodFormatter(\"${x:,.0f}\")\n",
        "        ax.yaxis.set_major_formatter(price_fmt)\n",
        "    return ax"
      ]
    },
    {
      "cell_type": "code",
      "execution_count": null,
      "metadata": {
        "ExecuteTime": {
          "start_time": "2021-10-07T15:08:25.953Z"
        },
        "id": "nSjqtj75Ur28"
      },
      "outputs": [],
      "source": [
        "## Visualize the relationship between sqft_living and price\n",
        "ax = plot_feature_vs_target(df,x='sqft_living');\n"
      ]
    },
    {
      "cell_type": "markdown",
      "metadata": {
        "id": "I4g5udB7Ur28"
      },
      "source": [
        "### What Our Trendline Tells Us\n",
        "- Our trendline summarizes the relationship between our feature and our target.\n",
        "- It is comprised of the: <br>\n",
        "1) y-intercept (AKA $c$ or $b$ or $\\beta_{0}$) indicating the default value of y when X=0.<br>\n",
        "2) and a slope (AKA $m$ or $\\beta$) indicating the relationship between X and y. When X increases by 1, y increases by $m$."
      ]
    },
    {
      "cell_type": "code",
      "execution_count": null,
      "metadata": {
        "ExecuteTime": {
          "start_time": "2021-10-07T15:08:25.957Z"
        },
        "id": "G8cMMdH2Ur29"
      },
      "outputs": [],
      "source": [
        "## Visualize the relationship between bathrooms and price\n",
        "plot_feature_vs_target(df,x='bathrooms');"
      ]
    },
    {
      "cell_type": "code",
      "execution_count": null,
      "metadata": {
        "ExecuteTime": {
          "start_time": "2021-10-07T15:08:25.960Z"
        },
        "id": "ai6fIng1Ur29"
      },
      "outputs": [],
      "source": [
        "## Visualize the relationship between bedrooms and price\n",
        "plot_feature_vs_target(df,x='bedrooms')"
      ]
    },
    {
      "cell_type": "markdown",
      "metadata": {
        "id": "1l7VMjlkUr29"
      },
      "source": [
        ">- Now, let's create a Linear Regression model with sci-kit learn to determine the effect of these 3 features!"
      ]
    },
    {
      "cell_type": "markdown",
      "metadata": {
        "id": "Eu6XmHXpUr29"
      },
      "source": [
        "## 🕹Activity: Predicting House Price with sci-kit learn's `LinearRegression`"
      ]
    },
    {
      "cell_type": "code",
      "execution_count": null,
      "metadata": {
        "ExecuteTime": {
          "start_time": "2021-10-07T15:08:25.963Z"
        },
        "id": "K01VKNJ2Ur29"
      },
      "outputs": [],
      "source": [
        "## Create our X & y using bedrooms,bathrooms, sqft-living\n",
        "use_cols = ['bedrooms','bathrooms','sqft_living']\n",
        "X = df[use_cols].copy()\n",
        "y = df['price'].copy()\n",
        "\n",
        "## Train test split (random-state 321, test_size=0.25)\n",
        "X_train,X_test,y_train,y_test = train_test_split(X,y,test_size=0.25,random_state=321)\n",
        "X_train"
      ]
    },
    {
      "cell_type": "code",
      "execution_count": null,
      "metadata": {
        "ExecuteTime": {
          "start_time": "2021-10-07T15:08:25.966Z"
        },
        "id": "Wiw55IU_Ur29"
      },
      "outputs": [],
      "source": [
        "## import LinearRegression from sklearn and fit the model\n",
        "from sklearn.linear_model import LinearRegression\n",
        "linreg = LinearRegression()\n",
        "linreg.fit(X_train,y_train)"
      ]
    },
    {
      "cell_type": "code",
      "execution_count": null,
      "metadata": {
        "ExecuteTime": {
          "start_time": "2021-10-07T15:08:25.969Z"
        },
        "id": "AgmxqsN5Ur29"
      },
      "outputs": [],
      "source": [
        "## Get our models' R-squared value for the train and test data\n",
        "print(f\"Training R-Squared: {linreg.score(X_train,y_train):.3f}\")\n",
        "print(f\"Test R-Squared: {linreg.score(X_test,y_test):.3f}\")"
      ]
    },
    {
      "cell_type": "markdown",
      "metadata": {
        "id": "RlZwL_fHUr29"
      },
      "source": [
        ">- Ok, so what does this tell us?\n",
        "    - Our model can explain 52% of the variance of house price using just 3 features!"
      ]
    },
    {
      "cell_type": "markdown",
      "metadata": {
        "id": "-R8cvyTsUr29"
      },
      "source": [
        "### What Coefficients Did Our Model Find? "
      ]
    },
    {
      "cell_type": "code",
      "execution_count": null,
      "metadata": {
        "ExecuteTime": {
          "start_time": "2021-10-07T15:08:25.973Z"
        },
        "id": "ejwWiXcFUr29"
      },
      "outputs": [],
      "source": [
        "## NOTE: with more time, we would code this together. \n",
        "def get_coeffs(reg,X_train):\n",
        "    \"\"\"Extracts the coefficients from a scikit-learn LinearRegression or LogisticRegression\"\"\"\n",
        "    coeffs = pd.Series(reg.coef_.flatten(),index=X_train.columns)\n",
        "    \n",
        "    # if isinstance(reg.intercept_,np.ndarray):\n",
        "    #     coeffs.loc['intercept'] = reg.intercept_[0]\n",
        "    # else:\n",
        "    coeffs.loc['intercept'] = reg.intercept_\n",
        "\n",
        "    return coeffs"
      ]
    },
    {
      "cell_type": "markdown",
      "metadata": {
        "id": "73uUw32cUr2-"
      },
      "source": [
        "- Linear Regression Equation\n",
        "$$ \\large \\hat y = \\beta_0 + \\beta_1 x_1 + \\beta_2 x_2 + \\ldots + \\beta_n x_n  $$\n",
        "which we can simplify to:\n",
        "$$ \\hat y =  \\sum_{i=0}^{N} \\beta_i x_i  $$"
      ]
    },
    {
      "cell_type": "code",
      "execution_count": null,
      "metadata": {
        "ExecuteTime": {
          "start_time": "2021-10-07T15:08:25.976Z"
        },
        "id": "gnkU9GzjUr2-"
      },
      "outputs": [],
      "source": [
        "## Get the coefficents from the model using our new function\n",
        "coeffs = get_coeffs(linreg,X_train)\n",
        "coeffs"
      ]
    },
    {
      "cell_type": "markdown",
      "metadata": {
        "id": "A964L7FkUr2-"
      },
      "source": [
        ">- **Each coefficient tells us the effect of increasing the values in that column by 1 unit.** \n",
        ">- According to our model, we can determine a home's price using the following results:\n",
        "    - The model assumed a default/starting house price was \\$130,191.2155 (the intercept)\n",
        "    - For each additional bedrooms, subtract      \\$-41,206.78\n",
        "    - For each batrhoom, add \\$13,537.01\n",
        "    - For each square foot of living space, add \\$243.11"
      ]
    },
    {
      "cell_type": "code",
      "execution_count": null,
      "metadata": {
        "ExecuteTime": {
          "start_time": "2021-10-07T15:08:25.979Z"
        },
        "scrolled": true,
        "id": "JYiA4-MoUr2-"
      },
      "outputs": [],
      "source": [
        "## Let's select an example house and see how we calculate price\n",
        "i = 300\n",
        "house = X_test.iloc[i]\n",
        "house"
      ]
    },
    {
      "cell_type": "code",
      "execution_count": null,
      "metadata": {
        "ExecuteTime": {
          "start_time": "2021-10-07T15:08:25.983Z"
        },
        "id": "9uLzbDdWUr2-"
      },
      "outputs": [],
      "source": [
        "## Calculate the home's predicted price using our coefficients\n",
        "price = house['bedrooms']*coeffs['bedrooms'] + \\\n",
        "        house['bathrooms']*coeffs['bathrooms'] + \\\n",
        "        house['sqft_living']*coeffs['sqft_living'] + coeffs['intercept']\n",
        "\n",
        "print(f\"${price:,.2f}\")"
      ]
    },
    {
      "cell_type": "code",
      "execution_count": null,
      "metadata": {
        "ExecuteTime": {
          "start_time": "2021-10-07T15:08:25.986Z"
        },
        "id": "PdmOd_zYUr2-"
      },
      "outputs": [],
      "source": [
        "## What would our model predict for our test house?\n",
        "linreg.predict(house.values.reshape(1,-1))"
      ]
    },
    {
      "cell_type": "code",
      "source": [
        "y_test.iloc[i]"
      ],
      "metadata": {
        "id": "lgqlOopydCRW"
      },
      "execution_count": null,
      "outputs": []
    },
    {
      "cell_type": "markdown",
      "metadata": {
        "id": "zRAieYgvUr2-"
      },
      "source": [
        "## Linear Regression Summary\n",
        "- Linear regression allowed us to predict the exact dollar price of a given home.\n",
        "- It summarizes the relationship of each feature using coefficients, which are used to calculate the target. \n",
        "\n",
        ">-  But what do we do when we want to predict what group a house belongs to instead of an exact price?"
      ]
    }
  ],
  "metadata": {
    "kernelspec": {
      "display_name": "Python (learn-env)",
      "language": "python",
      "name": "learn-env"
    },
    "language_info": {
      "codemirror_mode": {
        "name": "ipython",
        "version": 3
      },
      "file_extension": ".py",
      "mimetype": "text/x-python",
      "name": "python",
      "nbconvert_exporter": "python",
      "pygments_lexer": "ipython3",
      "version": "3.8.5"
    },
    "toc": {
      "base_numbering": 1,
      "nav_menu": {},
      "number_sections": true,
      "sideBar": true,
      "skip_h1_title": false,
      "title_cell": "Table of Contents",
      "title_sidebar": "Contents",
      "toc_cell": true,
      "toc_position": {
        "height": "calc(100% - 180px)",
        "left": "10px",
        "top": "150px",
        "width": "320px"
      },
      "toc_section_display": true,
      "toc_window_display": true
    },
    "colab": {
      "name": "Intro to Linear Regression + Coefficients_05-10-22.ipynb",
      "provenance": [],
      "collapsed_sections": [],
      "toc_visible": true,
      "include_colab_link": true
    }
  },
  "nbformat": 4,
  "nbformat_minor": 0
}