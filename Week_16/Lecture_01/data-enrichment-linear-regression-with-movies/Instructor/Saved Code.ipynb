{
 "cells": [
  {
   "cell_type": "code",
   "execution_count": 1,
   "id": "aef5fbba",
   "metadata": {},
   "outputs": [],
   "source": [
    "# import json\n",
    "# def get_company(x):\n",
    "#     if (x== np.nan) | (x=='[]'):\n",
    "#         return \"NONE\"\n",
    "    \n",
    "#     x = x.replace(\"'\",'\"')\n",
    "#     try:\n",
    "#         x = json.loads(x)\n",
    "#     except:\n",
    "#         print(f\"COULDN'T CONVERT {x}\")\n",
    "    \n",
    "#     companies = []\n",
    "#     for company in x:\n",
    "#         companies.append(company['name'])\n",
    "#     return companies\n",
    "\n",
    "# df['production_companies'].apply(get_company)\n"
   ]
  },
  {
   "cell_type": "code",
   "execution_count": null,
   "id": "ce2e4a03",
   "metadata": {},
   "outputs": [],
   "source": []
  }
 ],
 "metadata": {
  "kernelspec": {
   "display_name": "Python (dojo-env)",
   "language": "python",
   "name": "dojo-env"
  },
  "language_info": {
   "codemirror_mode": {
    "name": "ipython",
    "version": 3
   },
   "file_extension": ".py",
   "mimetype": "text/x-python",
   "name": "python",
   "nbconvert_exporter": "python",
   "pygments_lexer": "ipython3",
   "version": "3.8.13"
  },
  "toc": {
   "base_numbering": 1,
   "nav_menu": {},
   "number_sections": false,
   "sideBar": true,
   "skip_h1_title": false,
   "title_cell": "Table of Contents",
   "title_sidebar": "Contents",
   "toc_cell": false,
   "toc_position": {},
   "toc_section_display": true,
   "toc_window_display": false
  }
 },
 "nbformat": 4,
 "nbformat_minor": 5
}
