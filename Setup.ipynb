{
 "cells": [
  {
   "cell_type": "markdown",
   "metadata": {},
   "source": [
    "# Setup Notebook"
   ]
  },
  {
   "cell_type": "markdown",
   "metadata": {},
   "source": [
    "1. Generate folder infrastructure (Week_01 - Week_16)\n"
   ]
  },
  {
   "cell_type": "code",
   "execution_count": 4,
   "metadata": {
    "ExecuteTime": {
     "end_time": "2022-02-03T22:18:46.754731Z",
     "start_time": "2022-02-03T22:18:46.711669Z"
    }
   },
   "outputs": [
    {
     "name": "stdout",
     "output_type": "stream",
     "text": [
      "./Week_00/\n",
      "./Week_00/Lecture_01/\n",
      "./Week_00/Lecture_02/\n",
      "./Week_01/\n",
      "./Week_01/Lecture_01/\n",
      "./Week_01/Lecture_02/\n",
      "./Week_02/\n",
      "./Week_02/Lecture_01/\n",
      "./Week_02/Lecture_02/\n",
      "./Week_03/\n",
      "./Week_03/Lecture_01/\n",
      "./Week_03/Lecture_02/\n",
      "./Week_04/\n",
      "./Week_04/Lecture_01/\n",
      "./Week_04/Lecture_02/\n",
      "./Week_05/\n",
      "./Week_05/Lecture_01/\n",
      "./Week_05/Lecture_02/\n",
      "./Week_06/\n",
      "./Week_06/Lecture_01/\n",
      "./Week_06/Lecture_02/\n",
      "./Week_07/\n",
      "./Week_07/Lecture_01/\n",
      "./Week_07/Lecture_02/\n",
      "./Week_08/\n",
      "./Week_08/Lecture_01/\n",
      "./Week_08/Lecture_02/\n",
      "./Week_09/\n",
      "./Week_09/Lecture_01/\n",
      "./Week_09/Lecture_02/\n",
      "./Week_10/\n",
      "./Week_10/Lecture_01/\n",
      "./Week_10/Lecture_02/\n",
      "./Week_11/\n",
      "./Week_11/Lecture_01/\n",
      "./Week_11/Lecture_02/\n",
      "./Week_12/\n",
      "./Week_12/Lecture_01/\n",
      "./Week_12/Lecture_02/\n",
      "./Week_13/\n",
      "./Week_13/Lecture_01/\n",
      "./Week_13/Lecture_02/\n",
      "./Week_14/\n",
      "./Week_14/Lecture_01/\n",
      "./Week_14/Lecture_02/\n",
      "./Week_15/\n",
      "./Week_15/Lecture_01/\n",
      "./Week_15/Lecture_02/\n",
      "./Week_16/\n",
      "./Week_16/Lecture_01/\n",
      "./Week_16/Lecture_02/\n"
     ]
    }
   ],
   "source": [
    "## make folders for week 01-16\n",
    "import os\n",
    "base_dir = './' # current folder\n",
    "\n",
    "for i in range(0,17):\n",
    "    week = f\"Week_{i:02d}\"\n",
    "    week_fname = base_dir + week +'/'\n",
    "    print(week_fname)\n",
    "    os.makedirs(week_fname, exist_ok=True)\n",
    "    \n",
    "\n",
    "    for lect_num in range(1,3):\n",
    "        lect_name = f\"Lecture_{lect_num:02d}\"\n",
    "        fname_lect =week_fname+ lect_name +'/'\n",
    "        print(fname_lect)\n",
    "        os.makedirs(fname_lect,exist_ok=True)\n",
    "        \n",
    "        \n",
    "        # Making markdown file for git foolders\n",
    "        lecture_md_fname = \"README.md\" #f\"{week}-{lect_name}.md\"\n",
    "        with open(fname_lect+lecture_md_fname,'w') as f:\n",
    "            f.write(f\"# {week.replace('_',' ')} - {lect_name.replace('_',' ')}\")\n",
    "\n",
    "        \n"
   ]
  },
  {
   "cell_type": "markdown",
   "metadata": {},
   "source": [
    "## Renaming markdown files to README.md"
   ]
  },
  {
   "cell_type": "code",
   "execution_count": 16,
   "metadata": {},
   "outputs": [],
   "source": [
    "# import glob,os\n",
    "\n",
    "# md_files = glob.glob('./*/*/*.md',recursive=True)\n",
    "# md_files"
   ]
  },
  {
   "cell_type": "code",
   "execution_count": 7,
   "metadata": {},
   "outputs": [
    {
     "data": {
      "text/plain": [
       "'./Week_16/Lecture_01/Week_16-Lecture_01.md'"
      ]
     },
     "execution_count": 7,
     "metadata": {},
     "output_type": "execute_result"
    }
   ],
   "source": [
    "# file = md_files[0]\n",
    "# file"
   ]
  },
  {
   "cell_type": "code",
   "execution_count": 11,
   "metadata": {},
   "outputs": [
    {
     "data": {
      "text/plain": [
       "'./Week_16/Lecture_01/README.md'"
      ]
     },
     "execution_count": 11,
     "metadata": {},
     "output_type": "execute_result"
    }
   ],
   "source": [
    "# new_fpath= file.replace(os.path.basename(file),'README.md')\n",
    "# new_fpath"
   ]
  },
  {
   "cell_type": "code",
   "execution_count": 12,
   "metadata": {},
   "outputs": [],
   "source": [
    "# os.rename(file, new_fpath)"
   ]
  },
  {
   "cell_type": "code",
   "execution_count": 17,
   "metadata": {},
   "outputs": [],
   "source": [
    "# md_files = glob.glob('./*/*/*.md',recursive=True)\n",
    "# md_files\n"
   ]
  },
  {
   "cell_type": "code",
   "execution_count": 18,
   "metadata": {},
   "outputs": [],
   "source": [
    "# for file in md_files:\n",
    "# \tnew_fpath= file.replace(os.path.basename(file),'README.md')\n",
    "# \tos.rename(file, new_fpath)"
   ]
  },
  {
   "cell_type": "code",
   "execution_count": null,
   "metadata": {},
   "outputs": [],
   "source": []
  }
 ],
 "metadata": {
  "interpreter": {
   "hash": "b845722829c79bbf497493aa3194d1bad9695a17cf09fbf37d73742ed9500022"
  },
  "kernelspec": {
   "display_name": "Python (dojo-env)",
   "language": "python",
   "name": "python3"
  },
  "language_info": {
   "codemirror_mode": {
    "name": "ipython",
    "version": 3
   },
   "file_extension": ".py",
   "mimetype": "text/x-python",
   "name": "python",
   "nbconvert_exporter": "python",
   "pygments_lexer": "ipython3",
   "version": "3.7.11"
  },
  "toc": {
   "base_numbering": 1,
   "nav_menu": {},
   "number_sections": true,
   "sideBar": true,
   "skip_h1_title": false,
   "title_cell": "Table of Contents",
   "title_sidebar": "Contents",
   "toc_cell": false,
   "toc_position": {},
   "toc_section_display": true,
   "toc_window_display": true
  }
 },
 "nbformat": 4,
 "nbformat_minor": 4
}
