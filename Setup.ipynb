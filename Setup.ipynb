{
 "cells": [
  {
   "cell_type": "markdown",
   "metadata": {},
   "source": [
    "# Setup Notebook"
   ]
  },
  {
   "cell_type": "markdown",
   "metadata": {},
   "source": [
    "1. Generate folder infrastructure (Week_01 - Week_16)\n",
    "2. ?"
   ]
  },
  {
   "cell_type": "code",
   "execution_count": 4,
   "metadata": {
    "ExecuteTime": {
     "end_time": "2022-02-03T22:18:46.754731Z",
     "start_time": "2022-02-03T22:18:46.711669Z"
    }
   },
   "outputs": [
    {
     "name": "stdout",
     "output_type": "stream",
     "text": [
      "./Week_00/\n",
      "./Week_00/Lecture_01/\n",
      "./Week_00/Lecture_02/\n",
      "./Week_01/\n",
      "./Week_01/Lecture_01/\n",
      "./Week_01/Lecture_02/\n",
      "./Week_02/\n",
      "./Week_02/Lecture_01/\n",
      "./Week_02/Lecture_02/\n",
      "./Week_03/\n",
      "./Week_03/Lecture_01/\n",
      "./Week_03/Lecture_02/\n",
      "./Week_04/\n",
      "./Week_04/Lecture_01/\n",
      "./Week_04/Lecture_02/\n",
      "./Week_05/\n",
      "./Week_05/Lecture_01/\n",
      "./Week_05/Lecture_02/\n",
      "./Week_06/\n",
      "./Week_06/Lecture_01/\n",
      "./Week_06/Lecture_02/\n",
      "./Week_07/\n",
      "./Week_07/Lecture_01/\n",
      "./Week_07/Lecture_02/\n",
      "./Week_08/\n",
      "./Week_08/Lecture_01/\n",
      "./Week_08/Lecture_02/\n",
      "./Week_09/\n",
      "./Week_09/Lecture_01/\n",
      "./Week_09/Lecture_02/\n",
      "./Week_10/\n",
      "./Week_10/Lecture_01/\n",
      "./Week_10/Lecture_02/\n",
      "./Week_11/\n",
      "./Week_11/Lecture_01/\n",
      "./Week_11/Lecture_02/\n",
      "./Week_12/\n",
      "./Week_12/Lecture_01/\n",
      "./Week_12/Lecture_02/\n",
      "./Week_13/\n",
      "./Week_13/Lecture_01/\n",
      "./Week_13/Lecture_02/\n",
      "./Week_14/\n",
      "./Week_14/Lecture_01/\n",
      "./Week_14/Lecture_02/\n",
      "./Week_15/\n",
      "./Week_15/Lecture_01/\n",
      "./Week_15/Lecture_02/\n",
      "./Week_16/\n",
      "./Week_16/Lecture_01/\n",
      "./Week_16/Lecture_02/\n"
     ]
    }
   ],
   "source": [
    "## make folders for week 01-16\n",
    "import os\n",
    "base_dir = './' # current folder\n",
    "\n",
    "for i in range(0,17):\n",
    "    week = f\"Week_{i:02d}\"\n",
    "    week_fname = base_dir + week +'/'\n",
    "    print(week_fname)\n",
    "    os.makedirs(week_fname, exist_ok=True)\n",
    "    \n",
    "\n",
    "    \n",
    "    for lect_num in range(1,3):\n",
    "        lect_name = f\"Lecture_{lect_num:02d}\"\n",
    "        fname_lect =week_fname+ lect_name +'/'\n",
    "        print(fname_lect)\n",
    "        os.makedirs(fname_lect,exist_ok=True)\n",
    "        \n",
    "    \n",
    "        lecture_md_fname = f\"{week}-{lect_name}.md\"\n",
    "        with open(fname_lect+lecture_md_fname,'w') as f:\n",
    "            f.write(f\"# {week.replace('_',' ')} - {lect_name.replace('_',' ')}\")\n",
    "\n",
    "        \n"
   ]
  },
  {
   "cell_type": "code",
   "execution_count": null,
   "metadata": {},
   "outputs": [],
   "source": []
  }
 ],
 "metadata": {
  "kernelspec": {
   "display_name": "Python (dojo-env)",
   "language": "python",
   "name": "dojo-env"
  },
  "language_info": {
   "codemirror_mode": {
    "name": "ipython",
    "version": 3
   },
   "file_extension": ".py",
   "mimetype": "text/x-python",
   "name": "python",
   "nbconvert_exporter": "python",
   "pygments_lexer": "ipython3",
   "version": "3.7.11"
  },
  "toc": {
   "base_numbering": 1,
   "nav_menu": {},
   "number_sections": true,
   "sideBar": true,
   "skip_h1_title": false,
   "title_cell": "Table of Contents",
   "title_sidebar": "Contents",
   "toc_cell": false,
   "toc_position": {},
   "toc_section_display": true,
   "toc_window_display": true
  }
 },
 "nbformat": 4,
 "nbformat_minor": 4
}
