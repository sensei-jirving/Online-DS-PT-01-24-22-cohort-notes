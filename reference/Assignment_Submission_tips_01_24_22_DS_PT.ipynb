{
  "nbformat": 4,
  "nbformat_minor": 0,
  "metadata": {
    "colab": {
      "name": "Assignment Submission tips - 01.24.22-DS-PT.ipynb",
      "provenance": [],
      "collapsed_sections": [],
      "toc_visible": true,
      "authorship_tag": "ABX9TyOkbmIWAp1144EUevXzUXyz",
      "include_colab_link": true
    },
    "kernelspec": {
      "name": "python3",
      "display_name": "Python 3"
    },
    "language_info": {
      "name": "python"
    }
  },
  "cells": [
    {
      "cell_type": "markdown",
      "metadata": {
        "id": "view-in-github",
        "colab_type": "text"
      },
      "source": [
        "<a href=\"https://colab.research.google.com/github/sensei-jirving/Online-DS-PT-01.24.22-cohort-notes/blob/main/reference/Assignment_Submission_tips_01_24_22_DS_PT.ipynb\" target=\"_parent\"><img src=\"https://colab.research.google.com/assets/colab-badge.svg\" alt=\"Open In Colab\"/></a>"
      ]
    },
    {
      "cell_type": "markdown",
      "source": [
        "# Assignment Submission tips\n",
        "- Here are some tips for how to produce high-quality notebooks that are easy to read (and grade)!"
      ],
      "metadata": {
        "id": "Zl4Zf_9OUBWC"
      }
    },
    {
      "cell_type": "markdown",
      "source": [
        "## Top of Notebook Header"
      ],
      "metadata": {
        "id": "pXzrFW3LULcI"
      }
    },
    {
      "cell_type": "markdown",
      "source": [
        "- Tip: add a header cell to the very top fo your notebook.\n",
        "- It should contain:\n",
        "    1.  An H1 with the assignment title (one \"#\" symbol plus a space plus the title) \n",
        "    2. Your name.\n",
        "    3. The date (optional)\n",
        "\n",
        "\n",
        "- Example: for the NUmpy Bakery assignment, it would look something like this:\n",
        "\n",
        "```markdown\n",
        "# NumPy Bakery Exercise\n",
        "- James Irving\n",
        "- 01/31/22\n",
        "```"
      ],
      "metadata": {
        "id": "aNFE5I9qUMUF"
      }
    },
    {
      "cell_type": "markdown",
      "source": [
        "- When you run the markdown cell that contains the formatting above, it will look like this:\n",
        "\n",
        "\n",
        "# NumPy Bakery Exercise\n",
        "- James Irving\n",
        "- 01/31/22"
      ],
      "metadata": {
        "id": "hs1HbY4VU43Z"
      }
    },
    {
      "cell_type": "markdown",
      "source": [
        "## Section Headers within the notebook"
      ],
      "metadata": {
        "id": "_BLX-fTEjZxi"
      }
    },
    {
      "cell_type": "markdown",
      "source": [
        "- We will often have a large workflow that can be split up into major sections. \n",
        "\n",
        "- You can make **nested** headers/sections by using two ## or more.\n",
        "- For the numpy bakery assignment, these could be:\n",
        "\n",
        "```markdown\n",
        "## Previous Lesson Work\n",
        "... all of the codee from the previous lesson ...\n",
        "\n",
        "\n",
        "## New Assignment Work\n",
        "... all of the work for the assignment ...\n",
        "```"
      ],
      "metadata": {
        "id": "5HibnplTji7Q"
      }
    },
    {
      "cell_type": "markdown",
      "source": [
        "## Code Comments"
      ],
      "metadata": {
        "id": "xE20kPNBVBt0"
      }
    },
    {
      "cell_type": "markdown",
      "source": [
        "- Adding comments in your code cells about what you are doing in that cell is very helpful. \n",
        "\n",
        "- For example, instead of:\n",
        "```python \n",
        "quantity_array = np.append(quantity_array, [2, 3, 16, 5])\n",
        "```\n",
        "- you could add the instructions/step you are performing in that cell:\n",
        "```python\n",
        "# 2) Update the quantity_sold_array to include the sale of:\n",
        "# 2 pies, 3 trays of fudge, 16 cupcakes, and 5 loaves of banana bread. \n",
        "quantity_array = np.append(quantity_array, [2, 3, 16, 5])\n",
        "```"
      ],
      "metadata": {
        "id": "4-1nE4ibVDPs"
      }
    },
    {
      "cell_type": "markdown",
      "source": [
        "## Documenting Observations"
      ],
      "metadata": {
        "id": "UY9NiUKTVy6_"
      }
    },
    {
      "cell_type": "markdown",
      "source": [
        "- Whenever you are asked to write out your thoughts/observations/conclusions. It is usually best to use Markdown cells for this.\n",
        "\n",
        "- To help make your text stand out: \n",
        "    - use bullet points or comment blocks. \n",
        "        ```markdown\n",
        "        - my observations\n",
        "        ```\n",
        "    - or comment blocks:\n",
        "        ```markdown \n",
        "        > My observations...\n",
        "        ```\n",
        "\n",
        "- These would look like the following, once the cell is run:\n",
        "\n",
        "\n",
        "\n",
        "- my observations\n",
        "\n",
        "> My observations...\n"
      ],
      "metadata": {
        "id": "aKcSSFHchIoL"
      }
    },
    {
      "cell_type": "code",
      "source": [
        ""
      ],
      "metadata": {
        "id": "UNJ2wI4E95Oz"
      },
      "execution_count": null,
      "outputs": []
    }
  ]
}