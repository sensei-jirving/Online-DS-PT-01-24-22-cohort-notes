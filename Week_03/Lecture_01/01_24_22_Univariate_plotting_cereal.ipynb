{
  "nbformat": 4,
  "nbformat_minor": 0,
  "metadata": {
    "colab": {
      "name": "01.24.22 Univariate_plotting_cereal.ipynb",
      "provenance": [],
      "collapsed_sections": [],
      "include_colab_link": true
    },
    "kernelspec": {
      "name": "python3",
      "display_name": "Python 3"
    },
    "language_info": {
      "name": "python"
    }
  },
  "cells": [
    {
      "cell_type": "markdown",
      "metadata": {
        "id": "view-in-github",
        "colab_type": "text"
      },
      "source": [
        "<a href=\"https://colab.research.google.com/github/sensei-jirving/Online-DS-PT-01.24.22-cohort-notes/blob/main/Week_03/Lecture_01/01_24_22_Univariate_plotting_cereal.ipynb\" target=\"_parent\"><img src=\"https://colab.research.google.com/assets/colab-badge.svg\" alt=\"Open In Colab\"/></a>"
      ]
    },
    {
      "cell_type": "markdown",
      "metadata": {
        "id": "gwoNrshtTVuO"
      },
      "source": [
        "#Univariate Visualizations: Plotting One Variable at a Time\n",
        "\n",
        "To run this notebook, first download [this cereal data](https://docs.google.com/spreadsheets/d/1YzP0CF_stFjav6fkXeQ0J0gpk1PQoY2l/edit?usp=sharing&ouid=100081525283421980531&rtpof=true&sd=true) and upload it to this temporary Colab environment or your own drive folder.\n"
      ]
    },
    {
      "cell_type": "code",
      "metadata": {
        "id": "icgXUXH-FCfc"
      },
      "source": [
        "import pandas as pd\n",
        "import matplotlib.pyplot as plt"
      ],
      "execution_count": 1,
      "outputs": []
    },
    {
      "cell_type": "code",
      "metadata": {
        "colab": {
          "base_uri": "https://localhost:8080/",
          "height": 372
        },
        "id": "iX0jqmXz2wpR",
        "outputId": "844cdec0-0672-4c3d-e6b9-a6a94df1befc"
      },
      "source": [
        "path =\"https://docs.google.com/spreadsheets/d/e/2PACX-1vR4AOPKKW6zLpiLygapfcRy1vJjV130vQGRCy2v4Tx8vJARHy9K28TWVFboFOgxiPAGEu5R6nWZw3Qw/pub?output=xlsx\"\n",
        "cereal = pd.read_excel(path, header=1)\n",
        "cereal.head()"
      ],
      "execution_count": 2,
      "outputs": [
        {
          "output_type": "execute_result",
          "data": {
            "text/html": [
              "\n",
              "  <div id=\"df-1beb87b4-6ddf-4754-9766-f54dabacd930\">\n",
              "    <div class=\"colab-df-container\">\n",
              "      <div>\n",
              "<style scoped>\n",
              "    .dataframe tbody tr th:only-of-type {\n",
              "        vertical-align: middle;\n",
              "    }\n",
              "\n",
              "    .dataframe tbody tr th {\n",
              "        vertical-align: top;\n",
              "    }\n",
              "\n",
              "    .dataframe thead th {\n",
              "        text-align: right;\n",
              "    }\n",
              "</style>\n",
              "<table border=\"1\" class=\"dataframe\">\n",
              "  <thead>\n",
              "    <tr style=\"text-align: right;\">\n",
              "      <th></th>\n",
              "      <th>name</th>\n",
              "      <th>Manufacturer</th>\n",
              "      <th>type</th>\n",
              "      <th>calories per serving</th>\n",
              "      <th>grams of protein</th>\n",
              "      <th>grams of fat</th>\n",
              "      <th>milligrams of sodium</th>\n",
              "      <th>grams of dietary fiber</th>\n",
              "      <th>grams of complex carbohydrates</th>\n",
              "      <th>grams of sugars</th>\n",
              "      <th>milligrams of potassium</th>\n",
              "      <th>vitamins and minerals (% of FDA recommendation)</th>\n",
              "      <th>Display shelf</th>\n",
              "      <th>Weight in ounces per one serving</th>\n",
              "      <th>Number of cups in one serving</th>\n",
              "      <th>Rating of cereal</th>\n",
              "    </tr>\n",
              "  </thead>\n",
              "  <tbody>\n",
              "    <tr>\n",
              "      <th>0</th>\n",
              "      <td>Apple Cinnamon Cheerios</td>\n",
              "      <td>General Mills</td>\n",
              "      <td>Cold</td>\n",
              "      <td>110.0</td>\n",
              "      <td>2.0</td>\n",
              "      <td>2.0</td>\n",
              "      <td>180.0</td>\n",
              "      <td>1.5</td>\n",
              "      <td>10.5</td>\n",
              "      <td>10.0</td>\n",
              "      <td>70.0</td>\n",
              "      <td>25.0</td>\n",
              "      <td>1.0</td>\n",
              "      <td>1.00</td>\n",
              "      <td>0.75</td>\n",
              "      <td>29.509541</td>\n",
              "    </tr>\n",
              "    <tr>\n",
              "      <th>1</th>\n",
              "      <td>Basic 4</td>\n",
              "      <td>General Mills</td>\n",
              "      <td>Cold</td>\n",
              "      <td>130.0</td>\n",
              "      <td>3.0</td>\n",
              "      <td>2.0</td>\n",
              "      <td>210.0</td>\n",
              "      <td>2.0</td>\n",
              "      <td>18.0</td>\n",
              "      <td>8.0</td>\n",
              "      <td>100.0</td>\n",
              "      <td>25.0</td>\n",
              "      <td>3.0</td>\n",
              "      <td>1.33</td>\n",
              "      <td>0.75</td>\n",
              "      <td>37.038562</td>\n",
              "    </tr>\n",
              "    <tr>\n",
              "      <th>2</th>\n",
              "      <td>Cheerios</td>\n",
              "      <td>General Mills</td>\n",
              "      <td>Cold</td>\n",
              "      <td>110.0</td>\n",
              "      <td>6.0</td>\n",
              "      <td>2.0</td>\n",
              "      <td>290.0</td>\n",
              "      <td>2.0</td>\n",
              "      <td>17.0</td>\n",
              "      <td>1.0</td>\n",
              "      <td>105.0</td>\n",
              "      <td>25.0</td>\n",
              "      <td>1.0</td>\n",
              "      <td>1.00</td>\n",
              "      <td>1.25</td>\n",
              "      <td>50.764999</td>\n",
              "    </tr>\n",
              "    <tr>\n",
              "      <th>3</th>\n",
              "      <td>Cinnamon Toast Crunch</td>\n",
              "      <td>General Mills</td>\n",
              "      <td>Cold</td>\n",
              "      <td>120.0</td>\n",
              "      <td>1.0</td>\n",
              "      <td>3.0</td>\n",
              "      <td>210.0</td>\n",
              "      <td>0.0</td>\n",
              "      <td>13.0</td>\n",
              "      <td>9.0</td>\n",
              "      <td>45.0</td>\n",
              "      <td>25.0</td>\n",
              "      <td>2.0</td>\n",
              "      <td>1.00</td>\n",
              "      <td>0.75</td>\n",
              "      <td>19.823573</td>\n",
              "    </tr>\n",
              "    <tr>\n",
              "      <th>4</th>\n",
              "      <td>Clusters</td>\n",
              "      <td>General Mills</td>\n",
              "      <td>Cold</td>\n",
              "      <td>110.0</td>\n",
              "      <td>3.0</td>\n",
              "      <td>2.0</td>\n",
              "      <td>140.0</td>\n",
              "      <td>2.0</td>\n",
              "      <td>13.0</td>\n",
              "      <td>7.0</td>\n",
              "      <td>105.0</td>\n",
              "      <td>25.0</td>\n",
              "      <td>3.0</td>\n",
              "      <td>1.00</td>\n",
              "      <td>0.50</td>\n",
              "      <td>40.400208</td>\n",
              "    </tr>\n",
              "  </tbody>\n",
              "</table>\n",
              "</div>\n",
              "      <button class=\"colab-df-convert\" onclick=\"convertToInteractive('df-1beb87b4-6ddf-4754-9766-f54dabacd930')\"\n",
              "              title=\"Convert this dataframe to an interactive table.\"\n",
              "              style=\"display:none;\">\n",
              "        \n",
              "  <svg xmlns=\"http://www.w3.org/2000/svg\" height=\"24px\"viewBox=\"0 0 24 24\"\n",
              "       width=\"24px\">\n",
              "    <path d=\"M0 0h24v24H0V0z\" fill=\"none\"/>\n",
              "    <path d=\"M18.56 5.44l.94 2.06.94-2.06 2.06-.94-2.06-.94-.94-2.06-.94 2.06-2.06.94zm-11 1L8.5 8.5l.94-2.06 2.06-.94-2.06-.94L8.5 2.5l-.94 2.06-2.06.94zm10 10l.94 2.06.94-2.06 2.06-.94-2.06-.94-.94-2.06-.94 2.06-2.06.94z\"/><path d=\"M17.41 7.96l-1.37-1.37c-.4-.4-.92-.59-1.43-.59-.52 0-1.04.2-1.43.59L10.3 9.45l-7.72 7.72c-.78.78-.78 2.05 0 2.83L4 21.41c.39.39.9.59 1.41.59.51 0 1.02-.2 1.41-.59l7.78-7.78 2.81-2.81c.8-.78.8-2.07 0-2.86zM5.41 20L4 18.59l7.72-7.72 1.47 1.35L5.41 20z\"/>\n",
              "  </svg>\n",
              "      </button>\n",
              "      \n",
              "  <style>\n",
              "    .colab-df-container {\n",
              "      display:flex;\n",
              "      flex-wrap:wrap;\n",
              "      gap: 12px;\n",
              "    }\n",
              "\n",
              "    .colab-df-convert {\n",
              "      background-color: #E8F0FE;\n",
              "      border: none;\n",
              "      border-radius: 50%;\n",
              "      cursor: pointer;\n",
              "      display: none;\n",
              "      fill: #1967D2;\n",
              "      height: 32px;\n",
              "      padding: 0 0 0 0;\n",
              "      width: 32px;\n",
              "    }\n",
              "\n",
              "    .colab-df-convert:hover {\n",
              "      background-color: #E2EBFA;\n",
              "      box-shadow: 0px 1px 2px rgba(60, 64, 67, 0.3), 0px 1px 3px 1px rgba(60, 64, 67, 0.15);\n",
              "      fill: #174EA6;\n",
              "    }\n",
              "\n",
              "    [theme=dark] .colab-df-convert {\n",
              "      background-color: #3B4455;\n",
              "      fill: #D2E3FC;\n",
              "    }\n",
              "\n",
              "    [theme=dark] .colab-df-convert:hover {\n",
              "      background-color: #434B5C;\n",
              "      box-shadow: 0px 1px 3px 1px rgba(0, 0, 0, 0.15);\n",
              "      filter: drop-shadow(0px 1px 2px rgba(0, 0, 0, 0.3));\n",
              "      fill: #FFFFFF;\n",
              "    }\n",
              "  </style>\n",
              "\n",
              "      <script>\n",
              "        const buttonEl =\n",
              "          document.querySelector('#df-1beb87b4-6ddf-4754-9766-f54dabacd930 button.colab-df-convert');\n",
              "        buttonEl.style.display =\n",
              "          google.colab.kernel.accessAllowed ? 'block' : 'none';\n",
              "\n",
              "        async function convertToInteractive(key) {\n",
              "          const element = document.querySelector('#df-1beb87b4-6ddf-4754-9766-f54dabacd930');\n",
              "          const dataTable =\n",
              "            await google.colab.kernel.invokeFunction('convertToInteractive',\n",
              "                                                     [key], {});\n",
              "          if (!dataTable) return;\n",
              "\n",
              "          const docLinkHtml = 'Like what you see? Visit the ' +\n",
              "            '<a target=\"_blank\" href=https://colab.research.google.com/notebooks/data_table.ipynb>data table notebook</a>'\n",
              "            + ' to learn more about interactive tables.';\n",
              "          element.innerHTML = '';\n",
              "          dataTable['output_type'] = 'display_data';\n",
              "          await google.colab.output.renderOutput(dataTable, element);\n",
              "          const docLink = document.createElement('div');\n",
              "          docLink.innerHTML = docLinkHtml;\n",
              "          element.appendChild(docLink);\n",
              "        }\n",
              "      </script>\n",
              "    </div>\n",
              "  </div>\n",
              "  "
            ],
            "text/plain": [
              "                      name  ... Rating of cereal\n",
              "0  Apple Cinnamon Cheerios  ...        29.509541\n",
              "1                  Basic 4  ...        37.038562\n",
              "2                 Cheerios  ...        50.764999\n",
              "3    Cinnamon Toast Crunch  ...        19.823573\n",
              "4                 Clusters  ...        40.400208\n",
              "\n",
              "[5 rows x 16 columns]"
            ]
          },
          "metadata": {},
          "execution_count": 2
        }
      ]
    },
    {
      "cell_type": "markdown",
      "metadata": {
        "id": "rUUlm5T9-JOZ"
      },
      "source": [
        "# Pandas and Matplotlib.pyplot\n",
        "\n",
        "Pandas uses plt behind the scenes to plot data.  You can use plt functions and methods to interact with plots you make with the df.plot() method."
      ]
    },
    {
      "cell_type": "markdown",
      "metadata": {
        "id": "x2WjMHWB9bOU"
      },
      "source": [
        "## Bar Charts:  Plotting Categorical Frequencies"
      ]
    },
    {
      "cell_type": "code",
      "source": [
        "#Count cereals from each manufacturer\n",
        "manufacturer_counts = cereal['Manufacturer'].value_counts()\n",
        "manufacturer_counts"
      ],
      "metadata": {
        "colab": {
          "base_uri": "https://localhost:8080/"
        },
        "id": "61rk4n01cXGK",
        "outputId": "880fbd4d-e672-4d14-e417-0cca26f05990"
      },
      "execution_count": 3,
      "outputs": [
        {
          "output_type": "execute_result",
          "data": {
            "text/plain": [
              "Kelloggs                       23\n",
              "General Mills                  22\n",
              "Post                            9\n",
              "Quaker Oats                     8\n",
              "Ralston Purina                  8\n",
              "Nabisco                         6\n",
              "American Home Food Products     1\n",
              "Name: Manufacturer, dtype: int64"
            ]
          },
          "metadata": {},
          "execution_count": 3
        }
      ]
    },
    {
      "cell_type": "code",
      "metadata": {
        "colab": {
          "base_uri": "https://localhost:8080/"
        },
        "id": "pyA4LklYHd5g",
        "outputId": "1a8c682a-0653-4e95-f537-3840578c1438"
      },
      "source": [
        "type(manufacturer_counts)"
      ],
      "execution_count": 4,
      "outputs": [
        {
          "output_type": "execute_result",
          "data": {
            "text/plain": [
              "pandas.core.series.Series"
            ]
          },
          "metadata": {},
          "execution_count": 4
        }
      ]
    },
    {
      "cell_type": "code",
      "metadata": {
        "colab": {
          "base_uri": "https://localhost:8080/",
          "height": 444
        },
        "id": "xW_tHEZ126HV",
        "outputId": "5e6ea4b2-5b01-4871-cf9d-54dd51da498b"
      },
      "source": [
        "#Plot the counts of each cereal brand\n",
        "\n",
        "manufacturer_counts.plot(kind = 'barh')\n",
        "plt.title('Number of Cereals by Manufacturer', fontsize = 20)\n",
        "plt.ylabel('Manufacturer', fontsize = 15)\n",
        "plt.xlabel('Count', fontsize = 15)\n",
        "\n",
        "#Show your figure\n",
        "plt.show()\n",
        "\n",
        "#Display the count chart below the plot\n",
        "manufacturer_counts"
      ],
      "execution_count": 5,
      "outputs": [
        {
          "output_type": "display_data",
          "data": {
            "image/png": "[encoded data removed]",
            "text/plain": [
              "<Figure size 432x288 with 1 Axes>"
            ]
          },
          "metadata": {
            "needs_background": "light"
          }
        },
        {
          "output_type": "execute_result",
          "data": {
            "text/plain": [
              "Kelloggs                       23\n",
              "General Mills                  22\n",
              "Post                            9\n",
              "Quaker Oats                     8\n",
              "Ralston Purina                  8\n",
              "Nabisco                         6\n",
              "American Home Food Products     1\n",
              "Name: Manufacturer, dtype: int64"
            ]
          },
          "metadata": {},
          "execution_count": 5
        }
      ]
    },
    {
      "cell_type": "code",
      "metadata": {
        "id": "VXtEIGeWFDGe",
        "colab": {
          "base_uri": "https://localhost:8080/",
          "height": 345
        },
        "outputId": "add367e1-3c72-4e83-fe7f-e46a4b45157e"
      },
      "source": [
        "#Distribution of Cereal types\n",
        "cereal_types = cereal['type'].value_counts()\n",
        "\n",
        "#Let's give it some color\n",
        "cereal_types.plot(kind = 'bar', color = ['blue','red'])\n",
        "plt.title('Cereal Type: Hot or Cold')\n",
        "plt.show()\n",
        "\n",
        "cereal_types"
      ],
      "execution_count": 6,
      "outputs": [
        {
          "output_type": "display_data",
          "data": {
            "image/png": "[encoded data removed]",
            "text/plain": [
              "<Figure size 432x288 with 1 Axes>"
            ]
          },
          "metadata": {
            "needs_background": "light"
          }
        },
        {
          "output_type": "execute_result",
          "data": {
            "text/plain": [
              "Cold    74\n",
              "Hot      3\n",
              "Name: type, dtype: int64"
            ]
          },
          "metadata": {},
          "execution_count": 6
        }
      ]
    },
    {
      "cell_type": "markdown",
      "metadata": {
        "id": "Xh0dKo7P-rl8"
      },
      "source": [
        "## Histograms: Plotting Continuous Distributions\n",
        "\n"
      ]
    },
    {
      "cell_type": "code",
      "metadata": {
        "colab": {
          "base_uri": "https://localhost:8080/",
          "height": 313
        },
        "id": "dIxjQUPR_diT",
        "outputId": "18b04ebb-6231-4838-a1c9-929c117cc608"
      },
      "source": [
        "#Create a histogram of a continuous variable: calories per serving\n",
        "# with default numer of bins (10)\n",
        "cereal['calories per serving'].hist()\n",
        "\n",
        "#Set the label of the x axis\n",
        "plt.xlabel('Calories')\n",
        "\n",
        "#Set the label of the y axis\n",
        "plt.ylabel('Count')\n",
        "\n",
        "#Give it a title\n",
        "plt.title('Calorie Distribution')\n",
        "plt.show()\n",
        "print('Calories per serving tend to fall around 110')"
      ],
      "execution_count": 7,
      "outputs": [
        {
          "output_type": "display_data",
          "data": {
            "image/png": "[encoded data removed]",
            "text/plain": [
              "<Figure size 432x288 with 1 Axes>"
            ]
          },
          "metadata": {
            "needs_background": "light"
          }
        },
        {
          "output_type": "stream",
          "name": "stdout",
          "text": [
            "Calories per serving tend to fall around 110\n"
          ]
        }
      ]
    },
    {
      "cell_type": "markdown",
      "metadata": {
        "id": "aVunLNcLBfKW"
      },
      "source": [
        "### Let's try automatically adjusting the # of bins `bins='auto'`"
      ]
    },
    {
      "cell_type": "code",
      "metadata": {
        "colab": {
          "base_uri": "https://localhost:8080/",
          "height": 330
        },
        "id": "QhrLT0Wo_uDn",
        "outputId": "d2498d06-013d-49e6-e7fe-35d7b5b562a6"
      },
      "source": [
        "#Histogram of calories per serving: bins='auto'\n",
        "cereal['calories per serving'].hist(bins='auto')\n",
        "plt.xlabel('Calories')\n",
        "plt.ylabel('Count')\n",
        "plt.title('Calorie Distribution')\n",
        "plt.show()\n",
        "print('With more bins we see there are some higher numbers \\nat the low and high calorie counts');"
      ],
      "execution_count": 8,
      "outputs": [
        {
          "output_type": "display_data",
          "data": {
            "image/png": "[encoded data removed]",
            "text/plain": [
              "<Figure size 432x288 with 1 Axes>"
            ]
          },
          "metadata": {
            "needs_background": "light"
          }
        },
        {
          "output_type": "stream",
          "name": "stdout",
          "text": [
            "With more bins we see there are some higher numbers \n",
            "at the low and high calorie counts\n"
          ]
        }
      ]
    },
    {
      "cell_type": "markdown",
      "metadata": {
        "id": "9yW7dwdmCGWV"
      },
      "source": [
        "# Box and Whisker Plots: Quartiles and Outliers\n",
        "\n",
        "Box and Whisker plots can help us visualize statistical distributions in meaningful ways.\n",
        "\n",
        "\n",
        "![Box and Whisker Plot](https://miro.medium.com/max/1400/1*2c21SkzJMf3frPXPAR_gZA.png)\n",
        "\n",
        "They can answer: \n",
        "\n",
        "1. How spread out is our data?\n",
        "2. Is the data skewed high or low?\n",
        "3. Are there outlier values, values that are very far from most of the others?"
      ]
    },
    {
      "cell_type": "code",
      "metadata": {
        "colab": {
          "base_uri": "https://localhost:8080/"
        },
        "id": "72hnAwFwBTKo",
        "outputId": "820916a8-e075-4483-e27e-f9158c8f5c03"
      },
      "source": [
        "#Check the summary statistics of potassium content\n",
        "cereal['milligrams of potassium'].describe()"
      ],
      "execution_count": 9,
      "outputs": [
        {
          "output_type": "execute_result",
          "data": {
            "text/plain": [
              "count     77.000000\n",
              "mean      96.077922\n",
              "std       71.286813\n",
              "min       -1.000000\n",
              "25%       40.000000\n",
              "50%       90.000000\n",
              "75%      120.000000\n",
              "max      330.000000\n",
              "Name: milligrams of potassium, dtype: float64"
            ]
          },
          "metadata": {},
          "execution_count": 9
        }
      ]
    },
    {
      "cell_type": "markdown",
      "metadata": {
        "id": "qIUZzkf4JBES"
      },
      "source": [
        "# Finding 'Minimum' and 'Maximum' and Outliers\n",
        "\n",
        "## (Different than the actual min and max value)\n",
        "\n",
        "According to the results of our df.describe() above:\n",
        "\n",
        "1. First Quartile (Q1) = 40\n",
        "2. Third Quartile (Q3) = 120\n",
        "3. Interquartile Range (IQR) = Q3 - Q1 = 80\n",
        "4. 1.5 * IQR = 120\n",
        "5. 'Minimum' (before outliers) is Q1 - 120 = -80\n",
        "6. 'Maximum' (before outliers) is Q3 + 120 = 240\n",
        "\n",
        "Notice below that the lower whisker is at 0, which is the actual minimum value (the plot does not cover non-existent values), and the upper whisker is at 240.\n",
        "\n",
        "We can see a few outliers above 240."
      ]
    },
    {
      "cell_type": "code",
      "metadata": {
        "colab": {
          "base_uri": "https://localhost:8080/",
          "height": 298
        },
        "id": "19vTprDqGx9v",
        "outputId": "ecf232ee-0849-4def-b094-779d72d2a85f"
      },
      "source": [
        "#Boxplot of potassium content of cereals\n",
        "cereal['milligrams of potassium'].plot(kind='box')\n",
        "plt.title('Distribution of Potassium Content in Cereals')\n",
        "plt.ylabel('Milligrams')\n",
        "#plt.show()"
      ],
      "execution_count": 10,
      "outputs": [
        {
          "output_type": "execute_result",
          "data": {
            "text/plain": [
              "Text(0, 0.5, 'Milligrams')"
            ]
          },
          "metadata": {},
          "execution_count": 10
        },
        {
          "output_type": "display_data",
          "data": {
            "image/png": "[encoded data removed]",
            "text/plain": [
              "<Figure size 432x288 with 1 Axes>"
            ]
          },
          "metadata": {
            "needs_background": "light"
          }
        }
      ]
    },
    {
      "cell_type": "markdown",
      "metadata": {
        "id": "Z5a3NlmULEnF"
      },
      "source": [
        "# Okay, Let's Get Fancy!\n",
        "\n",
        "[Here is a link to the pandas.DataFrame.boxplot method](https://pandas.pydata.org/docs/reference/api/pandas.DataFrame.boxplot.html)\n",
        "\n",
        "You can see all the arguments and description of what they do there.\n"
      ]
    },
    {
      "cell_type": "code",
      "metadata": {
        "colab": {
          "base_uri": "https://localhost:8080/",
          "height": 625
        },
        "id": "ytYyG8jTEEDN",
        "outputId": "082764ed-dfe0-497a-9eda-c71bcc63a42f"
      },
      "source": [
        "#df.boxplot can plot multiple columns at a time and group by a categorical column\n",
        "\n",
        "cereal.boxplot(['milligrams of potassium', 'milligrams of sodium'],  # column or columns to plot\n",
        "               by = 'Manufacturer',  # column to group by\n",
        "               figsize = (15,5), # size of the figure\n",
        "               fontsize = 12, # size of the text\n",
        "               rot=90,# degree of rotation of the labels\n",
        "               grid=False, # turn off the grid\n",
        "               ) # How else can you enhance this plot?\n",
        "\n",
        "plt.show()"
      ],
      "execution_count": 11,
      "outputs": [
        {
          "output_type": "stream",
          "name": "stderr",
          "text": [
            "/usr/local/lib/python3.7/dist-packages/numpy/core/_asarray.py:83: VisibleDeprecationWarning: Creating an ndarray from ragged nested sequences (which is a list-or-tuple of lists-or-tuples-or ndarrays with different lengths or shapes) is deprecated. If you meant to do this, you must specify 'dtype=object' when creating the ndarray\n",
            "  return array(a, dtype, copy=False, order=order)\n",
            "/usr/local/lib/python3.7/dist-packages/numpy/core/_asarray.py:83: VisibleDeprecationWarning: Creating an ndarray from ragged nested sequences (which is a list-or-tuple of lists-or-tuples-or ndarrays with different lengths or shapes) is deprecated. If you meant to do this, you must specify 'dtype=object' when creating the ndarray\n",
            "  return array(a, dtype, copy=False, order=order)\n"
          ]
        },
        {
          "output_type": "display_data",
          "data": {
            "image/png": "[encoded data removed]",
            "text/plain": [
              "<Figure size 1080x360 with 2 Axes>"
            ]
          },
          "metadata": {
            "needs_background": "light"
          }
        }
      ]
    },
    {
      "cell_type": "markdown",
      "metadata": {
        "id": "gNxA2W2hEsAO"
      },
      "source": [
        "# What does the above boxplot tell you?"
      ]
    },
    {
      "cell_type": "code",
      "metadata": {
        "id": "8MmFZHa4PCtf"
      },
      "source": [
        ""
      ],
      "execution_count": 11,
      "outputs": []
    },
    {
      "cell_type": "code",
      "metadata": {
        "id": "XG3d3BJYPMXs"
      },
      "source": [
        ""
      ],
      "execution_count": 11,
      "outputs": []
    }
  ]
}