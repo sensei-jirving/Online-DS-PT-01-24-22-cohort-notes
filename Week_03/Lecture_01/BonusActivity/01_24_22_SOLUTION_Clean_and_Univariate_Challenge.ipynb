{
  "nbformat": 4,
  "nbformat_minor": 0,
  "metadata": {
    "colab": {
      "name": "01.24.22 SOLUTIONS_Clean_and_Univariate_Challenge.ipynb",
      "provenance": [],
      "collapsed_sections": [],
      "include_colab_link": true
    },
    "kernelspec": {
      "name": "python3",
      "display_name": "Python 3"
    },
    "language_info": {
      "name": "python"
    }
  },
  "cells": [
    {
      "cell_type": "markdown",
      "metadata": {
        "id": "view-in-github",
        "colab_type": "text"
      },
      "source": [
        "<a href=\"https://colab.research.google.com/github/sensei-jirving/Online-DS-PT-01.24.22-cohort-notes/blob/main/Week_03/Lecture_01/BonusActivity/01_24_22_SOLUTION_Clean_and_Univariate_Challenge.ipynb\" target=\"_parent\"><img src=\"https://colab.research.google.com/assets/colab-badge.svg\" alt=\"Open In Colab\"/></a>"
      ]
    },
    {
      "cell_type": "markdown",
      "metadata": {
        "id": "gwoNrshtTVuO"
      },
      "source": [
        "#Clean and Univariate Challenge (Solutions)\n",
        "\n",
        "You are going to clean the data and then create exploratory visualizations.\n",
        "\n",
        "Be sure to answer the questions along the way too!\n",
        "\n",
        "These visualizions are for YOU (the data scientist) and not for presentation to others.\n",
        "\n",
        "\n",
        "\n",
        "You don't need to make any of these vizzes fancy! Think of them as notes as you explore and begin to understand your data!"
      ]
    },
    {
      "cell_type": "code",
      "metadata": {
        "id": "7uP8vZOy5hz9"
      },
      "source": [
        "# from google.colab import drive\n",
        "# drive.mount('/content/drive')"
      ],
      "execution_count": null,
      "outputs": []
    },
    {
      "cell_type": "markdown",
      "metadata": {
        "id": "uNd8Fj0KTbv4"
      },
      "source": [
        "1) Read in the Raw_Medical_Data.csv and take a look at the first 5 entries."
      ]
    },
    {
      "cell_type": "code",
      "metadata": {
        "colab": {
          "base_uri": "https://localhost:8080/",
          "height": 330
        },
        "id": "0Fun_NZZSGDf",
        "outputId": "e0edfc76-b3b0-4bb4-d73b-9a83cba208e6"
      },
      "source": [
        "import pandas as pd\n",
        "import matplotlib.pyplot as plt\n",
        "\n",
        "path = '/content/drive/MyDrive/Coding Dojo/Lectures - Live Class Materials/Stack 1/Week 3/Raw_Medical_Data_for_day1.xlsx'\n",
        "df = pd.read_excel(path)\n",
        "df.head()"
      ],
      "execution_count": null,
      "outputs": [
        {
          "output_type": "execute_result",
          "data": {
            "text/html": [
              "<div>\n",
              "<style scoped>\n",
              "    .dataframe tbody tr th:only-of-type {\n",
              "        vertical-align: middle;\n",
              "    }\n",
              "\n",
              "    .dataframe tbody tr th {\n",
              "        vertical-align: top;\n",
              "    }\n",
              "\n",
              "    .dataframe thead th {\n",
              "        text-align: right;\n",
              "    }\n",
              "</style>\n",
              "<table border=\"1\" class=\"dataframe\">\n",
              "  <thead>\n",
              "    <tr style=\"text-align: right;\">\n",
              "      <th></th>\n",
              "      <th>Unnamed: 0</th>\n",
              "      <th>State</th>\n",
              "      <th>Lat</th>\n",
              "      <th>Lng</th>\n",
              "      <th>Area</th>\n",
              "      <th>Children</th>\n",
              "      <th>Age</th>\n",
              "      <th>Income</th>\n",
              "      <th>Marital</th>\n",
              "      <th>Gender</th>\n",
              "      <th>ReAdmis</th>\n",
              "      <th>VitD_levels</th>\n",
              "      <th>Doc_visits</th>\n",
              "      <th>Full_meals_eaten</th>\n",
              "      <th>vitD_supp</th>\n",
              "      <th>Soft_drink</th>\n",
              "      <th>Initial_admin</th>\n",
              "      <th>HighBlood</th>\n",
              "      <th>Stroke</th>\n",
              "      <th>Complication_risk</th>\n",
              "      <th>Overweight</th>\n",
              "      <th>Arthritis</th>\n",
              "      <th>Diabetes</th>\n",
              "      <th>Hyperlipidemia</th>\n",
              "      <th>BackPain</th>\n",
              "      <th>Anxiety</th>\n",
              "      <th>Allergic_rhinitis</th>\n",
              "      <th>Reflux_esophagitis</th>\n",
              "      <th>Asthma</th>\n",
              "      <th>Services</th>\n",
              "      <th>Initial_days</th>\n",
              "      <th>TotalCharge</th>\n",
              "      <th>Additional_charges</th>\n",
              "    </tr>\n",
              "  </thead>\n",
              "  <tbody>\n",
              "    <tr>\n",
              "      <th>0</th>\n",
              "      <td>1</td>\n",
              "      <td>AL</td>\n",
              "      <td>34.34960</td>\n",
              "      <td>-86.72508</td>\n",
              "      <td>Suburban</td>\n",
              "      <td>1.0</td>\n",
              "      <td>53</td>\n",
              "      <td>86575.93</td>\n",
              "      <td>Divorced</td>\n",
              "      <td>Male</td>\n",
              "      <td>0</td>\n",
              "      <td>19.141466</td>\n",
              "      <td>6</td>\n",
              "      <td>0</td>\n",
              "      <td>0</td>\n",
              "      <td>0</td>\n",
              "      <td>Emergency Admission</td>\n",
              "      <td>1</td>\n",
              "      <td>0</td>\n",
              "      <td>Medium</td>\n",
              "      <td>0</td>\n",
              "      <td>1.0</td>\n",
              "      <td>1.0</td>\n",
              "      <td>0.0</td>\n",
              "      <td>1.0</td>\n",
              "      <td>1.0</td>\n",
              "      <td>1.0</td>\n",
              "      <td>0</td>\n",
              "      <td>1</td>\n",
              "      <td>Blood Work</td>\n",
              "      <td>10.585770</td>\n",
              "      <td>3726.702860</td>\n",
              "      <td>17939.403420</td>\n",
              "    </tr>\n",
              "    <tr>\n",
              "      <th>1</th>\n",
              "      <td>2</td>\n",
              "      <td>FL</td>\n",
              "      <td>30.84513</td>\n",
              "      <td>-85.22907</td>\n",
              "      <td>Urban</td>\n",
              "      <td>3.0</td>\n",
              "      <td>51</td>\n",
              "      <td>46805.99</td>\n",
              "      <td>Married</td>\n",
              "      <td>Female</td>\n",
              "      <td>0</td>\n",
              "      <td>18.940352</td>\n",
              "      <td>4</td>\n",
              "      <td>2</td>\n",
              "      <td>1</td>\n",
              "      <td>0</td>\n",
              "      <td>Emergency Admission</td>\n",
              "      <td>1</td>\n",
              "      <td>0</td>\n",
              "      <td>High</td>\n",
              "      <td>1</td>\n",
              "      <td>0.0</td>\n",
              "      <td>0.0</td>\n",
              "      <td>0.0</td>\n",
              "      <td>0.0</td>\n",
              "      <td>0.0</td>\n",
              "      <td>0.0</td>\n",
              "      <td>1</td>\n",
              "      <td>0</td>\n",
              "      <td>Intravenous</td>\n",
              "      <td>15.129562</td>\n",
              "      <td>4193.190458</td>\n",
              "      <td>17612.998120</td>\n",
              "    </tr>\n",
              "    <tr>\n",
              "      <th>2</th>\n",
              "      <td>3</td>\n",
              "      <td>SD</td>\n",
              "      <td>43.54321</td>\n",
              "      <td>-96.63772</td>\n",
              "      <td>Suburban</td>\n",
              "      <td>3.0</td>\n",
              "      <td>53</td>\n",
              "      <td>14370.14</td>\n",
              "      <td>Widowed</td>\n",
              "      <td>Female</td>\n",
              "      <td>0</td>\n",
              "      <td>18.057507</td>\n",
              "      <td>4</td>\n",
              "      <td>1</td>\n",
              "      <td>0</td>\n",
              "      <td>0</td>\n",
              "      <td>Elective Admission</td>\n",
              "      <td>1</td>\n",
              "      <td>0</td>\n",
              "      <td>Medium</td>\n",
              "      <td>1</td>\n",
              "      <td>0.0</td>\n",
              "      <td>1.0</td>\n",
              "      <td>0.0</td>\n",
              "      <td>0.0</td>\n",
              "      <td>0.0</td>\n",
              "      <td>0.0</td>\n",
              "      <td>0</td>\n",
              "      <td>0</td>\n",
              "      <td>Blood Work</td>\n",
              "      <td>4.772177</td>\n",
              "      <td>2434.234222</td>\n",
              "      <td>17505.192460</td>\n",
              "    </tr>\n",
              "    <tr>\n",
              "      <th>3</th>\n",
              "      <td>4</td>\n",
              "      <td>MN</td>\n",
              "      <td>43.89744</td>\n",
              "      <td>-93.51479</td>\n",
              "      <td>Suburban</td>\n",
              "      <td>0.0</td>\n",
              "      <td>78</td>\n",
              "      <td>39741.49</td>\n",
              "      <td>Married</td>\n",
              "      <td>Male</td>\n",
              "      <td>0</td>\n",
              "      <td>16.576858</td>\n",
              "      <td>4</td>\n",
              "      <td>1</td>\n",
              "      <td>0</td>\n",
              "      <td>0</td>\n",
              "      <td>Elective Admission</td>\n",
              "      <td>0</td>\n",
              "      <td>1</td>\n",
              "      <td>Medium</td>\n",
              "      <td>0</td>\n",
              "      <td>1.0</td>\n",
              "      <td>0.0</td>\n",
              "      <td>0.0</td>\n",
              "      <td>0.0</td>\n",
              "      <td>0.0</td>\n",
              "      <td>0.0</td>\n",
              "      <td>1</td>\n",
              "      <td>1</td>\n",
              "      <td>Blood Work</td>\n",
              "      <td>1.714879</td>\n",
              "      <td>2127.830423</td>\n",
              "      <td>12993.437350</td>\n",
              "    </tr>\n",
              "    <tr>\n",
              "      <th>4</th>\n",
              "      <td>5</td>\n",
              "      <td>VA</td>\n",
              "      <td>37.59894</td>\n",
              "      <td>-76.88958</td>\n",
              "      <td>Rural</td>\n",
              "      <td>1.0</td>\n",
              "      <td>22</td>\n",
              "      <td>1209.56</td>\n",
              "      <td>Widowed</td>\n",
              "      <td>Female</td>\n",
              "      <td>0</td>\n",
              "      <td>17.439069</td>\n",
              "      <td>5</td>\n",
              "      <td>0</td>\n",
              "      <td>2</td>\n",
              "      <td>1</td>\n",
              "      <td>Elective Admission</td>\n",
              "      <td>0</td>\n",
              "      <td>0</td>\n",
              "      <td>Low</td>\n",
              "      <td>0</td>\n",
              "      <td>0.0</td>\n",
              "      <td>NaN</td>\n",
              "      <td>1.0</td>\n",
              "      <td>0.0</td>\n",
              "      <td>0.0</td>\n",
              "      <td>1.0</td>\n",
              "      <td>0</td>\n",
              "      <td>0</td>\n",
              "      <td>CT Scan</td>\n",
              "      <td>1.254807</td>\n",
              "      <td>2113.073274</td>\n",
              "      <td>3716.525786</td>\n",
              "    </tr>\n",
              "  </tbody>\n",
              "</table>\n",
              "</div>"
            ],
            "text/plain": [
              "   Unnamed: 0 State       Lat  ...  Initial_days  TotalCharge  Additional_charges\n",
              "0           1    AL  34.34960  ...     10.585770  3726.702860        17939.403420\n",
              "1           2    FL  30.84513  ...     15.129562  4193.190458        17612.998120\n",
              "2           3    SD  43.54321  ...      4.772177  2434.234222        17505.192460\n",
              "3           4    MN  43.89744  ...      1.714879  2127.830423        12993.437350\n",
              "4           5    VA  37.59894  ...      1.254807  2113.073274         3716.525786\n",
              "\n",
              "[5 rows x 33 columns]"
            ]
          },
          "metadata": {},
          "execution_count": 4
        }
      ]
    },
    {
      "cell_type": "markdown",
      "metadata": {
        "id": "3RC1bGyyT6eu"
      },
      "source": [
        "2) After verifying that you have the correct dataset with df.head(), think of some other code you should start with to \"get a feel\" for your data.  Share different options with your group to find answers to the following questions:\n",
        "\n",
        "2a) How many rows?\n",
        "\n",
        "2b) How many columns?\n",
        "\n",
        "2c) What is the datatype of the \"HighBlood\" column?\n"
      ]
    },
    {
      "cell_type": "code",
      "metadata": {
        "colab": {
          "base_uri": "https://localhost:8080/"
        },
        "id": "K-ibeNq1U0vQ",
        "outputId": "2dfd1cdd-0424-4c83-c184-c82889244ad2"
      },
      "source": [
        "df.info()"
      ],
      "execution_count": null,
      "outputs": [
        {
          "output_type": "stream",
          "name": "stdout",
          "text": [
            "<class 'pandas.core.frame.DataFrame'>\n",
            "RangeIndex: 1000 entries, 0 to 999\n",
            "Data columns (total 33 columns):\n",
            " #   Column              Non-Null Count  Dtype  \n",
            "---  ------              --------------  -----  \n",
            " 0   Unnamed: 0          1000 non-null   int64  \n",
            " 1   State               1000 non-null   object \n",
            " 2   Lat                 1000 non-null   float64\n",
            " 3   Lng                 1000 non-null   float64\n",
            " 4   Area                1000 non-null   object \n",
            " 5   Children            993 non-null    float64\n",
            " 6   Age                 1000 non-null   int64  \n",
            " 7   Income              1000 non-null   float64\n",
            " 8   Marital             1000 non-null   object \n",
            " 9   Gender              1000 non-null   object \n",
            " 10  ReAdmis             1000 non-null   int64  \n",
            " 11  VitD_levels         1000 non-null   float64\n",
            " 12  Doc_visits          1000 non-null   int64  \n",
            " 13  Full_meals_eaten    1000 non-null   int64  \n",
            " 14  vitD_supp           1000 non-null   int64  \n",
            " 15  Soft_drink          1000 non-null   int64  \n",
            " 16  Initial_admin       1000 non-null   object \n",
            " 17  HighBlood           1000 non-null   int64  \n",
            " 18  Stroke              1000 non-null   int64  \n",
            " 19  Complication_risk   1000 non-null   object \n",
            " 20  Overweight          1000 non-null   int64  \n",
            " 21  Arthritis           994 non-null    float64\n",
            " 22  Diabetes            994 non-null    float64\n",
            " 23  Hyperlipidemia      998 non-null    float64\n",
            " 24  BackPain            992 non-null    float64\n",
            " 25  Anxiety             998 non-null    float64\n",
            " 26  Allergic_rhinitis   994 non-null    float64\n",
            " 27  Reflux_esophagitis  1000 non-null   int64  \n",
            " 28  Asthma              1000 non-null   int64  \n",
            " 29  Services            1000 non-null   object \n",
            " 30  Initial_days        1000 non-null   float64\n",
            " 31  TotalCharge         1000 non-null   float64\n",
            " 32  Additional_charges  1000 non-null   float64\n",
            "dtypes: float64(14), int64(12), object(7)\n",
            "memory usage: 257.9+ KB\n"
          ]
        }
      ]
    },
    {
      "cell_type": "markdown",
      "metadata": {
        "id": "k_9qHw_H6kbT"
      },
      "source": [
        "There are 33 columns, 1000 rows, and the data type of HighBlood is an integer."
      ]
    },
    {
      "cell_type": "markdown",
      "metadata": {
        "id": "o9XoYdXpU_XG"
      },
      "source": [
        "3) Before you start tackling the code, make a list with your group of as many things as you can think of to address when cleaning.  "
      ]
    },
    {
      "cell_type": "markdown",
      "metadata": {
        "id": "T7ln_kEnVwts"
      },
      "source": [
        "Answer to 3) Identify extra columns\n",
        "\n",
        "fix datatypes\n",
        "\n",
        "identify duplicates\n",
        "\n",
        "check valuecounts and fix inconsistencies column by column\n",
        "\n",
        "identify missing values\n",
        "\n",
        "correct, drop, or impute missing values\n",
        "\n",
        "identify outliers (make note of them\n"
      ]
    },
    {
      "cell_type": "markdown",
      "metadata": {
        "id": "nUJVJ9yYWYQ_"
      },
      "source": [
        "4a) Drop the Unnamed: 0 column and the full meals eaten column.\n",
        "\n",
        "4b) Rename the TotalCharges column to Base_charge"
      ]
    },
    {
      "cell_type": "code",
      "metadata": {
        "id": "FBgJ7iObXZz3"
      },
      "source": [
        "df = df.drop(columns = ['Unnamed: 0', 'Full_meals_eaten'])"
      ],
      "execution_count": null,
      "outputs": []
    },
    {
      "cell_type": "code",
      "metadata": {
        "id": "ViWItWySXZ82"
      },
      "source": [
        "df.rename(columns = {'TotalCharge': 'Base_charge'}, inplace = True)"
      ],
      "execution_count": null,
      "outputs": []
    },
    {
      "cell_type": "code",
      "metadata": {
        "colab": {
          "base_uri": "https://localhost:8080/"
        },
        "id": "5V1Wl9DsYnyH",
        "outputId": "a7b356bd-17c8-44de-e851-eae760970e3b"
      },
      "source": [
        "df.info()"
      ],
      "execution_count": null,
      "outputs": [
        {
          "output_type": "stream",
          "name": "stdout",
          "text": [
            "<class 'pandas.core.frame.DataFrame'>\n",
            "RangeIndex: 1000 entries, 0 to 999\n",
            "Data columns (total 31 columns):\n",
            " #   Column              Non-Null Count  Dtype  \n",
            "---  ------              --------------  -----  \n",
            " 0   State               1000 non-null   object \n",
            " 1   Lat                 1000 non-null   float64\n",
            " 2   Lng                 1000 non-null   float64\n",
            " 3   Area                1000 non-null   object \n",
            " 4   Children            993 non-null    float64\n",
            " 5   Age                 1000 non-null   int64  \n",
            " 6   Income              1000 non-null   float64\n",
            " 7   Marital             1000 non-null   object \n",
            " 8   Gender              1000 non-null   object \n",
            " 9   ReAdmis             1000 non-null   int64  \n",
            " 10  VitD_levels         1000 non-null   float64\n",
            " 11  Doc_visits          1000 non-null   int64  \n",
            " 12  vitD_supp           1000 non-null   int64  \n",
            " 13  Soft_drink          1000 non-null   int64  \n",
            " 14  Initial_admin       1000 non-null   object \n",
            " 15  HighBlood           1000 non-null   int64  \n",
            " 16  Stroke              1000 non-null   int64  \n",
            " 17  Complication_risk   1000 non-null   object \n",
            " 18  Overweight          1000 non-null   int64  \n",
            " 19  Arthritis           994 non-null    float64\n",
            " 20  Diabetes            994 non-null    float64\n",
            " 21  Hyperlipidemia      998 non-null    float64\n",
            " 22  BackPain            992 non-null    float64\n",
            " 23  Anxiety             998 non-null    float64\n",
            " 24  Allergic_rhinitis   994 non-null    float64\n",
            " 25  Reflux_esophagitis  1000 non-null   int64  \n",
            " 26  Asthma              1000 non-null   int64  \n",
            " 27  Services            1000 non-null   object \n",
            " 28  Initial_days        1000 non-null   float64\n",
            " 29  Base_charge         1000 non-null   float64\n",
            " 30  Additional_charges  1000 non-null   float64\n",
            "dtypes: float64(14), int64(10), object(7)\n",
            "memory usage: 242.3+ KB\n"
          ]
        }
      ]
    },
    {
      "cell_type": "markdown",
      "metadata": {
        "id": "ks0RXTITXaXN"
      },
      "source": [
        "5a) Find and correct inconsistencies in category labels. "
      ]
    },
    {
      "cell_type": "code",
      "metadata": {
        "colab": {
          "base_uri": "https://localhost:8080/"
        },
        "id": "gtnsbQmGYt2C",
        "outputId": "466ed53d-55ed-40d2-90f4-b2b5ebfbaedd"
      },
      "source": [
        "df.State.value_counts()"
      ],
      "execution_count": null,
      "outputs": [
        {
          "output_type": "execute_result",
          "data": {
            "text/plain": [
              "TX    54\n",
              "CA    52\n",
              "NY    52\n",
              "OH    49\n",
              "PA    45\n",
              "IL    41\n",
              "FL    35\n",
              "VA    34\n",
              "KS    32\n",
              "IA    30\n",
              "MN    28\n",
              "WV    28\n",
              "OK    27\n",
              "MI    27\n",
              "MO    26\n",
              "NC    26\n",
              "WI    22\n",
              "NJ    22\n",
              "WA    19\n",
              "NE    19\n",
              "TN    19\n",
              "KY    19\n",
              "AL    19\n",
              "IN    18\n",
              "OR    18\n",
              "AR    18\n",
              "GA    16\n",
              "ME    14\n",
              "AZ    14\n",
              "MS    14\n",
              "NM    12\n",
              "SD    12\n",
              "ND    11\n",
              "ID    11\n",
              "MA    11\n",
              "CO    11\n",
              "NH    11\n",
              "SC    11\n",
              "AK    10\n",
              "LA    10\n",
              "MD    10\n",
              "MT     9\n",
              "CT     9\n",
              "VT     5\n",
              "UT     5\n",
              "RI     3\n",
              "PR     3\n",
              "NV     3\n",
              "DC     2\n",
              "WY     2\n",
              "HI     2\n",
              "Name: State, dtype: int64"
            ]
          },
          "metadata": {},
          "execution_count": 9
        }
      ]
    },
    {
      "cell_type": "code",
      "metadata": {
        "colab": {
          "base_uri": "https://localhost:8080/"
        },
        "id": "l_tn_WE5ZDaU",
        "outputId": "53bea57a-1cc8-49e6-9023-2cb23bc2b6f1"
      },
      "source": [
        "df.Area.value_counts()"
      ],
      "execution_count": null,
      "outputs": [
        {
          "output_type": "execute_result",
          "data": {
            "text/plain": [
              "Rural       349\n",
              "Urban       337\n",
              "Suburban    314\n",
              "Name: Area, dtype: int64"
            ]
          },
          "metadata": {},
          "execution_count": 10
        }
      ]
    },
    {
      "cell_type": "code",
      "metadata": {
        "colab": {
          "base_uri": "https://localhost:8080/"
        },
        "id": "eiEBdZJVZM7E",
        "outputId": "36c11984-ab8e-4c8e-8b48-18625de42dc0"
      },
      "source": [
        "df.Marital.value_counts()"
      ],
      "execution_count": null,
      "outputs": [
        {
          "output_type": "execute_result",
          "data": {
            "text/plain": [
              "Divorced         207\n",
              "Married          206\n",
              "Widowed          201\n",
              "Never Married    200\n",
              "Separated        186\n",
              "Name: Marital, dtype: int64"
            ]
          },
          "metadata": {},
          "execution_count": 11
        }
      ]
    },
    {
      "cell_type": "code",
      "metadata": {
        "colab": {
          "base_uri": "https://localhost:8080/"
        },
        "id": "69pmHp35ZUg5",
        "outputId": "5a0d429a-8c54-4019-d925-7c7353d2f9a3"
      },
      "source": [
        "df.Gender.value_counts()"
      ],
      "execution_count": null,
      "outputs": [
        {
          "output_type": "execute_result",
          "data": {
            "text/plain": [
              "Female       516\n",
              "Male         454\n",
              "Nonbinary     21\n",
              "m              3\n",
              "F              2\n",
              "male           2\n",
              "f              1\n",
              "M              1\n",
              "Name: Gender, dtype: int64"
            ]
          },
          "metadata": {},
          "execution_count": 12
        }
      ]
    },
    {
      "cell_type": "code",
      "metadata": {
        "id": "mzq58-sNZcfA"
      },
      "source": [
        "# We have inconsistencies in the labeling in the gender category\n",
        "# You can address these one at a time \n",
        "df['Gender'].replace('male', 'Male', inplace = True)"
      ],
      "execution_count": null,
      "outputs": []
    },
    {
      "cell_type": "code",
      "metadata": {
        "id": "ciElXHixSSuo"
      },
      "source": [
        "# you could create a variable containing multiple values you need to change\n",
        "wrong_Male = ['m', 'M'] "
      ],
      "execution_count": null,
      "outputs": []
    },
    {
      "cell_type": "code",
      "metadata": {
        "id": "KU9pKK0uSacG"
      },
      "source": [
        "df['Gender'].replace(wrong_Male, 'Male', inplace = True) "
      ],
      "execution_count": null,
      "outputs": []
    },
    {
      "cell_type": "code",
      "metadata": {
        "colab": {
          "base_uri": "https://localhost:8080/"
        },
        "id": "2CEoV6pbVRPL",
        "outputId": "6389c11b-0a7d-49f1-994d-e57c2069f04b"
      },
      "source": [
        "df.Gender.value_counts()"
      ],
      "execution_count": null,
      "outputs": [
        {
          "output_type": "execute_result",
          "data": {
            "text/plain": [
              "Female       516\n",
              "Male         460\n",
              "Nonbinary     21\n",
              "F              2\n",
              "f              1\n",
              "Name: Gender, dtype: int64"
            ]
          },
          "metadata": {},
          "execution_count": 16
        }
      ]
    },
    {
      "cell_type": "code",
      "metadata": {
        "id": "b-AP1tX4T4NT"
      },
      "source": [
        "# You could put multiple values directly in the .replace argument with []\n",
        "df['Gender'].replace([' Female', 'f', 'F'], 'Female', inplace = True)"
      ],
      "execution_count": null,
      "outputs": []
    },
    {
      "cell_type": "code",
      "metadata": {
        "colab": {
          "base_uri": "https://localhost:8080/"
        },
        "id": "WDQctMfDZruQ",
        "outputId": "a2621764-7c5c-4081-d34e-3da26badde78"
      },
      "source": [
        "df['Gender'].value_counts()"
      ],
      "execution_count": null,
      "outputs": [
        {
          "output_type": "execute_result",
          "data": {
            "text/plain": [
              "Female       519\n",
              "Male         460\n",
              "Nonbinary     21\n",
              "Name: Gender, dtype: int64"
            ]
          },
          "metadata": {},
          "execution_count": 18
        }
      ]
    },
    {
      "cell_type": "code",
      "metadata": {
        "colab": {
          "base_uri": "https://localhost:8080/"
        },
        "id": "NaNvgUg-a2PL",
        "outputId": "82dd589e-a204-470f-bb29-8515f86545e5"
      },
      "source": [
        "df['Initial_admin'].value_counts()"
      ],
      "execution_count": null,
      "outputs": [
        {
          "output_type": "execute_result",
          "data": {
            "text/plain": [
              "Emergency Admission      504\n",
              "Elective Admission       264\n",
              "Observation Admission    232\n",
              "Name: Initial_admin, dtype: int64"
            ]
          },
          "metadata": {},
          "execution_count": 19
        }
      ]
    },
    {
      "cell_type": "code",
      "metadata": {
        "colab": {
          "base_uri": "https://localhost:8080/"
        },
        "id": "QLFtK9AvbEJx",
        "outputId": "bf967604-5784-42eb-f3af-be95a106f56e"
      },
      "source": [
        "df['Complication_risk'].value_counts()"
      ],
      "execution_count": null,
      "outputs": [
        {
          "output_type": "execute_result",
          "data": {
            "text/plain": [
              "Medium    462\n",
              "High      312\n",
              "Low       222\n",
              "Med         4\n",
              "Name: Complication_risk, dtype: int64"
            ]
          },
          "metadata": {},
          "execution_count": 20
        }
      ]
    },
    {
      "cell_type": "code",
      "metadata": {
        "colab": {
          "base_uri": "https://localhost:8080/"
        },
        "id": "VBSJPhT3blkp",
        "outputId": "ea38f7a0-c496-46c3-fc5c-1177ea2aaf1f"
      },
      "source": [
        "df['Complication_risk'].replace('Med', 'Medium', inplace = True)\n",
        "df['Complication_risk'].value_counts()"
      ],
      "execution_count": null,
      "outputs": [
        {
          "output_type": "execute_result",
          "data": {
            "text/plain": [
              "Medium    466\n",
              "High      312\n",
              "Low       222\n",
              "Name: Complication_risk, dtype: int64"
            ]
          },
          "metadata": {},
          "execution_count": 21
        }
      ]
    },
    {
      "cell_type": "code",
      "metadata": {
        "colab": {
          "base_uri": "https://localhost:8080/"
        },
        "id": "XhFPtuc6caUK",
        "outputId": "71f12f07-82b2-4546-d936-afd61bbf2ab5"
      },
      "source": [
        "df['Services'].value_counts()"
      ],
      "execution_count": null,
      "outputs": [
        {
          "output_type": "execute_result",
          "data": {
            "text/plain": [
              "Blood Work     529\n",
              "Intravenous    331\n",
              "CT Scan        104\n",
              "MRI             36\n",
              "Name: Services, dtype: int64"
            ]
          },
          "metadata": {},
          "execution_count": 22
        }
      ]
    },
    {
      "cell_type": "markdown",
      "metadata": {
        "id": "85GHNGSZYGwa"
      },
      "source": [
        "6) Identify and drop any duplicates"
      ]
    },
    {
      "cell_type": "code",
      "metadata": {
        "colab": {
          "base_uri": "https://localhost:8080/"
        },
        "id": "oHWD6H2ucFCT",
        "outputId": "17d3cb2f-49d7-4db1-df56-5265ddd39ded"
      },
      "source": [
        "df.duplicated().any()"
      ],
      "execution_count": null,
      "outputs": [
        {
          "output_type": "execute_result",
          "data": {
            "text/plain": [
              "False"
            ]
          },
          "metadata": {},
          "execution_count": 23
        }
      ]
    },
    {
      "cell_type": "markdown",
      "metadata": {
        "id": "A6rlaU5XYSw0"
      },
      "source": [
        "7) Identify missing values and discuss options to address missing values. Decide on a method, and address these values!"
      ]
    },
    {
      "cell_type": "code",
      "metadata": {
        "colab": {
          "base_uri": "https://localhost:8080/"
        },
        "id": "DKMHKRcBczZ6",
        "outputId": "7bfe6dd7-fab6-4b84-a098-bf5a0eb06402"
      },
      "source": [
        "df.isnull().sum()"
      ],
      "execution_count": null,
      "outputs": [
        {
          "output_type": "execute_result",
          "data": {
            "text/plain": [
              "State                 0\n",
              "Lat                   0\n",
              "Lng                   0\n",
              "Area                  0\n",
              "Children              7\n",
              "Age                   0\n",
              "Income                0\n",
              "Marital               0\n",
              "Gender                0\n",
              "ReAdmis               0\n",
              "VitD_levels           0\n",
              "Doc_visits            0\n",
              "vitD_supp             0\n",
              "Soft_drink            0\n",
              "Initial_admin         0\n",
              "HighBlood             0\n",
              "Stroke                0\n",
              "Complication_risk     0\n",
              "Overweight            0\n",
              "Arthritis             6\n",
              "Diabetes              6\n",
              "Hyperlipidemia        2\n",
              "BackPain              8\n",
              "Anxiety               2\n",
              "Allergic_rhinitis     6\n",
              "Reflux_esophagitis    0\n",
              "Asthma                0\n",
              "Services              0\n",
              "Initial_days          0\n",
              "Base_charge           0\n",
              "Additional_charges    0\n",
              "dtype: int64"
            ]
          },
          "metadata": {},
          "execution_count": 24
        }
      ]
    },
    {
      "cell_type": "code",
      "metadata": {
        "colab": {
          "base_uri": "https://localhost:8080/"
        },
        "id": "Z6MPqqX1dhRx",
        "outputId": "e8c1e79e-e5ab-4f2b-cdc7-268f8edb9819"
      },
      "source": [
        "missing = df.isnull()\n",
        "num_missing = missing.sum()\n",
        "num_missing"
      ],
      "execution_count": null,
      "outputs": [
        {
          "output_type": "execute_result",
          "data": {
            "text/plain": [
              "State                 0\n",
              "Lat                   0\n",
              "Lng                   0\n",
              "Area                  0\n",
              "Children              7\n",
              "Age                   0\n",
              "Income                0\n",
              "Marital               0\n",
              "Gender                0\n",
              "ReAdmis               0\n",
              "VitD_levels           0\n",
              "Doc_visits            0\n",
              "vitD_supp             0\n",
              "Soft_drink            0\n",
              "Initial_admin         0\n",
              "HighBlood             0\n",
              "Stroke                0\n",
              "Complication_risk     0\n",
              "Overweight            0\n",
              "Arthritis             6\n",
              "Diabetes              6\n",
              "Hyperlipidemia        2\n",
              "BackPain              8\n",
              "Anxiety               2\n",
              "Allergic_rhinitis     6\n",
              "Reflux_esophagitis    0\n",
              "Asthma                0\n",
              "Services              0\n",
              "Initial_days          0\n",
              "Base_charge           0\n",
              "Additional_charges    0\n",
              "dtype: int64"
            ]
          },
          "metadata": {},
          "execution_count": 25
        }
      ]
    },
    {
      "cell_type": "code",
      "metadata": {
        "colab": {
          "base_uri": "https://localhost:8080/"
        },
        "id": "xQmC9duFeOqP",
        "outputId": "2790cf7e-6607-40c6-cc27-344988d2b4e4"
      },
      "source": [
        "(num_missing / len(df)) * 100"
      ],
      "execution_count": null,
      "outputs": [
        {
          "output_type": "execute_result",
          "data": {
            "text/plain": [
              "State                 0.0\n",
              "Lat                   0.0\n",
              "Lng                   0.0\n",
              "Area                  0.0\n",
              "Children              0.7\n",
              "Age                   0.0\n",
              "Income                0.0\n",
              "Marital               0.0\n",
              "Gender                0.0\n",
              "ReAdmis               0.0\n",
              "VitD_levels           0.0\n",
              "Doc_visits            0.0\n",
              "vitD_supp             0.0\n",
              "Soft_drink            0.0\n",
              "Initial_admin         0.0\n",
              "HighBlood             0.0\n",
              "Stroke                0.0\n",
              "Complication_risk     0.0\n",
              "Overweight            0.0\n",
              "Arthritis             0.6\n",
              "Diabetes              0.6\n",
              "Hyperlipidemia        0.2\n",
              "BackPain              0.8\n",
              "Anxiety               0.2\n",
              "Allergic_rhinitis     0.6\n",
              "Reflux_esophagitis    0.0\n",
              "Asthma                0.0\n",
              "Services              0.0\n",
              "Initial_days          0.0\n",
              "Base_charge           0.0\n",
              "Additional_charges    0.0\n",
              "dtype: float64"
            ]
          },
          "metadata": {},
          "execution_count": 26
        }
      ]
    },
    {
      "cell_type": "code",
      "metadata": {
        "id": "AKsR0gEnextA"
      },
      "source": [
        "# since less than 5% (in fact, less than 1% of data is missing from any feature, I will just drop all na values)\n",
        "df.dropna(inplace = True)"
      ],
      "execution_count": null,
      "outputs": []
    },
    {
      "cell_type": "code",
      "metadata": {
        "colab": {
          "base_uri": "https://localhost:8080/"
        },
        "id": "20PxlkmGfwBz",
        "outputId": "d7bd4a35-da5f-47b2-bd01-64fc07e05959"
      },
      "source": [
        "len(df)  # We dropped a total of 37 rows which is dropping 37/1000 = 3.7% total patients dropped"
      ],
      "execution_count": null,
      "outputs": [
        {
          "output_type": "execute_result",
          "data": {
            "text/plain": [
              "963"
            ]
          },
          "metadata": {},
          "execution_count": 28
        }
      ]
    },
    {
      "cell_type": "markdown",
      "metadata": {
        "id": "o-LSY3S481O4"
      },
      "source": [
        "Save your cleaned dataset to disk so you can use it later without cleaning it again."
      ]
    },
    {
      "cell_type": "code",
      "metadata": {
        "id": "bNlNByfHPp0E"
      },
      "source": [
        "df.to_excel('Med_cleaned.xlsx')"
      ],
      "execution_count": null,
      "outputs": []
    },
    {
      "cell_type": "markdown",
      "metadata": {
        "id": "yGMx5JDJZhGs"
      },
      "source": [
        "8) Distributions can be very helpful for exploring your data.\n",
        "\n",
        "For categorical data, use the value_counts to give the count of each category on the y axis.\n",
        "\n",
        "Make a bar chart of the Complication_risk data.\n",
        "\n",
        "Which risk level is the most common in our dataset?"
      ]
    },
    {
      "cell_type": "code",
      "metadata": {
        "id": "H6TERdG-WrRn",
        "colab": {
          "base_uri": "https://localhost:8080/",
          "height": 311
        },
        "outputId": "0b33cfdf-ff4a-4ab0-f98e-0f1a7b61d33d"
      },
      "source": [
        "df['Complication_risk'].value_counts().plot(kind = 'bar')\n",
        "plt.title('Distribution of Complication Risks')\n",
        "plt.show()"
      ],
      "execution_count": null,
      "outputs": [
        {
          "output_type": "display_data",
          "data": {
            "image/png": "[encoded data removed]",
            "text/plain": [
              "<Figure size 432x288 with 1 Axes>"
            ]
          },
          "metadata": {
            "needs_background": "light"
          }
        }
      ]
    },
    {
      "cell_type": "markdown",
      "metadata": {
        "id": "Jn1uGXE19SEW"
      },
      "source": [
        "9) Create a histogram of 'Base_charge' with 20 bins.  How would you describe the distribution?  "
      ]
    },
    {
      "cell_type": "code",
      "metadata": {
        "colab": {
          "base_uri": "https://localhost:8080/",
          "height": 281
        },
        "id": "frHi2qYB9hED",
        "outputId": "546674d7-7815-4a64-c0ef-c27bf7b28256"
      },
      "source": [
        "df['Base_charge'].hist(bins=20)\n",
        "plt.title('Distribution of Base Charges')\n",
        "plt.show()"
      ],
      "execution_count": null,
      "outputs": [
        {
          "output_type": "display_data",
          "data": {
            "image/png": "[encoded data removed]",
            "text/plain": [
              "<Figure size 432x288 with 1 Axes>"
            ]
          },
          "metadata": {
            "needs_background": "light"
          }
        }
      ]
    },
    {
      "cell_type": "markdown",
      "metadata": {
        "id": "fBpAu3hy-LLI"
      },
      "source": [
        "The distribution is centered around a 3000, but with a slight right skew."
      ]
    },
    {
      "cell_type": "markdown",
      "metadata": {
        "id": "crq3IHEdNlhv"
      },
      "source": [
        "10) First, use df['column'].describe() to obtain some summary statistics of the income column.\n",
        "\n",
        "What is the average income?\n",
        "\n",
        "What are the minimum and maximum incomes?\n",
        "\n",
        "About what percentage of the patients made at or more than about $55,000 a year? (Hint, it is NOT 75%)"
      ]
    },
    {
      "cell_type": "code",
      "metadata": {
        "colab": {
          "base_uri": "https://localhost:8080/"
        },
        "id": "xatxa5jkNlO1",
        "outputId": "089424a9-a1bf-4ff2-8322-050d1e384e4a"
      },
      "source": [
        "df['Income'].describe()"
      ],
      "execution_count": null,
      "outputs": [
        {
          "output_type": "execute_result",
          "data": {
            "text/plain": [
              "count       963.000000\n",
              "mean      40540.748754\n",
              "std       27984.106279\n",
              "min         154.080000\n",
              "25%       19155.115000\n",
              "50%       34192.000000\n",
              "75%       54986.885000\n",
              "max      178470.630000\n",
              "Name: Income, dtype: float64"
            ]
          },
          "metadata": {},
          "execution_count": 32
        }
      ]
    },
    {
      "cell_type": "markdown",
      "metadata": {
        "id": "PA3V9W5V-UlS"
      },
      "source": [
        "Answer:\n",
        "The mean average income is 40,540 with a minimum of 154 and a maximum of 178,470.  About 25% of patiences made over 55k per year."
      ]
    },
    {
      "cell_type": "markdown",
      "metadata": {
        "id": "EtVZ0wqLN5YH"
      },
      "source": [
        "11) A common visual approach to summary statistics is the boxplot.  \n",
        "\n",
        "Boxplots are particularly good at helping you identify the presence of outliers.\n",
        "\n",
        "Make a boxplot of the Income column and discuss your findings. "
      ]
    },
    {
      "cell_type": "code",
      "metadata": {
        "colab": {
          "base_uri": "https://localhost:8080/",
          "height": 281
        },
        "id": "oGZgOl0AOBd7",
        "outputId": "36c49290-2dc7-48bc-bfb8-22ffc0e64b9d"
      },
      "source": [
        "df.boxplot(column = 'Income', grid = False)\n",
        "plt.title('Distribution of Income')\n",
        "plt.show()"
      ],
      "execution_count": null,
      "outputs": [
        {
          "output_type": "display_data",
          "data": {
            "image/png": "[encoded data removed]",
            "text/plain": [
              "<Figure size 432x288 with 1 Axes>"
            ]
          },
          "metadata": {
            "needs_background": "light"
          }
        }
      ]
    },
    {
      "cell_type": "code",
      "source": [
        "#Boxplot of Income\n",
        "df['Income'].plot(kind='box')\n",
        "plt.title('Distribution of Income')\n",
        "plt.ylabel('Income')\n",
        "plt.show()"
      ],
      "metadata": {
        "colab": {
          "base_uri": "https://localhost:8080/",
          "height": 281
        },
        "id": "FhHXz2hr2k9S",
        "outputId": "c5f7413a-2a2e-4659-a40e-a3e1cb3f0ee2"
      },
      "execution_count": null,
      "outputs": [
        {
          "output_type": "display_data",
          "data": {
            "image/png": "[encoded data removed]",
            "text/plain": [
              "<Figure size 432x288 with 1 Axes>"
            ]
          },
          "metadata": {
            "needs_background": "light"
          }
        }
      ]
    },
    {
      "cell_type": "markdown",
      "metadata": {
        "id": "3cpepvo9-j6D"
      },
      "source": [
        "Answer:\n",
        "We see a medium income of about 35k, but with several outliers above 100k and three over 150k."
      ]
    },
    {
      "cell_type": "markdown",
      "metadata": {
        "id": "d-e4fFUM4JTd"
      },
      "source": [
        "Bonus! Continue to explore the data and practice making visualizations!"
      ]
    }
  ]
}