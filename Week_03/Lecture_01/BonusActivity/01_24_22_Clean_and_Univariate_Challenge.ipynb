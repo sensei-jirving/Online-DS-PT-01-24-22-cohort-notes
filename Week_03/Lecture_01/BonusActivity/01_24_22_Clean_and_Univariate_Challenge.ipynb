{
  "nbformat": 4,
  "nbformat_minor": 0,
  "metadata": {
    "colab": {
      "name": "01.24.22 Clean_and_Univariate_Challenge.ipynb",
      "provenance": [],
      "collapsed_sections": [],
      "include_colab_link": true
    },
    "kernelspec": {
      "name": "python3",
      "display_name": "Python 3"
    },
    "language_info": {
      "name": "python"
    }
  },
  "cells": [
    {
      "cell_type": "markdown",
      "metadata": {
        "id": "view-in-github",
        "colab_type": "text"
      },
      "source": [
        "<a href=\"https://colab.research.google.com/github/sensei-jirving/Online-DS-PT-01.24.22-cohort-notes/blob/main/Week_03/Lecture_01/BonusActivity/01_24_22_Clean_and_Univariate_Challenge.ipynb\" target=\"_parent\"><img src=\"https://colab.research.google.com/assets/colab-badge.svg\" alt=\"Open In Colab\"/></a>"
      ]
    },
    {
      "cell_type": "markdown",
      "metadata": {
        "id": "gwoNrshtTVuO"
      },
      "source": [
        "## Clean and Univariate Challenge!\n",
        "\n",
        "You are going to clean the data and then create exploratory visualizations.\n",
        "\n",
        "Be sure to answer the questions along the way too!\n",
        "\n",
        "These visualizions are for YOU (the data scientist) and not for presentation to others.\n",
        "\n",
        "\n",
        "\n",
        "You don't need to make any of these vizzes fancy! Think of them as notes as you explore and begin to understand your data!\n"
      ]
    },
    {
      "cell_type": "markdown",
      "metadata": {
        "id": "uNd8Fj0KTbv4"
      },
      "source": [
        "1) Read in the Raw_Medical_Data.csv and take a look at the first 5 entries.  It's [available here.](https://docs.google.com/spreadsheets/d/1VMaw2oCn0ABitd-alLAEsEhGS1Je2UFNLu76TKrIH7w/edit?usp=sharing)"
      ]
    },
    {
      "cell_type": "code",
      "metadata": {
        "id": "icgXUXH-FCfc"
      },
      "source": [
        ""
      ],
      "execution_count": null,
      "outputs": []
    },
    {
      "cell_type": "markdown",
      "metadata": {
        "id": "3RC1bGyyT6eu"
      },
      "source": [
        "2) After verifying that you have the correct dataset with df.head(), think of some other code you should start with to \"get a feel\" for your data.  Share different options with your group to find answers to the following questions:\n",
        "\n",
        "2a) How many rows?\n",
        "\n",
        "2b) How many columns?\n",
        "\n",
        "2c) What is the datatype of the \"HighBlood\" column?\n"
      ]
    },
    {
      "cell_type": "code",
      "metadata": {
        "id": "VXtEIGeWFDGe"
      },
      "source": [
        ""
      ],
      "execution_count": null,
      "outputs": []
    },
    {
      "cell_type": "markdown",
      "metadata": {
        "id": "o9XoYdXpU_XG"
      },
      "source": [
        "3) Before you start tackling the code, make a list with your group of as many things as you can think of to address when cleaning.  "
      ]
    },
    {
      "cell_type": "markdown",
      "metadata": {
        "id": "KwL2NMMIFEl9"
      },
      "source": [
        "1. \n",
        "2. \n",
        "3.\n",
        "\n",
        "(keep going!)"
      ]
    },
    {
      "cell_type": "markdown",
      "metadata": {
        "id": "nUJVJ9yYWYQ_"
      },
      "source": [
        "4) Drop the Unnamed: 0 column and the full meals eaten column, and Rename the TotalCharges column to Base_charge"
      ]
    },
    {
      "cell_type": "code",
      "metadata": {
        "id": "FBgJ7iObXZz3"
      },
      "source": [
        ""
      ],
      "execution_count": null,
      "outputs": []
    },
    {
      "cell_type": "markdown",
      "metadata": {
        "id": "ks0RXTITXaXN"
      },
      "source": [
        "5) Find and correct inconsistencies in category labels. "
      ]
    },
    {
      "cell_type": "code",
      "metadata": {
        "id": "763WRj2FFHdg"
      },
      "source": [
        ""
      ],
      "execution_count": null,
      "outputs": []
    },
    {
      "cell_type": "markdown",
      "metadata": {
        "id": "85GHNGSZYGwa"
      },
      "source": [
        "6) Identify and drop any duplicates."
      ]
    },
    {
      "cell_type": "code",
      "metadata": {
        "id": "t3qW1SGJFH7s"
      },
      "source": [
        ""
      ],
      "execution_count": null,
      "outputs": []
    },
    {
      "cell_type": "markdown",
      "metadata": {
        "id": "A6rlaU5XYSw0"
      },
      "source": [
        "7) Identify missing values and discuss options to address missing values. Decide on a method, and address these values!\n",
        "\n",
        "In the text cell below, explain why you chose this strategy."
      ]
    },
    {
      "cell_type": "code",
      "metadata": {
        "id": "xbmLrZGXFI5D"
      },
      "source": [
        ""
      ],
      "execution_count": null,
      "outputs": []
    },
    {
      "cell_type": "markdown",
      "metadata": {
        "id": "Fdw0AR9M7JZo"
      },
      "source": [
        ""
      ]
    },
    {
      "cell_type": "markdown",
      "metadata": {
        "id": "mSc9C6A-9Blu"
      },
      "source": [
        "Save your cleaned dataset to disk so you don't have to do it again next time you use it."
      ]
    },
    {
      "cell_type": "code",
      "metadata": {
        "id": "R4H1apxVFKKl"
      },
      "source": [
        ""
      ],
      "execution_count": null,
      "outputs": []
    },
    {
      "cell_type": "markdown",
      "metadata": {
        "id": "bs0cxCilsHk1"
      },
      "source": [
        "8) Distributions can be very helpful for exploring your data.\n",
        "\n",
        "For categorical data, use the value_counts to give the count of each category on the y axis.\n",
        "\n",
        "Make a bar chart of the Complication_risk data.\n",
        "\n",
        "Which risk level is the most common in our dataset?"
      ]
    },
    {
      "cell_type": "code",
      "metadata": {
        "id": "7wiPBA_lFL5m"
      },
      "source": [
        ""
      ],
      "execution_count": null,
      "outputs": []
    },
    {
      "cell_type": "markdown",
      "metadata": {
        "id": "nh1dB84CtC6V"
      },
      "source": [
        "9) Create a histogram of 'Base_charge' with 20 bins.  \n",
        "\n",
        "How would you describe the distribution?  "
      ]
    },
    {
      "cell_type": "code",
      "metadata": {
        "id": "l0c_prkzFMrV"
      },
      "source": [
        ""
      ],
      "execution_count": null,
      "outputs": []
    },
    {
      "cell_type": "markdown",
      "metadata": {
        "id": "5JGKXo5Dv3UX"
      },
      "source": [
        "10)   Use `df['column'].describe()` to obtain some summary statistics of the income column. \n",
        "\n",
        "What is the average income?\n",
        "\n",
        "What are the minimum and maximum incomes?\n",
        "\n",
        "About what percentage of the patients made at or more than about $55,000 a year? (Hint, it is NOT 75%)\n"
      ]
    },
    {
      "cell_type": "code",
      "metadata": {
        "id": "TsfpTv6xFNMz"
      },
      "source": [
        ""
      ],
      "execution_count": null,
      "outputs": []
    },
    {
      "cell_type": "markdown",
      "metadata": {
        "id": "NRBWxaH5xDUc"
      },
      "source": [
        "11) A common visual approach to summary statistics is the boxplot.  \n",
        "\n",
        "Boxplots are particularly good at helping you identify the presence of outliers.\n",
        "\n",
        "Make a boxplot of the Income column and discuss your findings. \n"
      ]
    },
    {
      "cell_type": "code",
      "metadata": {
        "id": "Mm-43WrR_ThE"
      },
      "source": [
        ""
      ],
      "execution_count": null,
      "outputs": []
    },
    {
      "cell_type": "markdown",
      "metadata": {
        "id": "d-e4fFUM4JTd"
      },
      "source": [
        "Bonus! Continue to explore the data and practice making visualizations!"
      ]
    },
    {
      "cell_type": "code",
      "metadata": {
        "id": "LGo6kDaWFQSU"
      },
      "source": [
        ""
      ],
      "execution_count": null,
      "outputs": []
    },
    {
      "cell_type": "code",
      "metadata": {
        "id": "BufnfVSCFP1K"
      },
      "source": [
        ""
      ],
      "execution_count": null,
      "outputs": []
    }
  ]
}