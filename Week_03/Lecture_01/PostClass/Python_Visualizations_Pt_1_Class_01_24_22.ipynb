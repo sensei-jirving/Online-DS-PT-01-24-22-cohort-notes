{
  "cells": [
    {
      "cell_type": "markdown",
      "metadata": {
        "id": "view-in-github",
        "colab_type": "text"
      },
      "source": [
        "<a href=\"https://colab.research.google.com/github/sensei-jirving/Online-DS-PT-01.24.22-cohort-notes/blob/main/Week_03/Lecture_01/PostClass/Python_Visualizations_Pt_1_Class_01_24_22.ipynb\" target=\"_parent\"><img src=\"https://colab.research.google.com/assets/colab-badge.svg\" alt=\"Open In Colab\"/></a>"
      ]
    },
    {
      "cell_type": "markdown",
      "metadata": {
        "id": "Zh_6nDmEe1DC"
      },
      "source": [
        "# Visualizations with Python 101 - Part 1"
      ]
    },
    {
      "cell_type": "markdown",
      "source": [
        "- 01.24.22 Cohort\n",
        "- 02/08/22"
      ],
      "metadata": {
        "id": "i-3-B0hEl68g"
      }
    },
    {
      "cell_type": "markdown",
      "metadata": {
        "id": "hvv8bIQbck2x"
      },
      "source": [
        "## Learning Objectives"
      ]
    },
    {
      "cell_type": "markdown",
      "metadata": {
        "id": "P5eH_AKBfVrc"
      },
      "source": [
        "- Discuss an overview of the types of visualizations available.\n",
        "- Discuss which types of visuals are best for showing what type of information/comparisons.\n",
        "\n",
        "- Discuss the Anatomy of a Matplotlib Figure\n",
        "\n",
        "- Discuss the many ways to create/start a figure\n",
        "    - Matplotlib plt functions\n",
        "    - Matploltib OOP interface\n",
        "    - Pandas\n",
        "    - Seaborn\n"
      ]
    },
    {
      "cell_type": "markdown",
      "metadata": {
        "id": "Nrt8Tw_0fVrd"
      },
      "source": [
        "## Data Visualization Resources"
      ]
    },
    {
      "cell_type": "markdown",
      "metadata": {
        "id": "q6w9fkv4fVre"
      },
      "source": [
        "- We use visualizations to tell a story about our data. \n",
        "    - Knowing which visualization is best to tell the story you are trying to tell is an important skill. \n",
        "\n",
        "\n",
        "- Let's Explore Different Types of Visualizations and when they are most appropriate to use. \n",
        "\n",
        "    - **[The Data Viz Project](https://datavizproject.com/)**\n",
        "\n",
        "    - **[Python Graph Gallery](https://www.python-graph-gallery.com/)**\n",
        "\n",
        "    - [Blog Post: How to Choose a Chart Type](https://towardsdatascience.com/data-visualization-101-how-to-choose-a-chart-type-9b8830e558d6)\n",
        "\n",
        "\n"
      ]
    },
    {
      "cell_type": "markdown",
      "metadata": {
        "id": "iijmn9qbkE9t"
      },
      "source": [
        "### Example Galleries [Python Packages]\n",
        "Let's explore the Python-specific options available to us. \n",
        "\n",
        "\n",
        "\n",
        "- [Matplotlib Example Gallery](https://matplotlib.org/gallery/index.html#examples-index) \n",
        "- [Seaborn Example Gallery](https://seaborn.pydata.org/examples/index.html)\n",
        "- [Pandas Visualization docs](https://pandas.pydata.org/pandas-docs/stable/user_guide/visualization.html)\n"
      ]
    },
    {
      "cell_type": "markdown",
      "metadata": {
        "id": "seKGiKNxfVrf"
      },
      "source": [
        "# Using Visualizations for Exploratory Data Analysis (EDA)"
      ]
    },
    {
      "cell_type": "markdown",
      "metadata": {
        "id": "2Ln3iky3fVrg"
      },
      "source": [
        "### The Questions to Answer"
      ]
    },
    {
      "cell_type": "markdown",
      "metadata": {
        "id": "0IJkeQoGfVrg"
      },
      "source": [
        "1. What is the distribution of house prices in Ames, Iowa?\n",
        "    - What is the median home price?\n",
        "    - What is the average home price?\n",
        "    \n",
        "2. Are there any potential outliers in home price?"
      ]
    },
    {
      "cell_type": "markdown",
      "metadata": {
        "id": "PTR1zZ83fVrg"
      },
      "source": [
        "### The Provided Data"
      ]
    },
    {
      "cell_type": "code",
      "execution_count": 1,
      "metadata": {
        "ExecuteTime": {
          "end_time": "2021-08-17T15:53:40.962480Z",
          "start_time": "2021-08-17T15:53:40.045860Z"
        },
        "id": "qzW2tY3Plflp"
      },
      "outputs": [],
      "source": [
        "import pandas as pd\n",
        "import numpy as np\n",
        "\n",
        "import matplotlib.pyplot as plt\n",
        "import seaborn as sns"
      ]
    },
    {
      "cell_type": "code",
      "execution_count": 2,
      "metadata": {
        "ExecuteTime": {
          "end_time": "2021-08-17T15:53:42.729781Z",
          "start_time": "2021-08-17T15:53:42.269379Z"
        },
        "colab": {
          "base_uri": "https://localhost:8080/",
          "height": 553
        },
        "id": "9nBCFyXCfMtZ",
        "outputId": "2ac531d3-9fa1-4421-ebb9-3ccc9d38ab50"
      },
      "outputs": [
        {
          "output_type": "display_data",
          "data": {
            "text/html": [
              "\n",
              "  <div id=\"df-e812d80d-321c-421a-bfa8-5955d1a9f613\">\n",
              "    <div class=\"colab-df-container\">\n",
              "      <div>\n",
              "<style scoped>\n",
              "    .dataframe tbody tr th:only-of-type {\n",
              "        vertical-align: middle;\n",
              "    }\n",
              "\n",
              "    .dataframe tbody tr th {\n",
              "        vertical-align: top;\n",
              "    }\n",
              "\n",
              "    .dataframe thead th {\n",
              "        text-align: right;\n",
              "    }\n",
              "</style>\n",
              "<table border=\"1\" class=\"dataframe\">\n",
              "  <thead>\n",
              "    <tr style=\"text-align: right;\">\n",
              "      <th></th>\n",
              "      <th>LotArea</th>\n",
              "      <th>BldgType</th>\n",
              "      <th>OverallQual</th>\n",
              "      <th>OverallCond</th>\n",
              "      <th>YearBuilt</th>\n",
              "      <th>YearRemodAdd</th>\n",
              "      <th>GrLivArea</th>\n",
              "      <th>FullBath</th>\n",
              "      <th>TotRmsAbvGrd</th>\n",
              "      <th>Fireplaces</th>\n",
              "      <th>MoSold</th>\n",
              "      <th>YrSold</th>\n",
              "      <th>SalePrice</th>\n",
              "    </tr>\n",
              "  </thead>\n",
              "  <tbody>\n",
              "    <tr>\n",
              "      <th>0</th>\n",
              "      <td>8450</td>\n",
              "      <td>1Fam</td>\n",
              "      <td>7</td>\n",
              "      <td>5</td>\n",
              "      <td>2003</td>\n",
              "      <td>2003</td>\n",
              "      <td>1710</td>\n",
              "      <td>2</td>\n",
              "      <td>8</td>\n",
              "      <td>0</td>\n",
              "      <td>2</td>\n",
              "      <td>2008</td>\n",
              "      <td>208500</td>\n",
              "    </tr>\n",
              "    <tr>\n",
              "      <th>1</th>\n",
              "      <td>9600</td>\n",
              "      <td>1Fam</td>\n",
              "      <td>6</td>\n",
              "      <td>8</td>\n",
              "      <td>1976</td>\n",
              "      <td>1976</td>\n",
              "      <td>1262</td>\n",
              "      <td>2</td>\n",
              "      <td>6</td>\n",
              "      <td>1</td>\n",
              "      <td>5</td>\n",
              "      <td>2007</td>\n",
              "      <td>181500</td>\n",
              "    </tr>\n",
              "    <tr>\n",
              "      <th>2</th>\n",
              "      <td>11250</td>\n",
              "      <td>1Fam</td>\n",
              "      <td>7</td>\n",
              "      <td>5</td>\n",
              "      <td>2001</td>\n",
              "      <td>2002</td>\n",
              "      <td>1786</td>\n",
              "      <td>2</td>\n",
              "      <td>6</td>\n",
              "      <td>1</td>\n",
              "      <td>9</td>\n",
              "      <td>2008</td>\n",
              "      <td>223500</td>\n",
              "    </tr>\n",
              "    <tr>\n",
              "      <th>3</th>\n",
              "      <td>9550</td>\n",
              "      <td>1Fam</td>\n",
              "      <td>7</td>\n",
              "      <td>5</td>\n",
              "      <td>1915</td>\n",
              "      <td>1970</td>\n",
              "      <td>1717</td>\n",
              "      <td>1</td>\n",
              "      <td>7</td>\n",
              "      <td>1</td>\n",
              "      <td>2</td>\n",
              "      <td>2006</td>\n",
              "      <td>140000</td>\n",
              "    </tr>\n",
              "    <tr>\n",
              "      <th>4</th>\n",
              "      <td>14260</td>\n",
              "      <td>1Fam</td>\n",
              "      <td>8</td>\n",
              "      <td>5</td>\n",
              "      <td>2000</td>\n",
              "      <td>2000</td>\n",
              "      <td>2198</td>\n",
              "      <td>2</td>\n",
              "      <td>9</td>\n",
              "      <td>1</td>\n",
              "      <td>12</td>\n",
              "      <td>2008</td>\n",
              "      <td>250000</td>\n",
              "    </tr>\n",
              "  </tbody>\n",
              "</table>\n",
              "</div>\n",
              "      <button class=\"colab-df-convert\" onclick=\"convertToInteractive('df-e812d80d-321c-421a-bfa8-5955d1a9f613')\"\n",
              "              title=\"Convert this dataframe to an interactive table.\"\n",
              "              style=\"display:none;\">\n",
              "        \n",
              "  <svg xmlns=\"http://www.w3.org/2000/svg\" height=\"24px\"viewBox=\"0 0 24 24\"\n",
              "       width=\"24px\">\n",
              "    <path d=\"M0 0h24v24H0V0z\" fill=\"none\"/>\n",
              "    <path d=\"M18.56 5.44l.94 2.06.94-2.06 2.06-.94-2.06-.94-.94-2.06-.94 2.06-2.06.94zm-11 1L8.5 8.5l.94-2.06 2.06-.94-2.06-.94L8.5 2.5l-.94 2.06-2.06.94zm10 10l.94 2.06.94-2.06 2.06-.94-2.06-.94-.94-2.06-.94 2.06-2.06.94z\"/><path d=\"M17.41 7.96l-1.37-1.37c-.4-.4-.92-.59-1.43-.59-.52 0-1.04.2-1.43.59L10.3 9.45l-7.72 7.72c-.78.78-.78 2.05 0 2.83L4 21.41c.39.39.9.59 1.41.59.51 0 1.02-.2 1.41-.59l7.78-7.78 2.81-2.81c.8-.78.8-2.07 0-2.86zM5.41 20L4 18.59l7.72-7.72 1.47 1.35L5.41 20z\"/>\n",
              "  </svg>\n",
              "      </button>\n",
              "      \n",
              "  <style>\n",
              "    .colab-df-container {\n",
              "      display:flex;\n",
              "      flex-wrap:wrap;\n",
              "      gap: 12px;\n",
              "    }\n",
              "\n",
              "    .colab-df-convert {\n",
              "      background-color: #E8F0FE;\n",
              "      border: none;\n",
              "      border-radius: 50%;\n",
              "      cursor: pointer;\n",
              "      display: none;\n",
              "      fill: #1967D2;\n",
              "      height: 32px;\n",
              "      padding: 0 0 0 0;\n",
              "      width: 32px;\n",
              "    }\n",
              "\n",
              "    .colab-df-convert:hover {\n",
              "      background-color: #E2EBFA;\n",
              "      box-shadow: 0px 1px 2px rgba(60, 64, 67, 0.3), 0px 1px 3px 1px rgba(60, 64, 67, 0.15);\n",
              "      fill: #174EA6;\n",
              "    }\n",
              "\n",
              "    [theme=dark] .colab-df-convert {\n",
              "      background-color: #3B4455;\n",
              "      fill: #D2E3FC;\n",
              "    }\n",
              "\n",
              "    [theme=dark] .colab-df-convert:hover {\n",
              "      background-color: #434B5C;\n",
              "      box-shadow: 0px 1px 3px 1px rgba(0, 0, 0, 0.15);\n",
              "      filter: drop-shadow(0px 1px 2px rgba(0, 0, 0, 0.3));\n",
              "      fill: #FFFFFF;\n",
              "    }\n",
              "  </style>\n",
              "\n",
              "      <script>\n",
              "        const buttonEl =\n",
              "          document.querySelector('#df-e812d80d-321c-421a-bfa8-5955d1a9f613 button.colab-df-convert');\n",
              "        buttonEl.style.display =\n",
              "          google.colab.kernel.accessAllowed ? 'block' : 'none';\n",
              "\n",
              "        async function convertToInteractive(key) {\n",
              "          const element = document.querySelector('#df-e812d80d-321c-421a-bfa8-5955d1a9f613');\n",
              "          const dataTable =\n",
              "            await google.colab.kernel.invokeFunction('convertToInteractive',\n",
              "                                                     [key], {});\n",
              "          if (!dataTable) return;\n",
              "\n",
              "          const docLinkHtml = 'Like what you see? Visit the ' +\n",
              "            '<a target=\"_blank\" href=https://colab.research.google.com/notebooks/data_table.ipynb>data table notebook</a>'\n",
              "            + ' to learn more about interactive tables.';\n",
              "          element.innerHTML = '';\n",
              "          dataTable['output_type'] = 'display_data';\n",
              "          await google.colab.output.renderOutput(dataTable, element);\n",
              "          const docLink = document.createElement('div');\n",
              "          docLink.innerHTML = docLinkHtml;\n",
              "          element.appendChild(docLink);\n",
              "        }\n",
              "      </script>\n",
              "    </div>\n",
              "  </div>\n",
              "  "
            ],
            "text/plain": [
              "   LotArea BldgType  OverallQual  ...  MoSold  YrSold  SalePrice\n",
              "0     8450     1Fam            7  ...       2    2008     208500\n",
              "1     9600     1Fam            6  ...       5    2007     181500\n",
              "2    11250     1Fam            7  ...       9    2008     223500\n",
              "3     9550     1Fam            7  ...       2    2006     140000\n",
              "4    14260     1Fam            8  ...      12    2008     250000\n",
              "\n",
              "[5 rows x 13 columns]"
            ]
          },
          "metadata": {}
        },
        {
          "output_type": "stream",
          "name": "stdout",
          "text": [
            "<class 'pandas.core.frame.DataFrame'>\n",
            "RangeIndex: 1460 entries, 0 to 1459\n",
            "Data columns (total 13 columns):\n",
            " #   Column        Non-Null Count  Dtype \n",
            "---  ------        --------------  ----- \n",
            " 0   LotArea       1460 non-null   int64 \n",
            " 1   BldgType      1460 non-null   object\n",
            " 2   OverallQual   1460 non-null   int64 \n",
            " 3   OverallCond   1460 non-null   int64 \n",
            " 4   YearBuilt     1460 non-null   int64 \n",
            " 5   YearRemodAdd  1460 non-null   int64 \n",
            " 6   GrLivArea     1460 non-null   int64 \n",
            " 7   FullBath      1460 non-null   int64 \n",
            " 8   TotRmsAbvGrd  1460 non-null   int64 \n",
            " 9   Fireplaces    1460 non-null   int64 \n",
            " 10  MoSold        1460 non-null   int64 \n",
            " 11  YrSold        1460 non-null   int64 \n",
            " 12  SalePrice     1460 non-null   int64 \n",
            "dtypes: int64(12), object(1)\n",
            "memory usage: 148.4+ KB\n"
          ]
        }
      ],
      "source": [
        "cols_to_use = ['YrSold', 'MoSold', 'Fireplaces', 'TotRmsAbvGrd', 'GrLivArea',\n",
        "          'FullBath', 'YearRemodAdd', 'YearBuilt', 'OverallCond', \n",
        "          'OverallQual', 'LotArea', 'SalePrice','BldgType']\n",
        "\n",
        "df = pd.read_csv(\"https://docs.google.com/spreadsheets/d/e/2PACX-1vSECHeeoC-lvBG1TA-1DXC5m2VKZ5QqwKRBSTOBW_ivkl40nvNDBYpNzq4X6jmWSzatT4Sr2K-K4Ou2/pub?output=csv\",\n",
        "                usecols=cols_to_use\n",
        "                )\n",
        "display(df.head())\n",
        "df.info()"
      ]
    },
    {
      "cell_type": "markdown",
      "metadata": {
        "id": "FUd6Ahp9fVrh"
      },
      "source": [
        "# The Many Ways of Making a Figure in Python"
      ]
    },
    {
      "cell_type": "markdown",
      "metadata": {
        "ExecuteTime": {
          "end_time": "2021-08-02T21:18:24.975028Z",
          "start_time": "2021-08-02T21:18:24.969082Z"
        },
        "id": "UWdTw33ZfVrh"
      },
      "source": [
        "- There are MANY ways to make data visualizations with Python. \n",
        "- Today, we will focus on non-interactive visualizations.( Sorry, Plotly Express :*-( )\n",
        "\n",
        "- The ~4 Different Ways to Plot with Python:\n",
        "\n",
        "    1. Matplotlib plt functions:\n",
        "        - `plt.plot`/`plt.bar`,`plt.hist`, etc.      \n",
        "    2. Matploltib OOP interface:\n",
        "       ```python \n",
        "       fig, ax =plt.subplots()\n",
        "       ax.plot#/ax.hist, ax.bar, etc\n",
        "        ```\n",
        "        \n",
        "    3. Pandas:\n",
        "        ```python\n",
        "        # using .plot\n",
        "         ax = df.plot(kind='hist)\n",
        "\n",
        "         # using .hist\n",
        "         ax = df.hist(bins='auto')\n",
        "        ```\n",
        "        \n",
        "    4. Seaborn:\n",
        "        ```python\n",
        "         sns.histplot(data=df,x='Price')\n",
        "         sns.regplot(data=df,x='Sqft',y='Price\n",
        "        ```  \n",
        "\n",
        "- **All 4 of these approaches to making figures with Python ultimately use matplotlib behind the scenes.**"
      ]
    },
    {
      "cell_type": "markdown",
      "metadata": {
        "id": "3Vv08fR2fVrh"
      },
      "source": [
        "> For this section of the notebook, we will focus on answering one question in each of the 4+ different ways. \n",
        "> #### Q1: What is the distribution of house prices in Ames, Iowa?"
      ]
    },
    {
      "cell_type": "markdown",
      "metadata": {
        "ExecuteTime": {
          "end_time": "2021-08-02T21:35:35.719097Z",
          "start_time": "2021-08-02T21:35:35.717378Z"
        },
        "id": "cVDqUh3EfVrh"
      },
      "source": [
        "## Method 01: Using Matplotlib Plt Functions"
      ]
    },
    {
      "cell_type": "markdown",
      "metadata": {
        "id": "MHNQOSkMfVri"
      },
      "source": [
        "- Select the correct plt function and plot the data.\n",
        "- Make sure that:\n",
        "    - We have an xlabel,ylabel, and title.\n",
        "    - the figure is large enough\n",
        "- Add a vertical line for the mean, including a label with the mean. \n",
        "    - Make sure its: \n",
        "        - Different color than the bars\n",
        "        - a dotted line\n",
        "- Add a legend "
      ]
    },
    {
      "cell_type": "markdown",
      "metadata": {
        "id": "7ubNsh0afVri"
      },
      "source": [
        "#### Plot 1: Sale Price Distribution"
      ]
    },
    {
      "cell_type": "code",
      "source": [
        "plt.rcParams['figure.figsize']"
      ],
      "metadata": {
        "colab": {
          "base_uri": "https://localhost:8080/"
        },
        "id": "SwsqifNpKQlz",
        "outputId": "982ea30c-c95e-426b-c8f0-fe9c6654079b"
      },
      "execution_count": 16,
      "outputs": [
        {
          "output_type": "execute_result",
          "data": {
            "text/plain": [
              "[6.0, 4.0]"
            ]
          },
          "metadata": {},
          "execution_count": 16
        }
      ]
    },
    {
      "cell_type": "code",
      "source": [
        "plt.rcParams['figure.figsize'] = (8,5)"
      ],
      "metadata": {
        "id": "VW4GjVpLKZwb"
      },
      "execution_count": 17,
      "outputs": []
    },
    {
      "cell_type": "code",
      "execution_count": 31,
      "metadata": {
        "ExecuteTime": {
          "end_time": "2021-08-05T17:45:50.103333Z",
          "start_time": "2021-08-05T17:45:50.101484Z"
        },
        "id": "XDDsFfrufVri",
        "colab": {
          "base_uri": "https://localhost:8080/",
          "height": 350
        },
        "outputId": "6bfb6abd-3821-461e-8444-85fa996e823a"
      },
      "outputs": [
        {
          "output_type": "display_data",
          "data": {
            "image/png": "[encoded data removed]",
            "text/plain": [
              "<Figure size 576x360 with 1 Axes>"
            ]
          },
          "metadata": {
            "needs_background": "light"
          }
        }
      ],
      "source": [
        "#Plot 1: Sale Price Distribution\n",
        "# figsize= (8,5)\n",
        "# plt.figure(figsize=figsize)\n",
        "\n",
        "plt.hist(df['SalePrice'],bins='auto')\n",
        "median = df['SalePrice'].median()\n",
        "\n",
        "plt.axvline(median, color='k',ls=\":\",\n",
        "            label=f\"Median ={median}\")\n",
        "\n",
        "\n",
        "plt.axvline(df['SalePrice'].mean(), color='red',ls=\":\",\n",
        "            label=f\"Mean ={round(df['SalePrice'].mean(),2) }\")\n",
        "\n",
        "plt.xlabel(\"Sale Price ($)\")\n",
        "plt.ylabel(\"# of Homes\")\n",
        "plt.title(\"Distribution of Price\")\n",
        "plt.legend();"
      ]
    },
    {
      "cell_type": "markdown",
      "metadata": {
        "id": "i8VwblzjfVri"
      },
      "source": [
        "## Method 02: Using Matplotlib OOP Interface"
      ]
    },
    {
      "cell_type": "markdown",
      "metadata": {
        "id": "85DRRowlfVri"
      },
      "source": [
        "#### A Tale of Two Syntaxes\n",
        "-  *Matplotlib is powerful but can be a bit confusing at times because of its 2 sets of commands:*\n",
        "    - the matplotlib.pyplot functions (`plt.bar()`,`plt.title()`)\n",
        "    - the object_oriented methods (`ax.bar()`,`ax.set_title()`)\n",
        "    \n",
        "- The 2 syntaxes can be confusing at first and cause problems & odd results when mixed together.\n",
        "    - Learn about some of the problems when mixing types.\n",
        "    - Example: see how plt.title()/plt.xlabel(),etc. can behave strangely in subplots.\n",
        "    \n",
        "    - **Bookmark this article, its the best explanation of how matploblib'S 2 interfaces work:**\n",
        "> [\"Artist\" in Matplotlib - something I wanted to know before spending tremendous hours on googling how-tos.](https://dev.to/skotaro/artist-in-matplotlib---something-i-wanted-to-know-before-spending-tremendous-hours-on-googling-how-tos--31oo)<br>\n",
        "\n",
        "<!-- - [My Blog Post on Making Customized Figures in seaborn](https://jirvingphd.github.io/harnessing_seaborn_subplots_for_eda)\n",
        "    - This covers some concepts we didn't have time to cover, like ticklabel formatters. -->\n",
        "\n",
        ">- ***So... what are \"object-oriented-methods\" anyway?***"
      ]
    },
    {
      "cell_type": "markdown",
      "metadata": {
        "id": "I02eAtybfVri"
      },
      "source": [
        "### OOP Crash Course"
      ]
    },
    {
      "cell_type": "markdown",
      "metadata": {
        "id": "S3MmpZ9lfVri"
      },
      "source": [
        "- **Object-Oriented Programming (OOP):**\n",
        "    - OOP is all about working with Classes, which are the blueprints for a type of variable. \n",
        "    - Objects/classes can have functions that are attached to the object. \n",
        "        - When a function is attached to a class its called a **method**\n",
        "    - Object can also store variables inside themselves. \n",
        "        - When a variable is attached to an object it is called an **attribute**\n",
        "        \n",
        "        \n",
        "- OOP Examples You already Know:\n",
        "    - `pd.DataFrame` is a class\n",
        "    - `df = pd.DataFrame(...)` creates a dataframe object.\n",
        "    - DataFrames have **atrributes**:\n",
        "        - `df.columns`\n",
        "        - `df.index`\n",
        "        - `df.dtypes`\n",
        "    - DataFrames have **methods**\n",
        "        - `df.head()`\n",
        "        - `df.sort_values()`\n",
        "        - `df.info()`\n",
        "        - `df.dropna()`\n",
        "        - `df.plot()`\n",
        "        \n",
        "        \n",
        "- You will learn about classes in Phase 3.\n",
        "        "
      ]
    },
    {
      "cell_type": "markdown",
      "metadata": {
        "id": "3VKFNOr7fVri"
      },
      "source": [
        "### Anatomy of a Matplotlib Figure\n",
        "\n"
      ]
    },
    {
      "cell_type": "markdown",
      "metadata": {
        "id": "tAGYB195T6aR"
      },
      "source": [
        "<center><img src=\"https://raw.githubusercontent.com/jirvingphd/fsds_100719_cohort_notes/master/images/matplotlib_anatomy.png\" width=400></center>\n",
        "\n",
        "- Matplotlib Figures are composed of 3 different types of objects:\n",
        "    - `Figure` is the largest bucket and contains everything else. It is like a picture frame without any actual images in it.\n",
        "  - `Axes` are the actual plot / image inside of the Figure / frame. \n",
        "        - this is the same `ax` as in `fig, ax = plt.subplots()` and that is returned when you create a Pandas or Seaborn figure.\n",
        "        - There is an 'Axes` for each subplot in the Figure\n",
        "\n",
        "        "
      ]
    },
    {
      "cell_type": "code",
      "execution_count": 32,
      "metadata": {
        "ExecuteTime": {
          "end_time": "2021-08-05T17:45:50.107328Z",
          "start_time": "2021-08-05T17:45:50.105484Z"
        },
        "id": "CM5tS0ObfVri",
        "colab": {
          "base_uri": "https://localhost:8080/",
          "height": 324
        },
        "outputId": "b49fc112-eaf7-4911-a950-0a9076b30e51"
      },
      "outputs": [
        {
          "output_type": "display_data",
          "data": {
            "image/png": "[encoded data removed]",
            "text/plain": [
              "<Figure size 576x360 with 1 Axes>"
            ]
          },
          "metadata": {
            "needs_background": "light"
          }
        }
      ],
      "source": [
        "## Make an empty figure and ax with plt.subplots\n",
        "fig, ax = plt.subplots()"
      ]
    },
    {
      "cell_type": "code",
      "execution_count": 34,
      "metadata": {
        "ExecuteTime": {
          "end_time": "2021-08-05T17:45:57.870961Z",
          "start_time": "2021-08-05T17:45:57.868733Z"
        },
        "id": "iYza_cHcfVri"
      },
      "outputs": [],
      "source": [
        "## Run help on fig \n",
        "# help(fig)"
      ]
    },
    {
      "cell_type": "markdown",
      "metadata": {
        "id": "X5Nd2Nw8fVrj"
      },
      "source": [
        "#### Anatomy of an Axes\n",
        "- `Axes` contain information about the titles, labels, grid,background, they also contain an. See the figure below for the contents of `Axes`\n",
        "- Inside Axes there is an `Axis` which is further divided into an `Axis.xaxis` and an `Axis.yaxis` that contain the ticks and the tick lables.\n",
        "\n",
        "    <center><img src=\"https://raw.githubusercontent.com/jirvingphd/fsds_100719_cohort_notes/master/images/matplotlib_Axes_layout2.png\" width=500></center>\n",
        "    \n",
        "- However, axes do NOT actually contain the VISUAL for the figure, just the information.\n",
        "  "
      ]
    },
    {
      "cell_type": "code",
      "source": [
        "fig, ax = plt.subplots(figsize= (8,5))\n",
        "\n",
        "ax.hist(df['SalePrice'],bins='auto')\n",
        "median = df['SalePrice'].median()\n",
        "\n",
        "ax.axvline(median, color='k',ls=\":\",\n",
        "            label=f\"Median ={median}\")\n",
        "\n",
        "\n",
        "ax.axvline(df['SalePrice'].mean(), color='red',ls=\":\",\n",
        "            label=f\"Mean ={round(df['SalePrice'].mean(),2) }\")\n",
        "ax.legend();\n",
        "\n",
        "ax.set_xlabel(\"Sale Price ($)\")\n",
        "ax.set_ylabel(\"# of Homes\")\n",
        "ax.set_title(\"Distribution of Price\")\n",
        "\n"
      ],
      "metadata": {
        "colab": {
          "base_uri": "https://localhost:8080/",
          "height": 367
        },
        "id": "IIIAH_dSNpaz",
        "outputId": "b62129b5-1799-4ed1-c572-caf34dce9e3d"
      },
      "execution_count": 39,
      "outputs": [
        {
          "output_type": "execute_result",
          "data": {
            "text/plain": [
              "Text(0.5, 1.0, 'Distribution of Price')"
            ]
          },
          "metadata": {},
          "execution_count": 39
        },
        {
          "output_type": "display_data",
          "data": {
            "image/png": "[encoded data removed]",
            "text/plain": [
              "<Figure size 576x360 with 1 Axes>"
            ]
          },
          "metadata": {
            "needs_background": "light"
          }
        }
      ]
    },
    {
      "cell_type": "markdown",
      "metadata": {
        "id": "xtvbA3fgfVrj"
      },
      "source": [
        "#### Now, let's make our figure with Method 02"
      ]
    },
    {
      "cell_type": "code",
      "execution_count": 41,
      "metadata": {
        "ExecuteTime": {
          "end_time": "2021-08-05T17:46:03.946099Z",
          "start_time": "2021-08-05T17:46:03.943832Z"
        },
        "scrolled": true,
        "id": "SruYtRLTfVrj",
        "colab": {
          "base_uri": "https://localhost:8080/",
          "height": 350
        },
        "outputId": "8d04c1df-1300-4186-e566-fe922ccde15c"
      },
      "outputs": [
        {
          "output_type": "display_data",
          "data": {
            "image/png": "[encoded data removed]",
            "text/plain": [
              "<Figure size 576x360 with 1 Axes>"
            ]
          },
          "metadata": {
            "needs_background": "light"
          }
        }
      ],
      "source": [
        "#Plot 1: Sale Price Distribution - OOP\n",
        "fig, ax = plt.subplots(figsize= (8,5))\n",
        "\n",
        "ax.hist(df['SalePrice'],bins='auto')\n",
        "median = df['SalePrice'].median()\n",
        "\n",
        "ax.axvline(median, color='k',ls=\":\",\n",
        "            label=f\"Median ={median}\")\n",
        "\n",
        "\n",
        "ax.axvline(df['SalePrice'].mean(), color='red',ls=\":\",\n",
        "            label=f\"Mean ={round(df['SalePrice'].mean(),2) }\")\n",
        "ax.legend();\n",
        "\n",
        "ax.set(xlabel=\"Sale Price ($)\", ylabel=\"# of Homes\",title= \"Distribution of Price\");"
      ]
    },
    {
      "cell_type": "markdown",
      "metadata": {
        "id": "TlLOmI17fVrj"
      },
      "source": [
        "> Note: if you don't need to customize fonts, you can **combine all `ax.set_xxxx(` commands (`ax.set_title`,`ax.set_xlabel`, etc) into 1 `ax.set()`"
      ]
    },
    {
      "cell_type": "markdown",
      "metadata": {
        "id": "hmW6LWxffVrj"
      },
      "source": [
        "## Method 03: Plot with Pandas"
      ]
    },
    {
      "cell_type": "markdown",
      "metadata": {
        "id": "T8a-w9PWfVrj"
      },
      "source": [
        "- Pandas's dataframes and series have a `.plot()` method\n",
        "    - [Documentation](https://pandas.pydata.org/docs/reference/api/pandas.DataFrame.plot.html)\n",
        "    - The `kind` argument lets us specify if we want: \n",
        "        - \"scatter\"\n",
        "        - \"hist\"\n",
        "        - \"bar\"\n",
        "        - \"barh\"\n",
        "        - etc.\n",
        "    - There are also some additional plotting methods:\n",
        "        - e.g.: `df.hist()`"
      ]
    },
    {
      "cell_type": "code",
      "execution_count": 43,
      "metadata": {
        "ExecuteTime": {
          "end_time": "2021-08-05T17:50:10.188647Z",
          "start_time": "2021-08-05T17:50:10.186373Z"
        },
        "id": "F9J7FL1nfVrj",
        "colab": {
          "base_uri": "https://localhost:8080/",
          "height": 670
        },
        "outputId": "c2b353b6-aac4-41b4-e1d3-695722ec703c"
      },
      "outputs": [
        {
          "output_type": "error",
          "ename": "ValueError",
          "evalue": "ignored",
          "traceback": [
            "\u001b[0;31m---------------------------------------------------------------------------\u001b[0m",
            "\u001b[0;31mValueError\u001b[0m                                Traceback (most recent call last)",
            "\u001b[0;32m<ipython-input-43-3d71f3e85f2c>\u001b[0m in \u001b[0;36m<module>\u001b[0;34m()\u001b[0m\n\u001b[1;32m      1\u001b[0m \u001b[0;31m# Plot 1: Sale Price Distribution - pandas .plot kind=hist\u001b[0m\u001b[0;34m\u001b[0m\u001b[0;34m\u001b[0m\u001b[0;34m\u001b[0m\u001b[0m\n\u001b[0;32m----> 2\u001b[0;31m \u001b[0mdf\u001b[0m\u001b[0;34m[\u001b[0m\u001b[0;34m\"SalePrice\"\u001b[0m\u001b[0;34m]\u001b[0m\u001b[0;34m.\u001b[0m\u001b[0mplot\u001b[0m\u001b[0;34m(\u001b[0m\u001b[0mkind\u001b[0m\u001b[0;34m=\u001b[0m\u001b[0;34m'hist'\u001b[0m\u001b[0;34m,\u001b[0m\u001b[0mbins\u001b[0m\u001b[0;34m=\u001b[0m\u001b[0;34m'auto'\u001b[0m\u001b[0;34m)\u001b[0m\u001b[0;34m\u001b[0m\u001b[0;34m\u001b[0m\u001b[0m\n\u001b[0m",
            "\u001b[0;32m/usr/local/lib/python3.7/dist-packages/pandas/plotting/_core.py\u001b[0m in \u001b[0;36m__call__\u001b[0;34m(self, *args, **kwargs)\u001b[0m\n\u001b[1;32m    970\u001b[0m                     \u001b[0mdata\u001b[0m\u001b[0;34m.\u001b[0m\u001b[0mcolumns\u001b[0m \u001b[0;34m=\u001b[0m \u001b[0mlabel_name\u001b[0m\u001b[0;34m\u001b[0m\u001b[0;34m\u001b[0m\u001b[0m\n\u001b[1;32m    971\u001b[0m \u001b[0;34m\u001b[0m\u001b[0m\n\u001b[0;32m--> 972\u001b[0;31m         \u001b[0;32mreturn\u001b[0m \u001b[0mplot_backend\u001b[0m\u001b[0;34m.\u001b[0m\u001b[0mplot\u001b[0m\u001b[0;34m(\u001b[0m\u001b[0mdata\u001b[0m\u001b[0;34m,\u001b[0m \u001b[0mkind\u001b[0m\u001b[0;34m=\u001b[0m\u001b[0mkind\u001b[0m\u001b[0;34m,\u001b[0m \u001b[0;34m**\u001b[0m\u001b[0mkwargs\u001b[0m\u001b[0;34m)\u001b[0m\u001b[0;34m\u001b[0m\u001b[0;34m\u001b[0m\u001b[0m\n\u001b[0m\u001b[1;32m    973\u001b[0m \u001b[0;34m\u001b[0m\u001b[0m\n\u001b[1;32m    974\u001b[0m     \u001b[0m__call__\u001b[0m\u001b[0;34m.\u001b[0m\u001b[0m__doc__\u001b[0m \u001b[0;34m=\u001b[0m \u001b[0m__doc__\u001b[0m\u001b[0;34m\u001b[0m\u001b[0;34m\u001b[0m\u001b[0m\n",
            "\u001b[0;32m/usr/local/lib/python3.7/dist-packages/pandas/plotting/_matplotlib/__init__.py\u001b[0m in \u001b[0;36mplot\u001b[0;34m(data, kind, **kwargs)\u001b[0m\n\u001b[1;32m     69\u001b[0m             \u001b[0mkwargs\u001b[0m\u001b[0;34m[\u001b[0m\u001b[0;34m\"ax\"\u001b[0m\u001b[0;34m]\u001b[0m \u001b[0;34m=\u001b[0m \u001b[0mgetattr\u001b[0m\u001b[0;34m(\u001b[0m\u001b[0max\u001b[0m\u001b[0;34m,\u001b[0m \u001b[0;34m\"left_ax\"\u001b[0m\u001b[0;34m,\u001b[0m \u001b[0max\u001b[0m\u001b[0;34m)\u001b[0m\u001b[0;34m\u001b[0m\u001b[0;34m\u001b[0m\u001b[0m\n\u001b[1;32m     70\u001b[0m     \u001b[0mplot_obj\u001b[0m \u001b[0;34m=\u001b[0m \u001b[0mPLOT_CLASSES\u001b[0m\u001b[0;34m[\u001b[0m\u001b[0mkind\u001b[0m\u001b[0;34m]\u001b[0m\u001b[0;34m(\u001b[0m\u001b[0mdata\u001b[0m\u001b[0;34m,\u001b[0m \u001b[0;34m**\u001b[0m\u001b[0mkwargs\u001b[0m\u001b[0;34m)\u001b[0m\u001b[0;34m\u001b[0m\u001b[0;34m\u001b[0m\u001b[0m\n\u001b[0;32m---> 71\u001b[0;31m     \u001b[0mplot_obj\u001b[0m\u001b[0;34m.\u001b[0m\u001b[0mgenerate\u001b[0m\u001b[0;34m(\u001b[0m\u001b[0;34m)\u001b[0m\u001b[0;34m\u001b[0m\u001b[0;34m\u001b[0m\u001b[0m\n\u001b[0m\u001b[1;32m     72\u001b[0m     \u001b[0mplot_obj\u001b[0m\u001b[0;34m.\u001b[0m\u001b[0mdraw\u001b[0m\u001b[0;34m(\u001b[0m\u001b[0;34m)\u001b[0m\u001b[0;34m\u001b[0m\u001b[0;34m\u001b[0m\u001b[0m\n\u001b[1;32m     73\u001b[0m     \u001b[0;32mreturn\u001b[0m \u001b[0mplot_obj\u001b[0m\u001b[0;34m.\u001b[0m\u001b[0mresult\u001b[0m\u001b[0;34m\u001b[0m\u001b[0;34m\u001b[0m\u001b[0m\n",
            "\u001b[0;32m/usr/local/lib/python3.7/dist-packages/pandas/plotting/_matplotlib/core.py\u001b[0m in \u001b[0;36mgenerate\u001b[0;34m(self)\u001b[0m\n\u001b[1;32m    286\u001b[0m         \u001b[0mself\u001b[0m\u001b[0;34m.\u001b[0m\u001b[0m_compute_plot_data\u001b[0m\u001b[0;34m(\u001b[0m\u001b[0;34m)\u001b[0m\u001b[0;34m\u001b[0m\u001b[0;34m\u001b[0m\u001b[0m\n\u001b[1;32m    287\u001b[0m         \u001b[0mself\u001b[0m\u001b[0;34m.\u001b[0m\u001b[0m_setup_subplots\u001b[0m\u001b[0;34m(\u001b[0m\u001b[0;34m)\u001b[0m\u001b[0;34m\u001b[0m\u001b[0;34m\u001b[0m\u001b[0m\n\u001b[0;32m--> 288\u001b[0;31m         \u001b[0mself\u001b[0m\u001b[0;34m.\u001b[0m\u001b[0m_make_plot\u001b[0m\u001b[0;34m(\u001b[0m\u001b[0;34m)\u001b[0m\u001b[0;34m\u001b[0m\u001b[0;34m\u001b[0m\u001b[0m\n\u001b[0m\u001b[1;32m    289\u001b[0m         \u001b[0mself\u001b[0m\u001b[0;34m.\u001b[0m\u001b[0m_add_table\u001b[0m\u001b[0;34m(\u001b[0m\u001b[0;34m)\u001b[0m\u001b[0;34m\u001b[0m\u001b[0;34m\u001b[0m\u001b[0m\n\u001b[1;32m    290\u001b[0m         \u001b[0mself\u001b[0m\u001b[0;34m.\u001b[0m\u001b[0m_make_legend\u001b[0m\u001b[0;34m(\u001b[0m\u001b[0;34m)\u001b[0m\u001b[0;34m\u001b[0m\u001b[0;34m\u001b[0m\u001b[0m\n",
            "\u001b[0;32m/usr/local/lib/python3.7/dist-packages/pandas/plotting/_matplotlib/hist.py\u001b[0m in \u001b[0;36m_make_plot\u001b[0;34m(self)\u001b[0m\n\u001b[1;32m    106\u001b[0m                 \u001b[0mkwds\u001b[0m\u001b[0;34m[\u001b[0m\u001b[0;34m\"weights\"\u001b[0m\u001b[0;34m]\u001b[0m \u001b[0;34m=\u001b[0m \u001b[0mweights\u001b[0m\u001b[0;34m[\u001b[0m\u001b[0;34m:\u001b[0m\u001b[0;34m,\u001b[0m \u001b[0mi\u001b[0m\u001b[0;34m]\u001b[0m\u001b[0;34m\u001b[0m\u001b[0;34m\u001b[0m\u001b[0m\n\u001b[1;32m    107\u001b[0m \u001b[0;34m\u001b[0m\u001b[0m\n\u001b[0;32m--> 108\u001b[0;31m             \u001b[0martists\u001b[0m \u001b[0;34m=\u001b[0m \u001b[0mself\u001b[0m\u001b[0;34m.\u001b[0m\u001b[0m_plot\u001b[0m\u001b[0;34m(\u001b[0m\u001b[0max\u001b[0m\u001b[0;34m,\u001b[0m \u001b[0my\u001b[0m\u001b[0;34m,\u001b[0m \u001b[0mcolumn_num\u001b[0m\u001b[0;34m=\u001b[0m\u001b[0mi\u001b[0m\u001b[0;34m,\u001b[0m \u001b[0mstacking_id\u001b[0m\u001b[0;34m=\u001b[0m\u001b[0mstacking_id\u001b[0m\u001b[0;34m,\u001b[0m \u001b[0;34m**\u001b[0m\u001b[0mkwds\u001b[0m\u001b[0;34m)\u001b[0m\u001b[0;34m\u001b[0m\u001b[0;34m\u001b[0m\u001b[0m\n\u001b[0m\u001b[1;32m    109\u001b[0m             \u001b[0mself\u001b[0m\u001b[0;34m.\u001b[0m\u001b[0m_append_legend_handles_labels\u001b[0m\u001b[0;34m(\u001b[0m\u001b[0martists\u001b[0m\u001b[0;34m[\u001b[0m\u001b[0;36m0\u001b[0m\u001b[0;34m]\u001b[0m\u001b[0;34m,\u001b[0m \u001b[0mlabel\u001b[0m\u001b[0;34m)\u001b[0m\u001b[0;34m\u001b[0m\u001b[0;34m\u001b[0m\u001b[0m\n\u001b[1;32m    110\u001b[0m \u001b[0;34m\u001b[0m\u001b[0m\n",
            "\u001b[0;32m/usr/local/lib/python3.7/dist-packages/pandas/plotting/_matplotlib/hist.py\u001b[0m in \u001b[0;36m_plot\u001b[0;34m(cls, ax, y, style, bins, bottom, column_num, stacking_id, **kwds)\u001b[0m\n\u001b[1;32m     76\u001b[0m         \u001b[0mbottom\u001b[0m \u001b[0;34m=\u001b[0m \u001b[0mbottom\u001b[0m \u001b[0;34m+\u001b[0m \u001b[0mcls\u001b[0m\u001b[0;34m.\u001b[0m\u001b[0m_get_stacked_values\u001b[0m\u001b[0;34m(\u001b[0m\u001b[0max\u001b[0m\u001b[0;34m,\u001b[0m \u001b[0mstacking_id\u001b[0m\u001b[0;34m,\u001b[0m \u001b[0mbase\u001b[0m\u001b[0;34m,\u001b[0m \u001b[0mkwds\u001b[0m\u001b[0;34m[\u001b[0m\u001b[0;34m\"label\"\u001b[0m\u001b[0;34m]\u001b[0m\u001b[0;34m)\u001b[0m\u001b[0;34m\u001b[0m\u001b[0;34m\u001b[0m\u001b[0m\n\u001b[1;32m     77\u001b[0m         \u001b[0;31m# ignore style\u001b[0m\u001b[0;34m\u001b[0m\u001b[0;34m\u001b[0m\u001b[0;34m\u001b[0m\u001b[0m\n\u001b[0;32m---> 78\u001b[0;31m         \u001b[0mn\u001b[0m\u001b[0;34m,\u001b[0m \u001b[0mbins\u001b[0m\u001b[0;34m,\u001b[0m \u001b[0mpatches\u001b[0m \u001b[0;34m=\u001b[0m \u001b[0max\u001b[0m\u001b[0;34m.\u001b[0m\u001b[0mhist\u001b[0m\u001b[0;34m(\u001b[0m\u001b[0my\u001b[0m\u001b[0;34m,\u001b[0m \u001b[0mbins\u001b[0m\u001b[0;34m=\u001b[0m\u001b[0mbins\u001b[0m\u001b[0;34m,\u001b[0m \u001b[0mbottom\u001b[0m\u001b[0;34m=\u001b[0m\u001b[0mbottom\u001b[0m\u001b[0;34m,\u001b[0m \u001b[0;34m**\u001b[0m\u001b[0mkwds\u001b[0m\u001b[0;34m)\u001b[0m\u001b[0;34m\u001b[0m\u001b[0;34m\u001b[0m\u001b[0m\n\u001b[0m\u001b[1;32m     79\u001b[0m         \u001b[0mcls\u001b[0m\u001b[0;34m.\u001b[0m\u001b[0m_update_stacker\u001b[0m\u001b[0;34m(\u001b[0m\u001b[0max\u001b[0m\u001b[0;34m,\u001b[0m \u001b[0mstacking_id\u001b[0m\u001b[0;34m,\u001b[0m \u001b[0mn\u001b[0m\u001b[0;34m)\u001b[0m\u001b[0;34m\u001b[0m\u001b[0;34m\u001b[0m\u001b[0m\n\u001b[1;32m     80\u001b[0m         \u001b[0;32mreturn\u001b[0m \u001b[0mpatches\u001b[0m\u001b[0;34m\u001b[0m\u001b[0;34m\u001b[0m\u001b[0m\n",
            "\u001b[0;32m/usr/local/lib/python3.7/dist-packages/matplotlib/__init__.py\u001b[0m in \u001b[0;36minner\u001b[0;34m(ax, data, *args, **kwargs)\u001b[0m\n\u001b[1;32m   1563\u001b[0m     \u001b[0;32mdef\u001b[0m \u001b[0minner\u001b[0m\u001b[0;34m(\u001b[0m\u001b[0max\u001b[0m\u001b[0;34m,\u001b[0m \u001b[0;34m*\u001b[0m\u001b[0margs\u001b[0m\u001b[0;34m,\u001b[0m \u001b[0mdata\u001b[0m\u001b[0;34m=\u001b[0m\u001b[0;32mNone\u001b[0m\u001b[0;34m,\u001b[0m \u001b[0;34m**\u001b[0m\u001b[0mkwargs\u001b[0m\u001b[0;34m)\u001b[0m\u001b[0;34m:\u001b[0m\u001b[0;34m\u001b[0m\u001b[0;34m\u001b[0m\u001b[0m\n\u001b[1;32m   1564\u001b[0m         \u001b[0;32mif\u001b[0m \u001b[0mdata\u001b[0m \u001b[0;32mis\u001b[0m \u001b[0;32mNone\u001b[0m\u001b[0;34m:\u001b[0m\u001b[0;34m\u001b[0m\u001b[0;34m\u001b[0m\u001b[0m\n\u001b[0;32m-> 1565\u001b[0;31m             \u001b[0;32mreturn\u001b[0m \u001b[0mfunc\u001b[0m\u001b[0;34m(\u001b[0m\u001b[0max\u001b[0m\u001b[0;34m,\u001b[0m \u001b[0;34m*\u001b[0m\u001b[0mmap\u001b[0m\u001b[0;34m(\u001b[0m\u001b[0msanitize_sequence\u001b[0m\u001b[0;34m,\u001b[0m \u001b[0margs\u001b[0m\u001b[0;34m)\u001b[0m\u001b[0;34m,\u001b[0m \u001b[0;34m**\u001b[0m\u001b[0mkwargs\u001b[0m\u001b[0;34m)\u001b[0m\u001b[0;34m\u001b[0m\u001b[0;34m\u001b[0m\u001b[0m\n\u001b[0m\u001b[1;32m   1566\u001b[0m \u001b[0;34m\u001b[0m\u001b[0m\n\u001b[1;32m   1567\u001b[0m         \u001b[0mbound\u001b[0m \u001b[0;34m=\u001b[0m \u001b[0mnew_sig\u001b[0m\u001b[0;34m.\u001b[0m\u001b[0mbind\u001b[0m\u001b[0;34m(\u001b[0m\u001b[0max\u001b[0m\u001b[0;34m,\u001b[0m \u001b[0;34m*\u001b[0m\u001b[0margs\u001b[0m\u001b[0;34m,\u001b[0m \u001b[0;34m**\u001b[0m\u001b[0mkwargs\u001b[0m\u001b[0;34m)\u001b[0m\u001b[0;34m\u001b[0m\u001b[0;34m\u001b[0m\u001b[0m\n",
            "\u001b[0;32m/usr/local/lib/python3.7/dist-packages/matplotlib/axes/_axes.py\u001b[0m in \u001b[0;36mhist\u001b[0;34m(self, x, bins, range, density, weights, cumulative, bottom, histtype, align, orientation, rwidth, log, color, label, stacked, **kwargs)\u001b[0m\n\u001b[1;32m   6727\u001b[0m                 patch = _barfunc(bins[:-1]+boffset, height, width,\n\u001b[1;32m   6728\u001b[0m                                  \u001b[0malign\u001b[0m\u001b[0;34m=\u001b[0m\u001b[0;34m'center'\u001b[0m\u001b[0;34m,\u001b[0m \u001b[0mlog\u001b[0m\u001b[0;34m=\u001b[0m\u001b[0mlog\u001b[0m\u001b[0;34m,\u001b[0m\u001b[0;34m\u001b[0m\u001b[0;34m\u001b[0m\u001b[0m\n\u001b[0;32m-> 6729\u001b[0;31m                                  color=c, **{bottom_kwarg: bottom})\n\u001b[0m\u001b[1;32m   6730\u001b[0m                 \u001b[0mpatches\u001b[0m\u001b[0;34m.\u001b[0m\u001b[0mappend\u001b[0m\u001b[0;34m(\u001b[0m\u001b[0mpatch\u001b[0m\u001b[0;34m)\u001b[0m\u001b[0;34m\u001b[0m\u001b[0;34m\u001b[0m\u001b[0m\n\u001b[1;32m   6731\u001b[0m                 \u001b[0;32mif\u001b[0m \u001b[0mstacked\u001b[0m\u001b[0;34m:\u001b[0m\u001b[0;34m\u001b[0m\u001b[0;34m\u001b[0m\u001b[0m\n",
            "\u001b[0;32m/usr/local/lib/python3.7/dist-packages/matplotlib/__init__.py\u001b[0m in \u001b[0;36minner\u001b[0;34m(ax, data, *args, **kwargs)\u001b[0m\n\u001b[1;32m   1563\u001b[0m     \u001b[0;32mdef\u001b[0m \u001b[0minner\u001b[0m\u001b[0;34m(\u001b[0m\u001b[0max\u001b[0m\u001b[0;34m,\u001b[0m \u001b[0;34m*\u001b[0m\u001b[0margs\u001b[0m\u001b[0;34m,\u001b[0m \u001b[0mdata\u001b[0m\u001b[0;34m=\u001b[0m\u001b[0;32mNone\u001b[0m\u001b[0;34m,\u001b[0m \u001b[0;34m**\u001b[0m\u001b[0mkwargs\u001b[0m\u001b[0;34m)\u001b[0m\u001b[0;34m:\u001b[0m\u001b[0;34m\u001b[0m\u001b[0;34m\u001b[0m\u001b[0m\n\u001b[1;32m   1564\u001b[0m         \u001b[0;32mif\u001b[0m \u001b[0mdata\u001b[0m \u001b[0;32mis\u001b[0m \u001b[0;32mNone\u001b[0m\u001b[0;34m:\u001b[0m\u001b[0;34m\u001b[0m\u001b[0;34m\u001b[0m\u001b[0m\n\u001b[0;32m-> 1565\u001b[0;31m             \u001b[0;32mreturn\u001b[0m \u001b[0mfunc\u001b[0m\u001b[0;34m(\u001b[0m\u001b[0max\u001b[0m\u001b[0;34m,\u001b[0m \u001b[0;34m*\u001b[0m\u001b[0mmap\u001b[0m\u001b[0;34m(\u001b[0m\u001b[0msanitize_sequence\u001b[0m\u001b[0;34m,\u001b[0m \u001b[0margs\u001b[0m\u001b[0;34m)\u001b[0m\u001b[0;34m,\u001b[0m \u001b[0;34m**\u001b[0m\u001b[0mkwargs\u001b[0m\u001b[0;34m)\u001b[0m\u001b[0;34m\u001b[0m\u001b[0;34m\u001b[0m\u001b[0m\n\u001b[0m\u001b[1;32m   1566\u001b[0m \u001b[0;34m\u001b[0m\u001b[0m\n\u001b[1;32m   1567\u001b[0m         \u001b[0mbound\u001b[0m \u001b[0;34m=\u001b[0m \u001b[0mnew_sig\u001b[0m\u001b[0;34m.\u001b[0m\u001b[0mbind\u001b[0m\u001b[0;34m(\u001b[0m\u001b[0max\u001b[0m\u001b[0;34m,\u001b[0m \u001b[0;34m*\u001b[0m\u001b[0margs\u001b[0m\u001b[0;34m,\u001b[0m \u001b[0;34m**\u001b[0m\u001b[0mkwargs\u001b[0m\u001b[0;34m)\u001b[0m\u001b[0;34m\u001b[0m\u001b[0;34m\u001b[0m\u001b[0m\n",
            "\u001b[0;32m/usr/local/lib/python3.7/dist-packages/matplotlib/axes/_axes.py\u001b[0m in \u001b[0;36mbar\u001b[0;34m(self, x, height, width, bottom, align, **kwargs)\u001b[0m\n\u001b[1;32m   2340\u001b[0m         x, height, width, y, linewidth = np.broadcast_arrays(\n\u001b[1;32m   2341\u001b[0m             \u001b[0;31m# Make args iterable too.\u001b[0m\u001b[0;34m\u001b[0m\u001b[0;34m\u001b[0m\u001b[0;34m\u001b[0m\u001b[0m\n\u001b[0;32m-> 2342\u001b[0;31m             np.atleast_1d(x), height, width, y, linewidth)\n\u001b[0m\u001b[1;32m   2343\u001b[0m \u001b[0;34m\u001b[0m\u001b[0m\n\u001b[1;32m   2344\u001b[0m         \u001b[0;31m# Now that units have been converted, set the tick locations.\u001b[0m\u001b[0;34m\u001b[0m\u001b[0;34m\u001b[0m\u001b[0;34m\u001b[0m\u001b[0m\n",
            "\u001b[0;32m<__array_function__ internals>\u001b[0m in \u001b[0;36mbroadcast_arrays\u001b[0;34m(*args, **kwargs)\u001b[0m\n",
            "\u001b[0;32m/usr/local/lib/python3.7/dist-packages/numpy/lib/stride_tricks.py\u001b[0m in \u001b[0;36mbroadcast_arrays\u001b[0;34m(subok, *args)\u001b[0m\n\u001b[1;32m    256\u001b[0m     \u001b[0margs\u001b[0m \u001b[0;34m=\u001b[0m \u001b[0;34m[\u001b[0m\u001b[0mnp\u001b[0m\u001b[0;34m.\u001b[0m\u001b[0marray\u001b[0m\u001b[0;34m(\u001b[0m\u001b[0m_m\u001b[0m\u001b[0;34m,\u001b[0m \u001b[0mcopy\u001b[0m\u001b[0;34m=\u001b[0m\u001b[0;32mFalse\u001b[0m\u001b[0;34m,\u001b[0m \u001b[0msubok\u001b[0m\u001b[0;34m=\u001b[0m\u001b[0msubok\u001b[0m\u001b[0;34m)\u001b[0m \u001b[0;32mfor\u001b[0m \u001b[0m_m\u001b[0m \u001b[0;32min\u001b[0m \u001b[0margs\u001b[0m\u001b[0;34m]\u001b[0m\u001b[0;34m\u001b[0m\u001b[0;34m\u001b[0m\u001b[0m\n\u001b[1;32m    257\u001b[0m \u001b[0;34m\u001b[0m\u001b[0m\n\u001b[0;32m--> 258\u001b[0;31m     \u001b[0mshape\u001b[0m \u001b[0;34m=\u001b[0m \u001b[0m_broadcast_shape\u001b[0m\u001b[0;34m(\u001b[0m\u001b[0;34m*\u001b[0m\u001b[0margs\u001b[0m\u001b[0;34m)\u001b[0m\u001b[0;34m\u001b[0m\u001b[0;34m\u001b[0m\u001b[0m\n\u001b[0m\u001b[1;32m    259\u001b[0m \u001b[0;34m\u001b[0m\u001b[0m\n\u001b[1;32m    260\u001b[0m     \u001b[0;32mif\u001b[0m \u001b[0mall\u001b[0m\u001b[0;34m(\u001b[0m\u001b[0marray\u001b[0m\u001b[0;34m.\u001b[0m\u001b[0mshape\u001b[0m \u001b[0;34m==\u001b[0m \u001b[0mshape\u001b[0m \u001b[0;32mfor\u001b[0m \u001b[0marray\u001b[0m \u001b[0;32min\u001b[0m \u001b[0margs\u001b[0m\u001b[0;34m)\u001b[0m\u001b[0;34m:\u001b[0m\u001b[0;34m\u001b[0m\u001b[0;34m\u001b[0m\u001b[0m\n",
            "\u001b[0;32m/usr/local/lib/python3.7/dist-packages/numpy/lib/stride_tricks.py\u001b[0m in \u001b[0;36m_broadcast_shape\u001b[0;34m(*args)\u001b[0m\n\u001b[1;32m    187\u001b[0m     \u001b[0;31m# use the old-iterator because np.nditer does not handle size 0 arrays\u001b[0m\u001b[0;34m\u001b[0m\u001b[0;34m\u001b[0m\u001b[0;34m\u001b[0m\u001b[0m\n\u001b[1;32m    188\u001b[0m     \u001b[0;31m# consistently\u001b[0m\u001b[0;34m\u001b[0m\u001b[0;34m\u001b[0m\u001b[0;34m\u001b[0m\u001b[0m\n\u001b[0;32m--> 189\u001b[0;31m     \u001b[0mb\u001b[0m \u001b[0;34m=\u001b[0m \u001b[0mnp\u001b[0m\u001b[0;34m.\u001b[0m\u001b[0mbroadcast\u001b[0m\u001b[0;34m(\u001b[0m\u001b[0;34m*\u001b[0m\u001b[0margs\u001b[0m\u001b[0;34m[\u001b[0m\u001b[0;34m:\u001b[0m\u001b[0;36m32\u001b[0m\u001b[0;34m]\u001b[0m\u001b[0;34m)\u001b[0m\u001b[0;34m\u001b[0m\u001b[0;34m\u001b[0m\u001b[0m\n\u001b[0m\u001b[1;32m    190\u001b[0m     \u001b[0;31m# unfortunately, it cannot handle 32 or more arguments directly\u001b[0m\u001b[0;34m\u001b[0m\u001b[0;34m\u001b[0m\u001b[0;34m\u001b[0m\u001b[0m\n\u001b[1;32m    191\u001b[0m     \u001b[0;32mfor\u001b[0m \u001b[0mpos\u001b[0m \u001b[0;32min\u001b[0m \u001b[0mrange\u001b[0m\u001b[0;34m(\u001b[0m\u001b[0;36m32\u001b[0m\u001b[0;34m,\u001b[0m \u001b[0mlen\u001b[0m\u001b[0;34m(\u001b[0m\u001b[0margs\u001b[0m\u001b[0;34m)\u001b[0m\u001b[0;34m,\u001b[0m \u001b[0;36m31\u001b[0m\u001b[0;34m)\u001b[0m\u001b[0;34m:\u001b[0m\u001b[0;34m\u001b[0m\u001b[0;34m\u001b[0m\u001b[0m\n",
            "\u001b[0;31mValueError\u001b[0m: shape mismatch: objects cannot be broadcast to a single shape"
          ]
        },
        {
          "output_type": "display_data",
          "data": {
            "image/png": "[encoded data removed]",
            "text/plain": [
              "<Figure size 576x360 with 1 Axes>"
            ]
          },
          "metadata": {
            "needs_background": "light"
          }
        }
      ],
      "source": [
        "# Plot 1: Sale Price Distribution - pandas .plot kind=hist\n",
        "df[\"SalePrice\"].plot(kind='hist',bins='auto')"
      ]
    },
    {
      "cell_type": "markdown",
      "metadata": {
        "id": "H1qljQ1EfVrj"
      },
      "source": [
        ">- Unfortunately .plot isn't perfect, which is why we also have `df.hist`"
      ]
    },
    {
      "cell_type": "code",
      "source": [
        "# help(df.plot)"
      ],
      "metadata": {
        "id": "GYhK2ZiRQocd"
      },
      "execution_count": 48,
      "outputs": []
    },
    {
      "cell_type": "code",
      "source": [
        "df"
      ],
      "metadata": {
        "colab": {
          "base_uri": "https://localhost:8080/",
          "height": 468
        },
        "id": "T4HZCi1hQ1Bi",
        "outputId": "6061a6d7-24e7-4441-ee27-230a6468ea24"
      },
      "execution_count": 51,
      "outputs": [
        {
          "output_type": "execute_result",
          "data": {
            "text/html": [
              "\n",
              "  <div id=\"df-9fe6ac10-f1eb-4b21-bf87-923345b0d645\">\n",
              "    <div class=\"colab-df-container\">\n",
              "      <div>\n",
              "<style scoped>\n",
              "    .dataframe tbody tr th:only-of-type {\n",
              "        vertical-align: middle;\n",
              "    }\n",
              "\n",
              "    .dataframe tbody tr th {\n",
              "        vertical-align: top;\n",
              "    }\n",
              "\n",
              "    .dataframe thead th {\n",
              "        text-align: right;\n",
              "    }\n",
              "</style>\n",
              "<table border=\"1\" class=\"dataframe\">\n",
              "  <thead>\n",
              "    <tr style=\"text-align: right;\">\n",
              "      <th></th>\n",
              "      <th>LotArea</th>\n",
              "      <th>BldgType</th>\n",
              "      <th>OverallQual</th>\n",
              "      <th>OverallCond</th>\n",
              "      <th>YearBuilt</th>\n",
              "      <th>YearRemodAdd</th>\n",
              "      <th>GrLivArea</th>\n",
              "      <th>FullBath</th>\n",
              "      <th>TotRmsAbvGrd</th>\n",
              "      <th>Fireplaces</th>\n",
              "      <th>MoSold</th>\n",
              "      <th>YrSold</th>\n",
              "      <th>SalePrice</th>\n",
              "    </tr>\n",
              "  </thead>\n",
              "  <tbody>\n",
              "    <tr>\n",
              "      <th>0</th>\n",
              "      <td>8450</td>\n",
              "      <td>1Fam</td>\n",
              "      <td>7</td>\n",
              "      <td>5</td>\n",
              "      <td>2003</td>\n",
              "      <td>2003</td>\n",
              "      <td>1710</td>\n",
              "      <td>2</td>\n",
              "      <td>8</td>\n",
              "      <td>0</td>\n",
              "      <td>2</td>\n",
              "      <td>2008</td>\n",
              "      <td>208500</td>\n",
              "    </tr>\n",
              "    <tr>\n",
              "      <th>1</th>\n",
              "      <td>9600</td>\n",
              "      <td>1Fam</td>\n",
              "      <td>6</td>\n",
              "      <td>8</td>\n",
              "      <td>1976</td>\n",
              "      <td>1976</td>\n",
              "      <td>1262</td>\n",
              "      <td>2</td>\n",
              "      <td>6</td>\n",
              "      <td>1</td>\n",
              "      <td>5</td>\n",
              "      <td>2007</td>\n",
              "      <td>181500</td>\n",
              "    </tr>\n",
              "    <tr>\n",
              "      <th>2</th>\n",
              "      <td>11250</td>\n",
              "      <td>1Fam</td>\n",
              "      <td>7</td>\n",
              "      <td>5</td>\n",
              "      <td>2001</td>\n",
              "      <td>2002</td>\n",
              "      <td>1786</td>\n",
              "      <td>2</td>\n",
              "      <td>6</td>\n",
              "      <td>1</td>\n",
              "      <td>9</td>\n",
              "      <td>2008</td>\n",
              "      <td>223500</td>\n",
              "    </tr>\n",
              "    <tr>\n",
              "      <th>3</th>\n",
              "      <td>9550</td>\n",
              "      <td>1Fam</td>\n",
              "      <td>7</td>\n",
              "      <td>5</td>\n",
              "      <td>1915</td>\n",
              "      <td>1970</td>\n",
              "      <td>1717</td>\n",
              "      <td>1</td>\n",
              "      <td>7</td>\n",
              "      <td>1</td>\n",
              "      <td>2</td>\n",
              "      <td>2006</td>\n",
              "      <td>140000</td>\n",
              "    </tr>\n",
              "    <tr>\n",
              "      <th>4</th>\n",
              "      <td>14260</td>\n",
              "      <td>1Fam</td>\n",
              "      <td>8</td>\n",
              "      <td>5</td>\n",
              "      <td>2000</td>\n",
              "      <td>2000</td>\n",
              "      <td>2198</td>\n",
              "      <td>2</td>\n",
              "      <td>9</td>\n",
              "      <td>1</td>\n",
              "      <td>12</td>\n",
              "      <td>2008</td>\n",
              "      <td>250000</td>\n",
              "    </tr>\n",
              "    <tr>\n",
              "      <th>...</th>\n",
              "      <td>...</td>\n",
              "      <td>...</td>\n",
              "      <td>...</td>\n",
              "      <td>...</td>\n",
              "      <td>...</td>\n",
              "      <td>...</td>\n",
              "      <td>...</td>\n",
              "      <td>...</td>\n",
              "      <td>...</td>\n",
              "      <td>...</td>\n",
              "      <td>...</td>\n",
              "      <td>...</td>\n",
              "      <td>...</td>\n",
              "    </tr>\n",
              "    <tr>\n",
              "      <th>1455</th>\n",
              "      <td>7917</td>\n",
              "      <td>1Fam</td>\n",
              "      <td>6</td>\n",
              "      <td>5</td>\n",
              "      <td>1999</td>\n",
              "      <td>2000</td>\n",
              "      <td>1647</td>\n",
              "      <td>2</td>\n",
              "      <td>7</td>\n",
              "      <td>1</td>\n",
              "      <td>8</td>\n",
              "      <td>2007</td>\n",
              "      <td>175000</td>\n",
              "    </tr>\n",
              "    <tr>\n",
              "      <th>1456</th>\n",
              "      <td>13175</td>\n",
              "      <td>1Fam</td>\n",
              "      <td>6</td>\n",
              "      <td>6</td>\n",
              "      <td>1978</td>\n",
              "      <td>1988</td>\n",
              "      <td>2073</td>\n",
              "      <td>2</td>\n",
              "      <td>7</td>\n",
              "      <td>2</td>\n",
              "      <td>2</td>\n",
              "      <td>2010</td>\n",
              "      <td>210000</td>\n",
              "    </tr>\n",
              "    <tr>\n",
              "      <th>1457</th>\n",
              "      <td>9042</td>\n",
              "      <td>1Fam</td>\n",
              "      <td>7</td>\n",
              "      <td>9</td>\n",
              "      <td>1941</td>\n",
              "      <td>2006</td>\n",
              "      <td>2340</td>\n",
              "      <td>2</td>\n",
              "      <td>9</td>\n",
              "      <td>2</td>\n",
              "      <td>5</td>\n",
              "      <td>2010</td>\n",
              "      <td>266500</td>\n",
              "    </tr>\n",
              "    <tr>\n",
              "      <th>1458</th>\n",
              "      <td>9717</td>\n",
              "      <td>1Fam</td>\n",
              "      <td>5</td>\n",
              "      <td>6</td>\n",
              "      <td>1950</td>\n",
              "      <td>1996</td>\n",
              "      <td>1078</td>\n",
              "      <td>1</td>\n",
              "      <td>5</td>\n",
              "      <td>0</td>\n",
              "      <td>4</td>\n",
              "      <td>2010</td>\n",
              "      <td>142125</td>\n",
              "    </tr>\n",
              "    <tr>\n",
              "      <th>1459</th>\n",
              "      <td>9937</td>\n",
              "      <td>1Fam</td>\n",
              "      <td>5</td>\n",
              "      <td>6</td>\n",
              "      <td>1965</td>\n",
              "      <td>1965</td>\n",
              "      <td>1256</td>\n",
              "      <td>1</td>\n",
              "      <td>6</td>\n",
              "      <td>0</td>\n",
              "      <td>6</td>\n",
              "      <td>2008</td>\n",
              "      <td>147500</td>\n",
              "    </tr>\n",
              "  </tbody>\n",
              "</table>\n",
              "<p>1460 rows × 13 columns</p>\n",
              "</div>\n",
              "      <button class=\"colab-df-convert\" onclick=\"convertToInteractive('df-9fe6ac10-f1eb-4b21-bf87-923345b0d645')\"\n",
              "              title=\"Convert this dataframe to an interactive table.\"\n",
              "              style=\"display:none;\">\n",
              "        \n",
              "  <svg xmlns=\"http://www.w3.org/2000/svg\" height=\"24px\"viewBox=\"0 0 24 24\"\n",
              "       width=\"24px\">\n",
              "    <path d=\"M0 0h24v24H0V0z\" fill=\"none\"/>\n",
              "    <path d=\"M18.56 5.44l.94 2.06.94-2.06 2.06-.94-2.06-.94-.94-2.06-.94 2.06-2.06.94zm-11 1L8.5 8.5l.94-2.06 2.06-.94-2.06-.94L8.5 2.5l-.94 2.06-2.06.94zm10 10l.94 2.06.94-2.06 2.06-.94-2.06-.94-.94-2.06-.94 2.06-2.06.94z\"/><path d=\"M17.41 7.96l-1.37-1.37c-.4-.4-.92-.59-1.43-.59-.52 0-1.04.2-1.43.59L10.3 9.45l-7.72 7.72c-.78.78-.78 2.05 0 2.83L4 21.41c.39.39.9.59 1.41.59.51 0 1.02-.2 1.41-.59l7.78-7.78 2.81-2.81c.8-.78.8-2.07 0-2.86zM5.41 20L4 18.59l7.72-7.72 1.47 1.35L5.41 20z\"/>\n",
              "  </svg>\n",
              "      </button>\n",
              "      \n",
              "  <style>\n",
              "    .colab-df-container {\n",
              "      display:flex;\n",
              "      flex-wrap:wrap;\n",
              "      gap: 12px;\n",
              "    }\n",
              "\n",
              "    .colab-df-convert {\n",
              "      background-color: #E8F0FE;\n",
              "      border: none;\n",
              "      border-radius: 50%;\n",
              "      cursor: pointer;\n",
              "      display: none;\n",
              "      fill: #1967D2;\n",
              "      height: 32px;\n",
              "      padding: 0 0 0 0;\n",
              "      width: 32px;\n",
              "    }\n",
              "\n",
              "    .colab-df-convert:hover {\n",
              "      background-color: #E2EBFA;\n",
              "      box-shadow: 0px 1px 2px rgba(60, 64, 67, 0.3), 0px 1px 3px 1px rgba(60, 64, 67, 0.15);\n",
              "      fill: #174EA6;\n",
              "    }\n",
              "\n",
              "    [theme=dark] .colab-df-convert {\n",
              "      background-color: #3B4455;\n",
              "      fill: #D2E3FC;\n",
              "    }\n",
              "\n",
              "    [theme=dark] .colab-df-convert:hover {\n",
              "      background-color: #434B5C;\n",
              "      box-shadow: 0px 1px 3px 1px rgba(0, 0, 0, 0.15);\n",
              "      filter: drop-shadow(0px 1px 2px rgba(0, 0, 0, 0.3));\n",
              "      fill: #FFFFFF;\n",
              "    }\n",
              "  </style>\n",
              "\n",
              "      <script>\n",
              "        const buttonEl =\n",
              "          document.querySelector('#df-9fe6ac10-f1eb-4b21-bf87-923345b0d645 button.colab-df-convert');\n",
              "        buttonEl.style.display =\n",
              "          google.colab.kernel.accessAllowed ? 'block' : 'none';\n",
              "\n",
              "        async function convertToInteractive(key) {\n",
              "          const element = document.querySelector('#df-9fe6ac10-f1eb-4b21-bf87-923345b0d645');\n",
              "          const dataTable =\n",
              "            await google.colab.kernel.invokeFunction('convertToInteractive',\n",
              "                                                     [key], {});\n",
              "          if (!dataTable) return;\n",
              "\n",
              "          const docLinkHtml = 'Like what you see? Visit the ' +\n",
              "            '<a target=\"_blank\" href=https://colab.research.google.com/notebooks/data_table.ipynb>data table notebook</a>'\n",
              "            + ' to learn more about interactive tables.';\n",
              "          element.innerHTML = '';\n",
              "          dataTable['output_type'] = 'display_data';\n",
              "          await google.colab.output.renderOutput(dataTable, element);\n",
              "          const docLink = document.createElement('div');\n",
              "          docLink.innerHTML = docLinkHtml;\n",
              "          element.appendChild(docLink);\n",
              "        }\n",
              "      </script>\n",
              "    </div>\n",
              "  </div>\n",
              "  "
            ],
            "text/plain": [
              "      LotArea BldgType  OverallQual  ...  MoSold  YrSold  SalePrice\n",
              "0        8450     1Fam            7  ...       2    2008     208500\n",
              "1        9600     1Fam            6  ...       5    2007     181500\n",
              "2       11250     1Fam            7  ...       9    2008     223500\n",
              "3        9550     1Fam            7  ...       2    2006     140000\n",
              "4       14260     1Fam            8  ...      12    2008     250000\n",
              "...       ...      ...          ...  ...     ...     ...        ...\n",
              "1455     7917     1Fam            6  ...       8    2007     175000\n",
              "1456    13175     1Fam            6  ...       2    2010     210000\n",
              "1457     9042     1Fam            7  ...       5    2010     266500\n",
              "1458     9717     1Fam            5  ...       4    2010     142125\n",
              "1459     9937     1Fam            5  ...       6    2008     147500\n",
              "\n",
              "[1460 rows x 13 columns]"
            ]
          },
          "metadata": {},
          "execution_count": 51
        }
      ]
    },
    {
      "cell_type": "code",
      "execution_count": 53,
      "metadata": {
        "ExecuteTime": {
          "end_time": "2021-08-05T17:50:14.408137Z",
          "start_time": "2021-08-05T17:50:14.405921Z"
        },
        "id": "yrDMtn_efVrj",
        "colab": {
          "base_uri": "https://localhost:8080/",
          "height": 350
        },
        "outputId": "077e9f9c-a881-4c7b-db5e-ae6c21b5b6cf"
      },
      "outputs": [
        {
          "output_type": "display_data",
          "data": {
            "image/png": "[encoded data removed]",
            "text/plain": [
              "<Figure size 576x360 with 1 Axes>"
            ]
          },
          "metadata": {
            "needs_background": "light"
          }
        }
      ],
      "source": [
        "#Plot 1: Sale Price Distribution - pandas .hist\n",
        "ax = df[\"SalePrice\"].hist(bins='auto')\n",
        "# df[\"LotArea\"].hist(bins='auto')\n",
        "\n",
        "median = df['SalePrice'].median()\n",
        "\n",
        "ax.axvline(median, color='k',ls=\":\",\n",
        "            label=f\"Median ={median}\")\n",
        "\n",
        "\n",
        "ax.axvline(df['SalePrice'].mean(), color='red',ls=\":\",\n",
        "            label=f\"Mean ={round(df['SalePrice'].mean(),2) }\")\n",
        "ax.legend();\n",
        "ax.set(xlabel=\"Sale Price ($)\", ylabel=\"# of Homes\",title= \"Distribution of Price\");"
      ]
    },
    {
      "cell_type": "markdown",
      "metadata": {
        "id": "nMAt3jGBfVrj"
      },
      "source": [
        "## Method 04: Seaborn"
      ]
    },
    {
      "cell_type": "markdown",
      "metadata": {
        "ExecuteTime": {
          "end_time": "2021-08-02T21:18:24.975028Z",
          "start_time": "2021-08-02T21:18:24.969082Z"
        },
        "id": "KEQc5yG7fVrk"
      },
      "source": [
        "- Seaborn has 2 different kinds of plotting functions. Basic ones that return an ordinary matplotlib axis and fancy/advanced ones that return an object called a \"FacetGrid\"\n",
        "\n",
        "\n",
        "- Basic Functions (return an `ax`)\n",
        "    ```python\n",
        "    sns.histplot\n",
        "    sns.regplot\n",
        "    sns.scatter\n",
        "    ```\n",
        "- Advanced Functions (return a `FacetGrid`)\n",
        "    ```python\n",
        "    sns.lmplot\n",
        "    sns.catplot\n",
        "    sns.jointplot\n",
        "    ```\n",
        "    \n",
        "- We will make our histogram 2 different ways with Seaborn. \n",
        "    - The simpler `sns.histplot` function.\n",
        "    - The complex `sns.displot` function"
      ]
    },
    {
      "cell_type": "markdown",
      "metadata": {
        "id": "MG7Q3TujfVrk"
      },
      "source": [
        "### Seaborn - Simple Plot (returns an ax)"
      ]
    },
    {
      "cell_type": "code",
      "execution_count": 59,
      "metadata": {
        "ExecuteTime": {
          "end_time": "2021-08-05T17:37:58.444787Z",
          "start_time": "2021-08-05T17:37:58.156267Z"
        },
        "id": "Xno-UmzyfVrk",
        "colab": {
          "base_uri": "https://localhost:8080/",
          "height": 350
        },
        "outputId": "e447d349-6da2-4f60-9269-d130e874771f"
      },
      "outputs": [
        {
          "output_type": "display_data",
          "data": {
            "image/png": "[encoded data removed]",
            "text/plain": [
              "<Figure size 576x360 with 1 Axes>"
            ]
          },
          "metadata": {
            "needs_background": "light"
          }
        }
      ],
      "source": [
        "## PLot 1 - seaborn histplot\n",
        "ax = sns.histplot(data=df,x='SalePrice')\n",
        "\n",
        "median = df['SalePrice'].median()\n",
        "\n",
        "ax.axvline(median, color='k',ls=\":\",\n",
        "            label=f\"Median ={median}\")\n",
        "\n",
        "ax.axvline(df['SalePrice'].mean(), color='red',ls=\":\",\n",
        "            label=f\"Mean ={round(df['SalePrice'].mean(),2) }\")\n",
        "ax.legend();\n",
        "ax.set(xlabel=\"Sale Price ($)\", ylabel=\"# of Homes\",title= \"Distribution of Price\");"
      ]
    },
    {
      "cell_type": "code",
      "source": [
        ""
      ],
      "metadata": {
        "colab": {
          "base_uri": "https://localhost:8080/"
        },
        "id": "IOAGnk0cR4uo",
        "outputId": "83a639db-d4a1-49c6-bbff-9fcab201fc92"
      },
      "execution_count": 60,
      "outputs": [
        {
          "output_type": "execute_result",
          "data": {
            "text/plain": [
              "<matplotlib.axes._subplots.AxesSubplot at 0x7f78fcb024d0>"
            ]
          },
          "metadata": {},
          "execution_count": 60
        }
      ]
    },
    {
      "cell_type": "code",
      "source": [
        "fig"
      ],
      "metadata": {
        "colab": {
          "base_uri": "https://localhost:8080/",
          "height": 350
        },
        "id": "IpTIpUlbR8PE",
        "outputId": "baf53382-9eef-4d39-9f81-fea74732e0ae"
      },
      "execution_count": 61,
      "outputs": [
        {
          "output_type": "execute_result",
          "data": {
            "image/png": "[encoded data removed]",
            "text/plain": [
              "<Figure size 576x360 with 1 Axes>"
            ]
          },
          "metadata": {},
          "execution_count": 61
        }
      ]
    },
    {
      "cell_type": "markdown",
      "metadata": {
        "id": "t32Te92NfVrk"
      },
      "source": [
        "### Seaborn - Advanced Plot (returns a FacetGrid)"
      ]
    },
    {
      "cell_type": "code",
      "execution_count": null,
      "metadata": {
        "ExecuteTime": {
          "end_time": "2021-08-05T17:37:58.779418Z",
          "start_time": "2021-08-05T17:37:58.446564Z"
        },
        "id": "pDNvHT-RfVrk"
      },
      "outputs": [],
      "source": [
        "## PLot 1 - seaborn displot\n"
      ]
    },
    {
      "cell_type": "markdown",
      "source": [
        "# Final Visualizations"
      ],
      "metadata": {
        "id": "D650PN4GiF0P"
      }
    },
    {
      "cell_type": "markdown",
      "source": [
        "## Q1: What is the distribution of home prices in Ames, Iowa?\n"
      ],
      "metadata": {
        "id": "zk32pT8NiKFA"
      }
    },
    {
      "cell_type": "code",
      "source": [
        "## select our favorite approach from above\n",
        "## PLot 1 - seaborn histplot\n",
        "ax = sns.histplot(data=df,x='SalePrice')\n",
        "\n",
        "median = df['SalePrice'].median()\n",
        "\n",
        "ax.axvline(median, color='k',ls=\":\",\n",
        "            label=f\"Median ={median}\")\n",
        "\n",
        "ax.axvline(df['SalePrice'].mean(), color='red',ls=\":\",\n",
        "            label=f\"Mean ={round(df['SalePrice'].mean(),2) }\")\n",
        "ax.legend();\n",
        "ax.set(xlabel=\"Sale Price ($)\", ylabel=\"# of Homes\",title= \"Distribution of Price\");"
      ],
      "metadata": {
        "id": "-dcJ4zthiImN",
        "colab": {
          "base_uri": "https://localhost:8080/",
          "height": 350
        },
        "outputId": "24c39c91-24a0-472a-f975-9d013d1c345f"
      },
      "execution_count": 62,
      "outputs": [
        {
          "output_type": "display_data",
          "data": {
            "image/png": "[encoded data removed]",
            "text/plain": [
              "<Figure size 576x360 with 1 Axes>"
            ]
          },
          "metadata": {
            "needs_background": "light"
          }
        }
      ]
    },
    {
      "cell_type": "markdown",
      "source": [
        "## Q2: Are there any outliers in terms of home prices?"
      ],
      "metadata": {
        "id": "gfkGg9AmiTMM"
      }
    },
    {
      "cell_type": "code",
      "source": [
        "ax = sns.boxplot(data=df, x='SalePrice')\n",
        "median = df['SalePrice'].median()\n",
        "\n",
        "ax.axvline(median, color='k',ls=\":\",\n",
        "            label=f\"Median ={median}\");\n"
      ],
      "metadata": {
        "id": "Lzk9FmlqiWjH",
        "colab": {
          "base_uri": "https://localhost:8080/",
          "height": 334
        },
        "outputId": "e35922b9-3586-4a32-e31b-c678ef053d60"
      },
      "execution_count": 67,
      "outputs": [
        {
          "output_type": "display_data",
          "data": {
            "image/png": "[encoded data removed]",
            "text/plain": [
              "<Figure size 576x360 with 1 Axes>"
            ]
          },
          "metadata": {
            "needs_background": "light"
          }
        }
      ]
    },
    {
      "cell_type": "markdown",
      "source": [
        "# Post-Class Questions"
      ],
      "metadata": {
        "id": "LmIFk1CVT8rC"
      }
    },
    {
      "cell_type": "code",
      "source": [
        "counts,bins,_ = plt.hist(df['SalePrice'],bins='auto')"
      ],
      "metadata": {
        "colab": {
          "base_uri": "https://localhost:8080/",
          "height": 320
        },
        "id": "kLq-_GN5ST3e",
        "outputId": "a5b9c03e-aded-40ca-dd76-b1dc24fb29a7"
      },
      "execution_count": 69,
      "outputs": [
        {
          "output_type": "display_data",
          "data": {
            "image/png": "[encoded data removed]",
            "text/plain": [
              "<Figure size 576x360 with 1 Axes>"
            ]
          },
          "metadata": {
            "needs_background": "light"
          }
        }
      ]
    },
    {
      "cell_type": "code",
      "source": [
        "counts"
      ],
      "metadata": {
        "colab": {
          "base_uri": "https://localhost:8080/"
        },
        "id": "iwVusecNUdHL",
        "outputId": "1a0459d9-a859-490b-c520-0d95a2992c2a"
      },
      "execution_count": 70,
      "outputs": [
        {
          "output_type": "execute_result",
          "data": {
            "text/plain": [
              "array([  5.,  11.,  13.,  67.,  66., 125., 177., 171., 129., 145., 103.,\n",
              "        70.,  65.,  68.,  38.,  40.,  33.,  18.,  17.,  27.,  13.,   6.,\n",
              "         8.,  11.,   7.,   5.,   4.,   4.,   1.,   3.,   1.,   1.,   0.,\n",
              "         0.,   1.,   2.,   0.,   1.,   0.,   1.,   1.,   0.,   0.,   0.,\n",
              "         0.,   0.,   0.,   0.,   2.])"
            ]
          },
          "metadata": {},
          "execution_count": 70
        }
      ]
    },
    {
      "cell_type": "code",
      "source": [
        "hist_results= pd.Series(counts,index=bins[:-1])\n",
        "hist_results"
      ],
      "metadata": {
        "colab": {
          "base_uri": "https://localhost:8080/"
        },
        "id": "sbD5bFzhUfEt",
        "outputId": "64b0501f-c1c3-4617-fae4-4bf7adb6e68a"
      },
      "execution_count": 79,
      "outputs": [
        {
          "output_type": "execute_result",
          "data": {
            "text/plain": [
              "34900.000000       5.0\n",
              "49595.918367      11.0\n",
              "64291.836735      13.0\n",
              "78987.755102      67.0\n",
              "93683.673469      66.0\n",
              "108379.591837    125.0\n",
              "123075.510204    177.0\n",
              "137771.428571    171.0\n",
              "152467.346939    129.0\n",
              "167163.265306    145.0\n",
              "181859.183673    103.0\n",
              "196555.102041     70.0\n",
              "211251.020408     65.0\n",
              "225946.938776     68.0\n",
              "240642.857143     38.0\n",
              "255338.775510     40.0\n",
              "270034.693878     33.0\n",
              "284730.612245     18.0\n",
              "299426.530612     17.0\n",
              "314122.448980     27.0\n",
              "328818.367347     13.0\n",
              "343514.285714      6.0\n",
              "358210.204082      8.0\n",
              "372906.122449     11.0\n",
              "387602.040816      7.0\n",
              "402297.959184      5.0\n",
              "416993.877551      4.0\n",
              "431689.795918      4.0\n",
              "446385.714286      1.0\n",
              "461081.632653      3.0\n",
              "475777.551020      1.0\n",
              "490473.469388      1.0\n",
              "505169.387755      0.0\n",
              "519865.306122      0.0\n",
              "534561.224490      1.0\n",
              "549257.142857      2.0\n",
              "563953.061224      0.0\n",
              "578648.979592      1.0\n",
              "593344.897959      0.0\n",
              "608040.816327      1.0\n",
              "622736.734694      1.0\n",
              "637432.653061      0.0\n",
              "652128.571429      0.0\n",
              "666824.489796      0.0\n",
              "681520.408163      0.0\n",
              "696216.326531      0.0\n",
              "710912.244898      0.0\n",
              "725608.163265      0.0\n",
              "740304.081633      2.0\n",
              "dtype: float64"
            ]
          },
          "metadata": {},
          "execution_count": 79
        }
      ]
    },
    {
      "cell_type": "code",
      "source": [
        "len(counts)"
      ],
      "metadata": {
        "colab": {
          "base_uri": "https://localhost:8080/"
        },
        "id": "pgIgpPooUo3G",
        "outputId": "a70bba68-d609-457a-c074-54d765b2d367"
      },
      "execution_count": 73,
      "outputs": [
        {
          "output_type": "execute_result",
          "data": {
            "text/plain": [
              "49"
            ]
          },
          "metadata": {},
          "execution_count": 73
        }
      ]
    },
    {
      "cell_type": "code",
      "source": [
        "len(bins)"
      ],
      "metadata": {
        "colab": {
          "base_uri": "https://localhost:8080/"
        },
        "id": "RI-tPoXRUwqU",
        "outputId": "11c79b99-861a-4c3d-c605-f2c5efb572e3"
      },
      "execution_count": 74,
      "outputs": [
        {
          "output_type": "execute_result",
          "data": {
            "text/plain": [
              "50"
            ]
          },
          "metadata": {},
          "execution_count": 74
        }
      ]
    },
    {
      "cell_type": "code",
      "source": [
        "bins[0]"
      ],
      "metadata": {
        "colab": {
          "base_uri": "https://localhost:8080/"
        },
        "id": "6hvAgZFvUx1-",
        "outputId": "7ead5a70-9b5b-4b14-d34b-f1f3421bcdb7"
      },
      "execution_count": 75,
      "outputs": [
        {
          "output_type": "execute_result",
          "data": {
            "text/plain": [
              "34900.0"
            ]
          },
          "metadata": {},
          "execution_count": 75
        }
      ]
    },
    {
      "cell_type": "code",
      "source": [
        "bins[1]"
      ],
      "metadata": {
        "colab": {
          "base_uri": "https://localhost:8080/"
        },
        "id": "qyx_o713U3Mc",
        "outputId": "ef5cfac6-a3a4-4974-d24a-893a9bd84266"
      },
      "execution_count": 76,
      "outputs": [
        {
          "output_type": "execute_result",
          "data": {
            "text/plain": [
              "49595.91836734694"
            ]
          },
          "metadata": {},
          "execution_count": 76
        }
      ]
    },
    {
      "cell_type": "code",
      "source": [
        "counts,bins,_ = plt.hist(df['SalePrice'],bins='auto')\n",
        "hist_results= pd.Series(counts,index=bins[:-1])\n",
        "plt.axhline(hist_results.median())"
      ],
      "metadata": {
        "colab": {
          "base_uri": "https://localhost:8080/",
          "height": 337
        },
        "id": "jPOCKdxRU5Xr",
        "outputId": "e15c6fdf-09cb-4bf1-f050-2abf10a4b1d8"
      },
      "execution_count": 84,
      "outputs": [
        {
          "output_type": "execute_result",
          "data": {
            "text/plain": [
              "<matplotlib.lines.Line2D at 0x7f78fcb4d490>"
            ]
          },
          "metadata": {},
          "execution_count": 84
        },
        {
          "output_type": "display_data",
          "data": {
            "image/png": "[encoded data removed]",
            "text/plain": [
              "<Figure size 576x360 with 1 Axes>"
            ]
          },
          "metadata": {
            "needs_background": "light"
          }
        }
      ]
    },
    {
      "cell_type": "code",
      "source": [
        "#Plot 1: Sale Price Distribution - pandas .hist\n",
        "fig, ax = plt.subplots()\n",
        "df[\"SalePrice\"].hist(bins='auto',ax=ax)\n",
        "# df[\"LotArea\"].hist(bins='auto')\n",
        "\n",
        "median = df['SalePrice'].median()\n",
        "\n",
        "ax.axvline(median, color='k',ls=\":\",\n",
        "            label=f\"Median ={median}\")\n",
        "\n",
        "\n",
        "ax.axvline(df['SalePrice'].mean(), color='red',ls=\":\",\n",
        "            label=f\"Mean ={round(df['SalePrice'].mean(),2) }\")\n",
        "ax.legend();\n",
        "ax.set(xlabel=\"Sale Price ($)\", ylabel=\"# of Homes\",title= \"Distribution of Price\");"
      ],
      "metadata": {
        "colab": {
          "base_uri": "https://localhost:8080/",
          "height": 350
        },
        "id": "cfxbV4kfVN_Q",
        "outputId": "a20af350-bccb-45a5-c3d5-07ebd0f2d85e"
      },
      "execution_count": 85,
      "outputs": [
        {
          "output_type": "display_data",
          "data": {
            "image/png": "[encoded data removed]",
            "text/plain": [
              "<Figure size 576x360 with 1 Axes>"
            ]
          },
          "metadata": {
            "needs_background": "light"
          }
        }
      ]
    },
    {
      "cell_type": "code",
      "source": [
        "#Plot 1: Sale Price Distribution - pandas .hist\n",
        "fig, axes = plt.subplots(nrows=2)\n",
        "\n",
        "df[\"SalePrice\"].hist(bins='auto',ax=axes[0])\n",
        "df[\"LotArea\"].hist(bins='auto',ax=axes[0])\n",
        "sns.boxplot(data=df, x='SalePrice',ax=axes[1])\n",
        "# df[\"LotArea\"].hist(bins='auto')\n",
        "\n",
        "median = df['SalePrice'].median()\n",
        "\n",
        "axes[0].axvline(median, color='k',ls=\":\",\n",
        "            label=f\"Median ={median}\")\n",
        "\n",
        "\n",
        "axes[0].axvline(df['SalePrice'].mean(), color='red',ls=\":\",\n",
        "            label=f\"Mean ={round(df['SalePrice'].mean(),2) }\")\n",
        "axes[0].legend();\n",
        "axes[0].set(xlabel=\"Sale Price ($)\", ylabel=\"# of Homes\",title= \"Distribution of Price\");\n",
        "plt.tight_layout()"
      ],
      "metadata": {
        "colab": {
          "base_uri": "https://localhost:8080/",
          "height": 369
        },
        "id": "t3xe-nK-V10s",
        "outputId": "e5f686c7-828a-4186-c4a5-749edecf00b5"
      },
      "execution_count": 91,
      "outputs": [
        {
          "output_type": "display_data",
          "data": {
            "image/png": "[encoded data removed]",
            "text/plain": [
              "<Figure size 576x360 with 2 Axes>"
            ]
          },
          "metadata": {
            "needs_background": "light"
          }
        }
      ]
    },
    {
      "cell_type": "code",
      "source": [
        "#Plot 1: Sale Price Distribution - pandas .hist\n",
        "fig, (ax1,ax2) = plt.subplots(nrows=2,sharex=True)\n",
        "\n",
        "df[\"SalePrice\"].hist(bins='auto',ax=ax1)\n",
        "# df[\"LotArea\"].hist(bins='auto',ax=ax1)\n",
        "sns.boxplot(data=df, x='SalePrice',ax=ax2)\n",
        "# df[\"LotArea\"].hist(bins='auto')\n",
        "\n",
        "median = df['SalePrice'].median()\n",
        "\n",
        "ax1.axvline(median, color='k',ls=\":\",\n",
        "            label=f\"Median ={median}\")\n",
        "\n",
        "\n",
        "ax1.axvline(df['SalePrice'].mean(), color='red',ls=\":\",\n",
        "            label=f\"Mean ={round(df['SalePrice'].mean(),2) }\")\n",
        "ax1.legend();\n",
        "ax1.set(ylabel=\"# of Homes\",title= \"Distribution of Price\");\n",
        "plt.tight_layout()"
      ],
      "metadata": {
        "colab": {
          "base_uri": "https://localhost:8080/",
          "height": 369
        },
        "id": "Gu2IuJfJXAU6",
        "outputId": "8cbda834-7bd5-4125-f8cf-624d312072da"
      },
      "execution_count": 98,
      "outputs": [
        {
          "output_type": "display_data",
          "data": {
            "image/png": "[encoded data removed]",
            "text/plain": [
              "<Figure size 576x360 with 2 Axes>"
            ]
          },
          "metadata": {
            "needs_background": "light"
          }
        }
      ]
    },
    {
      "cell_type": "code",
      "source": [
        ""
      ],
      "metadata": {
        "id": "p1Zgj-0nWA0C"
      },
      "execution_count": null,
      "outputs": []
    }
  ],
  "metadata": {
    "colab": {
      "collapsed_sections": [],
      "name": "Python_Visualizations_Pt_1_Class_01.24.22.ipynb",
      "provenance": [],
      "toc_visible": true,
      "include_colab_link": true
    },
    "kernelspec": {
      "display_name": "Python (learn-env)",
      "language": "python",
      "name": "learn-env"
    },
    "language_info": {
      "codemirror_mode": {
        "name": "ipython",
        "version": 3
      },
      "file_extension": ".py",
      "mimetype": "text/x-python",
      "name": "python",
      "nbconvert_exporter": "python",
      "pygments_lexer": "ipython3",
      "version": "3.8.5"
    },
    "toc": {
      "base_numbering": 1,
      "nav_menu": {},
      "number_sections": false,
      "sideBar": true,
      "skip_h1_title": false,
      "title_cell": "Table of Contents",
      "title_sidebar": "Contents",
      "toc_cell": false,
      "toc_position": {
        "height": "calc(100% - 180px)",
        "left": "10px",
        "top": "150px",
        "width": "384px"
      },
      "toc_section_display": true,
      "toc_window_display": true
    },
    "varInspector": {
      "cols": {
        "lenName": 16,
        "lenType": 16,
        "lenVar": 40
      },
      "kernels_config": {
        "python": {
          "delete_cmd_postfix": "",
          "delete_cmd_prefix": "del ",
          "library": "var_list.py",
          "varRefreshCmd": "print(var_dic_list())"
        },
        "r": {
          "delete_cmd_postfix": ") ",
          "delete_cmd_prefix": "rm(",
          "library": "var_list.r",
          "varRefreshCmd": "cat(var_dic_list()) "
        }
      },
      "types_to_exclude": [
        "module",
        "function",
        "builtin_function_or_method",
        "instance",
        "_Feature"
      ],
      "window_display": false
    }
  },
  "nbformat": 4,
  "nbformat_minor": 0
}