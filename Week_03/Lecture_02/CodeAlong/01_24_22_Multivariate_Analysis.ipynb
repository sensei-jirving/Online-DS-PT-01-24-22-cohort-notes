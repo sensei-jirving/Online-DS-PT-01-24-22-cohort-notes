{
  "nbformat": 4,
  "nbformat_minor": 0,
  "metadata": {
    "colab": {
      "name": "01.24.22 Multivariate Analysis.ipynb",
      "provenance": [],
      "collapsed_sections": [],
      "include_colab_link": true
    },
    "kernelspec": {
      "name": "python3",
      "display_name": "Python 3"
    },
    "language_info": {
      "name": "python"
    }
  },
  "cells": [
    {
      "cell_type": "markdown",
      "metadata": {
        "id": "view-in-github",
        "colab_type": "text"
      },
      "source": [
        "<a href=\"https://colab.research.google.com/github/sensei-jirving/Online-DS-PT-01.24.22-cohort-notes/blob/main/Week_03/Lecture_02/CodeAlong/01_24_22_Multivariate_Analysis.ipynb\" target=\"_parent\"><img src=\"https://colab.research.google.com/assets/colab-badge.svg\" alt=\"Open In Colab\"/></a>"
      ]
    },
    {
      "cell_type": "markdown",
      "metadata": {
        "id": "MOwe48pFQgUW"
      },
      "source": [
        "# Multivariate Analysis & Visualizations"
      ]
    },
    {
      "cell_type": "markdown",
      "metadata": {
        "id": "iC8V1_7ZRDOG"
      },
      "source": [
        "Load the [cleaned medical data](https://drive.google.com/file/d/15QvGnjlYvVd8bxl-Fl_EPVgmfvgATGZB/view?usp=sharing) using the url in the cell below:"
      ]
    },
    {
      "cell_type": "code",
      "metadata": {
        "id": "B2D-LPkcQj01"
      },
      "source": [
        "## excel file url\n",
        "url =\"https://docs.google.com/spreadsheets/d/e/2PACX-1vRUYiMWJ3WI6lrrG8rdRFy49aaKSqtlZhbqHodoJfQeDnWj1bgvdSCVM0tnlTkExjhSv7f0LSfIiTVU/pub?output=xlsx\""
      ],
      "execution_count": null,
      "outputs": []
    },
    {
      "cell_type": "code",
      "metadata": {
        "id": "KlJ03CAGSg-j"
      },
      "source": [
        ""
      ],
      "execution_count": null,
      "outputs": []
    },
    {
      "cell_type": "markdown",
      "metadata": {
        "id": "-r-S_llERcx0"
      },
      "source": [
        "1) This is a fun place to start!  Make a scatterplot with Lng on the x axis and Lat on the y axis."
      ]
    },
    {
      "cell_type": "code",
      "metadata": {
        "id": "GoazgpexgZo8"
      },
      "source": [
        ""
      ],
      "execution_count": null,
      "outputs": []
    },
    {
      "cell_type": "markdown",
      "metadata": {
        "id": "ckzNYi78P2R5"
      },
      "source": [
        "2a) Make a scatterplot that shows the Base_charge vs. Initial_days\n",
        "\n",
        "\n",
        "Is there a relationship between Base_charge and Initial_days?"
      ]
    },
    {
      "cell_type": "code",
      "metadata": {
        "id": "a1pHY0fGggy9"
      },
      "source": [
        ""
      ],
      "execution_count": null,
      "outputs": []
    },
    {
      "cell_type": "markdown",
      "source": [
        "2a-Alternative) Make a [seaborn regplot](https://seaborn.pydata.org/generated/seaborn.regplot.html) that shows the Base_charge vs. Initial_days. \n",
        "What advantage does the regplot have over the scatterplot, in terms of identifying relationships?"
      ],
      "metadata": {
        "id": "LDFyqL4MocAw"
      }
    },
    {
      "cell_type": "code",
      "source": [
        ""
      ],
      "metadata": {
        "id": "zchtmLtCowWE"
      },
      "execution_count": null,
      "outputs": []
    },
    {
      "cell_type": "markdown",
      "metadata": {
        "id": "WPfW3h6voTnW"
      },
      "source": [
        "2b) Make a scatterplot that shows the Base_charge vs. Initial days that is color-coded based on the complication risk. \n",
        "What have you learned about complication risk, days and charge?"
      ]
    },
    {
      "cell_type": "code",
      "metadata": {
        "id": "N-vo9bSOp57F"
      },
      "source": [
        ""
      ],
      "execution_count": null,
      "outputs": []
    },
    {
      "cell_type": "markdown",
      "metadata": {
        "id": "KqWpVFHFQHbT"
      },
      "source": [
        "3) Make a barchart to show the average initial days for those with each level of complication risk. (hint: use groupby to groupby the Complication Risk and find the average of the initial days.) "
      ]
    },
    {
      "cell_type": "code",
      "metadata": {
        "id": "n1fq2CawUGIE"
      },
      "source": [
        ""
      ],
      "execution_count": null,
      "outputs": []
    },
    {
      "cell_type": "code",
      "metadata": {
        "id": "g_9MEuEPOeye"
      },
      "source": [
        ""
      ],
      "execution_count": null,
      "outputs": []
    },
    {
      "cell_type": "markdown",
      "metadata": {
        "id": "o5CjSLBTONRj"
      },
      "source": [
        "4a) Create a filter to limit the dataset to only those who have high blood pressure (1 = yes, 0 = no).  \n",
        "\n",
        "How many people have high blood pressure? (Hint: Find the length of your filter)\n"
      ]
    },
    {
      "cell_type": "code",
      "metadata": {
        "id": "eHSjxGGqONCV"
      },
      "source": [
        ""
      ],
      "execution_count": null,
      "outputs": []
    },
    {
      "cell_type": "markdown",
      "metadata": {
        "id": "sQPgn-kHR7eM"
      },
      "source": [
        "\n",
        "4b) Now create a bar chart that shows the service received for only those who have high blood pressure.  "
      ]
    },
    {
      "cell_type": "code",
      "metadata": {
        "id": "qzd8YZ0BWXbS"
      },
      "source": [
        ""
      ],
      "execution_count": null,
      "outputs": []
    },
    {
      "cell_type": "markdown",
      "metadata": {
        "id": "LUoxgZJRQe4B"
      },
      "source": [
        "5) Create a heatmap to show any potential correlations in this data"
      ]
    },
    {
      "cell_type": "code",
      "metadata": {
        "id": "JQ5G87W2OnIF"
      },
      "source": [
        ""
      ],
      "execution_count": null,
      "outputs": []
    },
    {
      "cell_type": "markdown",
      "metadata": {
        "id": "UgPuFIRuqfQd"
      },
      "source": [
        "6) Make multivariate boxplot graph to compare the distribution of income by gender."
      ]
    },
    {
      "cell_type": "code",
      "metadata": {
        "id": "0GWSbB7vvht5"
      },
      "source": [
        ""
      ],
      "execution_count": null,
      "outputs": []
    },
    {
      "cell_type": "markdown",
      "metadata": {
        "id": "E6VFDx8qrdma"
      },
      "source": [
        "If you have time, keep exploring!"
      ]
    },
    {
      "cell_type": "code",
      "metadata": {
        "id": "k-Yb7_xK66yH"
      },
      "source": [
        ""
      ],
      "execution_count": null,
      "outputs": []
    }
  ]
}