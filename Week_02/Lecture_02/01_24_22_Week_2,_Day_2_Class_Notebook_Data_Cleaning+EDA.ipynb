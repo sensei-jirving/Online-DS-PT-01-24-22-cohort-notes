{
  "nbformat": 4,
  "nbformat_minor": 0,
  "metadata": {
    "colab": {
      "name": "01.24.22 Week 2, Day 2 - Class Notebook - Data-Cleaning+EDA.ipynb",
      "provenance": [],
      "collapsed_sections": [],
      "include_colab_link": true
    },
    "kernelspec": {
      "name": "python3",
      "display_name": "Python 3"
    }
  },
  "cells": [
    {
      "cell_type": "markdown",
      "metadata": {
        "id": "view-in-github",
        "colab_type": "text"
      },
      "source": [
        "<a href=\"https://colab.research.google.com/github/sensei-jirving/Online-DS-PT-01.24.22-cohort-notes/blob/main/Week_02/Lecture_02/01_24_22_Week_2%2C_Day_2_Class_Notebook_Data_Cleaning%2BEDA.ipynb\" target=\"_parent\"><img src=\"https://colab.research.google.com/assets/colab-badge.svg\" alt=\"Open In Colab\"/></a>"
      ]
    },
    {
      "cell_type": "markdown",
      "metadata": {
        "id": "W126R0Qz5QNm"
      },
      "source": [
        "<center>\n",
        "<img src=\"https://course_report_production.s3.amazonaws.com/rich/rich_files/rich_files/2470/s300/cd-logo-blue-600x600.png\" alt=\"Coding Dojo Logo\" class=\"center\" height=\"50\">\n",
        "\n",
        "# Data Cleaning\n",
        "\n",
        "*Make a copy of this notebook to edit!*\n",
        "```\n",
        "File > Save a copy in Drive\n",
        "```\n",
        "\n",
        "We will use data on the Super Bowls. You can download the data [here](https://drive.google.com/file/d/1kWqIFO9LgVlMsYG9M9boRKCFiizpUB5o/view?usp=sharing).\n",
        "\n",
        "</center>\n",
        "\n",
        "**Why do we need to clean our data?**\n",
        "\n",
        "> Garbage in, garbage out.\n",
        "\n",
        "> Quality data beats fancy algorithms.\n",
        "\n",
        "Overall, incorrect data is either removed, corrected, or imputed. ([*source*](https://towardsdatascience.com/the-ultimate-guide-to-data-cleaning-3969843991d4))\n",
        "\n"
      ]
    },
    {
      "cell_type": "markdown",
      "metadata": {
        "id": "M3wwYi6u_VU3"
      },
      "source": [
        "~~**Mount Data**~~ \n",
        "- Use the filr URL below instead of mounting google drive. "
      ]
    },
    {
      "cell_type": "code",
      "metadata": {
        "id": "DEpgQ9ta4BBH"
      },
      "source": [
        "file_url = \"https://docs.google.com/spreadsheets/d/e/2PACX-1vSAwjsA-rwGlz_Bb0yIgC13scmhxQCjayvh-sp0v3lRMxejeem8ntBBcDpr4xbNNMiGzB8VGPKJzGJv/pub?output=csv\""
      ],
      "execution_count": null,
      "outputs": []
    },
    {
      "cell_type": "markdown",
      "metadata": {
        "id": "_A7msLwr_4TA"
      },
      "source": [
        "**Import Libraries**"
      ]
    },
    {
      "cell_type": "code",
      "metadata": {
        "id": "1qqHcPH56CaM"
      },
      "source": [
        "# Imports\n",
        "import pandas as pd\n",
        "import numpy as np"
      ],
      "execution_count": null,
      "outputs": []
    },
    {
      "cell_type": "markdown",
      "metadata": {
        "id": "7Djq4Nz1_5dD"
      },
      "source": [
        "**Load Data & view first 5 rows**"
      ]
    },
    {
      "cell_type": "code",
      "metadata": {
        "id": "x0N_O7tr5WV8"
      },
      "source": [
        "# Load Data\n",
        "sb = pd.read_csv(file_url)   \n",
        "sb.head() #Always view your dataframe so you know it loaded correctly."
      ],
      "execution_count": null,
      "outputs": []
    },
    {
      "cell_type": "markdown",
      "metadata": {
        "id": "rR37lF3KUAps"
      },
      "source": [
        "## Irrelevant data\n",
        "\n",
        "Irrelevant data is information that is unnecessary or unrelated to our task.\n",
        "\n",
        "Typically, we want to remove this data - but **only if you are absolutely sure it is irrelevant**. When in doubt, consult a subject matter expert.\n",
        "\n",
        "**What column seems unnecessary in this dataset? Drop it.**"
      ]
    },
    {
      "cell_type": "code",
      "metadata": {
        "id": "wLAFlsWE3K0K"
      },
      "source": [
        ""
      ],
      "execution_count": null,
      "outputs": []
    },
    {
      "cell_type": "code",
      "metadata": {
        "id": "M8k7lbAR5D2L"
      },
      "source": [
        ""
      ],
      "execution_count": null,
      "outputs": []
    },
    {
      "cell_type": "markdown",
      "metadata": {
        "id": "RYke0g8ZVyeM"
      },
      "source": [
        "## Duplicate data\n",
        "\n",
        "It is common that your data has data points that are repeated. Duplicates should be removed.\n",
        "\n",
        "**Check for and remove any duplicates in this data.**"
      ]
    },
    {
      "cell_type": "code",
      "metadata": {
        "id": "eDeWDzH55SU5"
      },
      "source": [
        ""
      ],
      "execution_count": null,
      "outputs": []
    },
    {
      "cell_type": "code",
      "metadata": {
        "id": "4DAHTWio5kBo"
      },
      "source": [
        ""
      ],
      "execution_count": null,
      "outputs": []
    },
    {
      "cell_type": "markdown",
      "metadata": {
        "id": "9-4hHazWVybE"
      },
      "source": [
        "## Data types\n",
        "\n",
        "You want your data to all be correct data types. There may be errors in your data causing numeric types to be read in as objects or dates that need to be converted to datetime objects. Additionally, we may want to convert our categorical variables to numbers.\n",
        "\n",
        "**Check the datatypes & validate that they are what they should be. The `Date` column should be a DateTime type - fix this using `pd.to_datetime()` if is not the case!**"
      ]
    },
    {
      "cell_type": "code",
      "metadata": {
        "id": "-0XIQ7N16EtE"
      },
      "source": [
        ""
      ],
      "execution_count": null,
      "outputs": []
    },
    {
      "cell_type": "markdown",
      "metadata": {
        "id": "6hN8XvTIDaPf"
      },
      "source": [
        "Pandas is usually pretty good at converting date times.  However, when the year is 2 digits it can be ambiguous and Pandas may choose the wrong century.   \n",
        "\n",
        "Check if this happened and if so, fix it.  Don't forget the `df.loc()` method.\n",
        "\n",
        "You may have to convert it to a datetime again."
      ]
    },
    {
      "cell_type": "code",
      "metadata": {
        "id": "tsAv4oy36bdh"
      },
      "source": [
        ""
      ],
      "execution_count": null,
      "outputs": []
    },
    {
      "cell_type": "markdown",
      "metadata": {
        "id": "CpoTTA5QVyYY"
      },
      "source": [
        "## Syntax or spelling errors\n",
        "\n",
        "Common syntax errors include extra white spaces at the beginning or end of strings or column names.\n",
        "\n",
        "There may also be typos or inconsistencies in strings that need to be fixed. For example, if a state name is spelled out in one row and the abbreviation is used in another, we need to ensure consistency.\n",
        "\n",
        "**Check for any inconsistencies in the strings of the `State` column and fix them.**\n",
        "\n",
        "Don't forget the `df.replace()` method"
      ]
    },
    {
      "cell_type": "code",
      "metadata": {
        "id": "pkEVrLUL8hj9"
      },
      "source": [
        ""
      ],
      "execution_count": null,
      "outputs": []
    },
    {
      "cell_type": "code",
      "metadata": {
        "id": "et8lpoGd81Eh"
      },
      "source": [
        ""
      ],
      "execution_count": null,
      "outputs": []
    },
    {
      "cell_type": "markdown",
      "metadata": {
        "id": "LDDHg0l_VyVG"
      },
      "source": [
        "## Unit inconsistencies\n",
        "\n",
        "If measurements within or between columns are measured in different units (for example, km vs. miles or cm vs. feet and inches), we should ensure consistency in the data. The same issue may arrise with dates if some of the dates are in MM-DD-YYYY format and others are in DD-MM-YY format.\n",
        "\n",
        "**Check for any unit inconsistencies.**\n",
        "\n",
        "*Hint:* There don't appear to be any unit inconsistencies in this dataset. Look at the values of a few columns to validate this for yourself."
      ]
    },
    {
      "cell_type": "code",
      "metadata": {
        "id": "aR6ukUnO9DFj"
      },
      "source": [
        ""
      ],
      "execution_count": null,
      "outputs": []
    },
    {
      "cell_type": "code",
      "metadata": {
        "id": "ODt4QegQ_nL5"
      },
      "source": [
        ""
      ],
      "execution_count": null,
      "outputs": []
    },
    {
      "cell_type": "code",
      "metadata": {
        "id": "98XdUOfU_3Dv"
      },
      "source": [
        ""
      ],
      "execution_count": null,
      "outputs": []
    },
    {
      "cell_type": "markdown",
      "metadata": {
        "id": "plbqf-7JVyR5"
      },
      "source": [
        "## Missing values\n",
        "\n",
        "Missing values are very common and problematic in our data. There is no one right way to handle missing data. A few strategies include:\n",
        "- Drop\n",
        "- Impute\n",
        "\n",
        "### Dropping missing values\n",
        "\n",
        "If there are not very many missing values and they are missing completely at random, the fastest and easiest solution is to drop the rows with missing values.\n",
        "\n",
        "Similarly, if most of a column is missing and the data is missing completely at random, it may be okay to drop the entire column\n",
        "\n",
        "### Imputing missing values\n",
        "\n",
        "Imputing means filling in the missing values based on some criterion. There are many methods to do this:\n",
        "- Simple imputation including mean, median, or mode, or a specific constant value.\n",
        "\n",
        "### Make sure to explain why you chose the method you did in a text cell.\n",
        "\n",
        "**Check for missing data. Determine the best way to deal with this.**"
      ]
    },
    {
      "cell_type": "code",
      "metadata": {
        "id": "bKsrcdFy__RP"
      },
      "source": [
        ""
      ],
      "execution_count": null,
      "outputs": []
    },
    {
      "cell_type": "code",
      "metadata": {
        "id": "zRFlG4yQAx-S"
      },
      "source": [
        ""
      ],
      "execution_count": null,
      "outputs": []
    },
    {
      "cell_type": "markdown",
      "metadata": {
        "id": "ueroRuuAVyO_"
      },
      "source": [
        "## Outliers\n",
        "\n",
        "Outliers are values that are extremely higher or lower than all of the other values in that feature. In general, outliers should not be removed unless you have reason to believe it is an error in the dataset. It is important to investigate outliers, as some models are very sensitive to outliers.\n",
        "\n",
        "**Check for outliers in the numeric columns using df.describe().**\n"
      ]
    },
    {
      "cell_type": "code",
      "metadata": {
        "id": "Q9VQYpfyVgNe"
      },
      "source": [
        ""
      ],
      "execution_count": null,
      "outputs": []
    },
    {
      "cell_type": "code",
      "metadata": {
        "id": "kGZkz2Q1Cuqk"
      },
      "source": [
        ""
      ],
      "execution_count": null,
      "outputs": []
    },
    {
      "cell_type": "code",
      "metadata": {
        "id": "HVGZI1MtE67x"
      },
      "source": [
        ""
      ],
      "execution_count": null,
      "outputs": []
    },
    {
      "cell_type": "code",
      "metadata": {
        "id": "Oc76DSaqE_ND"
      },
      "source": [
        ""
      ],
      "execution_count": null,
      "outputs": []
    },
    {
      "cell_type": "code",
      "metadata": {
        "id": "LpORv_9LFGR5"
      },
      "source": [
        ""
      ],
      "execution_count": null,
      "outputs": []
    },
    {
      "cell_type": "markdown",
      "source": [
        "# Exploratory Data Analysis - Questions to Answer"
      ],
      "metadata": {
        "id": "I2RkCwSge7l2"
      }
    },
    {
      "cell_type": "markdown",
      "source": [
        "- For each question, display on the columns required to answer the question."
      ],
      "metadata": {
        "id": "MLVLYQ_4gQbm"
      }
    },
    {
      "cell_type": "markdown",
      "source": [
        "### Q1. Which 3 Superbowl #'s/years had the largest attendance?\n"
      ],
      "metadata": {
        "id": "1eGD2iLWjj7Y"
      }
    },
    {
      "cell_type": "code",
      "source": [
        ""
      ],
      "metadata": {
        "id": "Ek6bycZEj85D"
      },
      "execution_count": null,
      "outputs": []
    },
    {
      "cell_type": "code",
      "metadata": {
        "id": "EPyLXG4Gjj7Y"
      },
      "source": [
        ""
      ],
      "execution_count": null,
      "outputs": []
    },
    {
      "cell_type": "markdown",
      "source": [
        "- A1: "
      ],
      "metadata": {
        "id": "_RWI4ktKf58f"
      }
    },
    {
      "cell_type": "markdown",
      "source": [
        "\n",
        "### Q2. Which Stadiums hosted the Superbowl with the largest attendance?"
      ],
      "metadata": {
        "id": "fe-x4h3xf34N"
      }
    },
    {
      "cell_type": "code",
      "source": [
        ""
      ],
      "metadata": {
        "id": "RpmxWR_Uj9Zx"
      },
      "execution_count": null,
      "outputs": []
    },
    {
      "cell_type": "code",
      "source": [
        ""
      ],
      "metadata": {
        "id": "NzpZ6w1XfmEc"
      },
      "execution_count": null,
      "outputs": []
    },
    {
      "cell_type": "markdown",
      "source": [
        "- A2: "
      ],
      "metadata": {
        "id": "tkK1PFAygazN"
      }
    },
    {
      "cell_type": "markdown",
      "source": [
        "### Q3: What city has hosted the most of superbowls? How many?"
      ],
      "metadata": {
        "id": "Lg2pfbs9gfEA"
      }
    },
    {
      "cell_type": "code",
      "source": [
        ""
      ],
      "metadata": {
        "id": "026w_f29j9uV"
      },
      "execution_count": null,
      "outputs": []
    },
    {
      "cell_type": "code",
      "source": [
        ""
      ],
      "metadata": {
        "id": "fumSC2-HgZUP"
      },
      "execution_count": null,
      "outputs": []
    },
    {
      "cell_type": "markdown",
      "source": [
        "- A3:"
      ],
      "metadata": {
        "id": "aXw93Y5lgrco"
      }
    },
    {
      "cell_type": "markdown",
      "source": [
        "### Q4: Of all of the superbowls hosted in the city from Q3, which SB # had the lowest attendance?"
      ],
      "metadata": {
        "id": "yOeqcLrHh_wW"
      }
    },
    {
      "cell_type": "code",
      "source": [
        ""
      ],
      "metadata": {
        "id": "CrYQKfuvj-CH"
      },
      "execution_count": null,
      "outputs": []
    },
    {
      "cell_type": "code",
      "source": [
        ""
      ],
      "metadata": {
        "id": "X5T-qf6EiMQl"
      },
      "execution_count": null,
      "outputs": []
    },
    {
      "cell_type": "markdown",
      "source": [
        "- A4: "
      ],
      "metadata": {
        "id": "NUQcYNO8iLo1"
      }
    },
    {
      "cell_type": "markdown",
      "source": [
        "### Q5: What is the average point difference between teams, for each City? Which city has the highest average Point Difference?"
      ],
      "metadata": {
        "id": "Tz0SEOaThCvf"
      }
    },
    {
      "cell_type": "code",
      "source": [
        ""
      ],
      "metadata": {
        "id": "yxMPg1cZghYA"
      },
      "execution_count": null,
      "outputs": []
    },
    {
      "cell_type": "code",
      "source": [
        ""
      ],
      "metadata": {
        "id": "3k-_XPoQhEkQ"
      },
      "execution_count": null,
      "outputs": []
    },
    {
      "cell_type": "markdown",
      "source": [
        "- A5:"
      ],
      "metadata": {
        "id": "x1GmK85thmmS"
      }
    }
  ]
}