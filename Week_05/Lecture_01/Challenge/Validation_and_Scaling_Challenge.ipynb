{
  "nbformat": 4,
  "nbformat_minor": 0,
  "metadata": {
    "colab": {
      "name": "1.24 Validation and Scaling Challenge.ipynb",
      "provenance": [],
      "collapsed_sections": [],
      "include_colab_link": true
    },
    "kernelspec": {
      "name": "python3",
      "display_name": "Python 3"
    },
    "language_info": {
      "name": "python"
    }
  },
  "cells": [
    {
      "cell_type": "markdown",
      "metadata": {
        "id": "view-in-github",
        "colab_type": "text"
      },
      "source": [
        "<a href=\"https://colab.research.google.com/github/sensei-jirving/Online-DS-PT-01.24.22-cohort-notes/blob/main/Week_05/Lecture_01/Challenge/Validation_and_Scaling_Challenge.ipynb\" target=\"_parent\"><img src=\"https://colab.research.google.com/assets/colab-badge.svg\" alt=\"Open In Colab\"/></a>"
      ]
    },
    {
      "cell_type": "markdown",
      "metadata": {
        "id": "a1-p05ovobfn"
      },
      "source": [
        "# The Validation and Scaling Challenge"
      ]
    },
    {
      "cell_type": "code",
      "metadata": {
        "id": "ueFh0RSAiBgt"
      },
      "source": [
        "# import required libraries\n",
        "import pandas as pd\n",
        "import numpy as np\n",
        "from sklearn.model_selection import train_test_split\n",
        "from sklearn.preprocessing import StandardScaler"
      ],
      "execution_count": null,
      "outputs": []
    },
    {
      "cell_type": "markdown",
      "metadata": {
        "id": "Ryy372AZn7in"
      },
      "source": [
        "# The Data:\n",
        "\n",
        "From [openmv.net](https://openmv.net/info/brittleness-index)\n",
        "\n",
        "### Brittleness index\n",
        "\n",
        "Description:\tA plastic product is produced in three parallel reactors (TK104, TK105, or TK107). For each row in the dataset, we have the same batch of raw material that was split, and fed to the 3 reactors. These values are the brittleness index for the product produced in the reactor.\n",
        "* Data source:\tSimulated data\n",
        "* Data shape:\t15 rows and 3 columns\n",
        "* Usage restrictions:\tNone\n",
        "* Contact person:\tKevin Dunn\n",
        "* Contact details:\tkgdunn@gmail.com\n",
        "* Added here on:\t02 January 2011 20:05\n",
        "* Last updated:\t11 November 2018 16:30\n",
        "\n",
        "'Type' column added by Josh Johnson.  It's just random integers."
      ]
    },
    {
      "cell_type": "code",
      "metadata": {
        "id": "1_qTgpe2iYAH",
        "colab": {
          "base_uri": "https://localhost:8080/",
          "height": 206
        },
        "outputId": "e0c4eadb-ea30-4e74-f192-5f90dc09f0e1"
      },
      "source": [
        "#import the data\n",
        "df = pd.read_csv('https://docs.google.com/spreadsheets/d/e/2PACX-1vTnOkp-Udq9wDorqcZ2uZeqC_20sORk0zc_9jN6HIXWpsGnY1tCEMGKjrEZlImuxrhS08OYUNrU_FJc/pub?output=csv')\n",
        "df.head()"
      ],
      "execution_count": null,
      "outputs": [
        {
          "output_type": "execute_result",
          "data": {
            "text/html": [
              "\n",
              "  <div id=\"df-09c6af00-1519-4e7f-abc2-ff6194663e66\">\n",
              "    <div class=\"colab-df-container\">\n",
              "      <div>\n",
              "<style scoped>\n",
              "    .dataframe tbody tr th:only-of-type {\n",
              "        vertical-align: middle;\n",
              "    }\n",
              "\n",
              "    .dataframe tbody tr th {\n",
              "        vertical-align: top;\n",
              "    }\n",
              "\n",
              "    .dataframe thead th {\n",
              "        text-align: right;\n",
              "    }\n",
              "</style>\n",
              "<table border=\"1\" class=\"dataframe\">\n",
              "  <thead>\n",
              "    <tr style=\"text-align: right;\">\n",
              "      <th></th>\n",
              "      <th>TK104</th>\n",
              "      <th>TK105</th>\n",
              "      <th>TK107</th>\n",
              "      <th>Type</th>\n",
              "    </tr>\n",
              "  </thead>\n",
              "  <tbody>\n",
              "    <tr>\n",
              "      <th>0</th>\n",
              "      <td>254.0</td>\n",
              "      <td>263.0</td>\n",
              "      <td>338</td>\n",
              "      <td>0</td>\n",
              "    </tr>\n",
              "    <tr>\n",
              "      <th>1</th>\n",
              "      <td>440.0</td>\n",
              "      <td>NaN</td>\n",
              "      <td>470</td>\n",
              "      <td>1</td>\n",
              "    </tr>\n",
              "    <tr>\n",
              "      <th>2</th>\n",
              "      <td>501.0</td>\n",
              "      <td>NaN</td>\n",
              "      <td>558</td>\n",
              "      <td>2</td>\n",
              "    </tr>\n",
              "    <tr>\n",
              "      <th>3</th>\n",
              "      <td>368.0</td>\n",
              "      <td>451.0</td>\n",
              "      <td>426</td>\n",
              "      <td>2</td>\n",
              "    </tr>\n",
              "    <tr>\n",
              "      <th>4</th>\n",
              "      <td>697.0</td>\n",
              "      <td>709.0</td>\n",
              "      <td>733</td>\n",
              "      <td>1</td>\n",
              "    </tr>\n",
              "  </tbody>\n",
              "</table>\n",
              "</div>\n",
              "      <button class=\"colab-df-convert\" onclick=\"convertToInteractive('df-09c6af00-1519-4e7f-abc2-ff6194663e66')\"\n",
              "              title=\"Convert this dataframe to an interactive table.\"\n",
              "              style=\"display:none;\">\n",
              "        \n",
              "  <svg xmlns=\"http://www.w3.org/2000/svg\" height=\"24px\"viewBox=\"0 0 24 24\"\n",
              "       width=\"24px\">\n",
              "    <path d=\"M0 0h24v24H0V0z\" fill=\"none\"/>\n",
              "    <path d=\"M18.56 5.44l.94 2.06.94-2.06 2.06-.94-2.06-.94-.94-2.06-.94 2.06-2.06.94zm-11 1L8.5 8.5l.94-2.06 2.06-.94-2.06-.94L8.5 2.5l-.94 2.06-2.06.94zm10 10l.94 2.06.94-2.06 2.06-.94-2.06-.94-.94-2.06-.94 2.06-2.06.94z\"/><path d=\"M17.41 7.96l-1.37-1.37c-.4-.4-.92-.59-1.43-.59-.52 0-1.04.2-1.43.59L10.3 9.45l-7.72 7.72c-.78.78-.78 2.05 0 2.83L4 21.41c.39.39.9.59 1.41.59.51 0 1.02-.2 1.41-.59l7.78-7.78 2.81-2.81c.8-.78.8-2.07 0-2.86zM5.41 20L4 18.59l7.72-7.72 1.47 1.35L5.41 20z\"/>\n",
              "  </svg>\n",
              "      </button>\n",
              "      \n",
              "  <style>\n",
              "    .colab-df-container {\n",
              "      display:flex;\n",
              "      flex-wrap:wrap;\n",
              "      gap: 12px;\n",
              "    }\n",
              "\n",
              "    .colab-df-convert {\n",
              "      background-color: #E8F0FE;\n",
              "      border: none;\n",
              "      border-radius: 50%;\n",
              "      cursor: pointer;\n",
              "      display: none;\n",
              "      fill: #1967D2;\n",
              "      height: 32px;\n",
              "      padding: 0 0 0 0;\n",
              "      width: 32px;\n",
              "    }\n",
              "\n",
              "    .colab-df-convert:hover {\n",
              "      background-color: #E2EBFA;\n",
              "      box-shadow: 0px 1px 2px rgba(60, 64, 67, 0.3), 0px 1px 3px 1px rgba(60, 64, 67, 0.15);\n",
              "      fill: #174EA6;\n",
              "    }\n",
              "\n",
              "    [theme=dark] .colab-df-convert {\n",
              "      background-color: #3B4455;\n",
              "      fill: #D2E3FC;\n",
              "    }\n",
              "\n",
              "    [theme=dark] .colab-df-convert:hover {\n",
              "      background-color: #434B5C;\n",
              "      box-shadow: 0px 1px 3px 1px rgba(0, 0, 0, 0.15);\n",
              "      filter: drop-shadow(0px 1px 2px rgba(0, 0, 0, 0.3));\n",
              "      fill: #FFFFFF;\n",
              "    }\n",
              "  </style>\n",
              "\n",
              "      <script>\n",
              "        const buttonEl =\n",
              "          document.querySelector('#df-09c6af00-1519-4e7f-abc2-ff6194663e66 button.colab-df-convert');\n",
              "        buttonEl.style.display =\n",
              "          google.colab.kernel.accessAllowed ? 'block' : 'none';\n",
              "\n",
              "        async function convertToInteractive(key) {\n",
              "          const element = document.querySelector('#df-09c6af00-1519-4e7f-abc2-ff6194663e66');\n",
              "          const dataTable =\n",
              "            await google.colab.kernel.invokeFunction('convertToInteractive',\n",
              "                                                     [key], {});\n",
              "          if (!dataTable) return;\n",
              "\n",
              "          const docLinkHtml = 'Like what you see? Visit the ' +\n",
              "            '<a target=\"_blank\" href=https://colab.research.google.com/notebooks/data_table.ipynb>data table notebook</a>'\n",
              "            + ' to learn more about interactive tables.';\n",
              "          element.innerHTML = '';\n",
              "          dataTable['output_type'] = 'display_data';\n",
              "          await google.colab.output.renderOutput(dataTable, element);\n",
              "          const docLink = document.createElement('div');\n",
              "          docLink.innerHTML = docLinkHtml;\n",
              "          element.appendChild(docLink);\n",
              "        }\n",
              "      </script>\n",
              "    </div>\n",
              "  </div>\n",
              "  "
            ],
            "text/plain": [
              "   TK104  TK105  TK107  Type\n",
              "0  254.0  263.0    338     0\n",
              "1  440.0    NaN    470     1\n",
              "2  501.0    NaN    558     2\n",
              "3  368.0  451.0    426     2\n",
              "4  697.0  709.0    733     1"
            ]
          },
          "metadata": {},
          "execution_count": 2
        }
      ]
    },
    {
      "cell_type": "code",
      "metadata": {
        "id": "d7XhX7Oi4YIB",
        "colab": {
          "base_uri": "https://localhost:8080/"
        },
        "outputId": "869600d4-5097-4011-ea3a-5579d07a0bf5"
      },
      "source": [
        "df.info()"
      ],
      "execution_count": null,
      "outputs": [
        {
          "output_type": "stream",
          "name": "stdout",
          "text": [
            "<class 'pandas.core.frame.DataFrame'>\n",
            "RangeIndex: 23 entries, 0 to 22\n",
            "Data columns (total 4 columns):\n",
            " #   Column  Non-Null Count  Dtype  \n",
            "---  ------  --------------  -----  \n",
            " 0   TK104   20 non-null     float64\n",
            " 1   TK105   21 non-null     float64\n",
            " 2   TK107   23 non-null     int64  \n",
            " 3   Type    23 non-null     int64  \n",
            "dtypes: float64(2), int64(2)\n",
            "memory usage: 864.0 bytes\n"
          ]
        }
      ]
    },
    {
      "cell_type": "markdown",
      "metadata": {
        "id": "tpzfs14xqHhn"
      },
      "source": [
        "## Challenge 1. \n",
        "\n",
        "Split the data into X and y.  The 'Type' column is your target."
      ]
    },
    {
      "cell_type": "code",
      "metadata": {
        "id": "858S2nySqgE0"
      },
      "source": [
        ""
      ],
      "execution_count": null,
      "outputs": []
    },
    {
      "cell_type": "markdown",
      "metadata": {
        "id": "VT9xvEosqhKO"
      },
      "source": [
        "## Challenge 2.\n",
        "\n",
        "Perform a Validation Split, use 30% of the data for the test set (you may need to look up the documentation to find how to do this.)"
      ]
    },
    {
      "cell_type": "code",
      "metadata": {
        "id": "P_1DtJZvqmbV"
      },
      "source": [
        ""
      ],
      "execution_count": null,
      "outputs": []
    },
    {
      "cell_type": "markdown",
      "metadata": {
        "id": "FUCn2x60qnH1"
      },
      "source": [
        "## Challenge 3#\n",
        "\n",
        "Standard Scale the values in X_train and y_train without leaking information from the test set into the training set.\n",
        "\n",
        "Standard Scaler returns a numpy array.  You can either convert it back to a dataframe by using pd.DataFrame(X_train) to see if the scaling worked."
      ]
    },
    {
      "cell_type": "code",
      "metadata": {
        "id": "SYhopdGLqvut"
      },
      "source": [
        ""
      ],
      "execution_count": null,
      "outputs": []
    },
    {
      "cell_type": "markdown",
      "metadata": {
        "id": "5s0LR_6iyiu8"
      },
      "source": [
        "# Bonus Challenge\n",
        "\n",
        "1. Load the original sales data from your project\n",
        "2. Set 'Item_Outlet_Sales' as your target\n",
        "3. Perform a validation split\n",
        "4. Scale the data using the standard scaler object.\n",
        "6. DO NOT LEAK DATA from the test set to the training set."
      ]
    },
    {
      "cell_type": "code",
      "metadata": {
        "id": "y7a9U72tzwnh"
      },
      "source": [
        ""
      ],
      "execution_count": null,
      "outputs": []
    }
  ]
}