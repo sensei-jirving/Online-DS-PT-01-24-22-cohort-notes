{
  "nbformat": 4,
  "nbformat_minor": 0,
  "metadata": {
    "colab": {
      "name": "CodeAlong Diamonds.ipynb",
      "provenance": [],
      "collapsed_sections": [],
      "include_colab_link": true
    },
    "kernelspec": {
      "name": "python3",
      "display_name": "Python 3"
    },
    "language_info": {
      "name": "python"
    }
  },
  "cells": [
    {
      "cell_type": "markdown",
      "metadata": {
        "id": "view-in-github",
        "colab_type": "text"
      },
      "source": [
        "<a href=\"https://colab.research.google.com/github/sensei-jirving/Online-DS-PT-01.24.22-cohort-notes/blob/main/Week_05/Lecture_02/CodeAlong/CodeAlong_Diamonds.ipynb\" target=\"_parent\"><img src=\"https://colab.research.google.com/assets/colab-badge.svg\" alt=\"Open In Colab\"/></a>"
      ]
    },
    {
      "cell_type": "code",
      "execution_count": null,
      "metadata": {
        "id": "6G4eBaneNqSG"
      },
      "outputs": [],
      "source": [
        "# Imports\n"
      ]
    },
    {
      "cell_type": "code",
      "source": [
        "# Load in the data\n"
      ],
      "metadata": {
        "id": "eTRaEHFbN8sw"
      },
      "execution_count": null,
      "outputs": []
    },
    {
      "cell_type": "code",
      "source": [
        "# Take a look at the first five rows of the dataframe\n"
      ],
      "metadata": {
        "id": "YeyK1EuMODEU"
      },
      "execution_count": null,
      "outputs": []
    },
    {
      "cell_type": "code",
      "source": [
        "# Look at the info from the data\n"
      ],
      "metadata": {
        "id": "CmbaDgZxOD8C"
      },
      "execution_count": null,
      "outputs": []
    },
    {
      "cell_type": "code",
      "source": [
        "# Check to see if there are any duplicates\n"
      ],
      "metadata": {
        "id": "lA8kag6aOFrX"
      },
      "execution_count": null,
      "outputs": []
    },
    {
      "cell_type": "code",
      "source": [
        "# split X and y, you are predicting price\n",
        "\n",
        "\n",
        "# split training and test\n",
        "# set random_state to 42 for reproducibility\n"
      ],
      "metadata": {
        "id": "g5XFIN3tX6PB"
      },
      "execution_count": null,
      "outputs": []
    },
    {
      "cell_type": "code",
      "source": [
        "# instantiate the column selectors\n"
      ],
      "metadata": {
        "id": "1liEdBGsYEr2"
      },
      "execution_count": null,
      "outputs": []
    },
    {
      "cell_type": "code",
      "source": [
        "#instantiate the standard scaler, OneHotEncoder and Imputers\n"
      ],
      "metadata": {
        "id": "T0E4gGUAYG0M"
      },
      "execution_count": null,
      "outputs": []
    },
    {
      "cell_type": "code",
      "source": [
        "# Setup the pipelines for the numeric and categorical data\n",
        "\n"
      ],
      "metadata": {
        "id": "sjNuRSe6YJDj"
      },
      "execution_count": null,
      "outputs": []
    },
    {
      "cell_type": "code",
      "source": [
        "# Setup the tuples to pair the processors with the make column selecotrs\n",
        "\n"
      ],
      "metadata": {
        "id": "8OmDflt7Y_nt"
      },
      "execution_count": null,
      "outputs": []
    },
    {
      "cell_type": "code",
      "source": [
        "# Instantiate the make column transformer\n",
        "\n"
      ],
      "metadata": {
        "id": "JLOhEaiRZINc"
      },
      "execution_count": null,
      "outputs": []
    },
    {
      "cell_type": "code",
      "source": [
        "# Fit the column transformer on the X_train\n",
        "\n"
      ],
      "metadata": {
        "id": "XEhzAUVuZQtL"
      },
      "execution_count": null,
      "outputs": []
    },
    {
      "cell_type": "code",
      "source": [
        "# Get out the column transformer steps\n"
      ],
      "metadata": {
        "id": "SsMvWBOwpBb5"
      },
      "execution_count": null,
      "outputs": []
    },
    {
      "cell_type": "code",
      "source": [
        "# Reference the pipeline that has the one hot encoder\n"
      ],
      "metadata": {
        "id": "YFS_yBfypBYA"
      },
      "execution_count": null,
      "outputs": []
    },
    {
      "cell_type": "code",
      "source": [
        "# Display the feature names out from the one hot encoder\n"
      ],
      "metadata": {
        "id": "w5AWNkqopBUf"
      },
      "execution_count": null,
      "outputs": []
    },
    {
      "cell_type": "code",
      "source": [
        "# Extract the feature names from one hot encoder\n"
      ],
      "metadata": {
        "id": "fRDTBYSNpBQl"
      },
      "execution_count": null,
      "outputs": []
    },
    {
      "cell_type": "code",
      "source": [
        "## get final col names which are num features + cat features\n"
      ],
      "metadata": {
        "id": "z1cSqn7fpBMY"
      },
      "execution_count": null,
      "outputs": []
    },
    {
      "cell_type": "code",
      "source": [
        "# Transform the X_train and the X_test\n",
        "\n"
      ],
      "metadata": {
        "id": "madd2FHLZ56_"
      },
      "execution_count": null,
      "outputs": []
    },
    {
      "cell_type": "code",
      "source": [
        "# Change the X_train and X_test transformed columns to a dataframe\n",
        "\n"
      ],
      "metadata": {
        "id": "Nv6pouFubH8h"
      },
      "execution_count": null,
      "outputs": []
    },
    {
      "cell_type": "code",
      "source": [
        "# View the first five rows of the X_train transformed dataframe\n",
        "\n"
      ],
      "metadata": {
        "id": "RRSUo-7rbT2W"
      },
      "execution_count": null,
      "outputs": []
    },
    {
      "cell_type": "code",
      "source": [
        "# View the first five rows of the X_test transformed dataframe\n",
        "\n"
      ],
      "metadata": {
        "id": "WV2LxZggbV4v"
      },
      "execution_count": null,
      "outputs": []
    },
    {
      "cell_type": "code",
      "source": [
        "# View the info from the X_train transformed dataframe\n",
        "\n"
      ],
      "metadata": {
        "id": "QToB0FXcbYbf"
      },
      "execution_count": null,
      "outputs": []
    },
    {
      "cell_type": "code",
      "source": [
        "# View the info from the X_test transformed dataframe\n"
      ],
      "metadata": {
        "id": "OLg0jHnxshqQ"
      },
      "execution_count": null,
      "outputs": []
    },
    {
      "cell_type": "code",
      "source": [
        ""
      ],
      "metadata": {
        "id": "AttukTDvsmFC"
      },
      "execution_count": null,
      "outputs": []
    }
  ]
}