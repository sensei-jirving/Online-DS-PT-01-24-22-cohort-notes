{
  "nbformat": 4,
  "nbformat_minor": 0,
  "metadata": {
    "colab": {
      "name": "Challenge Titanic.ipynb",
      "provenance": [],
      "include_colab_link": true
    },
    "kernelspec": {
      "name": "python3",
      "display_name": "Python 3"
    },
    "language_info": {
      "name": "python"
    }
  },
  "cells": [
    {
      "cell_type": "markdown",
      "metadata": {
        "id": "view-in-github",
        "colab_type": "text"
      },
      "source": [
        "<a href=\"https://colab.research.google.com/github/sensei-jirving/Online-DS-PT-01.24.22-cohort-notes/blob/main/Week_05/Lecture_02/Challenge/Challenge_Titanic.ipynb\" target=\"_parent\"><img src=\"https://colab.research.google.com/assets/colab-badge.svg\" alt=\"Open In Colab\"/></a>"
      ]
    },
    {
      "cell_type": "code",
      "execution_count": null,
      "metadata": {
        "id": "-DFZblM-mEYl"
      },
      "outputs": [],
      "source": [
        "# Imports\n"
      ]
    },
    {
      "cell_type": "code",
      "source": [
        "# Load in the data\n",
        "\n"
      ],
      "metadata": {
        "id": "KJefGJ9xmPDh"
      },
      "execution_count": null,
      "outputs": []
    },
    {
      "cell_type": "code",
      "source": [
        "# Take a look at the first five rows of the dataframe\n",
        "\n"
      ],
      "metadata": {
        "id": "jE_ibBp2mX1t"
      },
      "execution_count": null,
      "outputs": []
    },
    {
      "cell_type": "code",
      "source": [
        "# Look at the info from the data\n",
        "\n"
      ],
      "metadata": {
        "id": "8adlnnW2mYss"
      },
      "execution_count": null,
      "outputs": []
    },
    {
      "cell_type": "code",
      "source": [
        "# Check to see if there are any duplicates\n",
        "\n"
      ],
      "metadata": {
        "id": "B5yIbcIKmaaJ"
      },
      "execution_count": null,
      "outputs": []
    },
    {
      "cell_type": "code",
      "source": [
        "# split X and y, you are predicting fare\n",
        "\n",
        "\n",
        "# split training and test\n",
        "# set random_state to 42 for reproducibility\n"
      ],
      "metadata": {
        "id": "hFDD84BTnDor"
      },
      "execution_count": null,
      "outputs": []
    },
    {
      "cell_type": "code",
      "source": [
        "# instantiate the column selectors\n"
      ],
      "metadata": {
        "id": "0GQKZURtnJBh"
      },
      "execution_count": null,
      "outputs": []
    },
    {
      "cell_type": "code",
      "source": [
        "#instantiate the standard scaler, OneHotEncoder and Imputers\n"
      ],
      "metadata": {
        "id": "fTm1kJsYpI6y"
      },
      "execution_count": null,
      "outputs": []
    },
    {
      "cell_type": "code",
      "source": [
        "# Setup the pipelines for the numeric and categorical data\n",
        "\n"
      ],
      "metadata": {
        "id": "PjheL7vPpK56"
      },
      "execution_count": null,
      "outputs": []
    },
    {
      "cell_type": "code",
      "source": [
        "# Setup the tuples to pair the processors with the make column selecotrs\n",
        "\n"
      ],
      "metadata": {
        "id": "0qm8Q_I4pMrZ"
      },
      "execution_count": null,
      "outputs": []
    },
    {
      "cell_type": "code",
      "source": [
        "# Instantiate the make column transformer\n",
        "\n"
      ],
      "metadata": {
        "id": "SEpoqmwnpOSx"
      },
      "execution_count": null,
      "outputs": []
    },
    {
      "cell_type": "code",
      "source": [
        "# Fit the column transformer on the X_train\n"
      ],
      "metadata": {
        "id": "pKrC1qA3pP-w"
      },
      "execution_count": null,
      "outputs": []
    },
    {
      "cell_type": "code",
      "source": [
        "# Get out the column transformer steps\n"
      ],
      "metadata": {
        "id": "HeisQ7korOwk"
      },
      "execution_count": null,
      "outputs": []
    },
    {
      "cell_type": "code",
      "source": [
        "# Reference the pipeline that has the one hot encoder\n"
      ],
      "metadata": {
        "id": "TP037pMjrOtO"
      },
      "execution_count": null,
      "outputs": []
    },
    {
      "cell_type": "code",
      "source": [
        "# Display the feature names from the one hot encoder\n"
      ],
      "metadata": {
        "id": "UE87Y6_IrOp1"
      },
      "execution_count": null,
      "outputs": []
    },
    {
      "cell_type": "code",
      "source": [
        "## Extract the feature names from one hot encoder\n"
      ],
      "metadata": {
        "id": "0t5NBNvbrOmz"
      },
      "execution_count": null,
      "outputs": []
    },
    {
      "cell_type": "code",
      "source": [
        "## get final col names which are num features + cat features\n"
      ],
      "metadata": {
        "id": "NmRusH7erOis"
      },
      "execution_count": null,
      "outputs": []
    },
    {
      "cell_type": "code",
      "source": [
        "# Transform the X_train and the X_test\n"
      ],
      "metadata": {
        "id": "ufzL86FApRdK"
      },
      "execution_count": null,
      "outputs": []
    },
    {
      "cell_type": "code",
      "source": [
        "# Change the X_train and X_test transformed columns to a dataframe\n",
        "\n"
      ],
      "metadata": {
        "id": "QQnM4knVpTGQ"
      },
      "execution_count": null,
      "outputs": []
    },
    {
      "cell_type": "code",
      "source": [
        "# View the first five rows of the X_train transformed dataframe\n"
      ],
      "metadata": {
        "id": "Aya9HCB-pUoo"
      },
      "execution_count": null,
      "outputs": []
    },
    {
      "cell_type": "code",
      "source": [
        "# View the first five rows of the X_test transformed dataframe\n"
      ],
      "metadata": {
        "id": "-ATvvyBKpWMh"
      },
      "execution_count": null,
      "outputs": []
    },
    {
      "cell_type": "code",
      "source": [
        "# View the info from the X_train transformed dataframe\n"
      ],
      "metadata": {
        "id": "I7rP3ww4pYEx"
      },
      "execution_count": null,
      "outputs": []
    },
    {
      "cell_type": "code",
      "source": [
        "# View the info from the X_test transformed dataframe\n"
      ],
      "metadata": {
        "id": "IOYmPezmpsMA"
      },
      "execution_count": null,
      "outputs": []
    },
    {
      "cell_type": "code",
      "source": [
        ""
      ],
      "metadata": {
        "id": "FEulHOj-p0ef"
      },
      "execution_count": null,
      "outputs": []
    }
  ]
}