{
  "nbformat": 4,
  "nbformat_minor": 0,
  "metadata": {
    "colab": {
      "name": "Solution-Challenge Classification Metrics.ipynb",
      "provenance": [],
      "collapsed_sections": [],
      "include_colab_link": true
    },
    "kernelspec": {
      "name": "python3",
      "display_name": "Python 3"
    },
    "language_info": {
      "name": "python"
    }
  },
  "cells": [
    {
      "cell_type": "markdown",
      "metadata": {
        "id": "view-in-github",
        "colab_type": "text"
      },
      "source": [
        "<a href=\"https://colab.research.google.com/github/sensei-jirving/Online-DS-PT-01.24.22-cohort-notes/blob/main/Week_07/Lecture_01/Challenge/Solution_Challenge_Classification_Metrics.ipynb\" target=\"_parent\"><img src=\"https://colab.research.google.com/assets/colab-badge.svg\" alt=\"Open In Colab\"/></a>"
      ]
    },
    {
      "cell_type": "markdown",
      "metadata": {
        "id": "lKVyDx5NfelT"
      },
      "source": [
        "# Classification Metrics\n",
        "\n",
        "In this notebook we will explore evaluating a model using Sci-kit Learn (AKA sklearn)\n",
        "\n",
        "# The Data\n",
        "\n",
        "Today we will use a very commonly used dataset called 'The Iris Dataset'.  This dataset is so common it is included in the sklearn package.\n",
        "\n",
        "Each row is an iris flower and features are measurements of that flower including\n",
        "\n",
        "1. sepal length in cm\n",
        "2. sepal width in cm\n",
        "3. petal length in cm\n",
        "4. petal width in cm\n",
        "\n",
        "The task to to classify each iris as Iris Setosa, Iris Vericolour, or Iris Virginica.\n",
        "\n",
        "## This is a multiclass problem because there are 3 possible classes!"
      ]
    },
    {
      "cell_type": "code",
      "metadata": {
        "id": "pBoKFWqKgNIy"
      },
      "source": [
        "import pandas as pd\n",
        "import numpy as np\n",
        "import matplotlib.pyplot as plt\n",
        "from seaborn import heatmap\n",
        "from sklearn.datasets import load_iris\n",
        "from sklearn.neighbors import KNeighborsClassifier\n",
        "from sklearn.preprocessing import StandardScaler\n",
        "from sklearn.pipeline import make_pipeline\n",
        "from sklearn.model_selection import train_test_split\n",
        "from sklearn.metrics import accuracy_score, recall_score, precision_score, \\\n",
        "f1_score, classification_report, confusion_matrix"
      ],
      "execution_count": null,
      "outputs": []
    },
    {
      "cell_type": "code",
      "metadata": {
        "id": "E8AXZts6RScU"
      },
      "source": [
        "# Define a function to evaluate models\n",
        "\n",
        "def evaluate_classification(y_true, y_predicted, average=None):\n",
        "  accuracy = accuracy_score(y_true, y_predicted)\n",
        "  recall = recall_score(y_true, y_predicted, average=average)\n",
        "  precision = precision_score(y_true, y_predicted, average=average)\n",
        "  f1 = f1_score(y_true, y_predicted, average=average)\n",
        "\n",
        "  print(f'Accuracy: {accuracy} \\nRecall: {recall} \\nPrecision: {precision} \\nF1 Score: {f1}')"
      ],
      "execution_count": null,
      "outputs": []
    },
    {
      "cell_type": "markdown",
      "metadata": {
        "id": "h2lCXBTLpsQa"
      },
      "source": [
        "# Load the Data"
      ]
    },
    {
      "cell_type": "code",
      "metadata": {
        "id": "1_779ORwgVbp",
        "colab": {
          "base_uri": "https://localhost:8080/",
          "height": 206
        },
        "outputId": "4aa80460-3cbf-417a-914a-c2cd3ceb2f1c"
      },
      "source": [
        "# Load Iris Dataset\n",
        "iris = load_iris()\n",
        "\n",
        "df = pd.DataFrame(iris.data, columns=iris.feature_names)\n",
        "df['target'] = iris.target\n",
        "\n",
        "df.head()"
      ],
      "execution_count": null,
      "outputs": [
        {
          "output_type": "execute_result",
          "data": {
            "text/html": [
              "\n",
              "  <div id=\"df-30ea4f67-9e3f-4101-ad04-6dea6ef17d49\">\n",
              "    <div class=\"colab-df-container\">\n",
              "      <div>\n",
              "<style scoped>\n",
              "    .dataframe tbody tr th:only-of-type {\n",
              "        vertical-align: middle;\n",
              "    }\n",
              "\n",
              "    .dataframe tbody tr th {\n",
              "        vertical-align: top;\n",
              "    }\n",
              "\n",
              "    .dataframe thead th {\n",
              "        text-align: right;\n",
              "    }\n",
              "</style>\n",
              "<table border=\"1\" class=\"dataframe\">\n",
              "  <thead>\n",
              "    <tr style=\"text-align: right;\">\n",
              "      <th></th>\n",
              "      <th>sepal length (cm)</th>\n",
              "      <th>sepal width (cm)</th>\n",
              "      <th>petal length (cm)</th>\n",
              "      <th>petal width (cm)</th>\n",
              "      <th>target</th>\n",
              "    </tr>\n",
              "  </thead>\n",
              "  <tbody>\n",
              "    <tr>\n",
              "      <th>0</th>\n",
              "      <td>5.1</td>\n",
              "      <td>3.5</td>\n",
              "      <td>1.4</td>\n",
              "      <td>0.2</td>\n",
              "      <td>0</td>\n",
              "    </tr>\n",
              "    <tr>\n",
              "      <th>1</th>\n",
              "      <td>4.9</td>\n",
              "      <td>3.0</td>\n",
              "      <td>1.4</td>\n",
              "      <td>0.2</td>\n",
              "      <td>0</td>\n",
              "    </tr>\n",
              "    <tr>\n",
              "      <th>2</th>\n",
              "      <td>4.7</td>\n",
              "      <td>3.2</td>\n",
              "      <td>1.3</td>\n",
              "      <td>0.2</td>\n",
              "      <td>0</td>\n",
              "    </tr>\n",
              "    <tr>\n",
              "      <th>3</th>\n",
              "      <td>4.6</td>\n",
              "      <td>3.1</td>\n",
              "      <td>1.5</td>\n",
              "      <td>0.2</td>\n",
              "      <td>0</td>\n",
              "    </tr>\n",
              "    <tr>\n",
              "      <th>4</th>\n",
              "      <td>5.0</td>\n",
              "      <td>3.6</td>\n",
              "      <td>1.4</td>\n",
              "      <td>0.2</td>\n",
              "      <td>0</td>\n",
              "    </tr>\n",
              "  </tbody>\n",
              "</table>\n",
              "</div>\n",
              "      <button class=\"colab-df-convert\" onclick=\"convertToInteractive('df-30ea4f67-9e3f-4101-ad04-6dea6ef17d49')\"\n",
              "              title=\"Convert this dataframe to an interactive table.\"\n",
              "              style=\"display:none;\">\n",
              "        \n",
              "  <svg xmlns=\"http://www.w3.org/2000/svg\" height=\"24px\"viewBox=\"0 0 24 24\"\n",
              "       width=\"24px\">\n",
              "    <path d=\"M0 0h24v24H0V0z\" fill=\"none\"/>\n",
              "    <path d=\"M18.56 5.44l.94 2.06.94-2.06 2.06-.94-2.06-.94-.94-2.06-.94 2.06-2.06.94zm-11 1L8.5 8.5l.94-2.06 2.06-.94-2.06-.94L8.5 2.5l-.94 2.06-2.06.94zm10 10l.94 2.06.94-2.06 2.06-.94-2.06-.94-.94-2.06-.94 2.06-2.06.94z\"/><path d=\"M17.41 7.96l-1.37-1.37c-.4-.4-.92-.59-1.43-.59-.52 0-1.04.2-1.43.59L10.3 9.45l-7.72 7.72c-.78.78-.78 2.05 0 2.83L4 21.41c.39.39.9.59 1.41.59.51 0 1.02-.2 1.41-.59l7.78-7.78 2.81-2.81c.8-.78.8-2.07 0-2.86zM5.41 20L4 18.59l7.72-7.72 1.47 1.35L5.41 20z\"/>\n",
              "  </svg>\n",
              "      </button>\n",
              "      \n",
              "  <style>\n",
              "    .colab-df-container {\n",
              "      display:flex;\n",
              "      flex-wrap:wrap;\n",
              "      gap: 12px;\n",
              "    }\n",
              "\n",
              "    .colab-df-convert {\n",
              "      background-color: #E8F0FE;\n",
              "      border: none;\n",
              "      border-radius: 50%;\n",
              "      cursor: pointer;\n",
              "      display: none;\n",
              "      fill: #1967D2;\n",
              "      height: 32px;\n",
              "      padding: 0 0 0 0;\n",
              "      width: 32px;\n",
              "    }\n",
              "\n",
              "    .colab-df-convert:hover {\n",
              "      background-color: #E2EBFA;\n",
              "      box-shadow: 0px 1px 2px rgba(60, 64, 67, 0.3), 0px 1px 3px 1px rgba(60, 64, 67, 0.15);\n",
              "      fill: #174EA6;\n",
              "    }\n",
              "\n",
              "    [theme=dark] .colab-df-convert {\n",
              "      background-color: #3B4455;\n",
              "      fill: #D2E3FC;\n",
              "    }\n",
              "\n",
              "    [theme=dark] .colab-df-convert:hover {\n",
              "      background-color: #434B5C;\n",
              "      box-shadow: 0px 1px 3px 1px rgba(0, 0, 0, 0.15);\n",
              "      filter: drop-shadow(0px 1px 2px rgba(0, 0, 0, 0.3));\n",
              "      fill: #FFFFFF;\n",
              "    }\n",
              "  </style>\n",
              "\n",
              "      <script>\n",
              "        const buttonEl =\n",
              "          document.querySelector('#df-30ea4f67-9e3f-4101-ad04-6dea6ef17d49 button.colab-df-convert');\n",
              "        buttonEl.style.display =\n",
              "          google.colab.kernel.accessAllowed ? 'block' : 'none';\n",
              "\n",
              "        async function convertToInteractive(key) {\n",
              "          const element = document.querySelector('#df-30ea4f67-9e3f-4101-ad04-6dea6ef17d49');\n",
              "          const dataTable =\n",
              "            await google.colab.kernel.invokeFunction('convertToInteractive',\n",
              "                                                     [key], {});\n",
              "          if (!dataTable) return;\n",
              "\n",
              "          const docLinkHtml = 'Like what you see? Visit the ' +\n",
              "            '<a target=\"_blank\" href=https://colab.research.google.com/notebooks/data_table.ipynb>data table notebook</a>'\n",
              "            + ' to learn more about interactive tables.';\n",
              "          element.innerHTML = '';\n",
              "          dataTable['output_type'] = 'display_data';\n",
              "          await google.colab.output.renderOutput(dataTable, element);\n",
              "          const docLink = document.createElement('div');\n",
              "          docLink.innerHTML = docLinkHtml;\n",
              "          element.appendChild(docLink);\n",
              "        }\n",
              "      </script>\n",
              "    </div>\n",
              "  </div>\n",
              "  "
            ],
            "text/plain": [
              "   sepal length (cm)  sepal width (cm)  petal length (cm)  petal width (cm)  \\\n",
              "0                5.1               3.5                1.4               0.2   \n",
              "1                4.9               3.0                1.4               0.2   \n",
              "2                4.7               3.2                1.3               0.2   \n",
              "3                4.6               3.1                1.5               0.2   \n",
              "4                5.0               3.6                1.4               0.2   \n",
              "\n",
              "   target  \n",
              "0       0  \n",
              "1       0  \n",
              "2       0  \n",
              "3       0  \n",
              "4       0  "
            ]
          },
          "metadata": {},
          "execution_count": 25
        }
      ]
    },
    {
      "cell_type": "markdown",
      "metadata": {
        "id": "ggPHIKuYpvey"
      },
      "source": [
        "# Check for missing or duplicated values"
      ]
    },
    {
      "cell_type": "code",
      "metadata": {
        "id": "9J9fmGpIllqz",
        "colab": {
          "base_uri": "https://localhost:8080/"
        },
        "outputId": "6f2eabfc-1b94-4424-bce9-07baedab833e"
      },
      "source": [
        "# Check for duplicates and missing values\n",
        "print('Missing data:\\n', df.isna().sum())\n",
        "print('\\n')\n",
        "print('Duplicates:', df.duplicated().sum())"
      ],
      "execution_count": null,
      "outputs": [
        {
          "output_type": "stream",
          "name": "stdout",
          "text": [
            "Missing data:\n",
            " sepal length (cm)    0\n",
            "sepal width (cm)     0\n",
            "petal length (cm)    0\n",
            "petal width (cm)     0\n",
            "target               0\n",
            "dtype: int64\n",
            "\n",
            "\n",
            "Duplicates: 1\n"
          ]
        }
      ]
    },
    {
      "cell_type": "markdown",
      "metadata": {
        "id": "EfxeNO8Upygw"
      },
      "source": [
        "# Drop Duplicates\n",
        "\n",
        "We can drop duplicates without leaking data.  However, if we had missing data we would need to impute after the train test split to avoid leaking data from the testing data into the training data."
      ]
    },
    {
      "cell_type": "code",
      "metadata": {
        "id": "cErJ2l5Cl7bc",
        "colab": {
          "base_uri": "https://localhost:8080/"
        },
        "outputId": "82a539f2-f268-4601-b06b-8edc2c517833"
      },
      "source": [
        "#Remove duplicates\n",
        "df = df.drop_duplicates()\n",
        "\n",
        "print('duplicates remaining:', df.duplicated().sum())"
      ],
      "execution_count": null,
      "outputs": [
        {
          "output_type": "stream",
          "name": "stdout",
          "text": [
            "duplicates remaining: 0\n"
          ]
        }
      ]
    },
    {
      "cell_type": "markdown",
      "metadata": {
        "id": "OiI37GVeqBPb"
      },
      "source": [
        "# Check Class Balance"
      ]
    },
    {
      "cell_type": "code",
      "metadata": {
        "id": "DJxooGCCplrz",
        "colab": {
          "base_uri": "https://localhost:8080/"
        },
        "outputId": "499dd31d-0e3f-4a09-bfe5-6996cd38b0b4"
      },
      "source": [
        "#Check how many samples of each class are present\n",
        "df['target'].value_counts()"
      ],
      "execution_count": null,
      "outputs": [
        {
          "output_type": "execute_result",
          "data": {
            "text/plain": [
              "0    50\n",
              "1    50\n",
              "2    49\n",
              "Name: target, dtype: int64"
            ]
          },
          "metadata": {},
          "execution_count": 28
        }
      ]
    },
    {
      "cell_type": "markdown",
      "metadata": {
        "id": "dCfXzFKzqEOS"
      },
      "source": [
        "# Validation Split"
      ]
    },
    {
      "cell_type": "code",
      "metadata": {
        "id": "SvilIv4egyHT"
      },
      "source": [
        "#Split the data into training and validation sets\n",
        "X = df.drop(columns='target')\n",
        "y = df['target']\n",
        "\n",
        "X_train, X_test, y_train, y_test = train_test_split(X, y, random_state=42)"
      ],
      "execution_count": null,
      "outputs": []
    },
    {
      "cell_type": "markdown",
      "metadata": {
        "id": "xAN-mFd8qKQn"
      },
      "source": [
        "# Model the Data\n",
        "\n",
        "Use a pipeline to scale and fit a model and make predictions\n",
        "\n",
        "Create a pipeline with StandardScaler and DecisionTreeClassifier\n",
        "Fit the pipeline on your training data.\n",
        "\n",
        "Save the model's predictions on X_train and X_test in variables."
      ]
    },
    {
      "cell_type": "code",
      "metadata": {
        "id": "hSXn8G_VhO49"
      },
      "source": [
        "# Instantatiate scaler and model\n",
        "scaler = StandardScaler()\n",
        "\n",
        "knn = KNeighborsClassifier()\n",
        "\n",
        "#create and fit pipeline\n",
        "pipe = make_pipeline(scaler, knn)\n",
        "pipe.fit(X_train, y_train)\n",
        "\n",
        "#save predictions\n",
        "train_preds = pipe.predict(X_train)\n",
        "test_preds = pipe.predict(X_test)"
      ],
      "execution_count": null,
      "outputs": []
    },
    {
      "cell_type": "markdown",
      "metadata": {
        "id": "uwEoiCn0qPtQ"
      },
      "source": [
        "# Model Evaluation"
      ]
    },
    {
      "cell_type": "code",
      "metadata": {
        "id": "EaerKrxfpTSL",
        "colab": {
          "base_uri": "https://localhost:8080/"
        },
        "outputId": "bdc8db9d-e4c1-4fcc-ca0a-5080d79e2d06"
      },
      "source": [
        "print('Training Metrics\\n')\n",
        "evaluate_classification(y_train, train_preds, average='macro')\n",
        "print('\\n')\n",
        "\n",
        "print('Testing Metrics\\n')\n",
        "evaluate_classification(y_test, test_preds, average='macro')"
      ],
      "execution_count": null,
      "outputs": [
        {
          "output_type": "stream",
          "name": "stdout",
          "text": [
            "Training Metrics\n",
            "\n",
            "Accuracy: 0.963963963963964 \n",
            "Recall: 0.9644259644259644 \n",
            "Precision: 0.9660859465737515 \n",
            "F1 Score: 0.9648148148148149\n",
            "\n",
            "\n",
            "Testing Metrics\n",
            "\n",
            "Accuracy: 1.0 \n",
            "Recall: 1.0 \n",
            "Precision: 1.0 \n",
            "F1 Score: 1.0\n"
          ]
        }
      ]
    },
    {
      "cell_type": "markdown",
      "metadata": {
        "id": "bdmkC91uqWgC"
      },
      "source": [
        "Recall, precision, and f1 score don't work unless we identify a positive class, or tell the function what kind of average we want.  In the latter case it will return the average score across classes.\n",
        "\n",
        "If this were a binary classification they would assume we want scores for class 1"
      ]
    },
    {
      "cell_type": "code",
      "metadata": {
        "id": "9PprnxtSivrT",
        "colab": {
          "base_uri": "https://localhost:8080/"
        },
        "outputId": "0a768a37-80af-49c4-8ddc-0253f440daee"
      },
      "source": [
        "print('Classification Report for Training Set')\n",
        "train_report = classification_report(y_train, train_preds)\n",
        "print(train_report)\n",
        "\n",
        "print('Confusion Matrix for Training Set')\n",
        "train_conf_mat = confusion_matrix(y_train, train_preds)\n",
        "print(train_conf_mat)\n",
        "\n",
        "print('\\n\\n')\n",
        "\n",
        "print('Classification Report for Testing Set')\n",
        "\n",
        "test_report = classification_report(y_test, test_preds)\n",
        "print(test_report)\n",
        "\n",
        "print('Confusion Matrix for Testing Set')\n",
        "test_conf_mat = confusion_matrix(y_test, test_preds)\n",
        "print(test_conf_mat)"
      ],
      "execution_count": null,
      "outputs": [
        {
          "output_type": "stream",
          "name": "stdout",
          "text": [
            "Classification Report for Training Set\n",
            "              precision    recall  f1-score   support\n",
            "\n",
            "           0       1.00      1.00      1.00        35\n",
            "           1       0.93      0.97      0.95        39\n",
            "           2       0.97      0.92      0.94        37\n",
            "\n",
            "    accuracy                           0.96       111\n",
            "   macro avg       0.97      0.96      0.96       111\n",
            "weighted avg       0.96      0.96      0.96       111\n",
            "\n",
            "Confusion Matrix for Training Set\n",
            "[[35  0  0]\n",
            " [ 0 38  1]\n",
            " [ 0  3 34]]\n",
            "\n",
            "\n",
            "\n",
            "Classification Report for Testing Set\n",
            "              precision    recall  f1-score   support\n",
            "\n",
            "           0       1.00      1.00      1.00        15\n",
            "           1       1.00      1.00      1.00        11\n",
            "           2       1.00      1.00      1.00        12\n",
            "\n",
            "    accuracy                           1.00        38\n",
            "   macro avg       1.00      1.00      1.00        38\n",
            "weighted avg       1.00      1.00      1.00        38\n",
            "\n",
            "Confusion Matrix for Testing Set\n",
            "[[15  0  0]\n",
            " [ 0 11  0]\n",
            " [ 0  0 12]]\n"
          ]
        }
      ]
    },
    {
      "cell_type": "markdown",
      "metadata": {
        "id": "6PZ3apfTqsM-"
      },
      "source": [
        "# Plot Confusion Matrix to Get Complete Picture"
      ]
    },
    {
      "cell_type": "code",
      "metadata": {
        "id": "DLZl3FNwiVlS",
        "colab": {
          "base_uri": "https://localhost:8080/",
          "height": 404
        },
        "outputId": "35c98553-1397-44af-b8b4-b1f8f070e788"
      },
      "source": [
        "plt.figure(figsize=(8,6))\n",
        "heatmap(test_conf_mat, xticklabels=iris.target_names, \n",
        "        yticklabels=iris.target_names, cmap='Greens',\n",
        "        annot=True)\n",
        "plt.ylabel('True Values')\n",
        "plt.xlabel('Predictied Values')\n",
        "plt.title('Confusion Matrix')\n",
        "plt.show()"
      ],
      "execution_count": null,
      "outputs": [
        {
          "output_type": "display_data",
          "data": {
            "image/png": "[encoded data removed]",
            "text/plain": [
              "<Figure size 576x432 with 2 Axes>"
            ]
          },
          "metadata": {
            "needs_background": "light"
          }
        }
      ]
    },
    {
      "cell_type": "markdown",
      "metadata": {
        "id": "ZZMDR4CHMSdh"
      },
      "source": [
        "It looks like my classifier is doing very well.\n",
        "\n",
        "The test set is also very small, so it's hard to tell how well this model would do on new iris data.  I'd like to do more testing with more data to get a better picture of this model's performance."
      ]
    },
    {
      "cell_type": "markdown",
      "metadata": {
        "id": "_VvNHZNzF3nZ"
      },
      "source": [
        "# BONUS\n",
        "\n",
        "Try tuning your model and/or try other models to get the best test score."
      ]
    }
  ]
}