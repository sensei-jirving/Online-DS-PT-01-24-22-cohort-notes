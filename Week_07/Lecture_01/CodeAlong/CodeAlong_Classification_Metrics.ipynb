{
  "nbformat": 4,
  "nbformat_minor": 0,
  "metadata": {
    "colab": {
      "name": "CodeAlong Classification Metrics.ipynb",
      "provenance": [],
      "collapsed_sections": [],
      "include_colab_link": true
    },
    "kernelspec": {
      "name": "python3",
      "display_name": "Python 3"
    },
    "language_info": {
      "name": "python"
    }
  },
  "cells": [
    {
      "cell_type": "markdown",
      "metadata": {
        "id": "view-in-github",
        "colab_type": "text"
      },
      "source": [
        "<a href=\"https://colab.research.google.com/github/sensei-jirving/Online-DS-PT-01.24.22-cohort-notes/blob/main/Week_07/Lecture_01/CodeAlong/CodeAlong_Classification_Metrics.ipynb\" target=\"_parent\"><img src=\"https://colab.research.google.com/assets/colab-badge.svg\" alt=\"Open In Colab\"/></a>"
      ]
    },
    {
      "cell_type": "markdown",
      "metadata": {
        "id": "lKVyDx5NfelT"
      },
      "source": [
        "# Classification Metrics\n",
        "\n",
        "In this notebook we will explore evaluating a model using Sci-kit Learn (AKA sklearn)\n",
        "\n",
        "# The Data\n",
        "\n",
        "Today we will use a very commonly used dataset called 'The Titanic Dataset'.\n",
        "\n",
        "We will be predicting the class of the passengers using the given data.\n",
        "\n",
        "## This is a multiclass problem because there are 3 possible classes!"
      ]
    },
    {
      "cell_type": "code",
      "source": [
        "from google.colab import drive\n",
        "drive.mount('/content/drive')"
      ],
      "metadata": {
        "id": "8O8MjvZ5EJ-y",
        "colab": {
          "base_uri": "https://localhost:8080/"
        },
        "outputId": "023817cb-e9a4-4dc1-b50f-85eb981dac9b"
      },
      "execution_count": null,
      "outputs": [
        {
          "output_type": "stream",
          "name": "stdout",
          "text": [
            "Mounted at /content/drive\n"
          ]
        }
      ]
    },
    {
      "cell_type": "code",
      "metadata": {
        "id": "pBoKFWqKgNIy"
      },
      "source": [
        "#Imports\n",
        "import pandas as pd\n",
        "import numpy as np\n",
        "import matplotlib.pyplot as plt\n",
        "from seaborn import heatmap\n",
        "from sklearn.datasets import load_iris\n",
        "from sklearn.neighbors import KNeighborsClassifier\n",
        "from sklearn.preprocessing import StandardScaler, OneHotEncoder\n",
        "from sklearn.compose import make_column_selector, make_column_transformer\n",
        "from sklearn.impute import SimpleImputer\n",
        "from sklearn.pipeline import make_pipeline\n",
        "from sklearn.model_selection import train_test_split\n",
        "from sklearn.metrics import accuracy_score, recall_score, precision_score, \\\n",
        "f1_score, classification_report, confusion_matrix\n",
        "from sklearn.metrics import ConfusionMatrixDisplay\n"
      ],
      "execution_count": null,
      "outputs": []
    },
    {
      "cell_type": "code",
      "metadata": {
        "id": "E8AXZts6RScU"
      },
      "source": [
        "# Define a function to evaluate models\n",
        "\n",
        "def evaluate_classification(y_true, y_predicted, average=None):\n",
        "  accuracy = accuracy_score(y_true, y_predicted)\n",
        "  recall = recall_score(y_true, y_predicted, average=average)\n",
        "  precision = precision_score(y_true, y_predicted, average=average)\n",
        "  f1 = f1_score(y_true, y_predicted, average=average)\n",
        "\n",
        "  print(f'Accuracy: {accuracy} \\nRecall: {recall} \\nPrecision: {precision} \\nF1 Score: {f1}')"
      ],
      "execution_count": null,
      "outputs": []
    },
    {
      "cell_type": "markdown",
      "metadata": {
        "id": "h2lCXBTLpsQa"
      },
      "source": [
        "# Load the Data"
      ]
    },
    {
      "cell_type": "code",
      "metadata": {
        "id": "1_779ORwgVbp",
        "colab": {
          "base_uri": "https://localhost:8080/",
          "height": 206
        },
        "outputId": "1e54a354-0155-4ea4-c014-b023024baa6b"
      },
      "source": [
        "# Load Iris Dataset\n",
        "# Load Data\n",
        "df = pd.read_csv('/content/drive/MyDrive/Coding Dojo/Lectures - Live Class Materials/Stack 2/Week 5/Titanic.csv')\n",
        "\n",
        "df.head()\n",
        "\n",
        "df.head()"
      ],
      "execution_count": null,
      "outputs": [
        {
          "output_type": "execute_result",
          "data": {
            "text/html": [
              "\n",
              "  <div id=\"df-d783fb86-a8c9-47f6-b7bd-03b96d9687b2\">\n",
              "    <div class=\"colab-df-container\">\n",
              "      <div>\n",
              "<style scoped>\n",
              "    .dataframe tbody tr th:only-of-type {\n",
              "        vertical-align: middle;\n",
              "    }\n",
              "\n",
              "    .dataframe tbody tr th {\n",
              "        vertical-align: top;\n",
              "    }\n",
              "\n",
              "    .dataframe thead th {\n",
              "        text-align: right;\n",
              "    }\n",
              "</style>\n",
              "<table border=\"1\" class=\"dataframe\">\n",
              "  <thead>\n",
              "    <tr style=\"text-align: right;\">\n",
              "      <th></th>\n",
              "      <th>Unnamed: 0</th>\n",
              "      <th>survived</th>\n",
              "      <th>pclass</th>\n",
              "      <th>sex</th>\n",
              "      <th>age</th>\n",
              "      <th>sibsp</th>\n",
              "      <th>parch</th>\n",
              "      <th>fare</th>\n",
              "      <th>embarked</th>\n",
              "      <th>class</th>\n",
              "      <th>who</th>\n",
              "      <th>deck</th>\n",
              "      <th>embark_town</th>\n",
              "      <th>alive</th>\n",
              "    </tr>\n",
              "  </thead>\n",
              "  <tbody>\n",
              "    <tr>\n",
              "      <th>0</th>\n",
              "      <td>0</td>\n",
              "      <td>0</td>\n",
              "      <td>3</td>\n",
              "      <td>male</td>\n",
              "      <td>22.0</td>\n",
              "      <td>1</td>\n",
              "      <td>0</td>\n",
              "      <td>7.2500</td>\n",
              "      <td>S</td>\n",
              "      <td>Third</td>\n",
              "      <td>man</td>\n",
              "      <td>NaN</td>\n",
              "      <td>Southampton</td>\n",
              "      <td>no</td>\n",
              "    </tr>\n",
              "    <tr>\n",
              "      <th>1</th>\n",
              "      <td>1</td>\n",
              "      <td>1</td>\n",
              "      <td>1</td>\n",
              "      <td>female</td>\n",
              "      <td>38.0</td>\n",
              "      <td>1</td>\n",
              "      <td>0</td>\n",
              "      <td>71.2833</td>\n",
              "      <td>C</td>\n",
              "      <td>First</td>\n",
              "      <td>woman</td>\n",
              "      <td>C</td>\n",
              "      <td>Cherbourg</td>\n",
              "      <td>yes</td>\n",
              "    </tr>\n",
              "    <tr>\n",
              "      <th>2</th>\n",
              "      <td>2</td>\n",
              "      <td>1</td>\n",
              "      <td>3</td>\n",
              "      <td>female</td>\n",
              "      <td>26.0</td>\n",
              "      <td>0</td>\n",
              "      <td>0</td>\n",
              "      <td>7.9250</td>\n",
              "      <td>S</td>\n",
              "      <td>Third</td>\n",
              "      <td>woman</td>\n",
              "      <td>NaN</td>\n",
              "      <td>Southampton</td>\n",
              "      <td>yes</td>\n",
              "    </tr>\n",
              "    <tr>\n",
              "      <th>3</th>\n",
              "      <td>3</td>\n",
              "      <td>1</td>\n",
              "      <td>1</td>\n",
              "      <td>female</td>\n",
              "      <td>35.0</td>\n",
              "      <td>1</td>\n",
              "      <td>0</td>\n",
              "      <td>53.1000</td>\n",
              "      <td>S</td>\n",
              "      <td>First</td>\n",
              "      <td>woman</td>\n",
              "      <td>C</td>\n",
              "      <td>Southampton</td>\n",
              "      <td>yes</td>\n",
              "    </tr>\n",
              "    <tr>\n",
              "      <th>4</th>\n",
              "      <td>4</td>\n",
              "      <td>0</td>\n",
              "      <td>3</td>\n",
              "      <td>male</td>\n",
              "      <td>35.0</td>\n",
              "      <td>0</td>\n",
              "      <td>0</td>\n",
              "      <td>8.0500</td>\n",
              "      <td>S</td>\n",
              "      <td>Third</td>\n",
              "      <td>man</td>\n",
              "      <td>NaN</td>\n",
              "      <td>Southampton</td>\n",
              "      <td>no</td>\n",
              "    </tr>\n",
              "  </tbody>\n",
              "</table>\n",
              "</div>\n",
              "      <button class=\"colab-df-convert\" onclick=\"convertToInteractive('df-d783fb86-a8c9-47f6-b7bd-03b96d9687b2')\"\n",
              "              title=\"Convert this dataframe to an interactive table.\"\n",
              "              style=\"display:none;\">\n",
              "        \n",
              "  <svg xmlns=\"http://www.w3.org/2000/svg\" height=\"24px\"viewBox=\"0 0 24 24\"\n",
              "       width=\"24px\">\n",
              "    <path d=\"M0 0h24v24H0V0z\" fill=\"none\"/>\n",
              "    <path d=\"M18.56 5.44l.94 2.06.94-2.06 2.06-.94-2.06-.94-.94-2.06-.94 2.06-2.06.94zm-11 1L8.5 8.5l.94-2.06 2.06-.94-2.06-.94L8.5 2.5l-.94 2.06-2.06.94zm10 10l.94 2.06.94-2.06 2.06-.94-2.06-.94-.94-2.06-.94 2.06-2.06.94z\"/><path d=\"M17.41 7.96l-1.37-1.37c-.4-.4-.92-.59-1.43-.59-.52 0-1.04.2-1.43.59L10.3 9.45l-7.72 7.72c-.78.78-.78 2.05 0 2.83L4 21.41c.39.39.9.59 1.41.59.51 0 1.02-.2 1.41-.59l7.78-7.78 2.81-2.81c.8-.78.8-2.07 0-2.86zM5.41 20L4 18.59l7.72-7.72 1.47 1.35L5.41 20z\"/>\n",
              "  </svg>\n",
              "      </button>\n",
              "      \n",
              "  <style>\n",
              "    .colab-df-container {\n",
              "      display:flex;\n",
              "      flex-wrap:wrap;\n",
              "      gap: 12px;\n",
              "    }\n",
              "\n",
              "    .colab-df-convert {\n",
              "      background-color: #E8F0FE;\n",
              "      border: none;\n",
              "      border-radius: 50%;\n",
              "      cursor: pointer;\n",
              "      display: none;\n",
              "      fill: #1967D2;\n",
              "      height: 32px;\n",
              "      padding: 0 0 0 0;\n",
              "      width: 32px;\n",
              "    }\n",
              "\n",
              "    .colab-df-convert:hover {\n",
              "      background-color: #E2EBFA;\n",
              "      box-shadow: 0px 1px 2px rgba(60, 64, 67, 0.3), 0px 1px 3px 1px rgba(60, 64, 67, 0.15);\n",
              "      fill: #174EA6;\n",
              "    }\n",
              "\n",
              "    [theme=dark] .colab-df-convert {\n",
              "      background-color: #3B4455;\n",
              "      fill: #D2E3FC;\n",
              "    }\n",
              "\n",
              "    [theme=dark] .colab-df-convert:hover {\n",
              "      background-color: #434B5C;\n",
              "      box-shadow: 0px 1px 3px 1px rgba(0, 0, 0, 0.15);\n",
              "      filter: drop-shadow(0px 1px 2px rgba(0, 0, 0, 0.3));\n",
              "      fill: #FFFFFF;\n",
              "    }\n",
              "  </style>\n",
              "\n",
              "      <script>\n",
              "        const buttonEl =\n",
              "          document.querySelector('#df-d783fb86-a8c9-47f6-b7bd-03b96d9687b2 button.colab-df-convert');\n",
              "        buttonEl.style.display =\n",
              "          google.colab.kernel.accessAllowed ? 'block' : 'none';\n",
              "\n",
              "        async function convertToInteractive(key) {\n",
              "          const element = document.querySelector('#df-d783fb86-a8c9-47f6-b7bd-03b96d9687b2');\n",
              "          const dataTable =\n",
              "            await google.colab.kernel.invokeFunction('convertToInteractive',\n",
              "                                                     [key], {});\n",
              "          if (!dataTable) return;\n",
              "\n",
              "          const docLinkHtml = 'Like what you see? Visit the ' +\n",
              "            '<a target=\"_blank\" href=https://colab.research.google.com/notebooks/data_table.ipynb>data table notebook</a>'\n",
              "            + ' to learn more about interactive tables.';\n",
              "          element.innerHTML = '';\n",
              "          dataTable['output_type'] = 'display_data';\n",
              "          await google.colab.output.renderOutput(dataTable, element);\n",
              "          const docLink = document.createElement('div');\n",
              "          docLink.innerHTML = docLinkHtml;\n",
              "          element.appendChild(docLink);\n",
              "        }\n",
              "      </script>\n",
              "    </div>\n",
              "  </div>\n",
              "  "
            ],
            "text/plain": [
              "   Unnamed: 0  survived  pclass     sex   age  sibsp  parch     fare embarked  \\\n",
              "0           0         0       3    male  22.0      1      0   7.2500        S   \n",
              "1           1         1       1  female  38.0      1      0  71.2833        C   \n",
              "2           2         1       3  female  26.0      0      0   7.9250        S   \n",
              "3           3         1       1  female  35.0      1      0  53.1000        S   \n",
              "4           4         0       3    male  35.0      0      0   8.0500        S   \n",
              "\n",
              "   class    who deck  embark_town alive  \n",
              "0  Third    man  NaN  Southampton    no  \n",
              "1  First  woman    C    Cherbourg   yes  \n",
              "2  Third  woman  NaN  Southampton   yes  \n",
              "3  First  woman    C  Southampton   yes  \n",
              "4  Third    man  NaN  Southampton    no  "
            ]
          },
          "metadata": {},
          "execution_count": 4
        }
      ]
    },
    {
      "cell_type": "markdown",
      "metadata": {
        "id": "ggPHIKuYpvey"
      },
      "source": [
        "# Check for missing or duplicated values"
      ]
    },
    {
      "cell_type": "code",
      "metadata": {
        "id": "9J9fmGpIllqz",
        "colab": {
          "base_uri": "https://localhost:8080/"
        },
        "outputId": "a97d1fdd-db5d-4315-91b0-c309f6610ccb"
      },
      "source": [
        "# Check for duplicates and missing values\n",
        "print('Missing data:\\n', df.isna().sum())\n",
        "print('\\n')\n",
        "print('Duplicates:', df.duplicated().sum())"
      ],
      "execution_count": null,
      "outputs": [
        {
          "output_type": "stream",
          "name": "stdout",
          "text": [
            "Missing data:\n",
            " Unnamed: 0       0\n",
            "survived         0\n",
            "pclass           0\n",
            "sex              0\n",
            "age            177\n",
            "sibsp            0\n",
            "parch            0\n",
            "fare             0\n",
            "embarked         2\n",
            "class            0\n",
            "who              0\n",
            "deck           688\n",
            "embark_town      2\n",
            "alive            0\n",
            "dtype: int64\n",
            "\n",
            "\n",
            "Duplicates: 0\n"
          ]
        }
      ]
    },
    {
      "cell_type": "code",
      "source": [
        "df.info()"
      ],
      "metadata": {
        "id": "YyxEInln-BHj",
        "colab": {
          "base_uri": "https://localhost:8080/"
        },
        "outputId": "a613cd2a-627b-40c3-c05e-ac6e57178f8f"
      },
      "execution_count": null,
      "outputs": [
        {
          "output_type": "stream",
          "name": "stdout",
          "text": [
            "<class 'pandas.core.frame.DataFrame'>\n",
            "RangeIndex: 891 entries, 0 to 890\n",
            "Data columns (total 14 columns):\n",
            " #   Column       Non-Null Count  Dtype  \n",
            "---  ------       --------------  -----  \n",
            " 0   Unnamed: 0   891 non-null    int64  \n",
            " 1   survived     891 non-null    int64  \n",
            " 2   pclass       891 non-null    int64  \n",
            " 3   sex          891 non-null    object \n",
            " 4   age          714 non-null    float64\n",
            " 5   sibsp        891 non-null    int64  \n",
            " 6   parch        891 non-null    int64  \n",
            " 7   fare         891 non-null    float64\n",
            " 8   embarked     889 non-null    object \n",
            " 9   class        891 non-null    object \n",
            " 10  who          891 non-null    object \n",
            " 11  deck         203 non-null    object \n",
            " 12  embark_town  889 non-null    object \n",
            " 13  alive        891 non-null    object \n",
            "dtypes: float64(2), int64(5), object(7)\n",
            "memory usage: 97.6+ KB\n"
          ]
        }
      ]
    },
    {
      "cell_type": "code",
      "source": [
        "print('unique sex', df['sex'].unique())\n",
        "print('\\n')\n",
        "print('unique embarked', df['embarked'].unique())\n",
        "print('\\n')\n",
        "print('unique class', df['class'].unique())\n",
        "print('\\n')\n",
        "print('unique who', df['who'].unique())\n",
        "print('\\n')\n",
        "print('unique deck', df['deck'].unique())\n",
        "print('\\n')\n",
        "print('unique embark town', df['embark_town'].unique())\n",
        "print('\\n')\n",
        "print('unique alive', df['alive'].unique())"
      ],
      "metadata": {
        "id": "1D1n3YSA-CiL",
        "colab": {
          "base_uri": "https://localhost:8080/"
        },
        "outputId": "556feda3-30ed-434a-eaa8-688e6a1e1b5f"
      },
      "execution_count": null,
      "outputs": [
        {
          "output_type": "stream",
          "name": "stdout",
          "text": [
            "unique sex ['male' 'female']\n",
            "\n",
            "\n",
            "unique embarked ['S' 'C' 'Q' nan]\n",
            "\n",
            "\n",
            "unique class ['Third' 'First' 'Second']\n",
            "\n",
            "\n",
            "unique who ['man' 'woman' 'child']\n",
            "\n",
            "\n",
            "unique deck [nan 'C' 'E' 'G' 'D' 'A' 'B' 'F']\n",
            "\n",
            "\n",
            "unique embark town ['Southampton' 'Cherbourg' 'Queenstown' nan]\n",
            "\n",
            "\n",
            "unique alive ['no' 'yes']\n"
          ]
        }
      ]
    },
    {
      "cell_type": "markdown",
      "metadata": {
        "id": "OiI37GVeqBPb"
      },
      "source": [
        "# Check Class Balance"
      ]
    },
    {
      "cell_type": "code",
      "metadata": {
        "id": "DJxooGCCplrz",
        "colab": {
          "base_uri": "https://localhost:8080/"
        },
        "outputId": "cdae4e37-5eba-4f13-fdf5-255234848456"
      },
      "source": [
        "#Check how many samples of each class are present\n",
        "df['class'].value_counts()"
      ],
      "execution_count": null,
      "outputs": [
        {
          "output_type": "execute_result",
          "data": {
            "text/plain": [
              "Third     491\n",
              "First     216\n",
              "Second    184\n",
              "Name: class, dtype: int64"
            ]
          },
          "metadata": {},
          "execution_count": 8
        }
      ]
    },
    {
      "cell_type": "code",
      "source": [
        "#Check for percentages of each class\n",
        "df['class'].value_counts(normalize=True)"
      ],
      "metadata": {
        "id": "o3lCw153aZIs",
        "colab": {
          "base_uri": "https://localhost:8080/"
        },
        "outputId": "88981fb9-ef7a-462a-b29e-4e9f328b8d7d"
      },
      "execution_count": null,
      "outputs": [
        {
          "output_type": "execute_result",
          "data": {
            "text/plain": [
              "Third     0.551066\n",
              "First     0.242424\n",
              "Second    0.206510\n",
              "Name: class, dtype: float64"
            ]
          },
          "metadata": {},
          "execution_count": 9
        }
      ]
    },
    {
      "cell_type": "markdown",
      "metadata": {
        "id": "dCfXzFKzqEOS"
      },
      "source": [
        "# Validation Split"
      ]
    },
    {
      "cell_type": "code",
      "metadata": {
        "id": "SvilIv4egyHT"
      },
      "source": [
        "#Split the data into training and validation sets\n",
        "X = df.drop(columns='class')\n",
        "\n",
        "y = df['class']\n",
        "\n",
        "X_train, X_test, y_train, y_test = train_test_split(X, y, random_state=42)"
      ],
      "execution_count": null,
      "outputs": []
    },
    {
      "cell_type": "markdown",
      "metadata": {
        "id": "xAN-mFd8qKQn"
      },
      "source": [
        "# Model the Data\n",
        "\n",
        "Use a pipeline to scale, one hot encode and fit a model and make predictions\n",
        "\n",
        "Create a pipeline with the column transformer and the knn model.\n",
        "Fit the pipeline on your training data.\n",
        "\n",
        "Save the model's predictions on X_train and X_test in variables."
      ]
    },
    {
      "cell_type": "code",
      "source": [
        "# instantiate the column selectors\n",
        "num_selector = make_column_selector(dtype_include='number')\n",
        "cat_selector = make_column_selector(dtype_include='object')"
      ],
      "metadata": {
        "id": "KXmB4MOpGbdz"
      },
      "execution_count": null,
      "outputs": []
    },
    {
      "cell_type": "code",
      "source": [
        "#instantiate the standard scaler, OneHotEncoder and Imputers\n",
        "scaler = StandardScaler()\n",
        "encoder = OneHotEncoder(sparse=False, handle_unknown='ignore')\n",
        "\n",
        "mean_imputer = SimpleImputer(strategy='mean')\n",
        "freq_imputer = SimpleImputer(strategy='most_frequent')"
      ],
      "metadata": {
        "id": "KpNlOXS2GdH2"
      },
      "execution_count": null,
      "outputs": []
    },
    {
      "cell_type": "code",
      "source": [
        "# Setup the pipelines for the numeric and categorical data\n",
        "num_processor = make_pipeline(mean_imputer, scaler)\n",
        "\n",
        "cat_processor = make_pipeline(freq_imputer, encoder)"
      ],
      "metadata": {
        "id": "1tfMcMCSGes8"
      },
      "execution_count": null,
      "outputs": []
    },
    {
      "cell_type": "code",
      "source": [
        "# Setup the tuples to pair the processors with the make column selecotrs\n",
        "\n",
        "num_tuple = (num_processor, num_selector)\n",
        "\n",
        "cat_tuple = (cat_processor, cat_selector)"
      ],
      "metadata": {
        "id": "Pu4ZV6KgGiA1"
      },
      "execution_count": null,
      "outputs": []
    },
    {
      "cell_type": "code",
      "source": [
        "# Instantiate the make column transformer\n",
        "\n",
        "col_transformer = make_column_transformer(num_tuple, cat_tuple, remainder='passthrough')"
      ],
      "metadata": {
        "id": "3gLl0KUZGkDD"
      },
      "execution_count": null,
      "outputs": []
    },
    {
      "cell_type": "code",
      "metadata": {
        "id": "hSXn8G_VhO49"
      },
      "source": [
        "# Instantatiate model and pipeline\n",
        "\n",
        "knn = KNeighborsClassifier()\n",
        "\n",
        "#create and fit pipeline\n",
        "pipe = make_pipeline(col_transformer, knn)\n",
        "\n",
        "pipe.fit(X_train, y_train)\n",
        "#save predictions\n",
        "\n",
        "train_preds = pipe.predict(X_train)\n",
        "test_preds = pipe.predict(X_test)"
      ],
      "execution_count": null,
      "outputs": []
    },
    {
      "cell_type": "markdown",
      "metadata": {
        "id": "uwEoiCn0qPtQ"
      },
      "source": [
        "# Model Evaluation"
      ]
    },
    {
      "cell_type": "code",
      "metadata": {
        "id": "EaerKrxfpTSL",
        "colab": {
          "base_uri": "https://localhost:8080/"
        },
        "outputId": "8f4b1aaf-9a0a-4927-9262-81edf5a62920"
      },
      "source": [
        "print('Training Metrics\\n')\n",
        "evaluate_classification(y_train, train_preds, average='macro')\n",
        "print('\\n')\n",
        "\n",
        "print('Testing Metrics\\n')\n",
        "evaluate_classification(y_test, test_preds, average='macro')"
      ],
      "execution_count": null,
      "outputs": [
        {
          "output_type": "stream",
          "name": "stdout",
          "text": [
            "Training Metrics\n",
            "\n",
            "Accuracy: 0.9820359281437125 \n",
            "Recall: 0.9732774667164364 \n",
            "Precision: 0.9836493674044124 \n",
            "F1 Score: 0.9781597594403887\n",
            "\n",
            "\n",
            "Testing Metrics\n",
            "\n",
            "Accuracy: 0.9596412556053812 \n",
            "Recall: 0.945076516974071 \n",
            "Precision: 0.954248366013072 \n",
            "F1 Score: 0.9494857990477515\n"
          ]
        }
      ]
    },
    {
      "cell_type": "markdown",
      "metadata": {
        "id": "bdmkC91uqWgC"
      },
      "source": [
        "Recall, precision, and f1 score don't work unless we identify a positive class, or tell the function what kind of average we want.  In the latter case it will return the average score across classes.\n",
        "\n",
        "If this were a binary classification they would assume we want scores for class 1"
      ]
    },
    {
      "cell_type": "code",
      "metadata": {
        "id": "9PprnxtSivrT",
        "colab": {
          "base_uri": "https://localhost:8080/"
        },
        "outputId": "e69fd9fe-6009-405f-df77-d6f30c9aaf1a"
      },
      "source": [
        "print('Classification Report for Training Set')\n",
        "train_report = classification_report(y_train, train_preds)\n",
        "\n",
        "print('Confusion Matrix for Training Set')\n",
        "train_conf_mat = confusion_matrix(y_train, train_preds)\n",
        "\n",
        "print('\\n\\n')\n",
        "\n",
        "print('Classification Report for Testing Set')\n",
        "\n",
        "test_report = classification_report(y_test, test_preds)\n",
        "print(test_report)\n",
        "\n",
        "print('Confusion Matrix for Testing Set')\n",
        "test_conf_mat = confusion_matrix(y_test, test_preds)\n",
        "print(test_conf_mat)"
      ],
      "execution_count": null,
      "outputs": [
        {
          "output_type": "stream",
          "name": "stdout",
          "text": [
            "Classification Report for Training Set\n",
            "Confusion Matrix for Training Set\n",
            "\n",
            "\n",
            "\n",
            "Classification Report for Testing Set\n",
            "              precision    recall  f1-score   support\n",
            "\n",
            "       First       1.00      0.97      0.98        64\n",
            "      Second       0.90      0.88      0.89        43\n",
            "       Third       0.96      0.98      0.97       116\n",
            "\n",
            "    accuracy                           0.96       223\n",
            "   macro avg       0.95      0.95      0.95       223\n",
            "weighted avg       0.96      0.96      0.96       223\n",
            "\n",
            "Confusion Matrix for Testing Set\n",
            "[[ 62   2   0]\n",
            " [  0  38   5]\n",
            " [  0   2 114]]\n"
          ]
        }
      ]
    },
    {
      "cell_type": "markdown",
      "metadata": {
        "id": "6PZ3apfTqsM-"
      },
      "source": [
        "# Plot Confusion Matrix to Get Complete Picture"
      ]
    },
    {
      "cell_type": "code",
      "source": [
        "#Get names of the class from the class column\n",
        "sorted_names = pd.Series(df['class'].unique()).sort_values()"
      ],
      "metadata": {
        "id": "WFvaSsc8ODjh"
      },
      "execution_count": null,
      "outputs": []
    },
    {
      "cell_type": "code",
      "source": [
        "plt.figure(figsize=(8,6))\n",
        "heatmap(train_conf_mat, xticklabels=sorted_names,\n",
        "        yticklabels=sorted_names, cmap='Greens',\n",
        "        annot=True, fmt='g')\n",
        "plt.ylabel('True Values')\n",
        "plt.xlabel('Predicted Values')\n",
        "plt.title('Confusion Matrix')\n",
        "plt.show()"
      ],
      "metadata": {
        "id": "fz3hPcNtLPC2",
        "colab": {
          "base_uri": "https://localhost:8080/",
          "height": 404
        },
        "outputId": "e229f941-3cd8-4d93-dcb9-1ce3a7d1ce5d"
      },
      "execution_count": null,
      "outputs": [
        {
          "output_type": "display_data",
          "data": {
            "image/png": "[encoded data removed]",
            "text/plain": [
              "<Figure size 576x432 with 2 Axes>"
            ]
          },
          "metadata": {
            "needs_background": "light"
          }
        }
      ]
    },
    {
      "cell_type": "code",
      "metadata": {
        "id": "DLZl3FNwiVlS",
        "colab": {
          "base_uri": "https://localhost:8080/",
          "height": 296
        },
        "outputId": "fcc1087d-20ae-4684-f932-d7db0aa8af2c"
      },
      "source": [
        "ConfusionMatrixDisplay.from_estimator(pipe, X_test, y_test, cmap='Greens')"
      ],
      "execution_count": null,
      "outputs": [
        {
          "output_type": "execute_result",
          "data": {
            "text/plain": [
              "<sklearn.metrics._plot.confusion_matrix.ConfusionMatrixDisplay at 0x7fb1df326f90>"
            ]
          },
          "metadata": {},
          "execution_count": 23
        },
        {
          "output_type": "display_data",
          "data": {
            "image/png": "[encoded data removed]",
            "text/plain": [
              "<Figure size 432x288 with 2 Axes>"
            ]
          },
          "metadata": {
            "needs_background": "light"
          }
        }
      ]
    },
    {
      "cell_type": "code",
      "source": [
        "ConfusionMatrixDisplay.from_predictions(y_test, test_preds, cmap='Greens', normalize='true')"
      ],
      "metadata": {
        "colab": {
          "base_uri": "https://localhost:8080/",
          "height": 296
        },
        "id": "Qxa169eLbGSj",
        "outputId": "a4fc16af-a880-4500-c009-7fbcec48826b"
      },
      "execution_count": null,
      "outputs": [
        {
          "output_type": "execute_result",
          "data": {
            "text/plain": [
              "<sklearn.metrics._plot.confusion_matrix.ConfusionMatrixDisplay at 0x7fb1deda43d0>"
            ]
          },
          "metadata": {},
          "execution_count": 24
        },
        {
          "output_type": "display_data",
          "data": {
            "image/png": "[encoded data removed]",
            "text/plain": [
              "<Figure size 432x288 with 2 Axes>"
            ]
          },
          "metadata": {
            "needs_background": "light"
          }
        }
      ]
    },
    {
      "cell_type": "code",
      "source": [
        ""
      ],
      "metadata": {
        "id": "yJ6gdY9pbawA"
      },
      "execution_count": null,
      "outputs": []
    }
  ]
}