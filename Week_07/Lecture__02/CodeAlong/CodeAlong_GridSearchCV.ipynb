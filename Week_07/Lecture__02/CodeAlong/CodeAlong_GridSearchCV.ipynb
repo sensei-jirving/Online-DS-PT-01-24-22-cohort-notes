{
  "nbformat": 4,
  "nbformat_minor": 0,
  "metadata": {
    "colab": {
      "name": "CodeAlong GridSearchCV.ipynb",
      "provenance": [],
      "collapsed_sections": [],
      "include_colab_link": true
    },
    "kernelspec": {
      "name": "python3",
      "display_name": "Python 3"
    }
  },
  "cells": [
    {
      "cell_type": "markdown",
      "metadata": {
        "id": "view-in-github",
        "colab_type": "text"
      },
      "source": [
        "<a href=\"https://colab.research.google.com/github/sensei-jirving/Online-DS-PT-01.24.22-cohort-notes/blob/main/Week_07/Lecture__02/CodeAlong/CodeAlong_GridSearchCV.ipynb\" target=\"_parent\"><img src=\"https://colab.research.google.com/assets/colab-badge.svg\" alt=\"Open In Colab\"/></a>"
      ]
    },
    {
      "cell_type": "markdown",
      "metadata": {
        "id": "W126R0Qz5QNm"
      },
      "source": [
        "<center>\n",
        "<img src=\"https://course_report_production.s3.amazonaws.com/rich/rich_files/rich_files/2470/s300/cd-logo-blue-600x600.png\" alt=\"Coding Dojo Logo\" class=\"center\" height=\"50\">\n",
        "\n",
        "# Classification - Pipelines and GridSearchCV\n",
        "\n",
        "*Make a copy of this notebook to edit!*\n",
        "\n",
        "<img src=\"https://external-content.duckduckgo.com/iu/?u=https%3A%2F%2Fcdn.searchenginejournal.com%2Fwp-content%2Fuploads%2F2020%2F08%2Fcopy-the-colab-notebook-to-your-google-drive-5f2579179f746.jpg&f=1&nofb=1\" alt=\"Make a copy\" class=\"center\" height=\"300\">\n",
        "\n",
        "</center>"
      ]
    },
    {
      "cell_type": "code",
      "source": [
        "from google.colab import drive\n",
        "drive.mount('/content/drive')"
      ],
      "metadata": {
        "colab": {
          "base_uri": "https://localhost:8080/"
        },
        "id": "Db7pXMvWmFCo",
        "outputId": "ce7ab43b-5cdb-48c3-9f68-31958b14b4d0"
      },
      "execution_count": null,
      "outputs": [
        {
          "output_type": "stream",
          "name": "stdout",
          "text": [
            "Mounted at /content/drive\n"
          ]
        }
      ]
    },
    {
      "cell_type": "markdown",
      "metadata": {
        "id": "M3wwYi6u_VU3"
      },
      "source": [
        "## Task\n",
        "\n",
        "Your task is to build the best model possible using [this dataset](https://docs.google.com/spreadsheets/d/e/2PACX-1vRLHJOe6ntDC42VgSVJmp4amJzR_ESF0YDusUKOBTejsI241KjXYZK6LM6YKEHjMqgV3VIaNC10SeSh/pub?output=csv). You can copy and paste the link into `pd.read_csv()`\n",
        "\n",
        "Your goal is to predict the 5-Year Career Longevity for NBA Rookies or whether or not they are likely to remain in the [NBA](https://en.wikipedia.org/wiki/National_Basketball_Association) for at least 5 years.\n",
        "> y = 0 if career years played < 5  \n",
        "y = 1 if career years played >= 5\n",
        "\n",
        "\n",
        "\n",
        "The data given is from [data.world](https://data.world/exercises/logistic-regression-exercise-1). The data dictionary is given below:\n",
        "\n",
        "Variable Name | Description\n",
        "--- | ---\n",
        "Name | Name of player\n",
        "GP | Number of games played\n",
        "MIN | Minutes played\n",
        "PTS | Average points per game\n",
        "FGM | Field Goals Made\n",
        "FGA | Field Goal Attempts\n",
        "FG% | Field Goal Percentage\n",
        "3P Made | 3 Pointers Made\n",
        "3PA | 3 Point Attempts\n",
        "3P% | 3 Point Percentage\n",
        "FTM | Free Throws Made\n",
        "FTA | Free Throw Attempts\n",
        "FT% | Free Throw Percentage\n",
        "OREB | Offensive Rebounds\n",
        "DREB | Defensive Rebounds\n",
        "REB | Rebounds\n",
        "AST | Assists\n",
        "STL | Steals\n",
        "BLK | Blocks\n",
        "TOV | Turnovers\n",
        "TARGET_5Yrs | Target variable: Yes if career length >= 5 years, No if career length < 5 years\n"
      ]
    },
    {
      "cell_type": "code",
      "metadata": {
        "id": "YKdUzIdbd-GH"
      },
      "source": [
        "# Imports\n",
        "import pandas as pd\n",
        "import numpy as np\n",
        "import seaborn as sns\n",
        "from sklearn.model_selection import train_test_split\n",
        "from sklearn.preprocessing import StandardScaler\n",
        "from sklearn.pipeline import make_pipeline\n",
        "from sklearn.neighbors import KNeighborsClassifier\n",
        "from sklearn.model_selection import GridSearchCV, RandomizedSearchCV\n",
        "from sklearn.metrics import accuracy_score, classification_report, confusion_matrix, ConfusionMatrixDisplay"
      ],
      "execution_count": null,
      "outputs": []
    },
    {
      "cell_type": "code",
      "metadata": {
        "id": "92LoqNJb6mpm"
      },
      "source": [
        "#load data\n",
        "df = pd.read_csv('/content/nba_rookies - nba_rookies (1).csv')"
      ],
      "execution_count": null,
      "outputs": []
    },
    {
      "cell_type": "code",
      "metadata": {
        "id": "TXuWDiCr6sDD",
        "colab": {
          "base_uri": "https://localhost:8080/"
        },
        "outputId": "4636703c-7069-429f-8ef7-19d376c9f113"
      },
      "source": [
        "# check for duplicates\n",
        "df.duplicated().sum()"
      ],
      "execution_count": null,
      "outputs": [
        {
          "output_type": "execute_result",
          "data": {
            "text/plain": [
              "11"
            ]
          },
          "metadata": {},
          "execution_count": 5
        }
      ]
    },
    {
      "cell_type": "code",
      "source": [
        "df.drop_duplicates(inplace=True)\n",
        "df.duplicated().sum()"
      ],
      "metadata": {
        "colab": {
          "base_uri": "https://localhost:8080/"
        },
        "id": "xGnl0S27mYNn",
        "outputId": "fb5ae846-c183-483d-b952-fa2aed8f1cd7"
      },
      "execution_count": null,
      "outputs": [
        {
          "output_type": "execute_result",
          "data": {
            "text/plain": [
              "0"
            ]
          },
          "metadata": {},
          "execution_count": 6
        }
      ]
    },
    {
      "cell_type": "code",
      "metadata": {
        "id": "DpRv1ewy7s5i",
        "colab": {
          "base_uri": "https://localhost:8080/"
        },
        "outputId": "d5798fe9-2bbd-4c8b-9a83-decb44bc6104"
      },
      "source": [
        "#Check for missing data\n",
        "df.info()"
      ],
      "execution_count": null,
      "outputs": [
        {
          "output_type": "stream",
          "name": "stdout",
          "text": [
            "<class 'pandas.core.frame.DataFrame'>\n",
            "Int64Index: 1318 entries, 0 to 1328\n",
            "Data columns (total 21 columns):\n",
            " #   Column       Non-Null Count  Dtype  \n",
            "---  ------       --------------  -----  \n",
            " 0   Name         1318 non-null   object \n",
            " 1   GP           1318 non-null   int64  \n",
            " 2   MIN          1318 non-null   float64\n",
            " 3   PTS          1318 non-null   float64\n",
            " 4   FGM          1318 non-null   float64\n",
            " 5   FGA          1318 non-null   float64\n",
            " 6   FG%          1318 non-null   float64\n",
            " 7   3P Made      1318 non-null   float64\n",
            " 8   3PA          1318 non-null   float64\n",
            " 9   3P%          1318 non-null   float64\n",
            " 10  FTM          1318 non-null   float64\n",
            " 11  FTA          1318 non-null   float64\n",
            " 12  FT%          1318 non-null   float64\n",
            " 13  OREB         1318 non-null   float64\n",
            " 14  DREB         1318 non-null   float64\n",
            " 15  REB          1318 non-null   float64\n",
            " 16  AST          1318 non-null   float64\n",
            " 17  STL          1318 non-null   float64\n",
            " 18  BLK          1318 non-null   float64\n",
            " 19  TOV          1318 non-null   float64\n",
            " 20  TARGET_5Yrs  1318 non-null   object \n",
            "dtypes: float64(18), int64(1), object(2)\n",
            "memory usage: 226.5+ KB\n"
          ]
        }
      ]
    },
    {
      "cell_type": "code",
      "source": [
        "df.columns = df.columns.str.lower()"
      ],
      "metadata": {
        "id": "M5r_I8DXmoAj"
      },
      "execution_count": null,
      "outputs": []
    },
    {
      "cell_type": "code",
      "metadata": {
        "id": "sAc8dOQCHg_R",
        "colab": {
          "base_uri": "https://localhost:8080/"
        },
        "outputId": "4a3efce8-dec1-48f8-9f89-70700d48c597"
      },
      "source": [
        "# Check the class balance\n",
        "df['target_5yrs'].value_counts()"
      ],
      "execution_count": null,
      "outputs": [
        {
          "output_type": "execute_result",
          "data": {
            "text/plain": [
              "Yes    819\n",
              "No     499\n",
              "Name: target_5yrs, dtype: int64"
            ]
          },
          "metadata": {},
          "execution_count": 9
        }
      ]
    },
    {
      "cell_type": "code",
      "source": [
        ""
      ],
      "metadata": {
        "id": "Ryjs03ofm3k_"
      },
      "execution_count": null,
      "outputs": []
    },
    {
      "cell_type": "code",
      "metadata": {
        "id": "kUo2kW7h6yMR"
      },
      "source": [
        "# split data into train and test sets...notice that stratify = y will \n",
        "# give the same proportion of yes/no in our train and test sets\n",
        "X = df.drop(columns=['target_5yrs', 'name'])\n",
        "\n",
        "y = df['target_5yrs']\n",
        "\n",
        "X_train, X_test, y_train, y_test = train_test_split(X, y, random_state=42, stratify=y)"
      ],
      "execution_count": null,
      "outputs": []
    },
    {
      "cell_type": "code",
      "metadata": {
        "id": "bpV0iuFv65a5",
        "colab": {
          "base_uri": "https://localhost:8080/"
        },
        "outputId": "b0f5f94d-46ed-4d8e-a4e6-a4d76a3d4454"
      },
      "source": [
        "# scale the data and fit a KNN model\n",
        "# use a pipeline with the scaler and the model\n",
        "scaler = StandardScaler()\n",
        "knn = KNeighborsClassifier()\n",
        "\n",
        "knn_pipe = make_pipeline(scaler, knn)\n",
        "\n",
        "knn_pipe.fit(X_train, y_train)"
      ],
      "execution_count": null,
      "outputs": [
        {
          "output_type": "execute_result",
          "data": {
            "text/plain": [
              "Pipeline(steps=[('standardscaler', StandardScaler()),\n",
              "                ('kneighborsclassifier', KNeighborsClassifier())])"
            ]
          },
          "metadata": {},
          "execution_count": 12
        }
      ]
    },
    {
      "cell_type": "code",
      "metadata": {
        "id": "qK18qbWA7YoQ",
        "colab": {
          "base_uri": "https://localhost:8080/"
        },
        "outputId": "a1fade4e-f438-4e90-c06b-206f80423940"
      },
      "source": [
        "# Evaluate the accuracy of the model with default settings\n",
        "train_preds = knn_pipe.predict(X_train)\n",
        "test_preds = knn_pipe.predict(X_test)\n",
        "\n",
        "print('train accuracy:', accuracy_score(y_train, train_preds))\n",
        "print('\\n')\n",
        "print('test accuracy:', accuracy_score(y_test, test_preds))"
      ],
      "execution_count": null,
      "outputs": [
        {
          "output_type": "stream",
          "name": "stdout",
          "text": [
            "train accuracy: 0.7651821862348178\n",
            "\n",
            "\n",
            "test accuracy: 0.6666666666666666\n"
          ]
        }
      ]
    },
    {
      "cell_type": "markdown",
      "metadata": {
        "id": "7WnzBgwh7HwO"
      },
      "source": [
        "# GridSearchCV\n",
        "Since we just tried the default model, we should tune the model to optimize our results\n",
        "to understand you options, use the documentation...the link is provided below.\n",
        "It is beyond the scope of this course to discuss all of the hyperparameters, but you can try them out and see "
      ]
    },
    {
      "cell_type": "code",
      "source": [
        "knn_pipe.get_params()"
      ],
      "metadata": {
        "colab": {
          "base_uri": "https://localhost:8080/"
        },
        "id": "cPPR0ApnodCB",
        "outputId": "f7027219-bed7-48e5-ea96-1cdfdff68628"
      },
      "execution_count": null,
      "outputs": [
        {
          "output_type": "execute_result",
          "data": {
            "text/plain": [
              "{'kneighborsclassifier': KNeighborsClassifier(),\n",
              " 'kneighborsclassifier__algorithm': 'auto',\n",
              " 'kneighborsclassifier__leaf_size': 30,\n",
              " 'kneighborsclassifier__metric': 'minkowski',\n",
              " 'kneighborsclassifier__metric_params': None,\n",
              " 'kneighborsclassifier__n_jobs': None,\n",
              " 'kneighborsclassifier__n_neighbors': 5,\n",
              " 'kneighborsclassifier__p': 2,\n",
              " 'kneighborsclassifier__weights': 'uniform',\n",
              " 'memory': None,\n",
              " 'standardscaler': StandardScaler(),\n",
              " 'standardscaler__copy': True,\n",
              " 'standardscaler__with_mean': True,\n",
              " 'standardscaler__with_std': True,\n",
              " 'steps': [('standardscaler', StandardScaler()),\n",
              "  ('kneighborsclassifier', KNeighborsClassifier())],\n",
              " 'verbose': False}"
            ]
          },
          "metadata": {},
          "execution_count": 14
        }
      ]
    },
    {
      "cell_type": "markdown",
      "metadata": {
        "id": "EJPrU5OC7r6r"
      },
      "source": [
        "https://scikit-learn.org/stable/modules/generated/sklearn.neighbors.KNeighborsClassifier.html"
      ]
    },
    {
      "cell_type": "code",
      "metadata": {
        "id": "47fiVwOV7rbh"
      },
      "source": [
        "# Using the documentation as your guide, define a dictionary of the \n",
        "# pararameters you want to tune and the values you want to try out\n",
        "params = {'kneighborsclassifier__n_neighbors': range(1, 20),\n",
        "          'kneighborsclassifier__weights': ['uniform', 'distance'],\n",
        "          'kneighborsclassifier__p': [2, 3, 4]}"
      ],
      "execution_count": null,
      "outputs": []
    },
    {
      "cell_type": "code",
      "metadata": {
        "id": "JPOcVBH673n4",
        "colab": {
          "base_uri": "https://localhost:8080/"
        },
        "outputId": "6430c8dc-434c-4ea2-894d-7db4e81c09c5"
      },
      "source": [
        "# Instantiate a gridsearch with the model you want to use and your hyperparamter dictionary\n",
        "# Depending on how many parameters you are testing and how many options you are trying, this may take awhile!\n",
        "knn_grid = GridSearchCV(knn_pipe, params)\n",
        "\n",
        "knn_grid.fit(X_train, y_train)"
      ],
      "execution_count": null,
      "outputs": [
        {
          "output_type": "execute_result",
          "data": {
            "text/plain": [
              "GridSearchCV(estimator=Pipeline(steps=[('standardscaler', StandardScaler()),\n",
              "                                       ('kneighborsclassifier',\n",
              "                                        KNeighborsClassifier())]),\n",
              "             param_grid={'kneighborsclassifier__n_neighbors': range(1, 20),\n",
              "                         'kneighborsclassifier__p': [2, 3, 4],\n",
              "                         'kneighborsclassifier__weights': ['uniform',\n",
              "                                                           'distance']})"
            ]
          },
          "metadata": {},
          "execution_count": 16
        }
      ]
    },
    {
      "cell_type": "code",
      "metadata": {
        "id": "-jscRQPX8CoH",
        "colab": {
          "base_uri": "https://localhost:8080/"
        },
        "outputId": "da194a5d-82b1-47bf-a313-2c30a817362b"
      },
      "source": [
        "# Check the optimal combinations of hyperparameters\n",
        "knn_grid.best_params_"
      ],
      "execution_count": null,
      "outputs": [
        {
          "output_type": "execute_result",
          "data": {
            "text/plain": [
              "{'kneighborsclassifier__n_neighbors': 19,\n",
              " 'kneighborsclassifier__p': 2,\n",
              " 'kneighborsclassifier__weights': 'uniform'}"
            ]
          },
          "metadata": {},
          "execution_count": 17
        }
      ]
    },
    {
      "cell_type": "code",
      "metadata": {
        "id": "XfcerhxZCW0B"
      },
      "source": [
        "# extract the best version of the model from the gridsearch object\n",
        "best_knn = knn_grid.best_estimator_"
      ],
      "execution_count": null,
      "outputs": []
    },
    {
      "cell_type": "code",
      "metadata": {
        "id": "p4_ALS248HAl",
        "colab": {
          "base_uri": "https://localhost:8080/"
        },
        "outputId": "3e6ef48a-1adc-4a69-f90e-d0dd805895dd"
      },
      "source": [
        "# Run a classification report on both train and test datasets for the best model. \n",
        "# How is your model doing?  Did the performance improve? How is the overfitting?\n",
        "train_preds = best_knn.predict(X_train)\n",
        "test_preds = best_knn.predict(X_test)\n",
        "\n",
        "print('Best Model Training Metrics')\n",
        "print(classification_report(y_train, train_preds))\n",
        "print('\\nBest Model Testing Metrics')\n",
        "print(classification_report(y_test, test_preds))"
      ],
      "execution_count": null,
      "outputs": [
        {
          "output_type": "stream",
          "name": "stdout",
          "text": [
            "Best Model Training Metrics\n",
            "              precision    recall  f1-score   support\n",
            "\n",
            "          No       0.66      0.55      0.60       374\n",
            "         Yes       0.75      0.83      0.79       614\n",
            "\n",
            "    accuracy                           0.72       988\n",
            "   macro avg       0.71      0.69      0.70       988\n",
            "weighted avg       0.72      0.72      0.72       988\n",
            "\n",
            "\n",
            "Best Model Testing Metrics\n",
            "              precision    recall  f1-score   support\n",
            "\n",
            "          No       0.61      0.57      0.59       125\n",
            "         Yes       0.75      0.78      0.76       205\n",
            "\n",
            "    accuracy                           0.70       330\n",
            "   macro avg       0.68      0.67      0.68       330\n",
            "weighted avg       0.70      0.70      0.70       330\n",
            "\n"
          ]
        }
      ]
    },
    {
      "cell_type": "code",
      "source": [
        "ConfusionMatrixDisplay.from_estimator(knn_pipe, X_test, y_test, cmap='Greens')"
      ],
      "metadata": {
        "colab": {
          "base_uri": "https://localhost:8080/",
          "height": 296
        },
        "id": "hiipmmICqzJl",
        "outputId": "9463daf9-fde6-4b38-e3f6-860cb7ba5cd7"
      },
      "execution_count": null,
      "outputs": [
        {
          "output_type": "execute_result",
          "data": {
            "text/plain": [
              "<sklearn.metrics._plot.confusion_matrix.ConfusionMatrixDisplay at 0x7f23fe441610>"
            ]
          },
          "metadata": {},
          "execution_count": 21
        },
        {
          "output_type": "display_data",
          "data": {
            "image/png": "[encoded data removed]",
            "text/plain": [
              "<Figure size 432x288 with 2 Axes>"
            ]
          },
          "metadata": {
            "needs_background": "light"
          }
        }
      ]
    },
    {
      "cell_type": "code",
      "metadata": {
        "id": "GZMj0pheBhqx"
      },
      "source": [
        "# Your turn! Try creating a pipeline with GridSearchCV using \n",
        "# two other classification models! Remember to check the documentation of the model\n",
        "# for available hyperparameters"
      ],
      "execution_count": null,
      "outputs": []
    },
    {
      "cell_type": "code",
      "source": [
        "ConfusionMatrixDisplay.from_estimator(best_knn, X_test, y_test, cmap='Greens')"
      ],
      "metadata": {
        "colab": {
          "base_uri": "https://localhost:8080/",
          "height": 300
        },
        "id": "PEA-HfvCrHyd",
        "outputId": "50e26998-284f-42b3-e817-810b374de751"
      },
      "execution_count": null,
      "outputs": [
        {
          "output_type": "execute_result",
          "data": {
            "text/plain": [
              "<sklearn.metrics._plot.confusion_matrix.ConfusionMatrixDisplay at 0x7f23fb4b5910>"
            ]
          },
          "metadata": {},
          "execution_count": 23
        },
        {
          "output_type": "display_data",
          "data": {
            "image/png": "[encoded data removed]",
            "text/plain": [
              "<Figure size 432x288 with 2 Axes>"
            ]
          },
          "metadata": {
            "needs_background": "light"
          }
        }
      ]
    },
    {
      "cell_type": "code",
      "source": [
        ""
      ],
      "metadata": {
        "id": "4DCyMXujrOrE"
      },
      "execution_count": null,
      "outputs": []
    }
  ]
}