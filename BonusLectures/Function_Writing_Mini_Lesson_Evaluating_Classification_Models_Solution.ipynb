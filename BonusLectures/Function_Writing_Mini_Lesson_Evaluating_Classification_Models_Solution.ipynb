{
  "nbformat": 4,
  "nbformat_minor": 0,
  "metadata": {
    "kernelspec": {
      "display_name": "Python (dojo-env)",
      "language": "python",
      "name": "dojo-env"
    },
    "language_info": {
      "codemirror_mode": {
        "name": "ipython",
        "version": 3
      },
      "file_extension": ".py",
      "mimetype": "text/x-python",
      "name": "python",
      "nbconvert_exporter": "python",
      "pygments_lexer": "ipython3",
      "version": "3.8.12"
    },
    "toc": {
      "base_numbering": 1,
      "nav_menu": {},
      "number_sections": true,
      "sideBar": true,
      "skip_h1_title": false,
      "title_cell": "Table of Contents",
      "title_sidebar": "Contents",
      "toc_cell": false,
      "toc_position": {
        "height": "calc(100% - 180px)",
        "left": "10px",
        "top": "150px",
        "width": "256px"
      },
      "toc_section_display": true,
      "toc_window_display": true
    },
    "varInspector": {
      "cols": {
        "lenName": 16,
        "lenType": 16,
        "lenVar": 40
      },
      "kernels_config": {
        "python": {
          "delete_cmd_postfix": "",
          "delete_cmd_prefix": "del ",
          "library": "var_list.py",
          "varRefreshCmd": "print(var_dic_list())"
        },
        "r": {
          "delete_cmd_postfix": ") ",
          "delete_cmd_prefix": "rm(",
          "library": "var_list.r",
          "varRefreshCmd": "cat(var_dic_list()) "
        }
      },
      "types_to_exclude": [
        "module",
        "function",
        "builtin_function_or_method",
        "instance",
        "_Feature"
      ],
      "window_display": false
    },
    "colab": {
      "provenance": [],
      "toc_visible": true,
      "include_colab_link": true
    }
  },
  "cells": [
    {
      "cell_type": "markdown",
      "metadata": {
        "id": "view-in-github",
        "colab_type": "text"
      },
      "source": [
        "<a href=\"https://colab.research.google.com/github/sensei-jirving/Online-DS-PT-01.24.22-cohort-notes/blob/main/BonusLectures/Function_Writing_Mini_Lesson_Evaluating_Classification_Models_Solution.ipynb\" target=\"_parent\"><img src=\"https://colab.research.google.com/assets/colab-badge.svg\" alt=\"Open In Colab\"/></a>"
      ]
    },
    {
      "cell_type": "markdown",
      "metadata": {
        "id": "OWx0rQMkdaI4"
      },
      "source": [
        "# Function Writing Mini-Lesson - Evaluating Classification Models\n"
      ]
    },
    {
      "cell_type": "markdown",
      "source": [
        "- Cohort: 10.11 Cohort\n",
        "- Date: 12/09/21\n",
        "- Author: James Irving\n",
        "\n"
      ],
      "metadata": {
        "id": "TvptOSWt_6Mg"
      }
    },
    {
      "cell_type": "markdown",
      "source": [
        "## Learning Objectives"
      ],
      "metadata": {
        "id": "MAT-jRlUNwWo"
      }
    },
    {
      "cell_type": "markdown",
      "source": [
        "- For today's quick task (15-min), we have already completed the preprocessing and initial modeling evaluation code. \n",
        "\n",
        ">- First goal:\n",
        "    - repackage the code from the first model into an `evaluate_classification` function\n",
        "- Second goal: \n",
        "    - Add more flexibility to the function.\n",
        "- Post-Lecture Level-Up/Bonus Goal:\n",
        "    - Create a `fit_and_evaluate` function that uses the `evaluate_classification` function."
      ],
      "metadata": {
        "id": "bZJQFGSJNyW_"
      }
    },
    {
      "cell_type": "markdown",
      "metadata": {
        "id": "ZF-RCUIudaI-"
      },
      "source": [
        "# 🚢 Predicting Passenger Survival on the Titanic with `scikit-learn`"
      ]
    },
    {
      "cell_type": "code",
      "metadata": {
        "ExecuteTime": {
          "end_time": "2021-05-07T17:25:51.462861Z",
          "start_time": "2021-05-07T17:25:51.459381Z"
        },
        "scrolled": true,
        "id": "uHiRrlC1daI_"
      },
      "source": [
        "## All imports\n",
        "import matplotlib.pyplot as plt\n",
        "import seaborn as sns\n",
        "import pandas as pd\n",
        "import numpy as np\n",
        "\n",
        "from sklearn.model_selection import train_test_split\n",
        "from sklearn.preprocessing import MinMaxScaler,StandardScaler,OneHotEncoder\n",
        "from sklearn.impute import SimpleImputer\n",
        "from sklearn.pipeline import make_pipeline\n",
        "from sklearn.compose import make_column_selector,make_column_transformer\n",
        "from sklearn.linear_model import LogisticRegression\n",
        "from sklearn.metrics import classification_report, confusion_matrix\n",
        "\n",
        "from sklearn.\n"
      ],
      "execution_count": null,
      "outputs": []
    },
    {
      "cell_type": "code",
      "metadata": {
        "ExecuteTime": {
          "end_time": "2021-05-07T17:25:51.807119Z",
          "start_time": "2021-05-07T17:25:51.469288Z"
        },
        "colab": {
          "base_uri": "https://localhost:8080/",
          "height": 455
        },
        "id": "DglHd-lNdaI_",
        "outputId": "1a2baa3b-2341-4e9b-8925-812a8ebbb16b"
      },
      "source": [
        "## Load in dataset from url \n",
        "url =\"https://docs.google.com/spreadsheets/d/e/2PACX-1vS7TaxsUixSyoL0Rn8LPfbWIjeTd2-QdoZ0B2Knk14XYEmUzHUL-UhMilWK34Fn9dGjTcuo0-teSLU2/pub?output=csv\"\n",
        "df = pd.read_csv(url,index_col=0,na_values='?')\n",
        "\n",
        "## Keep relevant columns\n",
        "relevant_columns = ['Pclass', 'Age', 'SibSp', 'Fare', 'Sex', 'Embarked', 'Survived']\n",
        "df = df[relevant_columns]\n",
        "df"
      ],
      "execution_count": null,
      "outputs": [
        {
          "output_type": "execute_result",
          "data": {
            "text/html": [
              "<div>\n",
              "<style scoped>\n",
              "    .dataframe tbody tr th:only-of-type {\n",
              "        vertical-align: middle;\n",
              "    }\n",
              "\n",
              "    .dataframe tbody tr th {\n",
              "        vertical-align: top;\n",
              "    }\n",
              "\n",
              "    .dataframe thead th {\n",
              "        text-align: right;\n",
              "    }\n",
              "</style>\n",
              "<table border=\"1\" class=\"dataframe\">\n",
              "  <thead>\n",
              "    <tr style=\"text-align: right;\">\n",
              "      <th></th>\n",
              "      <th>Pclass</th>\n",
              "      <th>Age</th>\n",
              "      <th>SibSp</th>\n",
              "      <th>Fare</th>\n",
              "      <th>Sex</th>\n",
              "      <th>Embarked</th>\n",
              "      <th>Survived</th>\n",
              "    </tr>\n",
              "    <tr>\n",
              "      <th>PassengerId</th>\n",
              "      <th></th>\n",
              "      <th></th>\n",
              "      <th></th>\n",
              "      <th></th>\n",
              "      <th></th>\n",
              "      <th></th>\n",
              "      <th></th>\n",
              "    </tr>\n",
              "  </thead>\n",
              "  <tbody>\n",
              "    <tr>\n",
              "      <th>1</th>\n",
              "      <td>3</td>\n",
              "      <td>22.0</td>\n",
              "      <td>1</td>\n",
              "      <td>7.2500</td>\n",
              "      <td>male</td>\n",
              "      <td>S</td>\n",
              "      <td>0</td>\n",
              "    </tr>\n",
              "    <tr>\n",
              "      <th>2</th>\n",
              "      <td>1</td>\n",
              "      <td>38.0</td>\n",
              "      <td>1</td>\n",
              "      <td>71.2833</td>\n",
              "      <td>female</td>\n",
              "      <td>C</td>\n",
              "      <td>1</td>\n",
              "    </tr>\n",
              "    <tr>\n",
              "      <th>3</th>\n",
              "      <td>3</td>\n",
              "      <td>26.0</td>\n",
              "      <td>0</td>\n",
              "      <td>7.9250</td>\n",
              "      <td>female</td>\n",
              "      <td>S</td>\n",
              "      <td>1</td>\n",
              "    </tr>\n",
              "    <tr>\n",
              "      <th>4</th>\n",
              "      <td>1</td>\n",
              "      <td>35.0</td>\n",
              "      <td>1</td>\n",
              "      <td>53.1000</td>\n",
              "      <td>female</td>\n",
              "      <td>S</td>\n",
              "      <td>1</td>\n",
              "    </tr>\n",
              "    <tr>\n",
              "      <th>5</th>\n",
              "      <td>3</td>\n",
              "      <td>35.0</td>\n",
              "      <td>0</td>\n",
              "      <td>8.0500</td>\n",
              "      <td>male</td>\n",
              "      <td>S</td>\n",
              "      <td>0</td>\n",
              "    </tr>\n",
              "    <tr>\n",
              "      <th>...</th>\n",
              "      <td>...</td>\n",
              "      <td>...</td>\n",
              "      <td>...</td>\n",
              "      <td>...</td>\n",
              "      <td>...</td>\n",
              "      <td>...</td>\n",
              "      <td>...</td>\n",
              "    </tr>\n",
              "    <tr>\n",
              "      <th>887</th>\n",
              "      <td>2</td>\n",
              "      <td>27.0</td>\n",
              "      <td>0</td>\n",
              "      <td>13.0000</td>\n",
              "      <td>male</td>\n",
              "      <td>S</td>\n",
              "      <td>0</td>\n",
              "    </tr>\n",
              "    <tr>\n",
              "      <th>888</th>\n",
              "      <td>1</td>\n",
              "      <td>19.0</td>\n",
              "      <td>0</td>\n",
              "      <td>30.0000</td>\n",
              "      <td>female</td>\n",
              "      <td>S</td>\n",
              "      <td>1</td>\n",
              "    </tr>\n",
              "    <tr>\n",
              "      <th>889</th>\n",
              "      <td>3</td>\n",
              "      <td>NaN</td>\n",
              "      <td>1</td>\n",
              "      <td>23.4500</td>\n",
              "      <td>female</td>\n",
              "      <td>S</td>\n",
              "      <td>0</td>\n",
              "    </tr>\n",
              "    <tr>\n",
              "      <th>890</th>\n",
              "      <td>1</td>\n",
              "      <td>26.0</td>\n",
              "      <td>0</td>\n",
              "      <td>30.0000</td>\n",
              "      <td>male</td>\n",
              "      <td>C</td>\n",
              "      <td>1</td>\n",
              "    </tr>\n",
              "    <tr>\n",
              "      <th>891</th>\n",
              "      <td>3</td>\n",
              "      <td>32.0</td>\n",
              "      <td>0</td>\n",
              "      <td>7.7500</td>\n",
              "      <td>male</td>\n",
              "      <td>Q</td>\n",
              "      <td>0</td>\n",
              "    </tr>\n",
              "  </tbody>\n",
              "</table>\n",
              "<p>891 rows × 7 columns</p>\n",
              "</div>"
            ],
            "text/plain": [
              "             Pclass   Age  SibSp     Fare     Sex Embarked  Survived\n",
              "PassengerId                                                         \n",
              "1                 3  22.0      1   7.2500    male        S         0\n",
              "2                 1  38.0      1  71.2833  female        C         1\n",
              "3                 3  26.0      0   7.9250  female        S         1\n",
              "4                 1  35.0      1  53.1000  female        S         1\n",
              "5                 3  35.0      0   8.0500    male        S         0\n",
              "...             ...   ...    ...      ...     ...      ...       ...\n",
              "887               2  27.0      0  13.0000    male        S         0\n",
              "888               1  19.0      0  30.0000  female        S         1\n",
              "889               3   NaN      1  23.4500  female        S         0\n",
              "890               1  26.0      0  30.0000    male        C         1\n",
              "891               3  32.0      0   7.7500    male        Q         0\n",
              "\n",
              "[891 rows x 7 columns]"
            ]
          },
          "metadata": {},
          "execution_count": 2
        }
      ]
    },
    {
      "cell_type": "markdown",
      "source": [
        "## Exploratory Analysis"
      ],
      "metadata": {
        "id": "uqQBH5WFNVZZ"
      }
    },
    {
      "cell_type": "code",
      "metadata": {
        "ExecuteTime": {
          "end_time": "2021-05-07T17:25:52.831454Z",
          "start_time": "2021-05-07T17:25:52.820693Z"
        },
        "colab": {
          "base_uri": "https://localhost:8080/"
        },
        "id": "dVL1GaaDdaJB",
        "outputId": "dc61daf8-66b4-4be6-9524-003ed0b94265"
      },
      "source": [
        "## Check out the .info for dtypes + summary\n",
        "df.info()"
      ],
      "execution_count": null,
      "outputs": [
        {
          "output_type": "stream",
          "name": "stdout",
          "text": [
            "<class 'pandas.core.frame.DataFrame'>\n",
            "Int64Index: 891 entries, 1 to 891\n",
            "Data columns (total 7 columns):\n",
            " #   Column    Non-Null Count  Dtype  \n",
            "---  ------    --------------  -----  \n",
            " 0   Pclass    891 non-null    int64  \n",
            " 1   Age       714 non-null    float64\n",
            " 2   SibSp     891 non-null    int64  \n",
            " 3   Fare      891 non-null    float64\n",
            " 4   Sex       891 non-null    object \n",
            " 5   Embarked  889 non-null    object \n",
            " 6   Survived  891 non-null    int64  \n",
            "dtypes: float64(2), int64(3), object(2)\n",
            "memory usage: 55.7+ KB\n"
          ]
        }
      ]
    },
    {
      "cell_type": "code",
      "source": [
        "## check null values \n",
        "df.isna().sum()"
      ],
      "metadata": {
        "colab": {
          "base_uri": "https://localhost:8080/"
        },
        "id": "nQ8DDGiyTkjr",
        "outputId": "1afd04f6-67d6-4a77-c75a-34729cc98e8a"
      },
      "execution_count": null,
      "outputs": [
        {
          "output_type": "execute_result",
          "data": {
            "text/plain": [
              "Pclass        0\n",
              "Age         177\n",
              "SibSp         0\n",
              "Fare          0\n",
              "Sex           0\n",
              "Embarked      2\n",
              "Survived      0\n",
              "dtype: int64"
            ]
          },
          "metadata": {},
          "execution_count": 4
        }
      ]
    },
    {
      "cell_type": "code",
      "source": [
        "## check for duplicates\n",
        "df.duplicated().sum()"
      ],
      "metadata": {
        "colab": {
          "base_uri": "https://localhost:8080/"
        },
        "id": "3-C4TEEJABT3",
        "outputId": "c680350e-11e6-4ad5-e79b-745ed989f32b"
      },
      "execution_count": null,
      "outputs": [
        {
          "output_type": "execute_result",
          "data": {
            "text/plain": [
              "112"
            ]
          },
          "metadata": {},
          "execution_count": 5
        }
      ]
    },
    {
      "cell_type": "code",
      "source": [
        "## drop duplicates\n",
        "df = df.drop_duplicates()\n",
        "df.duplicated().sum()"
      ],
      "metadata": {
        "colab": {
          "base_uri": "https://localhost:8080/"
        },
        "id": "wKZGqsfpAR0X",
        "outputId": "fb867a00-2a77-471e-a8d8-6061b54acbf7"
      },
      "execution_count": null,
      "outputs": [
        {
          "output_type": "execute_result",
          "data": {
            "text/plain": [
              "0"
            ]
          },
          "metadata": {},
          "execution_count": 6
        }
      ]
    },
    {
      "cell_type": "code",
      "source": [
        "## check range of numeric values\n",
        "df.describe().round(2)"
      ],
      "metadata": {
        "colab": {
          "base_uri": "https://localhost:8080/",
          "height": 300
        },
        "id": "082VantPTz95",
        "outputId": "48ccd591-df94-4aeb-fceb-bb242b3e85d2"
      },
      "execution_count": null,
      "outputs": [
        {
          "output_type": "execute_result",
          "data": {
            "text/html": [
              "<div>\n",
              "<style scoped>\n",
              "    .dataframe tbody tr th:only-of-type {\n",
              "        vertical-align: middle;\n",
              "    }\n",
              "\n",
              "    .dataframe tbody tr th {\n",
              "        vertical-align: top;\n",
              "    }\n",
              "\n",
              "    .dataframe thead th {\n",
              "        text-align: right;\n",
              "    }\n",
              "</style>\n",
              "<table border=\"1\" class=\"dataframe\">\n",
              "  <thead>\n",
              "    <tr style=\"text-align: right;\">\n",
              "      <th></th>\n",
              "      <th>Pclass</th>\n",
              "      <th>Age</th>\n",
              "      <th>SibSp</th>\n",
              "      <th>Fare</th>\n",
              "      <th>Survived</th>\n",
              "    </tr>\n",
              "  </thead>\n",
              "  <tbody>\n",
              "    <tr>\n",
              "      <th>count</th>\n",
              "      <td>779.00</td>\n",
              "      <td>676.00</td>\n",
              "      <td>779.00</td>\n",
              "      <td>779.00</td>\n",
              "      <td>779.00</td>\n",
              "    </tr>\n",
              "    <tr>\n",
              "      <th>mean</th>\n",
              "      <td>2.25</td>\n",
              "      <td>29.81</td>\n",
              "      <td>0.53</td>\n",
              "      <td>34.86</td>\n",
              "      <td>0.41</td>\n",
              "    </tr>\n",
              "    <tr>\n",
              "      <th>std</th>\n",
              "      <td>0.85</td>\n",
              "      <td>14.73</td>\n",
              "      <td>0.99</td>\n",
              "      <td>52.29</td>\n",
              "      <td>0.49</td>\n",
              "    </tr>\n",
              "    <tr>\n",
              "      <th>min</th>\n",
              "      <td>1.00</td>\n",
              "      <td>0.42</td>\n",
              "      <td>0.00</td>\n",
              "      <td>0.00</td>\n",
              "      <td>0.00</td>\n",
              "    </tr>\n",
              "    <tr>\n",
              "      <th>25%</th>\n",
              "      <td>1.00</td>\n",
              "      <td>20.00</td>\n",
              "      <td>0.00</td>\n",
              "      <td>8.05</td>\n",
              "      <td>0.00</td>\n",
              "    </tr>\n",
              "    <tr>\n",
              "      <th>50%</th>\n",
              "      <td>3.00</td>\n",
              "      <td>28.00</td>\n",
              "      <td>0.00</td>\n",
              "      <td>16.00</td>\n",
              "      <td>0.00</td>\n",
              "    </tr>\n",
              "    <tr>\n",
              "      <th>75%</th>\n",
              "      <td>3.00</td>\n",
              "      <td>39.00</td>\n",
              "      <td>1.00</td>\n",
              "      <td>34.38</td>\n",
              "      <td>1.00</td>\n",
              "    </tr>\n",
              "    <tr>\n",
              "      <th>max</th>\n",
              "      <td>3.00</td>\n",
              "      <td>80.00</td>\n",
              "      <td>8.00</td>\n",
              "      <td>512.33</td>\n",
              "      <td>1.00</td>\n",
              "    </tr>\n",
              "  </tbody>\n",
              "</table>\n",
              "</div>"
            ],
            "text/plain": [
              "       Pclass     Age   SibSp    Fare  Survived\n",
              "count  779.00  676.00  779.00  779.00    779.00\n",
              "mean     2.25   29.81    0.53   34.86      0.41\n",
              "std      0.85   14.73    0.99   52.29      0.49\n",
              "min      1.00    0.42    0.00    0.00      0.00\n",
              "25%      1.00   20.00    0.00    8.05      0.00\n",
              "50%      3.00   28.00    0.00   16.00      0.00\n",
              "75%      3.00   39.00    1.00   34.38      1.00\n",
              "max      3.00   80.00    8.00  512.33      1.00"
            ]
          },
          "metadata": {},
          "execution_count": 7
        }
      ]
    },
    {
      "cell_type": "markdown",
      "metadata": {
        "id": "L1tXdLe5daJB"
      },
      "source": [
        "## Preprocessing"
      ]
    },
    {
      "cell_type": "code",
      "metadata": {
        "ExecuteTime": {
          "end_time": "2021-05-07T17:25:52.875305Z",
          "start_time": "2021-05-07T17:25:52.850406Z"
        },
        "id": "d8ASSMAedaJC",
        "colab": {
          "base_uri": "https://localhost:8080/"
        },
        "outputId": "25ea4f79-acca-480e-dd72-20029ba27d84"
      },
      "source": [
        "## Separate X and y and train-test-split\n",
        "target = 'Survived'\n",
        "\n",
        "y = df[target]\n",
        "X = df.drop(target, axis=1)\n",
        "\n",
        "# Perform test train split\n",
        "X_train , X_test, y_train, y_test = train_test_split(X, y,random_state=42)\n",
        "y_train.value_counts()"
      ],
      "execution_count": null,
      "outputs": [
        {
          "output_type": "execute_result",
          "data": {
            "text/plain": [
              "0    346\n",
              "1    238\n",
              "Name: Survived, dtype: int64"
            ]
          },
          "metadata": {},
          "execution_count": 8
        }
      ]
    },
    {
      "cell_type": "code",
      "source": [
        "## save class labels\n",
        "target_labels = ['Died','Survived']"
      ],
      "metadata": {
        "id": "6XF3ko1h1ZiP"
      },
      "execution_count": null,
      "outputs": []
    },
    {
      "cell_type": "code",
      "metadata": {
        "ExecuteTime": {
          "end_time": "2021-05-07T17:25:52.887006Z",
          "start_time": "2021-05-07T17:25:52.880603Z"
        },
        "colab": {
          "base_uri": "https://localhost:8080/"
        },
        "id": "lqHrFznZdaJC",
        "outputId": "e1930a80-dea7-47e4-dc4e-fb17f820ca8d"
      },
      "source": [
        "## Check for nulls in training set\n",
        "X_train.isna().sum()"
      ],
      "execution_count": null,
      "outputs": [
        {
          "output_type": "execute_result",
          "data": {
            "text/plain": [
              "Pclass       0\n",
              "Age         74\n",
              "SibSp        0\n",
              "Fare         0\n",
              "Sex          0\n",
              "Embarked     1\n",
              "dtype: int64"
            ]
          },
          "metadata": {},
          "execution_count": 10
        }
      ]
    },
    {
      "cell_type": "code",
      "source": [
        "## make categorical preprocessing pipe\n",
        "cat_sel = make_column_selector(dtype_include=['object'])\n",
        "## make numeric preprocessing pipeline\n",
        "num_sel = make_column_selector(dtype_include=['number'])\n",
        "\n",
        "## cat pipe\n",
        "cat_pipe = make_pipeline(SimpleImputer(strategy='constant',fill_value='MISSING'),\n",
        "                         OneHotEncoder(handle_unknown='ignore',sparse=False))\n",
        "## cat pipe\n",
        "num_pipe = make_pipeline(SimpleImputer(strategy='mean'),\n",
        "                         StandardScaler())\n",
        "\n",
        "## Make column transformer\n",
        "preprocessor = make_column_transformer( (num_pipe,num_sel),\n",
        "                                       (cat_pipe,cat_sel))\n",
        "preprocessor"
      ],
      "metadata": {
        "colab": {
          "base_uri": "https://localhost:8080/"
        },
        "id": "_P89yomcUhT6",
        "outputId": "336328d8-210d-4bf6-e9b0-82b622e32a25"
      },
      "execution_count": null,
      "outputs": [
        {
          "output_type": "execute_result",
          "data": {
            "text/plain": [
              "ColumnTransformer(transformers=[('pipeline-1',\n",
              "                                 Pipeline(steps=[('simpleimputer',\n",
              "                                                  SimpleImputer()),\n",
              "                                                 ('standardscaler',\n",
              "                                                  StandardScaler())]),\n",
              "                                 <sklearn.compose._column_transformer.make_column_selector object at 0x7f6260255710>),\n",
              "                                ('pipeline-2',\n",
              "                                 Pipeline(steps=[('simpleimputer',\n",
              "                                                  SimpleImputer(fill_value='MISSING',\n",
              "                                                                strategy='constant')),\n",
              "                                                 ('onehotencoder',\n",
              "                                                  OneHotEncoder(handle_unknown='ignore',\n",
              "                                                                sparse=False))]),\n",
              "                                 <sklearn.compose._column_transformer.make_column_selector object at 0x7f62602556d0>)])"
            ]
          },
          "metadata": {},
          "execution_count": 11
        }
      ]
    },
    {
      "cell_type": "markdown",
      "metadata": {
        "id": "wemKNKhWdaJL"
      },
      "source": [
        "## Fitting a Logistic Regression with `scikit-learn`"
      ]
    },
    {
      "cell_type": "code",
      "source": [
        "# Modeling pipeline\n",
        "pipe = make_pipeline(preprocessor,LogisticRegression())\n",
        "pipe.fit(X_train,y_train)"
      ],
      "metadata": {
        "colab": {
          "base_uri": "https://localhost:8080/"
        },
        "id": "_DzWcA74WPcj",
        "outputId": "96062b8c-577d-42a2-cc40-ba229a170f23"
      },
      "execution_count": null,
      "outputs": [
        {
          "output_type": "execute_result",
          "data": {
            "text/plain": [
              "Pipeline(steps=[('columntransformer',\n",
              "                 ColumnTransformer(transformers=[('pipeline-1',\n",
              "                                                  Pipeline(steps=[('simpleimputer',\n",
              "                                                                   SimpleImputer()),\n",
              "                                                                  ('standardscaler',\n",
              "                                                                   StandardScaler())]),\n",
              "                                                  <sklearn.compose._column_transformer.make_column_selector object at 0x7f6260255710>),\n",
              "                                                 ('pipeline-2',\n",
              "                                                  Pipeline(steps=[('simpleimputer',\n",
              "                                                                   SimpleImputer(fill_value='MISSING',\n",
              "                                                                                 strategy='constant')),\n",
              "                                                                  ('onehotencoder',\n",
              "                                                                   OneHotEncoder(handle_unknown='ignore',\n",
              "                                                                                 sparse=False))]),\n",
              "                                                  <sklearn.compose._column_transformer.make_column_selector object at 0x7f62602556d0>)])),\n",
              "                ('logisticregression', LogisticRegression())])"
            ]
          },
          "metadata": {},
          "execution_count": 12
        }
      ]
    },
    {
      "cell_type": "markdown",
      "source": [
        "# 🕹 Start of In-Class Activity "
      ],
      "metadata": {
        "id": "vfpA5poeTA5Q"
      }
    },
    {
      "cell_type": "markdown",
      "source": [
        ">- Q: Now that we've fit our model, what things do we want to check to evaluate how good it is?\n",
        "\n",
        "- Answers:\n",
        "    - Model Scores: \n",
        "        - Accuracy, Precision, Recall, F1-Score\n",
        "    - Confusion Matrix\n",
        "    - ??\n",
        "    \n",
        ">- Now let's write the code to do so!"
      ],
      "metadata": {
        "id": "jW9ZN_xLTFhs"
      }
    },
    {
      "cell_type": "code",
      "metadata": {
        "ExecuteTime": {
          "end_time": "2021-05-07T17:25:53.268608Z",
          "start_time": "2021-05-07T17:25:53.261777Z"
        },
        "id": "VDzFL3M5daJL"
      },
      "source": [
        "## Get Predictions for training and test data to check metrics functions\n",
        "y_hat_train = pipe.predict(X_train)\n",
        "y_hat_test = pipe.predict(X_test)"
      ],
      "execution_count": null,
      "outputs": []
    },
    {
      "cell_type": "code",
      "metadata": {
        "ExecuteTime": {
          "end_time": "2021-05-07T17:25:53.276800Z",
          "start_time": "2021-05-07T17:25:53.271629Z"
        },
        "colab": {
          "base_uri": "https://localhost:8080/"
        },
        "id": "y8hDjI6hdaJL",
        "outputId": "de640fe1-a760-451d-fecd-f9127ca63c64"
      },
      "source": [
        "## Print classification report for the test data (and make it pretty!)\n",
        "print('---'*20)\n",
        "print(f\"[i] CLASSIFICATION REPORT FOR TEST DATA\")\n",
        "print('---'*20)\n",
        "print(classification_report(y_test,y_hat_test,target_names=target_labels))"
      ],
      "execution_count": null,
      "outputs": [
        {
          "output_type": "stream",
          "name": "stdout",
          "text": [
            "------------------------------------------------------------\n",
            "[i] CLASSIFICATION REPORT FOR TEST DATA\n",
            "------------------------------------------------------------\n",
            "              precision    recall  f1-score   support\n",
            "\n",
            "        Died       0.84      0.86      0.85       111\n",
            "    Survived       0.80      0.79      0.80        84\n",
            "\n",
            "    accuracy                           0.83       195\n",
            "   macro avg       0.82      0.82      0.82       195\n",
            "weighted avg       0.83      0.83      0.83       195\n",
            "\n"
          ]
        }
      ]
    },
    {
      "cell_type": "code",
      "source": [
        "## Calculate a confusion matrix with sklearn\n",
        "cm =confusion_matrix(y_test,y_hat_test)\n",
        "\n",
        "## Plot the confusion Matrix using seaborn\n",
        "ax = sns.heatmap(cm, annot=True,square=True,cmap=\"Blues\")\n",
        "\n",
        "## Label classes\n",
        "ax.set_xticklabels(target_labels)\n",
        "ax.set_yticklabels(target_labels,rotation=0)\n",
        "\n",
        "## Add axis labels & title\n",
        "ax.set_ylabel('True Classes')\n",
        "ax.set_ylabel('Predicted Classes')\n",
        "ax.set_title('Confusion Matrix');"
      ],
      "metadata": {
        "colab": {
          "base_uri": "https://localhost:8080/",
          "height": 281
        },
        "id": "VBZN9GP51Adt",
        "outputId": "07af53ef-2ff8-4332-cbc7-d073a9a70fc1"
      },
      "execution_count": null,
      "outputs": [
        {
          "output_type": "display_data",
          "data": {
            "image/png": "[encoded data removed]",
            "text/plain": [
              "<Figure size 432x288 with 2 Axes>"
            ]
          },
          "metadata": {
            "needs_background": "light"
          }
        }
      ]
    },
    {
      "cell_type": "markdown",
      "source": [
        "> - Personal Preference: \n",
        "    - I always normalize my confusion matrix to the true class using `normalize='true'`.\n",
        "    "
      ],
      "metadata": {
        "id": "Z-7bxrZqUdBR"
      }
    },
    {
      "cell_type": "code",
      "source": [
        "## Calculate a confusion matrix with sklearn\n",
        "cm = confusion_matrix(y_test,y_hat_test,normalize='true')\n",
        "\n",
        "## Plot the confusion Matrix using seaborn\n",
        "ax = sns.heatmap(cm, annot=True,square=True,cmap=\"Blues\")\n",
        "\n",
        "## Label classes\n",
        "ax.set_xticklabels(target_labels)\n",
        "ax.set_yticklabels(target_labels,rotation=0)\n",
        "\n",
        "## Add axis labels & title\n",
        "ax.set_ylabel('True Classes')\n",
        "ax.set_ylabel('Predicted Classes')\n",
        "ax.set_title('Confusion Matrix');"
      ],
      "metadata": {
        "colab": {
          "base_uri": "https://localhost:8080/",
          "height": 281
        },
        "id": "-1u6kY_nUcTA",
        "outputId": "72ad2c53-43e1-450d-e8aa-42bffe6aecbb"
      },
      "execution_count": null,
      "outputs": [
        {
          "output_type": "display_data",
          "data": {
            "image/png": "[encoded data removed]",
            "text/plain": [
              "<Figure size 432x288 with 2 Axes>"
            ]
          },
          "metadata": {
            "needs_background": "light"
          }
        }
      ]
    },
    {
      "cell_type": "markdown",
      "source": [
        "### Evaluate the DummyClassifier model to compare against our LogisticRegression"
      ],
      "metadata": {
        "id": "0DifSADB27t3"
      }
    },
    {
      "cell_type": "markdown",
      "source": [
        "> - We need to produce the same exact display as our other model to have the best comparison. \n",
        "> Copying and pasting this code is inefficient and error-prone.\n",
        "- It would be much better to make a function to evaluate our models that we can use over and over again to get the exam same output.\n",
        "- Personal Rule of Thumb🇰\n",
        "    - Any repeated code that is 4 lines or longer should be packaged into a function isntead of repeated.\n"
      ],
      "metadata": {
        "id": "uWj_GKXC3A4Y"
      }
    },
    {
      "cell_type": "code",
      "metadata": {
        "ExecuteTime": {
          "end_time": "2021-05-07T17:25:53.308359Z",
          "start_time": "2021-05-07T17:25:53.300342Z"
        },
        "colab": {
          "base_uri": "https://localhost:8080/"
        },
        "id": "TUYlRvT0daJL",
        "outputId": "774df502-b33f-4edc-9a4c-2537d121d8de"
      },
      "source": [
        "from sklearn.dummy import DummyClassifier\n",
        "\n",
        "## Make and fit  dummy classifier\n",
        "dummy_pipe = make_pipeline(preprocessor,DummyClassifier(strategy='stratified'))\n",
        "dummy_pipe.fit(X_train,y_train)"
      ],
      "execution_count": null,
      "outputs": [
        {
          "output_type": "execute_result",
          "data": {
            "text/plain": [
              "Pipeline(steps=[('columntransformer',\n",
              "                 ColumnTransformer(transformers=[('pipeline-1',\n",
              "                                                  Pipeline(steps=[('simpleimputer',\n",
              "                                                                   SimpleImputer()),\n",
              "                                                                  ('standardscaler',\n",
              "                                                                   StandardScaler())]),\n",
              "                                                  <sklearn.compose._column_transformer.make_column_selector object at 0x7f6260255710>),\n",
              "                                                 ('pipeline-2',\n",
              "                                                  Pipeline(steps=[('simpleimputer',\n",
              "                                                                   SimpleImputer(fill_value='MISSING',\n",
              "                                                                                 strategy='constant')),\n",
              "                                                                  ('onehotencoder',\n",
              "                                                                   OneHotEncoder(handle_unknown='ignore',\n",
              "                                                                                 sparse=False))]),\n",
              "                                                  <sklearn.compose._column_transformer.make_column_selector object at 0x7f62602556d0>)])),\n",
              "                ('dummyclassifier', DummyClassifier(strategy='stratified'))])"
            ]
          },
          "metadata": {},
          "execution_count": 20
        }
      ]
    },
    {
      "cell_type": "markdown",
      "metadata": {
        "id": "mX3eMeTfdaJS"
      },
      "source": [
        "## ✍ Writing our `evaluate_classification` function"
      ]
    },
    {
      "cell_type": "markdown",
      "metadata": {
        "id": "cuCAmiKWdaJS"
      },
      "source": [
        "- Write a function called `evaluate_classification`\n",
        "- It should accept (at minimum): \n",
        "    - model (sklearn model)\n",
        "    - X_test\n",
        "    - y_test\n",
        "\n",
        "- It should: \n",
        "    - Display the classification report\n",
        "    - Display the confusion matrix\n",
        "    \n",
        ">- ***Ideally you would also accept X_train and y_train to compare results to check for overfitting, but we will save that for a Level-Up task.***\n"
      ]
    },
    {
      "cell_type": "code",
      "source": [
        "import sklearn.metrics as metrics\n",
        "## Solution ansewr\n",
        "\n",
        "def evaluate_classification(model,X_test,y_test, label='Test Data'): \n",
        "    ## Get Predictions\n",
        "    y_hat_test = model.predict(X_test)\n",
        "     \n",
        "   ## Print classification report for the test data (and make it pretty!)\n",
        "    print('---'*20)\n",
        "    print(f\"[i] CLASSIFICATION REPORT FOR: {label}\")\n",
        "    print('---'*20)\n",
        "\n",
        "    print(metrics.classification_report(y_test, y_hat_test,\n",
        "                                        target_names=target_labels))\n",
        "\n",
        "    ## Calculate a confusion matrix with sklearn\n",
        "    cm = metrics.confusion_matrix(y_test,y_hat_test,normalize='true')\n",
        "\n",
        "    ## Plot the confusion Matrix using seaborn\n",
        "    ax = sns.heatmap(cm, annot=True,square=True,cmap=\"Blues\")\n",
        "\n",
        "    ## Label classes\n",
        "    ax.set_xticklabels(target_labels)\n",
        "    ax.set_yticklabels(target_labels,rotation=0)\n",
        "\n",
        "    ## Add axis labels & title\n",
        "    ax.set_ylabel('True Classes')\n",
        "    ax.set_ylabel('Predicted Classes')\n",
        "    ax.set_title('Confusion Matrix');\n",
        "        "
      ],
      "metadata": {
        "id": "d6tb8rSJeXnW"
      },
      "execution_count": null,
      "outputs": []
    },
    {
      "cell_type": "markdown",
      "source": [
        "### Test our function using the DummyClassifier"
      ],
      "metadata": {
        "id": "NEfQw4CJeSOB"
      }
    },
    {
      "cell_type": "code",
      "source": [
        "## evaluate the dummy model with our function\n",
        "evaluate_classification(dummy_pipe, X_test,y_test)"
      ],
      "metadata": {
        "colab": {
          "base_uri": "https://localhost:8080/",
          "height": 489
        },
        "id": "MJH9fnqOeUWg",
        "outputId": "58d4b74f-5d17-454a-c9c7-1c4679843068"
      },
      "execution_count": null,
      "outputs": [
        {
          "output_type": "stream",
          "name": "stdout",
          "text": [
            "------------------------------------------------------------\n",
            "[i] CLASSIFICATION REPORT FOR: Test Data\n",
            "------------------------------------------------------------\n",
            "              precision    recall  f1-score   support\n",
            "\n",
            "        Died       0.48      0.50      0.49       111\n",
            "    Survived       0.30      0.29      0.29        84\n",
            "\n",
            "    accuracy                           0.41       195\n",
            "   macro avg       0.39      0.39      0.39       195\n",
            "weighted avg       0.40      0.41      0.40       195\n",
            "\n"
          ]
        },
        {
          "output_type": "display_data",
          "data": {
            "image/png": "[encoded data removed]",
            "text/plain": [
              "<Figure size 432x288 with 2 Axes>"
            ]
          },
          "metadata": {
            "needs_background": "light"
          }
        }
      ]
    },
    {
      "cell_type": "code",
      "source": [
        "## evaluate our logreg model with our function\n",
        "evaluate_classification(pipe, X_test,y_test)"
      ],
      "metadata": {
        "colab": {
          "base_uri": "https://localhost:8080/",
          "height": 489
        },
        "id": "pdb9g3w4ezCA",
        "outputId": "5af733b5-4919-48c2-977b-b4d95df47de3"
      },
      "execution_count": null,
      "outputs": [
        {
          "output_type": "stream",
          "name": "stdout",
          "text": [
            "------------------------------------------------------------\n",
            "[i] CLASSIFICATION REPORT FOR: Test Data\n",
            "------------------------------------------------------------\n",
            "              precision    recall  f1-score   support\n",
            "\n",
            "        Died       0.84      0.86      0.85       111\n",
            "    Survived       0.80      0.79      0.80        84\n",
            "\n",
            "    accuracy                           0.83       195\n",
            "   macro avg       0.82      0.82      0.82       195\n",
            "weighted avg       0.83      0.83      0.83       195\n",
            "\n"
          ]
        },
        {
          "output_type": "display_data",
          "data": {
            "image/png": "[encoded data removed]",
            "text/plain": [
              "<Figure size 432x288 with 2 Axes>"
            ]
          },
          "metadata": {
            "needs_background": "light"
          }
        }
      ]
    },
    {
      "cell_type": "markdown",
      "source": [
        "> Fantastic! We repackaged our code into a re-usable form!"
      ],
      "metadata": {
        "id": "BP0hFEOAesv7"
      }
    },
    {
      "cell_type": "markdown",
      "source": [
        "### ✍ Making our function flexible"
      ],
      "metadata": {
        "id": "L-S7fo7CfIZy"
      }
    },
    {
      "cell_type": "markdown",
      "source": [
        ">- Now that we have a Minimal Viable Product version of our function, let's make it more flexible. Let's make a new version where:\n",
        "1. normalizing the confusion matrix optional.\n",
        "2. We can change the text printed at the top for clarity. \n",
        "3. Add the option to show class labels for classification_report and our confusion matrix."
      ],
      "metadata": {
        "id": "R9MdOMG3fMMz"
      }
    },
    {
      "cell_type": "code",
      "metadata": {
        "ExecuteTime": {
          "end_time": "2021-05-07T17:26:18.910512Z",
          "start_time": "2021-05-07T17:26:18.899774Z"
        },
        "id": "JLUK_mFTdaJS"
      },
      "source": [
        "import sklearn.metrics as metrics\n",
        "## Solution answer\n",
        "\n",
        "def evaluate_classification(model,X,y_true, classes=None, normalize='true',\n",
        "                            cmap=\"Blues\",  label=\"Test Data\"): \n",
        "\n",
        "    ## Get Predictions\n",
        "    y_pred = model.predict(X)\n",
        "    \n",
        "    ## Classification Report / Scores \n",
        "    dashes = '---'*20\n",
        "    print(dashes)\n",
        "    print(f\"[i] CLASSIFICATION REPORT FOR: {label}\")\n",
        "    print(dashes)\n",
        "    \n",
        "    print(metrics.classification_report(y_true,y_pred,\n",
        "                                        target_names=classes))\n",
        "    # print(dashes)\n",
        "    \n",
        "\n",
        "    ## Plot a confusion matrix\n",
        "    cm = metrics.confusion_matrix(y_true,y_pred,normalize=normalize,)\n",
        "    # plt.figure(figsize=figsize)\n",
        "    ax = sns.heatmap(cm, annot=True,square=True,cmap=cmap)\n",
        "\n",
        "    if classes != None:\n",
        "        ## Label classes\n",
        "        ax.set_xticklabels(classes)\n",
        "        ax.set_yticklabels(classes,rotation=0)\n",
        "\n",
        "    ## Add axis labels & title\n",
        "    ax.set_ylabel('True Classes')\n",
        "    ax.set_xlabel('Predicted Classes')\n",
        "    ax.set_title('Confusion Matrix');\n",
        "    plt.show()\n",
        "    \n",
        "    \n",
        "    "
      ],
      "execution_count": null,
      "outputs": []
    },
    {
      "cell_type": "markdown",
      "source": [
        "### Try an additional model type and evaluate with our function"
      ],
      "metadata": {
        "id": "fBBoVnhk3y1O"
      }
    },
    {
      "cell_type": "code",
      "source": [
        "from sklearn.neighbors import KNeighborsClassifier"
      ],
      "metadata": {
        "id": "K3gm-o_Afu_V"
      },
      "execution_count": null,
      "outputs": []
    },
    {
      "cell_type": "code",
      "source": [
        "## Make and fit  dummy classifier\n",
        "knn_pipe = make_pipeline(preprocessor, KNeighborsClassifier())\n",
        "knn_pipe.fit(X_train,y_train)\n",
        "evaluate_classification(knn_pipe,X_test,y_test,classes=target_labels)\n",
        "evaluate_classification(knn_pipe,X_train,y_train,classes=target_labels,\n",
        "                        label='Training Data')"
      ],
      "metadata": {
        "colab": {
          "base_uri": "https://localhost:8080/",
          "height": 990
        },
        "id": "h0i6e3k532OC",
        "outputId": "7914ff2e-1edc-4e19-b0f6-b631a6acaeaf"
      },
      "execution_count": null,
      "outputs": [
        {
          "output_type": "stream",
          "name": "stdout",
          "text": [
            "------------------------------------------------------------\n",
            "[i] CLASSIFICATION REPORT FOR: Test Data\n",
            "------------------------------------------------------------\n",
            "              precision    recall  f1-score   support\n",
            "\n",
            "        Died       0.79      0.86      0.82       111\n",
            "    Survived       0.79      0.70      0.74        84\n",
            "\n",
            "    accuracy                           0.79       195\n",
            "   macro avg       0.79      0.78      0.78       195\n",
            "weighted avg       0.79      0.79      0.79       195\n",
            "\n"
          ]
        },
        {
          "output_type": "display_data",
          "data": {
            "image/png": "[encoded data removed]",
            "text/plain": [
              "<Figure size 432x288 with 2 Axes>"
            ]
          },
          "metadata": {
            "needs_background": "light"
          }
        },
        {
          "output_type": "stream",
          "name": "stdout",
          "text": [
            "------------------------------------------------------------\n",
            "[i] CLASSIFICATION REPORT FOR: Training Data\n",
            "------------------------------------------------------------\n",
            "              precision    recall  f1-score   support\n",
            "\n",
            "        Died       0.85      0.88      0.87       346\n",
            "    Survived       0.82      0.77      0.79       238\n",
            "\n",
            "    accuracy                           0.84       584\n",
            "   macro avg       0.83      0.83      0.83       584\n",
            "weighted avg       0.84      0.84      0.84       584\n",
            "\n"
          ]
        },
        {
          "output_type": "display_data",
          "data": {
            "image/png": "[encoded data removed]",
            "text/plain": [
              "<Figure size 432x288 with 2 Axes>"
            ]
          },
          "metadata": {
            "needs_background": "light"
          }
        }
      ]
    },
    {
      "cell_type": "markdown",
      "source": [
        "### Now fit one more model type  (your choice)"
      ],
      "metadata": {
        "id": "MuFMM6X944xO"
      }
    },
    {
      "cell_type": "code",
      "source": [
        "from sklearn.ensemble import RandomForestClassifier\n",
        "rf_pipe = make_pipeline(preprocessor,RandomForestClassifier())\n",
        "rf_pipe.fit( X_train, y_train)\n",
        "evaluate_classification(rf_pipe,X_test,y_test,classes=target_labels)\n",
        "evaluate_classification(rf_pipe,X_train,y_train,classes=target_labels,label=\"Training Data\")"
      ],
      "metadata": {
        "colab": {
          "base_uri": "https://localhost:8080/",
          "height": 990
        },
        "id": "r0__ZUs344oh",
        "outputId": "cf8480e9-527f-4972-bebd-676a3cc03835"
      },
      "execution_count": null,
      "outputs": [
        {
          "output_type": "stream",
          "name": "stdout",
          "text": [
            "------------------------------------------------------------\n",
            "[i] CLASSIFICATION REPORT FOR: Test Data\n",
            "------------------------------------------------------------\n",
            "              precision    recall  f1-score   support\n",
            "\n",
            "        Died       0.83      0.82      0.82       111\n",
            "    Survived       0.76      0.77      0.77        84\n",
            "\n",
            "    accuracy                           0.80       195\n",
            "   macro avg       0.80      0.80      0.80       195\n",
            "weighted avg       0.80      0.80      0.80       195\n",
            "\n"
          ]
        },
        {
          "output_type": "display_data",
          "data": {
            "image/png": "[encoded data removed]",
            "text/plain": [
              "<Figure size 432x288 with 2 Axes>"
            ]
          },
          "metadata": {
            "needs_background": "light"
          }
        },
        {
          "output_type": "stream",
          "name": "stdout",
          "text": [
            "------------------------------------------------------------\n",
            "[i] CLASSIFICATION REPORT FOR: Training Data\n",
            "------------------------------------------------------------\n",
            "              precision    recall  f1-score   support\n",
            "\n",
            "        Died       0.99      0.99      0.99       346\n",
            "    Survived       0.98      0.98      0.98       238\n",
            "\n",
            "    accuracy                           0.98       584\n",
            "   macro avg       0.98      0.98      0.98       584\n",
            "weighted avg       0.98      0.98      0.98       584\n",
            "\n"
          ]
        },
        {
          "output_type": "display_data",
          "data": {
            "image/png": "[encoded data removed]",
            "text/plain": [
              "<Figure size 432x288 with 2 Axes>"
            ]
          },
          "metadata": {
            "needs_background": "light"
          }
        }
      ]
    },
    {
      "cell_type": "markdown",
      "source": [
        "## 🌠 Post-Lecture Level-Up: Writing a function to fit and evaluate BOTH the training and test data"
      ],
      "metadata": {
        "id": "gzxBGxjH6Bnw"
      }
    },
    {
      "cell_type": "markdown",
      "source": [
        "- Now write a function that will take in a model, training and test data. \n",
        "\n",
        "- The function should fit the model and then evaluate the model:\n",
        "    - For the test data\n",
        "    - and for the training data"
      ],
      "metadata": {
        "id": "OYU0svJDOeJs"
      }
    },
    {
      "cell_type": "code",
      "source": [
        "def fit_and_evaluate_model(model,X_train,y_train, X_test,y_test, classes=None,\n",
        "                           normalize='true', figsize=(10,5), label=\"Test Data\"):\n",
        "    \n",
        "    model.fit( X_train, y_train)\n",
        "    evaluate_classification(rf_pipe,X_test,y_test,classes=target_labels,\n",
        "                            label='Test Data',cmap='Greens')\n",
        "    evaluate_classification(rf_pipe,X_train,y_train,classes=target_labels,\n",
        "                            label=\"Training Data\",cmap='Blues')"
      ],
      "metadata": {
        "id": "pUS0CXzX6FKl"
      },
      "execution_count": null,
      "outputs": []
    },
    {
      "cell_type": "code",
      "source": [
        "## Now use your fit_and_evaluate_model function below!\n",
        "fit_and_evaluate_model(rf_pipe,X_train,y_train,X_test,y_test)"
      ],
      "metadata": {
        "colab": {
          "base_uri": "https://localhost:8080/",
          "height": 990
        },
        "id": "xpCphXUV6ayw",
        "outputId": "14250d49-3fbc-4897-b707-af5c4099e22d"
      },
      "execution_count": null,
      "outputs": [
        {
          "output_type": "stream",
          "name": "stdout",
          "text": [
            "------------------------------------------------------------\n",
            "[i] CLASSIFICATION REPORT FOR: Test Data\n",
            "------------------------------------------------------------\n",
            "              precision    recall  f1-score   support\n",
            "\n",
            "        Died       0.81      0.85      0.83       111\n",
            "    Survived       0.78      0.74      0.76        84\n",
            "\n",
            "    accuracy                           0.80       195\n",
            "   macro avg       0.80      0.79      0.79       195\n",
            "weighted avg       0.80      0.80      0.80       195\n",
            "\n"
          ]
        },
        {
          "output_type": "display_data",
          "data": {
            "image/png": "[encoded data removed]",
            "text/plain": [
              "<Figure size 432x288 with 2 Axes>"
            ]
          },
          "metadata": {
            "needs_background": "light"
          }
        },
        {
          "output_type": "stream",
          "name": "stdout",
          "text": [
            "------------------------------------------------------------\n",
            "[i] CLASSIFICATION REPORT FOR: Training Data\n",
            "------------------------------------------------------------\n",
            "              precision    recall  f1-score   support\n",
            "\n",
            "        Died       0.98      0.99      0.99       346\n",
            "    Survived       0.99      0.97      0.98       238\n",
            "\n",
            "    accuracy                           0.98       584\n",
            "   macro avg       0.99      0.98      0.98       584\n",
            "weighted avg       0.98      0.98      0.98       584\n",
            "\n"
          ]
        },
        {
          "output_type": "display_data",
          "data": {
            "image/png": "[encoded data removed]",
            "text/plain": [
              "<Figure size 432x288 with 2 Axes>"
            ]
          },
          "metadata": {
            "needs_background": "light"
          }
        }
      ]
    },
    {
      "cell_type": "code",
      "source": [],
      "metadata": {
        "id": "ojudTO0gp3O-"
      },
      "execution_count": null,
      "outputs": []
    }
  ]
}