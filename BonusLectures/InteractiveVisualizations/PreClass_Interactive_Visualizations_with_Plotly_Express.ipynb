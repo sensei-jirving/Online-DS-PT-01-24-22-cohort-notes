{
  "cells": [
    {
      "cell_type": "markdown",
      "metadata": {
        "id": "view-in-github",
        "colab_type": "text"
      },
      "source": [
        "<a href=\"https://colab.research.google.com/github/sensei-jirving/Online-DS-PT-01.24.22-cohort-notes/blob/main/BonusLectures/InteractiveVisualizations/PreClass_Interactive_Visualizations_with_Plotly_Express.ipynb\" target=\"_parent\"><img src=\"https://colab.research.google.com/assets/colab-badge.svg\" alt=\"Open In Colab\"/></a>"
      ]
    },
    {
      "cell_type": "markdown",
      "metadata": {
        "id": "l9GUDus9USeI"
      },
      "source": [
        "# Interactive Visualizations - with Plotly Express\n",
        "- 02/25/22 - Bonus Office Hours\n",
        "- 01.24.22 Cohort"
      ]
    },
    {
      "cell_type": "markdown",
      "source": [
        ">- A brief introduction to creating interactive visualizations using Plotly."
      ],
      "metadata": {
        "id": "D78y4pp7H5VG"
      }
    },
    {
      "cell_type": "code",
      "execution_count": null,
      "metadata": {
        "ExecuteTime": {
          "end_time": "2021-07-13T16:04:10.901986Z",
          "start_time": "2021-07-13T16:04:08.341570Z"
        },
        "id": "j8WI67YGUSeK"
      },
      "outputs": [],
      "source": [
        "import pandas as pd\n",
        "import matplotlib.pyplot as plt\n",
        "import seaborn as sns\n",
        "\n",
        "\n",
        "## Plotly Imports\n",
        "import plotly.express as px \n",
        "import plotly.graph_objects as go\n",
        "import plotly.io as pio"
      ]
    },
    {
      "cell_type": "markdown",
      "source": [
        "## Data\n",
        "- King County House Prices:\n",
        "    - Originally downloaded from Kaggle:\n",
        "        - https://www.kaggle.com/harlfoxem/housesalesprediction \n",
        "    - [Google Drive Share Url](https://drive.google.com/file/d/1kam1UuRmCA8a9i5_ZXaP9GBc7J-B79Mm/view?usp=sharing)\n",
        "        - Directly Loadable Publish Url: \n",
        "        ```python\n",
        "        filename = 'https://docs.google.com/spreadsheets/d/e/2PACX-1vSEZuzn_iFfNfMDBO4pRkwUMj62a_ptghfTGpdMZCFbZQjCmXuE3wtu9X2RU91eKgzuHLYimclPfo53/pub?output=csv'\n",
        "        df = pd.read_csv(filename)\n",
        "        ```\n"
      ],
      "metadata": {
        "id": "6bKPuanqW_lH"
      }
    },
    {
      "cell_type": "code",
      "execution_count": null,
      "metadata": {
        "ExecuteTime": {
          "end_time": "2021-07-13T16:04:15.917512Z",
          "start_time": "2021-07-13T16:04:15.653306Z"
        },
        "id": "A6ddPO4yUSeJ"
      },
      "outputs": [],
      "source": [
        "## Load the data, set the index col to be the id column \n",
        "filename = 'https://docs.google.com/spreadsheets/d/e/2PACX-1vSEZuzn_iFfNfMDBO4pRkwUMj62a_ptghfTGpdMZCFbZQjCmXuE3wtu9X2RU91eKgzuHLYimclPfo53/pub?output=csv'\n",
        "df = pd.read_csv(filename,index_col=0,\n",
        "                 parse_dates=['date'])\n",
        "df"
      ]
    },
    {
      "cell_type": "code",
      "source": [
        "## Quick inspection of dataframe\n",
        "report = pd.DataFrame({'column': df.columns,\n",
        "                       'dtype': df.dtypes, \n",
        "                       'nunique': df.nunique(),\n",
        "                       '# nulls': df.isna().sum(),\n",
        "                        \"% nulls\": df.isna().sum()/len(df)}).reset_index(drop=True)\n",
        "report"
      ],
      "metadata": {
        "id": "lkAX9SkCZIuR"
      },
      "execution_count": null,
      "outputs": []
    },
    {
      "cell_type": "code",
      "source": [
        "df.describe().round(2)"
      ],
      "metadata": {
        "id": "vIuGKFmkaLtW"
      },
      "execution_count": null,
      "outputs": []
    },
    {
      "cell_type": "markdown",
      "source": [
        "### Some quick feature engineering"
      ],
      "metadata": {
        "id": "84yzQxKziEdW"
      }
    },
    {
      "cell_type": "code",
      "source": [
        "## Making category was_renovated out of yr_renovated\n",
        "df['was_renovated'] = df['yr_renovated'] > 0\n",
        "df['was_renovated'].value_counts()"
      ],
      "metadata": {
        "id": "ntt7ZHRSiKNT"
      },
      "execution_count": null,
      "outputs": []
    },
    {
      "cell_type": "code",
      "source": [
        "## Making has_basement from of sqft_basement\n",
        "df['has_basement'] = df['sqft_basement'] > 0\n",
        "df['has_basement'].value_counts()"
      ],
      "metadata": {
        "id": "bWjsyh-qIcHx"
      },
      "execution_count": null,
      "outputs": []
    },
    {
      "cell_type": "markdown",
      "source": [
        "# 🕹 Plotly Express\n"
      ],
      "metadata": {
        "id": "82mCmNb4YHV2"
      }
    },
    {
      "cell_type": "markdown",
      "source": [
        "- Plotly Express: https://plotly.com/python/plotly-express/ \n",
        "    - Plotly express is a submodule of a larger package called plotly.\n",
        "    - Normal plotly is a bit tedious to code (manually constructing every line with loops, complex dictionary organization,etc. \n",
        "    - Plotly Express is designed to be the new easy-entry/start for Plotly visuals\n",
        "\n",
        "\n",
        "\n",
        ">- Plotly Express is to Plotly like Seaborn is to Matplotib\n",
        "    - Doing more for us with less code.|\n",
        "- Like working with Seaborn, we would make the figure with plotly express and use the underlying plotly structure to customize viualizations."
      ],
      "metadata": {
        "id": "qQbBdGWPYJJe"
      }
    },
    {
      "cell_type": "markdown",
      "source": [
        "## Plotly Things to Demonstrate\n",
        "\n",
        "- Scatter Plots\n",
        "    - plain\n",
        "    - color-coded\n",
        "    - with a trendline\n",
        "    - Using themes\n",
        "- Scatter Matrices (For EDA ONLY!)\n",
        "- Histograms & Bar Plots\n",
        "- Maps (scatter)"
      ],
      "metadata": {
        "id": "rESo4f8pY2Kd"
      }
    },
    {
      "cell_type": "markdown",
      "source": [
        "## Scatter Plots"
      ],
      "metadata": {
        "id": "UAW9OX3tJmJF"
      }
    },
    {
      "cell_type": "code",
      "source": [
        "## simple scatterplot\n"
      ],
      "metadata": {
        "id": "IEUeazNTYB8z"
      },
      "execution_count": null,
      "outputs": []
    },
    {
      "cell_type": "markdown",
      "source": [
        "#### Hover_data"
      ],
      "metadata": {
        "id": "9I5cWEf_MO5U"
      }
    },
    {
      "cell_type": "code",
      "source": [
        "## simple scatterplot + hoverdata\n"
      ],
      "metadata": {
        "id": "9kv_OuS-MHCq"
      },
      "execution_count": null,
      "outputs": []
    },
    {
      "cell_type": "markdown",
      "source": [
        "### Customizing Plotly Express Figures"
      ],
      "metadata": {
        "id": "Xr2nhlE9b61z"
      }
    },
    {
      "cell_type": "markdown",
      "source": [
        "- Like seaborn, we will want to save the output of our plotly express function and then use its methods to update it. "
      ],
      "metadata": {
        "id": "BknaC9mTb9Go"
      }
    },
    {
      "cell_type": "code",
      "source": [
        "## remake scatterplot and save as fig\n",
        "fig = None\n",
        "fig"
      ],
      "metadata": {
        "id": "WksPm_RFb8x0"
      },
      "execution_count": null,
      "outputs": []
    },
    {
      "cell_type": "markdown",
      "source": [
        "### Whats in a Plotly Fig?"
      ],
      "metadata": {
        "id": "5KR7PXzCcPhm"
      }
    },
    {
      "cell_type": "markdown",
      "source": [
        "- the data and aesthetics are stored in attributes/dictionaries inside of the figure\n",
        "- For details: https://plotly.com/python/figure-structure/\n",
        "\n",
        "\n",
        "- To change the figure, there are a few key methods we will use to modify our visual:\n",
        "    - fig.update_traces\n",
        "    - fig.upate_layout\n",
        "    - fig.show\n"
      ],
      "metadata": {
        "id": "WBQQiS_OcY48"
      }
    },
    {
      "cell_type": "code",
      "source": [
        "## Print fig to see info\n",
        "fig.show()\n",
        "print(fig)"
      ],
      "metadata": {
        "id": "WVtE5IVNcR61"
      },
      "execution_count": null,
      "outputs": []
    },
    {
      "cell_type": "code",
      "source": [
        "## to make smaller markers/different colors - use fig.update_traces \n",
        "# make markers smaller with a white border\n"
      ],
      "metadata": {
        "id": "cWg_2SdObzUc"
      },
      "execution_count": null,
      "outputs": []
    },
    {
      "cell_type": "code",
      "source": [
        "## functionize customization for efficiency\n",
        "def update_figure():\n",
        "    pass"
      ],
      "metadata": {
        "id": "J2lQYhAEeYsr"
      },
      "execution_count": null,
      "outputs": []
    },
    {
      "cell_type": "markdown",
      "source": [
        "### Color-Coded Scatterplot by waterfront"
      ],
      "metadata": {
        "id": "7Xj5aG_5e_Xf"
      }
    },
    {
      "cell_type": "code",
      "source": [
        "## scatterplot with color=waterfront\n"
      ],
      "metadata": {
        "id": "ZfTacsiBbXyp"
      },
      "execution_count": null,
      "outputs": []
    },
    {
      "cell_type": "markdown",
      "source": [
        "### Color-Coded Scatterplot by waterfront - with a tredline"
      ],
      "metadata": {
        "id": "mDdDQ9JaKM_B"
      }
    },
    {
      "cell_type": "code",
      "source": [
        "## scatterplot with trendline\n"
      ],
      "metadata": {
        "id": "fn4rXOneKDWx"
      },
      "execution_count": null,
      "outputs": []
    },
    {
      "cell_type": "code",
      "source": [
        "## convert waterfront to string for viz\n"
      ],
      "metadata": {
        "id": "-9aB59hXbl7O"
      },
      "execution_count": null,
      "outputs": []
    },
    {
      "cell_type": "markdown",
      "source": [
        "#### Themes\n",
        "- https://plotly.com/python/templates/"
      ],
      "metadata": {
        "id": "QGsk2GHjfOah"
      }
    },
    {
      "cell_type": "code",
      "source": [
        "import plotly.io as pio\n",
        "pio.templates"
      ],
      "metadata": {
        "id": "96WZG0ppfm0O"
      },
      "execution_count": null,
      "outputs": []
    },
    {
      "cell_type": "code",
      "source": [
        "## remake figure with different theme/template\n"
      ],
      "metadata": {
        "id": "jDO_p8E0fMPP"
      },
      "execution_count": null,
      "outputs": []
    },
    {
      "cell_type": "markdown",
      "source": [
        "### Scatter Matrix"
      ],
      "metadata": {
        "id": "Hgeuw_g_Ka3f"
      }
    },
    {
      "cell_type": "code",
      "source": [
        "## Determining which cols to excude from the scatter matrix\n",
        "exclude_cols = ['date','zipcode','lat','long','yr_built','yr_renovated','view',\n",
        "                'condition','has_basement','was_renovated','sqft_lot15','sqft_living15']\n",
        "plot_cols = df.drop(columns=exclude_cols).columns\n",
        "plot_cols"
      ],
      "metadata": {
        "id": "Lw0oevyQf7y-"
      },
      "execution_count": null,
      "outputs": []
    },
    {
      "cell_type": "code",
      "source": [
        "## Scatter matrix (EDA ONLY)\n",
        "\n"
      ],
      "metadata": {
        "id": "vQk1oK_9fxcE"
      },
      "execution_count": null,
      "outputs": []
    },
    {
      "cell_type": "markdown",
      "source": [
        "## Histograms & Barplots"
      ],
      "metadata": {
        "id": "NHYcsUalKpo2"
      }
    },
    {
      "cell_type": "markdown",
      "source": [
        "### Histogram + boxplot!"
      ],
      "metadata": {
        "id": "o1Yv-d7ULBe1"
      }
    },
    {
      "cell_type": "code",
      "source": [
        "### histogram + boxplot\n"
      ],
      "metadata": {
        "id": "qFhgdb5yhSFY"
      },
      "execution_count": null,
      "outputs": []
    },
    {
      "cell_type": "markdown",
      "source": [
        "### Bar plots"
      ],
      "metadata": {
        "id": "KxYWrXJniy9o"
      }
    },
    {
      "cell_type": "markdown",
      "source": [
        ">- Different than a seaborn barplot/\n",
        "- Plots each house as a horizonal line.\n",
        "- Does not play nicely with large datasets!"
      ],
      "metadata": {
        "id": "y9yxx2lkLFi5"
      }
    },
    {
      "cell_type": "code",
      "source": [
        "## barplot of has_basement vs price\n",
        "# take a sample of only 1000 homes\n",
        "sample = None\n"
      ],
      "metadata": {
        "id": "DAnW5O0mfxaO"
      },
      "execution_count": null,
      "outputs": []
    },
    {
      "cell_type": "markdown",
      "source": [
        "## Mapping"
      ],
      "metadata": {
        "id": "BtsKbTRvi3DY"
      }
    },
    {
      "cell_type": "code",
      "source": [
        "# reminding ourselves of our dataframe\n",
        "df.head(2)"
      ],
      "metadata": {
        "id": "F5v8T8UNi894"
      },
      "execution_count": null,
      "outputs": []
    },
    {
      "cell_type": "markdown",
      "source": [
        "#### `px.scatter_mapbox`"
      ],
      "metadata": {
        "id": "TqDPjqTulHAB"
      }
    },
    {
      "cell_type": "code",
      "source": [
        "# lat vs long, color by price\n"
      ],
      "metadata": {
        "id": "Ggtta38CM_7z"
      },
      "execution_count": null,
      "outputs": []
    },
    {
      "cell_type": "markdown",
      "source": [
        "> ***Why aren't we seeing anything???***\n",
        "\n",
        "- To the Documentation!\n",
        "    - [px.scatter_mapbox docs](https://plotly.github.io/plotly.py-docs/generated/plotly.express.scatter_mapbox.html#plotly-express-scatter-mapbox)\n",
        "- read the \"mapbox_style\" parameter "
      ],
      "metadata": {
        "id": "FYMpf46KM0xx"
      }
    },
    {
      "cell_type": "markdown",
      "source": [
        "- adding hover_data"
      ],
      "metadata": {
        "id": "SuQhplV0koox"
      }
    },
    {
      "cell_type": "code",
      "source": [
        "## saving all columns but lat./long as hover_cols\n",
        "hover_cols = df.drop(columns=['lat','long']).columns\n",
        "hover_cols"
      ],
      "metadata": {
        "id": "Ke-q9B6hkocT"
      },
      "execution_count": null,
      "outputs": []
    },
    {
      "cell_type": "code",
      "source": [
        "## PLot scatter mapbox with hover_data\n",
        "fig = px.scatter_mapbox(df,lat='lat',lon='long',color='price',\n",
        "                        mapbox_style='open-street-map',\n",
        "                        hover_data=hover_cols) ## adding hover data\n",
        "update_figure(fig,marker_style=dict(size=5));\n"
      ],
      "metadata": {
        "id": "KGpsWDSRjZcF"
      },
      "execution_count": null,
      "outputs": []
    },
    {
      "cell_type": "markdown",
      "source": [
        "- Turn off scroll-over zoom using config \n",
        "https://plotly.com/python/configuration-options/ \n",
        "```python\n",
        "config = dict({'scrollZoom':False})\n",
        "fig.show(config=config)\n",
        "```"
      ],
      "metadata": {
        "id": "NPkrfDVjj6n3"
      }
    },
    {
      "cell_type": "code",
      "source": [
        ""
      ],
      "metadata": {
        "id": "YW2SKtS5fxX4"
      },
      "execution_count": null,
      "outputs": []
    },
    {
      "cell_type": "markdown",
      "source": [
        "# Appendix"
      ],
      "metadata": {
        "id": "fL9ds-2sRWam"
      }
    },
    {
      "cell_type": "markdown",
      "source": [
        "## 3d Scatterplot"
      ],
      "metadata": {
        "id": "jky26oajmMp2"
      }
    },
    {
      "cell_type": "markdown",
      "source": [
        "- Not an ideal choice when the data has different units!"
      ],
      "metadata": {
        "id": "t1nwoy74RYXl"
      }
    },
    {
      "cell_type": "code",
      "source": [
        "# 3d scatter plot\n",
        "from sklearn.preprocessing import StandardScaler\n",
        "scaler = StandardScaler()\n",
        "\n",
        "plot_cols = ['sqft_living','sqft_lot','bedrooms']\n",
        "plot_df = df[['price'] + plot_cols ].copy()\n",
        "plot_df\n"
      ],
      "metadata": {
        "id": "pppAuP4qmMkp"
      },
      "execution_count": null,
      "outputs": []
    },
    {
      "cell_type": "code",
      "source": [
        "## scale data\n",
        "plot_df[plot_cols] = scaler.fit_transform( plot_df[plot_cols])\n",
        "plot_df.describe().round(2)"
      ],
      "metadata": {
        "id": "7jKCZR47PRSB"
      },
      "execution_count": null,
      "outputs": []
    },
    {
      "cell_type": "code",
      "execution_count": null,
      "metadata": {
        "ExecuteTime": {
          "end_time": "2021-07-13T16:05:56.037294Z",
          "start_time": "2021-07-13T16:05:55.959722Z"
        },
        "id": "6Scvkz_HUSeK"
      },
      "outputs": [],
      "source": [
        "## use scatter_3d \n"
      ]
    }
  ],
  "metadata": {
    "kernelspec": {
      "display_name": "learn-env-new",
      "language": "python",
      "name": "learn-env-new"
    },
    "language_info": {
      "codemirror_mode": {
        "name": "ipython",
        "version": 3
      },
      "file_extension": ".py",
      "mimetype": "text/x-python",
      "name": "python",
      "nbconvert_exporter": "python",
      "pygments_lexer": "ipython3",
      "version": "3.8.5"
    },
    "toc": {
      "base_numbering": 1,
      "nav_menu": {},
      "number_sections": true,
      "sideBar": true,
      "skip_h1_title": false,
      "title_cell": "Table of Contents",
      "title_sidebar": "Contents",
      "toc_cell": false,
      "toc_position": {},
      "toc_section_display": true,
      "toc_window_display": true
    },
    "colab": {
      "name": "PreClass - Interactive Visualizations - with Plotly Express.ipynb",
      "provenance": [],
      "collapsed_sections": [],
      "toc_visible": true,
      "include_colab_link": true
    }
  },
  "nbformat": 4,
  "nbformat_minor": 0
}