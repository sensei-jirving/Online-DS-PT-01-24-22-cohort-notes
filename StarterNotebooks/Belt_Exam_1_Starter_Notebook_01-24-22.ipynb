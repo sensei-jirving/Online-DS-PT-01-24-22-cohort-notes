{
  "nbformat": 4,
  "nbformat_minor": 0,
  "metadata": {
    "colab": {
      "name": "Belt Exam 1 - Starter Notebook - 01.24.22.ipynb",
      "provenance": [],
      "collapsed_sections": [],
      "authorship_tag": "ABX9TyOGUgWTwA6SM1T0UO8FXs0v",
      "include_colab_link": true
    },
    "kernelspec": {
      "name": "python3",
      "display_name": "Python 3"
    },
    "language_info": {
      "name": "python"
    }
  },
  "cells": [
    {
      "cell_type": "markdown",
      "metadata": {
        "id": "view-in-github",
        "colab_type": "text"
      },
      "source": [
        "<a href=\"https://colab.research.google.com/github/sensei-jirving/Online-DS-PT-01.24.22-cohort-notes/blob/main/StarterNotebooks/Belt_Exam_1_Starter_Notebook_01-24-22.ipynb\" target=\"_parent\"><img src=\"https://colab.research.google.com/assets/colab-badge.svg\" alt=\"Open In Colab\"/></a>"
      ]
    },
    {
      "cell_type": "markdown",
      "source": [
        "# Belt Exam 1"
      ],
      "metadata": {
        "id": "14C4Y0Zs57Lx"
      }
    },
    {
      "cell_type": "markdown",
      "source": [
        "- Student Name:\n",
        "- Date:"
      ],
      "metadata": {
        "id": "Zz1ibeEg59KM"
      }
    },
    {
      "cell_type": "markdown",
      "source": [
        "## Rubric Checklist"
      ],
      "metadata": {
        "id": "oPr905Dt6AFu"
      }
    },
    {
      "cell_type": "markdown",
      "source": [
        "- [ ]  Missing values are dropped or imputed (2 pts)\n",
        "- [ ]  Valid explanation of method used to handle missings (.5 pts)\n",
        "- [ ]  Duplicates dropped (.25 pts)\n",
        "- [ ]  Odd values explored and fixed as needed (.25 pts)\n",
        "- [ ]  Column datatypes checked and changed as needed (.25 pts)\n",
        "- [ ]  Includes univariate exploratory viz - #1  (1 pts)\n",
        "\t- [ ]       Interprets visualization - #1 (.25 pts)\n",
        "- [ ]  Includes different type of univariate exploratory viz - #2 (.5 pts)\n",
        "\t- [ ]       Interprets visualization - #2 (.25 pts)\n",
        "- [ ]  Includes multivariate exploratory viz  #3 (1 pts)\n",
        "\t- [ ]       Interprets visualization - #3 (.25 pts)\n",
        "- [ ]  Includes different type of multivariate exploratory viz - #4 (.5 pts)\n",
        "\t- [ ]       Interprets visualization - #4 (.25 pts)\n",
        "- [ ]  File Reqts: Python code (3 pts)\n",
        "- [ ]  Code: Organization, structure, indentation, comments (.25 pts)\n",
        "- [ ]  Code: Unnecessary code or methods (.25 pts)\n",
        "- [ ]  Code: Unnecessary files (.25 pts)\n"
      ],
      "metadata": {
        "id": "oBusSD-16i8e"
      }
    },
    {
      "cell_type": "markdown",
      "source": [
        "## Student Analysis"
      ],
      "metadata": {
        "id": "uCiT_Y1IAxH3"
      }
    },
    {
      "cell_type": "code",
      "source": [
        ""
      ],
      "metadata": {
        "id": "zXXItb68_kwf"
      },
      "execution_count": null,
      "outputs": []
    },
    {
      "cell_type": "code",
      "source": [
        ""
      ],
      "metadata": {
        "id": "K7gdCbVhA0LK"
      },
      "execution_count": null,
      "outputs": []
    },
    {
      "cell_type": "code",
      "source": [
        ""
      ],
      "metadata": {
        "id": "f-WQ01KvA0Ex"
      },
      "execution_count": null,
      "outputs": []
    }
  ]
}