{
  "nbformat": 4,
  "nbformat_minor": 0,
  "metadata": {
    "colab": {
      "name": "Intro to Python Packages - Numpy - Instructor.ipynb",
      "provenance": [],
      "collapsed_sections": [],
      "authorship_tag": "ABX9TyOH0DqOkNkbOR1Mnn1ruMSL",
      "include_colab_link": true
    },
    "kernelspec": {
      "name": "python3",
      "display_name": "Python 3"
    },
    "language_info": {
      "name": "python"
    }
  },
  "cells": [
    {
      "cell_type": "markdown",
      "metadata": {
        "id": "view-in-github",
        "colab_type": "text"
      },
      "source": [
        "<a href=\"https://colab.research.google.com/github/sensei-jirving/Online-DS-PT-01.24.22-cohort-notes/blob/main/Week_01/Lecture_02/solution/Intro_to_Python_Packages_Numpy_Instructor.ipynb\" target=\"_parent\"><img src=\"https://colab.research.google.com/assets/colab-badge.svg\" alt=\"Open In Colab\"/></a>"
      ]
    },
    {
      "cell_type": "markdown",
      "source": [
        "# Intro to Python Packages"
      ],
      "metadata": {
        "id": "jDceHy3PH_QB"
      }
    },
    {
      "cell_type": "markdown",
      "source": [
        "> [Class Notebook](https://colab.research.google.com/drive/1Ilze7Y90HQeGbsWbxPEQm2a0gaCylgtM?usp=sharing)"
      ],
      "metadata": {
        "id": "-UJJb230k82B"
      }
    },
    {
      "cell_type": "markdown",
      "source": [
        "- Python comes with many [Built-In Functions](https://docs.python.org/3/library/functions.html)\n",
        "    - e.g. print, type, range, etc\n",
        "- But **most of the functionality we need as data scientists is not included** in base Python.\n",
        "\n",
        "\n",
        "- We can **download other collections of functions and classes, called Packages** (A.K.A. Libraries A.K.A Modules)\n",
        "    - Python has a Package Index (PyPi) that is basically like an app-store for Python. \n",
        "\n",
        "    - In a code cell, we can install any PyPi packages we need using:\n",
        "        - `!pip <package name>`\n",
        "\n",
        "\n",
        "- **Packages You will Be Using in Stack 1:**\n",
        "    - [Numpy](https://numpy.org/doc/stable/index.html#)\n",
        "    - [Pandas](https://pandas.pydata.org/docs/)\n",
        "    - [Matplotlib](https://matplotlib.org/)\n",
        "    - [Seaborn](https://seaborn.pydata.org/)\n",
        "\n",
        "\n",
        "\n",
        "\n",
        "- Thankfully, Google Colab has most of the packages we need already installed!\n"
      ],
      "metadata": {
        "id": "eOtUhDnCICav"
      }
    },
    {
      "cell_type": "markdown",
      "source": [
        "## Importing Packages & Modules"
      ],
      "metadata": {
        "id": "ORucARYcJ9Oe"
      }
    },
    {
      "cell_type": "markdown",
      "source": [
        "- When we import a package we can either just import it under its full name. \n",
        "```python\n",
        "import numpy\n",
        "```\n",
        "\n",
        "- We can also give it an alias/handle (a short nick-name)\n",
        "```python\n",
        "import numpy as np\n",
        "```"
      ],
      "metadata": {
        "id": "rl-ffvnOJ_iR"
      }
    },
    {
      "cell_type": "code",
      "execution_count": null,
      "metadata": {
        "colab": {
          "base_uri": "https://localhost:8080/"
        },
        "id": "TIbUuurPH9EM",
        "outputId": "c96276a2-aab2-4b5f-bda6-a7d7f66adb80"
      },
      "outputs": [
        {
          "output_type": "execute_result",
          "data": {
            "text/plain": [
              "<module 'numpy' from '/usr/local/lib/python3.7/dist-packages/numpy/__init__.py'>"
            ]
          },
          "metadata": {},
          "execution_count": 1
        }
      ],
      "source": [
        "# import numpy\n",
        "import numpy\n",
        "numpy"
      ]
    },
    {
      "cell_type": "code",
      "source": [
        "## import numpy with an alias\n",
        "import numpy as np\n",
        "np"
      ],
      "metadata": {
        "colab": {
          "base_uri": "https://localhost:8080/"
        },
        "id": "bTKr8BE7KLdB",
        "outputId": "56f9681a-ec8c-4c4e-a315-70b476fc721c"
      },
      "execution_count": null,
      "outputs": [
        {
          "output_type": "execute_result",
          "data": {
            "text/plain": [
              "<module 'numpy' from '/usr/local/lib/python3.7/dist-packages/numpy/__init__.py'>"
            ]
          },
          "metadata": {},
          "execution_count": 2
        }
      ]
    },
    {
      "cell_type": "markdown",
      "source": [
        "### Submodules"
      ],
      "metadata": {
        "id": "TVX7dlNFKpMK"
      }
    },
    {
      "cell_type": "markdown",
      "source": [
        "- Packages can be made of smaller pieces called submodules. \n",
        "    - Submodules allow functions to be organized in a helpful way.\n",
        "    - Numpy has a submodule called `np.random` that contains functions related to generating or selecting data based on random chance.  \n"
      ],
      "metadata": {
        "id": "l4te96IuKqap"
      }
    },
    {
      "cell_type": "code",
      "source": [
        "## show the module\n",
        "np.random"
      ],
      "metadata": {
        "colab": {
          "base_uri": "https://localhost:8080/"
        },
        "id": "51dlXT12N-nf",
        "outputId": "eab26c9f-704b-46ce-b36f-863a6ed6ff12"
      },
      "execution_count": null,
      "outputs": [
        {
          "output_type": "execute_result",
          "data": {
            "text/plain": [
              "<module 'numpy.random' from '/usr/local/lib/python3.7/dist-packages/numpy/random/__init__.py'>"
            ]
          },
          "metadata": {},
          "execution_count": 3
        }
      ]
    },
    {
      "cell_type": "code",
      "source": [
        "## Can't choose a dinner option? Let numpy do it!\n",
        "dinner_options = ['Cheeseburger','Chicken Tikka Masala','Lasagna', \"Filet Mignon\"]\n",
        "np.random.choice(dinner_options)"
      ],
      "metadata": {
        "colab": {
          "base_uri": "https://localhost:8080/",
          "height": 35
        },
        "id": "sBWTZvRfKjwd",
        "outputId": "c9daa1f1-ca06-4c35-9896-d2fc0706716f"
      },
      "execution_count": null,
      "outputs": [
        {
          "output_type": "execute_result",
          "data": {
            "application/vnd.google.colaboratory.intrinsic+json": {
              "type": "string"
            },
            "text/plain": [
              "'Lasagna'"
            ]
          },
          "metadata": {},
          "execution_count": 4
        }
      ]
    },
    {
      "cell_type": "markdown",
      "source": [
        "# Why NumPy?"
      ],
      "metadata": {
        "id": "8ymQlYpiN-HM"
      }
    },
    {
      "cell_type": "markdown",
      "source": [
        "- Python lists and tuples are not efficient with large amounts of data. \n",
        "- Linear Algebra has a lot of helpful mathmatical manipulations we can use.\n",
        "- We need a way to store our data in an organized linear fashion.\n",
        ">- The solution: numpy arrays!"
      ],
      "metadata": {
        "id": "coBbGY-COJr4"
      }
    },
    {
      "cell_type": "markdown",
      "source": [
        "## Working with NumPy Arrays"
      ],
      "metadata": {
        "id": "QXolb_vtUrSE"
      }
    },
    {
      "cell_type": "markdown",
      "source": [
        "\n",
        "- Make a `calories_per_serving` array with the calories per serving:\n",
        "\n",
        "|                      |   Calories Per Serving |\n",
        "|:---------------------|-----------------------:|\n",
        "| Cheeseburger         |                    740 |\n",
        "| Chicken Tikka Masala |                    240 |\n",
        "| Lasagna              |                    408 |\n",
        "| Filet Mignon         |                    301 |\n",
        "\n"
      ],
      "metadata": {
        "id": "rbBeFiXGVtfa"
      }
    },
    {
      "cell_type": "code",
      "source": [
        "## Make a color how many calories are in each>? from www.calorieking.com\n",
        "calories_per_serving = np.array([740,240,408,301])\n",
        "calories_per_serving"
      ],
      "metadata": {
        "colab": {
          "base_uri": "https://localhost:8080/"
        },
        "id": "uoC40XYeL892",
        "outputId": "6fe35071-35c5-49bc-f574-0fb0f9bd175d"
      },
      "execution_count": null,
      "outputs": [
        {
          "output_type": "execute_result",
          "data": {
            "text/plain": [
              "array([740, 240, 408, 301])"
            ]
          },
          "metadata": {},
          "execution_count": 5
        }
      ]
    },
    {
      "cell_type": "markdown",
      "source": [
        "\n",
        "- Make a `prices` array with ther prices:\n",
        "\n",
        "|                      |   Price |\n",
        "|:---------------------|--------:|\n",
        "| Cheeseburger         |    8.5  |\n",
        "| Chicken Tikka Masala |   12.5  |\n",
        "| Lasagna              |   11    |\n",
        "| Filet Mignon         |   15.75 |\n",
        "\n",
        "\n",
        "    "
      ],
      "metadata": {
        "id": "k3v0559aVvSs"
      }
    },
    {
      "cell_type": "code",
      "source": [
        "# what is the price? https://www.numbeo.com/food-prices/\n",
        "prices = np.array([8.50, 12.50, 11.00,15.75])\n",
        "prices"
      ],
      "metadata": {
        "colab": {
          "base_uri": "https://localhost:8080/"
        },
        "id": "QSPhonrEMn6r",
        "outputId": "ff6aec28-0950-449a-d03d-9017f5836319"
      },
      "execution_count": null,
      "outputs": [
        {
          "output_type": "execute_result",
          "data": {
            "text/plain": [
              "array([ 8.5 , 12.5 , 11.  , 15.75])"
            ]
          },
          "metadata": {},
          "execution_count": 6
        }
      ]
    },
    {
      "cell_type": "markdown",
      "source": [
        "### What would our total calories be if we ate:\n",
        "\n",
        "- 2 servings of Lasagna, 1 filet mignon, and 3 cheesburgers?\n",
        "\n",
        ">Order total = the sum of all prices * number of servings ordered.\n",
        "- Hint: Make a `servings` array."
      ],
      "metadata": {
        "id": "51GDvH2IQfIn"
      }
    },
    {
      "cell_type": "code",
      "source": [
        "# 2 servings of Lasagna and a 1 filet mignon, and 3 cheesburgers?\n",
        "servings = np.array([3,0,2,1])\n",
        "servings"
      ],
      "metadata": {
        "colab": {
          "base_uri": "https://localhost:8080/"
        },
        "id": "iKjlCEg0QMph",
        "outputId": "a81580d4-3d6d-4bd0-b852-9818e2eb0c24"
      },
      "execution_count": null,
      "outputs": [
        {
          "output_type": "execute_result",
          "data": {
            "text/plain": [
              "array([3, 0, 2, 1])"
            ]
          },
          "metadata": {},
          "execution_count": 7
        }
      ]
    },
    {
      "cell_type": "code",
      "source": [
        "## Calcualte total caloreis\n",
        "np.sum(calories_per_serving * servings)"
      ],
      "metadata": {
        "colab": {
          "base_uri": "https://localhost:8080/"
        },
        "id": "hJnBORzeWDlG",
        "outputId": "22e2973a-74f6-42f6-89c4-4770ed5bdab1"
      },
      "execution_count": null,
      "outputs": [
        {
          "output_type": "execute_result",
          "data": {
            "text/plain": [
              "3337"
            ]
          },
          "metadata": {},
          "execution_count": 8
        }
      ]
    },
    {
      "cell_type": "markdown",
      "source": [
        "#### What would our total bill be?"
      ],
      "metadata": {
        "id": "L4G726X2RYkm"
      }
    },
    {
      "cell_type": "code",
      "source": [
        "## calculate the total bill\n",
        "np.sum(servings * prices)"
      ],
      "metadata": {
        "colab": {
          "base_uri": "https://localhost:8080/"
        },
        "id": "iHet7cI-RURt",
        "outputId": "bd96e48e-35af-400f-b40c-5a65266a0a38"
      },
      "execution_count": null,
      "outputs": [
        {
          "output_type": "execute_result",
          "data": {
            "text/plain": [
              "63.25"
            ]
          },
          "metadata": {},
          "execution_count": 9
        }
      ]
    },
    {
      "cell_type": "markdown",
      "source": [
        "### What if we decided to add 2 orders of Tikka Masala?"
      ],
      "metadata": {
        "id": "e_StYO75RwhR"
      }
    },
    {
      "cell_type": "markdown",
      "source": [
        "- Hmmm...what index was Tikka Masala?  🤔"
      ],
      "metadata": {
        "id": "TJTH5t6wiDHg"
      }
    },
    {
      "cell_type": "markdown",
      "source": [
        "## 💡 How to remind ourselves the names/integer index of each item"
      ],
      "metadata": {
        "id": "6Olu3kNRferj"
      }
    },
    {
      "cell_type": "markdown",
      "source": [
        "- Make an `options_array` of the names of the dinner options:\n",
        "    - 'Cheeseburger', 'Chicken Tikka Masala','Lasagna', \"Filet Mignon\"\n",
        "\n"
      ],
      "metadata": {
        "id": "OBtUgeXjUuI1"
      }
    },
    {
      "cell_type": "code",
      "source": [
        "## arrays can store strings\n",
        "options_array = np.array(['Cheeseburger','Chicken Tikka Masala','Lasagna', \"Filet Mignon\"])\n",
        "options_array"
      ],
      "metadata": {
        "colab": {
          "base_uri": "https://localhost:8080/"
        },
        "id": "myN_qHgzLPLV",
        "outputId": "0d4ce040-cd2e-48a0-9037-81996b79f117"
      },
      "execution_count": null,
      "outputs": [
        {
          "output_type": "execute_result",
          "data": {
            "text/plain": [
              "array(['Cheeseburger', 'Chicken Tikka Masala', 'Lasagna', 'Filet Mignon'],\n",
              "      dtype='<U20')"
            ]
          },
          "metadata": {},
          "execution_count": 10
        }
      ]
    },
    {
      "cell_type": "markdown",
      "source": [
        "#### Using Enumerate "
      ],
      "metadata": {
        "id": "g6iCTKsCgCrt"
      }
    },
    {
      "cell_type": "markdown",
      "source": [
        "- We can use the `enumerate` function to slice out each dinner option with its integer index.\n"
      ],
      "metadata": {
        "id": "llKdkmfsgJOL"
      }
    },
    {
      "cell_type": "code",
      "source": [
        "## I can't remember what index is what! \n",
        "for i,food in enumerate(options_array):\n",
        "    print(f\"{i}: {food}\")"
      ],
      "metadata": {
        "colab": {
          "base_uri": "https://localhost:8080/"
        },
        "id": "TjeyGMKQQf3D",
        "outputId": "6da55f8e-4eb0-445d-dde2-4ad1a6e7cc90"
      },
      "execution_count": null,
      "outputs": [
        {
          "output_type": "stream",
          "name": "stdout",
          "text": [
            "0: Cheeseburger\n",
            "1: Chicken Tikka Masala\n",
            "2: Lasagna\n",
            "3: Filet Mignon\n"
          ]
        }
      ]
    },
    {
      "cell_type": "markdown",
      "source": [
        "- We will want to re-use this so we can wrap it into a simple function!"
      ],
      "metadata": {
        "id": "dgIyenFxixY1"
      }
    },
    {
      "cell_type": "code",
      "source": [
        "def index_report():\n",
        "    \"\"\"Uses enumerate to print the idex for each item in the array\"\"\"\n",
        "    for i,food in enumerate(options_array):\n",
        "        print(f\"{i}: {food}\")"
      ],
      "metadata": {
        "id": "3n8nhqrxg3_z"
      },
      "execution_count": null,
      "outputs": []
    },
    {
      "cell_type": "markdown",
      "source": [
        "### What if we decided to add 2 orders of Tikka Masala?"
      ],
      "metadata": {
        "id": "tLTGHgqpTPaE"
      }
    },
    {
      "cell_type": "code",
      "source": [
        "index_report()"
      ],
      "metadata": {
        "colab": {
          "base_uri": "https://localhost:8080/"
        },
        "id": "V0UwsY9ni6M3",
        "outputId": "ab40a131-1cf7-496b-a329-2620a21145e2"
      },
      "execution_count": null,
      "outputs": [
        {
          "output_type": "stream",
          "name": "stdout",
          "text": [
            "0: Cheeseburger\n",
            "1: Chicken Tikka Masala\n",
            "2: Lasagna\n",
            "3: Filet Mignon\n"
          ]
        }
      ]
    },
    {
      "cell_type": "code",
      "source": [
        "## use the index to replace the value for chicken tikka msas with 2\n",
        "servings[1] = 2\n",
        "servings"
      ],
      "metadata": {
        "colab": {
          "base_uri": "https://localhost:8080/"
        },
        "id": "xn1omBHvRfi9",
        "outputId": "7473110a-ae22-440f-af95-833f0baa3296"
      },
      "execution_count": null,
      "outputs": [
        {
          "output_type": "execute_result",
          "data": {
            "text/plain": [
              "array([3, 2, 2, 1])"
            ]
          },
          "metadata": {},
          "execution_count": 14
        }
      ]
    },
    {
      "cell_type": "code",
      "source": [
        "# calculate total bill\n",
        "(servings*prices).sum()"
      ],
      "metadata": {
        "colab": {
          "base_uri": "https://localhost:8080/"
        },
        "id": "M4aj2mpZRh7k",
        "outputId": "8e947a8f-b73e-4372-d672-82379ed48496"
      },
      "execution_count": null,
      "outputs": [
        {
          "output_type": "execute_result",
          "data": {
            "text/plain": [
              "88.25"
            ]
          },
          "metadata": {},
          "execution_count": 15
        }
      ]
    },
    {
      "cell_type": "markdown",
      "source": [
        "### What if there were discounted happy hour promotions?\n",
        "- Cheesburgers and Filet Mignon are both 25% off\n",
        "> Hint: make a `discounts` array.\n"
      ],
      "metadata": {
        "id": "_ef8InxlSbVi"
      }
    },
    {
      "cell_type": "code",
      "source": [
        "index_report()"
      ],
      "metadata": {
        "colab": {
          "base_uri": "https://localhost:8080/"
        },
        "id": "J5C0KhBwTXhU",
        "outputId": "ba05e605-e762-4015-fdfd-ce3d2161e2d4"
      },
      "execution_count": null,
      "outputs": [
        {
          "output_type": "stream",
          "name": "stdout",
          "text": [
            "0: Cheeseburger\n",
            "1: Chicken Tikka Masala\n",
            "2: Lasagna\n",
            "3: Filet Mignon\n"
          ]
        }
      ]
    },
    {
      "cell_type": "code",
      "source": [
        "## discounts\n",
        "discounts = np.array([.25,0,.25,0])"
      ],
      "metadata": {
        "id": "BLQnc6DsSsQ8"
      },
      "execution_count": null,
      "outputs": []
    },
    {
      "cell_type": "code",
      "source": [
        "## discounted prices\n",
        "discounted_prices = prices - prices*discounts\n",
        "discounted_prices"
      ],
      "metadata": {
        "colab": {
          "base_uri": "https://localhost:8080/"
        },
        "id": "SWfIromoTuTL",
        "outputId": "ae257668-10e2-464a-d5de-b3f9721fe370"
      },
      "execution_count": null,
      "outputs": [
        {
          "output_type": "execute_result",
          "data": {
            "text/plain": [
              "array([ 6.375, 12.5  ,  8.25 , 15.75 ])"
            ]
          },
          "metadata": {},
          "execution_count": 18
        }
      ]
    },
    {
      "cell_type": "code",
      "source": [
        "np.sum(discounted_prices * servings)"
      ],
      "metadata": {
        "colab": {
          "base_uri": "https://localhost:8080/"
        },
        "id": "Gka9-OdhT8-y",
        "outputId": "c0c0183e-e080-45d2-a308-5734329f9c2f"
      },
      "execution_count": null,
      "outputs": [
        {
          "output_type": "execute_result",
          "data": {
            "text/plain": [
              "76.375"
            ]
          },
          "metadata": {},
          "execution_count": 19
        }
      ]
    },
    {
      "cell_type": "markdown",
      "source": [
        "## Wouldn't it be nice...\n",
        ">-  if we had a way to group ALL of this infromation wihtout memorizing indices that was really easiy to visualize?\n",
        "- Hmmm....🤔 - a dictionary might work!\n",
        "\n",
        "- Make a dinner_data dictionary that contains the data from:\n",
        "    - prices\n",
        "    - calories_per_serving\n",
        "    - discounts\n",
        "    - and servings"
      ],
      "metadata": {
        "id": "ejDxOyJTSBTY"
      }
    },
    {
      "cell_type": "code",
      "source": [
        "# We could use a dictionry for Price, Calories per serving, discount, servings\n",
        "dinner_data = {\"Dinner Option\":options_array,\n",
        "               'Price':prices,\n",
        "                'Calories Per Serving':calories_per_serving,\n",
        "                \"Discount\":discounts,\n",
        "                'Servings':servings}\n",
        "dinner_data"
      ],
      "metadata": {
        "colab": {
          "base_uri": "https://localhost:8080/"
        },
        "id": "-eyStJs0t2c7",
        "outputId": "9499cd9d-ee4f-4d6c-a344-72d885e04626"
      },
      "execution_count": null,
      "outputs": [
        {
          "output_type": "execute_result",
          "data": {
            "text/plain": [
              "{'Calories Per Serving': array([740, 240, 408, 301]),\n",
              " 'Dinner Option': array(['Cheeseburger', 'Chicken Tikka Masala', 'Lasagna', 'Filet Mignon'],\n",
              "       dtype='<U20'),\n",
              " 'Discount': array([0.25, 0.  , 0.25, 0.  ]),\n",
              " 'Price': array([ 8.5 , 12.5 , 11.  , 15.75]),\n",
              " 'Servings': array([3, 2, 2, 1])}"
            ]
          },
          "metadata": {},
          "execution_count": 20
        }
      ]
    },
    {
      "cell_type": "markdown",
      "source": [
        "- Hmmm, thats **better** but its still really hard see the data aligned."
      ],
      "metadata": {
        "id": "0vgY0owRudlp"
      }
    },
    {
      "cell_type": "markdown",
      "source": [
        "> 🐼 PANDAS TO THE RESCUE!"
      ],
      "metadata": {
        "id": "Trkfs8HoSIxy"
      }
    },
    {
      "cell_type": "code",
      "source": [
        "import pandas as pd"
      ],
      "metadata": {
        "id": "uvyJLJgaUDR3"
      },
      "execution_count": null,
      "outputs": []
    },
    {
      "cell_type": "code",
      "source": [
        "## make a dataframe from our dinner_data\n",
        "df = pd.DataFrame(dinner_data)\n",
        "df"
      ],
      "metadata": {
        "colab": {
          "base_uri": "https://localhost:8080/",
          "height": 175
        },
        "id": "kRlnFsWpR8sX",
        "outputId": "1450fa24-c749-4cf7-d234-28f73d6d0fc6"
      },
      "execution_count": null,
      "outputs": [
        {
          "output_type": "execute_result",
          "data": {
            "text/html": [
              "\n",
              "  <div id=\"df-cd1a944c-f610-459f-80ad-74649b095560\">\n",
              "    <div class=\"colab-df-container\">\n",
              "      <div>\n",
              "<style scoped>\n",
              "    .dataframe tbody tr th:only-of-type {\n",
              "        vertical-align: middle;\n",
              "    }\n",
              "\n",
              "    .dataframe tbody tr th {\n",
              "        vertical-align: top;\n",
              "    }\n",
              "\n",
              "    .dataframe thead th {\n",
              "        text-align: right;\n",
              "    }\n",
              "</style>\n",
              "<table border=\"1\" class=\"dataframe\">\n",
              "  <thead>\n",
              "    <tr style=\"text-align: right;\">\n",
              "      <th></th>\n",
              "      <th>Dinner Option</th>\n",
              "      <th>Price</th>\n",
              "      <th>Calories Per Serving</th>\n",
              "      <th>Discount</th>\n",
              "      <th>Servings</th>\n",
              "    </tr>\n",
              "  </thead>\n",
              "  <tbody>\n",
              "    <tr>\n",
              "      <th>0</th>\n",
              "      <td>Cheeseburger</td>\n",
              "      <td>8.50</td>\n",
              "      <td>740</td>\n",
              "      <td>0.25</td>\n",
              "      <td>3</td>\n",
              "    </tr>\n",
              "    <tr>\n",
              "      <th>1</th>\n",
              "      <td>Chicken Tikka Masala</td>\n",
              "      <td>12.50</td>\n",
              "      <td>240</td>\n",
              "      <td>0.00</td>\n",
              "      <td>2</td>\n",
              "    </tr>\n",
              "    <tr>\n",
              "      <th>2</th>\n",
              "      <td>Lasagna</td>\n",
              "      <td>11.00</td>\n",
              "      <td>408</td>\n",
              "      <td>0.25</td>\n",
              "      <td>2</td>\n",
              "    </tr>\n",
              "    <tr>\n",
              "      <th>3</th>\n",
              "      <td>Filet Mignon</td>\n",
              "      <td>15.75</td>\n",
              "      <td>301</td>\n",
              "      <td>0.00</td>\n",
              "      <td>1</td>\n",
              "    </tr>\n",
              "  </tbody>\n",
              "</table>\n",
              "</div>\n",
              "      <button class=\"colab-df-convert\" onclick=\"convertToInteractive('df-cd1a944c-f610-459f-80ad-74649b095560')\"\n",
              "              title=\"Convert this dataframe to an interactive table.\"\n",
              "              style=\"display:none;\">\n",
              "        \n",
              "  <svg xmlns=\"http://www.w3.org/2000/svg\" height=\"24px\"viewBox=\"0 0 24 24\"\n",
              "       width=\"24px\">\n",
              "    <path d=\"M0 0h24v24H0V0z\" fill=\"none\"/>\n",
              "    <path d=\"M18.56 5.44l.94 2.06.94-2.06 2.06-.94-2.06-.94-.94-2.06-.94 2.06-2.06.94zm-11 1L8.5 8.5l.94-2.06 2.06-.94-2.06-.94L8.5 2.5l-.94 2.06-2.06.94zm10 10l.94 2.06.94-2.06 2.06-.94-2.06-.94-.94-2.06-.94 2.06-2.06.94z\"/><path d=\"M17.41 7.96l-1.37-1.37c-.4-.4-.92-.59-1.43-.59-.52 0-1.04.2-1.43.59L10.3 9.45l-7.72 7.72c-.78.78-.78 2.05 0 2.83L4 21.41c.39.39.9.59 1.41.59.51 0 1.02-.2 1.41-.59l7.78-7.78 2.81-2.81c.8-.78.8-2.07 0-2.86zM5.41 20L4 18.59l7.72-7.72 1.47 1.35L5.41 20z\"/>\n",
              "  </svg>\n",
              "      </button>\n",
              "      \n",
              "  <style>\n",
              "    .colab-df-container {\n",
              "      display:flex;\n",
              "      flex-wrap:wrap;\n",
              "      gap: 12px;\n",
              "    }\n",
              "\n",
              "    .colab-df-convert {\n",
              "      background-color: #E8F0FE;\n",
              "      border: none;\n",
              "      border-radius: 50%;\n",
              "      cursor: pointer;\n",
              "      display: none;\n",
              "      fill: #1967D2;\n",
              "      height: 32px;\n",
              "      padding: 0 0 0 0;\n",
              "      width: 32px;\n",
              "    }\n",
              "\n",
              "    .colab-df-convert:hover {\n",
              "      background-color: #E2EBFA;\n",
              "      box-shadow: 0px 1px 2px rgba(60, 64, 67, 0.3), 0px 1px 3px 1px rgba(60, 64, 67, 0.15);\n",
              "      fill: #174EA6;\n",
              "    }\n",
              "\n",
              "    [theme=dark] .colab-df-convert {\n",
              "      background-color: #3B4455;\n",
              "      fill: #D2E3FC;\n",
              "    }\n",
              "\n",
              "    [theme=dark] .colab-df-convert:hover {\n",
              "      background-color: #434B5C;\n",
              "      box-shadow: 0px 1px 3px 1px rgba(0, 0, 0, 0.15);\n",
              "      filter: drop-shadow(0px 1px 2px rgba(0, 0, 0, 0.3));\n",
              "      fill: #FFFFFF;\n",
              "    }\n",
              "  </style>\n",
              "\n",
              "      <script>\n",
              "        const buttonEl =\n",
              "          document.querySelector('#df-cd1a944c-f610-459f-80ad-74649b095560 button.colab-df-convert');\n",
              "        buttonEl.style.display =\n",
              "          google.colab.kernel.accessAllowed ? 'block' : 'none';\n",
              "\n",
              "        async function convertToInteractive(key) {\n",
              "          const element = document.querySelector('#df-cd1a944c-f610-459f-80ad-74649b095560');\n",
              "          const dataTable =\n",
              "            await google.colab.kernel.invokeFunction('convertToInteractive',\n",
              "                                                     [key], {});\n",
              "          if (!dataTable) return;\n",
              "\n",
              "          const docLinkHtml = 'Like what you see? Visit the ' +\n",
              "            '<a target=\"_blank\" href=https://colab.research.google.com/notebooks/data_table.ipynb>data table notebook</a>'\n",
              "            + ' to learn more about interactive tables.';\n",
              "          element.innerHTML = '';\n",
              "          dataTable['output_type'] = 'display_data';\n",
              "          await google.colab.output.renderOutput(dataTable, element);\n",
              "          const docLink = document.createElement('div');\n",
              "          docLink.innerHTML = docLinkHtml;\n",
              "          element.appendChild(docLink);\n",
              "        }\n",
              "      </script>\n",
              "    </div>\n",
              "  </div>\n",
              "  "
            ],
            "text/plain": [
              "          Dinner Option  Price  Calories Per Serving  Discount  Servings\n",
              "0          Cheeseburger   8.50                   740      0.25         3\n",
              "1  Chicken Tikka Masala  12.50                   240      0.00         2\n",
              "2               Lasagna  11.00                   408      0.25         2\n",
              "3          Filet Mignon  15.75                   301      0.00         1"
            ]
          },
          "metadata": {},
          "execution_count": 22
        }
      ]
    },
    {
      "cell_type": "code",
      "source": [
        "## calculate the order total using the dataframe \n",
        "np.sum((df['Price'] - df['Price']*df[\"Discount\"]) * df['Servings'])"
      ],
      "metadata": {
        "colab": {
          "base_uri": "https://localhost:8080/"
        },
        "id": "ewpaslFwW89c",
        "outputId": "9ef21e22-2e32-4b05-cfe8-2c029fff01dc"
      },
      "execution_count": null,
      "outputs": [
        {
          "output_type": "execute_result",
          "data": {
            "text/plain": [
              "76.375"
            ]
          },
          "metadata": {},
          "execution_count": 23
        }
      ]
    },
    {
      "cell_type": "markdown",
      "source": [
        "### Pandas is Built On Top of Numpy"
      ],
      "metadata": {
        "id": "75FdHZztr2wq"
      }
    },
    {
      "cell_type": "markdown",
      "source": [
        "> Pandas is built ON TOP of NumPy and **therefore can do many of the same things as numpy arrays!**"
      ],
      "metadata": {
        "id": "thXBOwtBuxSX"
      }
    },
    {
      "cell_type": "code",
      "source": [
        "## you can get the data as an array using .values\n",
        "df.values"
      ],
      "metadata": {
        "colab": {
          "base_uri": "https://localhost:8080/"
        },
        "outputId": "a91172a3-c6d0-4b45-fb14-e835d2ba6653",
        "id": "9GDSusgouxSX"
      },
      "execution_count": null,
      "outputs": [
        {
          "output_type": "execute_result",
          "data": {
            "text/plain": [
              "array([['Cheeseburger', 8.5, 740, 0.25, 3],\n",
              "       ['Chicken Tikka Masala', 12.5, 240, 0.0, 2],\n",
              "       ['Lasagna', 11.0, 408, 0.25, 2],\n",
              "       ['Filet Mignon', 15.75, 301, 0.0, 1]], dtype=object)"
            ]
          },
          "metadata": {},
          "execution_count": 24
        }
      ]
    },
    {
      "cell_type": "code",
      "source": [
        "## what is the average price of our foods?\n",
        "df['Price'].mean()"
      ],
      "metadata": {
        "id": "7ZqGF5R6r_sx",
        "colab": {
          "base_uri": "https://localhost:8080/"
        },
        "outputId": "88a0493c-773d-4d40-ad75-00231a2225b2"
      },
      "execution_count": null,
      "outputs": [
        {
          "output_type": "execute_result",
          "data": {
            "text/plain": [
              "11.9375"
            ]
          },
          "metadata": {},
          "execution_count": 25
        }
      ]
    },
    {
      "cell_type": "code",
      "source": [
        "## how many servings did we order in total?\n",
        "df['Servings'].sum()"
      ],
      "metadata": {
        "colab": {
          "base_uri": "https://localhost:8080/"
        },
        "id": "skQo0y8zvOIL",
        "outputId": "ea234362-3e7e-465d-b2af-28bf996e0610"
      },
      "execution_count": null,
      "outputs": [
        {
          "output_type": "execute_result",
          "data": {
            "text/plain": [
              "8"
            ]
          },
          "metadata": {},
          "execution_count": 26
        }
      ]
    },
    {
      "cell_type": "markdown",
      "source": [
        "> We will talk MUCH more about Pandas and DataFrames next week!"
      ],
      "metadata": {
        "id": "jrBH6PUfuxSY"
      }
    }
  ]
}