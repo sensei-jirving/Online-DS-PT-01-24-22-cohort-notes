{
  "nbformat": 4,
  "nbformat_minor": 0,
  "metadata": {
    "colab": {
      "name": "Intro to Python Packages - Numpy - BLANK.ipynb",
      "provenance": [],
      "collapsed_sections": [],
      "toc_visible": true,
      "authorship_tag": "ABX9TyOYV6aHm7rYIWNUDlsD2jYU",
      "include_colab_link": true
    },
    "kernelspec": {
      "name": "python3",
      "display_name": "Python 3"
    },
    "language_info": {
      "name": "python"
    }
  },
  "cells": [
    {
      "cell_type": "markdown",
      "metadata": {
        "id": "view-in-github",
        "colab_type": "text"
      },
      "source": [
        "<a href=\"https://colab.research.google.com/github/sensei-jirving/Online-DS-PT-01.24.22-cohort-notes/blob/main/Week_01/Lecture_02/Intro_to_Python_Packages_Numpy_BLANK.ipynb\" target=\"_parent\"><img src=\"https://colab.research.google.com/assets/colab-badge.svg\" alt=\"Open In Colab\"/></a>"
      ]
    },
    {
      "cell_type": "markdown",
      "source": [
        "# Intro to Python Packages"
      ],
      "metadata": {
        "id": "jDceHy3PH_QB"
      }
    },
    {
      "cell_type": "markdown",
      "source": [
        "- Python comes with many [Built-In Functions](https://docs.python.org/3/library/functions.html)\n",
        "    - e.g. print, type, range, etc\n",
        "- But **most of the functionality we need as data scientists is not included** in base Python.\n",
        "\n",
        "\n",
        "- We can **download other collections of functions and classes, called Packages** (A.K.A. Libraries A.K.A Modules)\n",
        "    - Python has a Package Index (PyPi) that is basically like an app-store for Python. \n",
        "\n",
        "    - In a code cell, we can install any PyPi packages we need using:\n",
        "        - `!pip <package name>`\n",
        "\n",
        "\n",
        "- **Packages You will Be Using in Stack 1:**\n",
        "    - [Numpy](https://numpy.org/doc/stable/index.html#)\n",
        "    - [Pandas](https://pandas.pydata.org/docs/)\n",
        "    - [Matplotlib](https://matplotlib.org/)\n",
        "    - [Seaborn](https://seaborn.pydata.org/)\n",
        "\n",
        "\n",
        "\n",
        "\n",
        "- Thankfully, Google Colab has most of the packages we need already installed!\n"
      ],
      "metadata": {
        "id": "eOtUhDnCICav"
      }
    },
    {
      "cell_type": "markdown",
      "source": [
        "## Importing Packages & Modules"
      ],
      "metadata": {
        "id": "ORucARYcJ9Oe"
      }
    },
    {
      "cell_type": "markdown",
      "source": [
        "- When we import a package we can either just import it under its full name. \n",
        "```python\n",
        "import numpy\n",
        "```\n",
        "\n",
        "- We can also give it an alias/handle (a short nick-name)\n",
        "```python\n",
        "import numpy as np\n",
        "```"
      ],
      "metadata": {
        "id": "rl-ffvnOJ_iR"
      }
    },
    {
      "cell_type": "code",
      "execution_count": null,
      "metadata": {
        "id": "TIbUuurPH9EM"
      },
      "outputs": [],
      "source": [
        "# import numpy\n",
        "import numpy\n",
        "numpy"
      ]
    },
    {
      "cell_type": "code",
      "source": [
        "## import numpy with an alias\n",
        "import numpy as np\n",
        "np"
      ],
      "metadata": {
        "id": "bTKr8BE7KLdB"
      },
      "execution_count": null,
      "outputs": []
    },
    {
      "cell_type": "code",
      "source": [
        "## functions and classes stored in the package are reference with .indexing\n",
        "np.array"
      ],
      "metadata": {
        "id": "Kn-9sAnxjtjy"
      },
      "execution_count": null,
      "outputs": []
    },
    {
      "cell_type": "markdown",
      "source": [
        "### Submodules"
      ],
      "metadata": {
        "id": "TVX7dlNFKpMK"
      }
    },
    {
      "cell_type": "markdown",
      "source": [
        "- Packages can be made of smaller pieces called submodules. \n",
        "    - Submodules allow functions to be organized in a helpful way.\n",
        "    - Numpy has a submodule called `np.random` that contains functions related to generating or selecting data based on random chance.  \n"
      ],
      "metadata": {
        "id": "l4te96IuKqap"
      }
    },
    {
      "cell_type": "code",
      "source": [
        "## show the np.random module\n",
        "np.random"
      ],
      "metadata": {
        "colab": {
          "base_uri": "https://localhost:8080/"
        },
        "id": "51dlXT12N-nf",
        "outputId": "70d2896c-fffd-4481-ec03-d2b7888be40a"
      },
      "execution_count": null,
      "outputs": [
        {
          "output_type": "execute_result",
          "data": {
            "text/plain": [
              "<module 'numpy.random' from '/usr/local/lib/python3.7/dist-packages/numpy/random/__init__.py'>"
            ]
          },
          "metadata": {},
          "execution_count": 27
        }
      ]
    },
    {
      "cell_type": "code",
      "source": [
        "## Can't choose a dinner option? Let numpy do it!\n",
        "np.random.choice(['Cheeseburger','Chicken Tikka Masala','Lasagna', \"Filet Mignon\"])"
      ],
      "metadata": {
        "colab": {
          "base_uri": "https://localhost:8080/",
          "height": 35
        },
        "id": "sBWTZvRfKjwd",
        "outputId": "b18256c1-8b2b-4391-ccf4-d1f30fabdc19"
      },
      "execution_count": null,
      "outputs": [
        {
          "output_type": "execute_result",
          "data": {
            "application/vnd.google.colaboratory.intrinsic+json": {
              "type": "string"
            },
            "text/plain": [
              "'Cheeseburger'"
            ]
          },
          "metadata": {},
          "execution_count": 26
        }
      ]
    },
    {
      "cell_type": "markdown",
      "source": [
        "# Why NumPy?"
      ],
      "metadata": {
        "id": "8ymQlYpiN-HM"
      }
    },
    {
      "cell_type": "markdown",
      "source": [
        "- Python lists and tuples are not efficient with large amounts of data. \n",
        "- Linear Algebra has a lot of helpful mathmatical manipulations we can use.\n",
        "- We need a way to store our data in an organized linear fashion.\n",
        ">- The solution: numpy arrays!\n",
        "\n"
      ],
      "metadata": {
        "id": "coBbGY-COJr4"
      }
    },
    {
      "cell_type": "markdown",
      "source": [
        "## Working with NumPy Arrays"
      ],
      "metadata": {
        "id": "QXolb_vtUrSE"
      }
    },
    {
      "cell_type": "markdown",
      "source": [
        "\n",
        "- Make a `calories_per_serving` array with the calories per serving:\n",
        "\n",
        "|                      |   Calories Per Serving |\n",
        "|:---------------------|-----------------------:|\n",
        "| Cheeseburger         |                    740 |\n",
        "| Chicken Tikka Masala |                    240 |\n",
        "| Lasagna              |                    408 |\n",
        "| Filet Mignon         |                    301 |\n",
        "\n"
      ],
      "metadata": {
        "id": "rbBeFiXGVtfa"
      }
    },
    {
      "cell_type": "code",
      "source": [
        "## Make a color how many calories are in each>? from www.calorieking.com\n",
        "calories_per_serving = None"
      ],
      "metadata": {
        "id": "uoC40XYeL892"
      },
      "execution_count": null,
      "outputs": []
    },
    {
      "cell_type": "markdown",
      "source": [
        "\n",
        "- Make a `prices` array with ther prices:\n",
        "\n",
        "|                      |   Price |\n",
        "|:---------------------|--------:|\n",
        "| Cheeseburger         |    8.5  |\n",
        "| Chicken Tikka Masala |   12.5  |\n",
        "| Lasagna              |   11    |\n",
        "| Filet Mignon         |   15.75 |\n",
        "\n",
        "\n",
        "    "
      ],
      "metadata": {
        "id": "k3v0559aVvSs"
      }
    },
    {
      "cell_type": "code",
      "source": [
        "# what is the price? https://www.numbeo.com/food-prices/\n",
        "prices = None\n",
        "prices"
      ],
      "metadata": {
        "id": "QSPhonrEMn6r"
      },
      "execution_count": null,
      "outputs": []
    },
    {
      "cell_type": "markdown",
      "source": [
        "### Q1: What would our total calories be if we ate:\n",
        "\n",
        "- 2 servings of Lasagna, 1 filet mignon, and 3 cheesburgers?\n",
        "\n",
        ">Order total = the sum of all prices * number of servings ordered.\n",
        "- Hint: Make a `servings` array."
      ],
      "metadata": {
        "id": "51GDvH2IQfIn"
      }
    },
    {
      "cell_type": "code",
      "source": [
        "# 2 servings of Lasagna and a 1 filet mignon, and 3 cheesburgers?\n",
        "servings = None\n",
        "servings"
      ],
      "metadata": {
        "id": "iKjlCEg0QMph"
      },
      "execution_count": null,
      "outputs": []
    },
    {
      "cell_type": "code",
      "source": [
        "## Calcualte total caloreis\n"
      ],
      "metadata": {
        "colab": {
          "base_uri": "https://localhost:8080/"
        },
        "id": "hJnBORzeWDlG",
        "outputId": "1134eaaf-aa98-4da7-c91a-c3577ed2feb5"
      },
      "execution_count": null,
      "outputs": [
        {
          "output_type": "execute_result",
          "data": {
            "text/plain": [
              "3337"
            ]
          },
          "metadata": {},
          "execution_count": 9
        }
      ]
    },
    {
      "cell_type": "markdown",
      "source": [
        "### Q2: What would our total bill be?"
      ],
      "metadata": {
        "id": "L4G726X2RYkm"
      }
    },
    {
      "cell_type": "code",
      "source": [
        "## calculate the total bill\n"
      ],
      "metadata": {
        "id": "iHet7cI-RURt"
      },
      "execution_count": null,
      "outputs": []
    },
    {
      "cell_type": "markdown",
      "source": [
        "### Q3:  What if we decided to add 2 orders of Tikka Masala?"
      ],
      "metadata": {
        "id": "e_StYO75RwhR"
      }
    },
    {
      "cell_type": "markdown",
      "source": [
        "- Hmmm...what index was Tikka Masala?  🤔"
      ],
      "metadata": {
        "id": "TJTH5t6wiDHg"
      }
    },
    {
      "cell_type": "markdown",
      "source": [
        "### 💡 How to remind ourselves the names/integer index of each item"
      ],
      "metadata": {
        "id": "6Olu3kNRferj"
      }
    },
    {
      "cell_type": "markdown",
      "source": [
        "- Make an `options_array` of the names of the dinner options:\n",
        "    - 'Cheeseburger', 'Chicken Tikka Masala','Lasagna', \"Filet Mignon\"\n",
        "\n"
      ],
      "metadata": {
        "id": "OBtUgeXjUuI1"
      }
    },
    {
      "cell_type": "code",
      "source": [
        "## arrays can store strings\n",
        "options_array = None\n",
        "options_array"
      ],
      "metadata": {
        "id": "myN_qHgzLPLV"
      },
      "execution_count": null,
      "outputs": []
    },
    {
      "cell_type": "markdown",
      "source": [
        "##### Using Enumerate "
      ],
      "metadata": {
        "id": "g6iCTKsCgCrt"
      }
    },
    {
      "cell_type": "markdown",
      "source": [
        "- We can use the `enumerate` function to slice out each dinner option with its integer index.\n"
      ],
      "metadata": {
        "id": "llKdkmfsgJOL"
      }
    },
    {
      "cell_type": "code",
      "source": [
        "## I can't remember what index is what! \n",
        "# help me, enumerate!\n"
      ],
      "metadata": {
        "id": "TjeyGMKQQf3D"
      },
      "execution_count": null,
      "outputs": []
    },
    {
      "cell_type": "markdown",
      "source": [
        "- We will want to re-use this so we can wrap it into a simple function!"
      ],
      "metadata": {
        "id": "dgIyenFxixY1"
      }
    },
    {
      "cell_type": "code",
      "source": [
        "## make the index_report function\n"
      ],
      "metadata": {
        "id": "3n8nhqrxg3_z"
      },
      "execution_count": null,
      "outputs": []
    },
    {
      "cell_type": "markdown",
      "source": [
        "### Q3 Continued: What if we decided to add 2 orders of Tikka Masala?"
      ],
      "metadata": {
        "id": "tLTGHgqpTPaE"
      }
    },
    {
      "cell_type": "code",
      "source": [
        "# run our function"
      ],
      "metadata": {
        "id": "V0UwsY9ni6M3"
      },
      "execution_count": null,
      "outputs": []
    },
    {
      "cell_type": "code",
      "source": [
        "## use the index to replace the value for chicken tikka msas with 2\n"
      ],
      "metadata": {
        "colab": {
          "base_uri": "https://localhost:8080/"
        },
        "id": "xn1omBHvRfi9",
        "outputId": "1183c208-fba9-4110-e4a5-02ccf4229dfb"
      },
      "execution_count": null,
      "outputs": [
        {
          "output_type": "execute_result",
          "data": {
            "text/plain": [
              "array([3, 2, 2, 1])"
            ]
          },
          "metadata": {},
          "execution_count": 15
        }
      ]
    },
    {
      "cell_type": "code",
      "source": [
        "# calculate total bill\n"
      ],
      "metadata": {
        "colab": {
          "base_uri": "https://localhost:8080/"
        },
        "id": "M4aj2mpZRh7k",
        "outputId": "c30a9bb5-d605-44a8-83de-c06614e5ae55"
      },
      "execution_count": null,
      "outputs": [
        {
          "output_type": "execute_result",
          "data": {
            "text/plain": [
              "88.25"
            ]
          },
          "metadata": {},
          "execution_count": 16
        }
      ]
    },
    {
      "cell_type": "markdown",
      "source": [
        "### Q4: What if there were discounted happy hour promotions?\n",
        "- Cheesburgers and Filet Mignon are both 25% off\n",
        "> Hint: make a `discounts` array.\n"
      ],
      "metadata": {
        "id": "_ef8InxlSbVi"
      }
    },
    {
      "cell_type": "code",
      "source": [
        ""
      ],
      "metadata": {
        "id": "J5C0KhBwTXhU"
      },
      "execution_count": null,
      "outputs": []
    },
    {
      "cell_type": "code",
      "source": [
        "## discounts array\n",
        "discounts = None"
      ],
      "metadata": {
        "id": "BLQnc6DsSsQ8"
      },
      "execution_count": null,
      "outputs": []
    },
    {
      "cell_type": "code",
      "source": [
        "## discounted prices\n",
        "discounted_prices = None\n",
        "discounted_prices"
      ],
      "metadata": {
        "id": "SWfIromoTuTL"
      },
      "execution_count": null,
      "outputs": []
    },
    {
      "cell_type": "code",
      "source": [
        "## calculate the total prices with the discounts\n"
      ],
      "metadata": {
        "id": "Gka9-OdhT8-y"
      },
      "execution_count": null,
      "outputs": []
    },
    {
      "cell_type": "markdown",
      "source": [
        "## Wouldn't it be nice...\n",
        ">-  if we had a way to group ALL of this infromation wihtout memorizing indices that was really easiy to visualize?\n",
        "- Hmmm....🤔 - a dictionary might work!\n",
        "\n",
        "- Make a dinner_data dictionary that contains the data from:\n",
        "    - prices\n",
        "    - calories_per_serving\n",
        "    - discounts\n",
        "    - and servings"
      ],
      "metadata": {
        "id": "ejDxOyJTSBTY"
      }
    },
    {
      "cell_type": "code",
      "source": [
        "# We could use a dictionry for Price, Calories per serving, discount, servings\n",
        "dinner_data = {}"
      ],
      "metadata": {
        "id": "91gT7SzktPlM"
      },
      "execution_count": null,
      "outputs": []
    },
    {
      "cell_type": "markdown",
      "source": [
        "- Hmmm, thats **better** but its still really hard see the data aligned."
      ],
      "metadata": {
        "id": "YnJ3SJ30t5x9"
      }
    },
    {
      "cell_type": "markdown",
      "source": [
        "> 🐼 PANDAS TO THE RESCUE!"
      ],
      "metadata": {
        "id": "Trkfs8HoSIxy"
      }
    },
    {
      "cell_type": "code",
      "source": [
        "import pandas as pd"
      ],
      "metadata": {
        "id": "uvyJLJgaUDR3"
      },
      "execution_count": null,
      "outputs": []
    },
    {
      "cell_type": "code",
      "source": [
        "## make a dataframe from our dinner_data\n"
      ],
      "metadata": {
        "id": "kRlnFsWpR8sX"
      },
      "execution_count": null,
      "outputs": []
    },
    {
      "cell_type": "code",
      "source": [
        "## calculate the order total using the dataframe \n"
      ],
      "metadata": {
        "colab": {
          "base_uri": "https://localhost:8080/"
        },
        "id": "ewpaslFwW89c",
        "outputId": "109a2d9d-69e8-4944-ea4e-5f4ba723fda5"
      },
      "execution_count": null,
      "outputs": [
        {
          "output_type": "execute_result",
          "data": {
            "text/plain": [
              "76.375"
            ]
          },
          "metadata": {},
          "execution_count": 23
        }
      ]
    },
    {
      "cell_type": "markdown",
      "source": [
        "### Pandas is Built On Top of Numpy"
      ],
      "metadata": {
        "id": "75FdHZztr2wq"
      }
    },
    {
      "cell_type": "markdown",
      "source": [
        "> Pandas is built ON TOP of NumPy and **therefore can do many of the same things as numpy arrays!**"
      ],
      "metadata": {
        "id": "6J3ttOSPXjBJ"
      }
    },
    {
      "cell_type": "code",
      "source": [
        "## you can get the data as an array using .values\n"
      ],
      "metadata": {
        "id": "0so4uuwuXntT"
      },
      "execution_count": null,
      "outputs": []
    },
    {
      "cell_type": "code",
      "source": [
        "## what is the average price of our foods?\n"
      ],
      "metadata": {
        "id": "7ZqGF5R6r_sx"
      },
      "execution_count": null,
      "outputs": []
    },
    {
      "cell_type": "markdown",
      "source": [
        "> We will talk MUCH more about Pandas and DataFrames next week!"
      ],
      "metadata": {
        "id": "69QRgwUcjQAN"
      }
    }
  ]
}