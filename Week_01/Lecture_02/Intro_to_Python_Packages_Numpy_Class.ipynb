{
  "nbformat": 4,
  "nbformat_minor": 0,
  "metadata": {
    "colab": {
      "name": "Intro to Python Packages - Numpy - Class.ipynb",
      "provenance": [],
      "collapsed_sections": [],
      "toc_visible": true,
      "authorship_tag": "ABX9TyNdRo/XNwqj+PUEPjGBQnwb",
      "include_colab_link": true
    },
    "kernelspec": {
      "name": "python3",
      "display_name": "Python 3"
    },
    "language_info": {
      "name": "python"
    }
  },
  "cells": [
    {
      "cell_type": "markdown",
      "metadata": {
        "id": "view-in-github",
        "colab_type": "text"
      },
      "source": [
        "<a href=\"https://colab.research.google.com/github/sensei-jirving/Online-DS-PT-01.24.22-cohort-notes/blob/main/Week_01/Lecture_02/Intro_to_Python_Packages_Numpy_Class.ipynb\" target=\"_parent\"><img src=\"https://colab.research.google.com/assets/colab-badge.svg\" alt=\"Open In Colab\"/></a>"
      ]
    },
    {
      "cell_type": "markdown",
      "source": [
        "# Intro to Python Packages"
      ],
      "metadata": {
        "id": "jDceHy3PH_QB"
      }
    },
    {
      "cell_type": "markdown",
      "source": [
        "- Python comes with many [Built-In Functions](https://docs.python.org/3/library/functions.html)\n",
        "    - e.g. print, type, range, etc\n",
        "- But **most of the functionality we need as data scientists is not included** in base Python.\n",
        "\n",
        "\n",
        "- We can **download other collections of functions and classes, called Packages** (A.K.A. Libraries A.K.A Modules)\n",
        "    - Python has a Package Index (PyPi) that is basically like an app-store for Python. \n",
        "\n",
        "    - In a code cell, we can install any PyPi packages we need using:\n",
        "        - `!pip <package name>`\n",
        "\n",
        "\n",
        "- **Packages You will Be Using in Stack 1:**\n",
        "    - [Numpy](https://numpy.org/doc/stable/index.html#)\n",
        "    - [Pandas](https://pandas.pydata.org/docs/)\n",
        "    - [Matplotlib](https://matplotlib.org/)\n",
        "    - [Seaborn](https://seaborn.pydata.org/)\n",
        "\n",
        "\n",
        "\n",
        "\n",
        "- Thankfully, Google Colab has most of the packages we need already installed!\n"
      ],
      "metadata": {
        "id": "eOtUhDnCICav"
      }
    },
    {
      "cell_type": "markdown",
      "source": [
        "## Importing Packages & Modules"
      ],
      "metadata": {
        "id": "ORucARYcJ9Oe"
      }
    },
    {
      "cell_type": "markdown",
      "source": [
        "- When we import a package we can either just import it under its full name. \n",
        "```python\n",
        "import numpy\n",
        "```\n",
        "\n",
        "- We can also give it an alias/handle (a short nick-name)\n",
        "```python\n",
        "import numpy as np\n",
        "```"
      ],
      "metadata": {
        "id": "rl-ffvnOJ_iR"
      }
    },
    {
      "cell_type": "code",
      "execution_count": null,
      "metadata": {
        "id": "TIbUuurPH9EM",
        "colab": {
          "base_uri": "https://localhost:8080/"
        },
        "outputId": "623eaad0-344a-4b38-9406-e78c34b2e338"
      },
      "outputs": [
        {
          "output_type": "execute_result",
          "data": {
            "text/plain": [
              "<module 'numpy' from '/usr/local/lib/python3.7/dist-packages/numpy/__init__.py'>"
            ]
          },
          "metadata": {},
          "execution_count": 1
        }
      ],
      "source": [
        "# import numpy\n",
        "import numpy\n",
        "numpy"
      ]
    },
    {
      "cell_type": "code",
      "source": [
        "## import numpy with an alias\n",
        "import numpy as np\n",
        "np"
      ],
      "metadata": {
        "id": "bTKr8BE7KLdB",
        "colab": {
          "base_uri": "https://localhost:8080/"
        },
        "outputId": "82aa4e66-452a-4859-a597-439784f0e87c"
      },
      "execution_count": null,
      "outputs": [
        {
          "output_type": "execute_result",
          "data": {
            "text/plain": [
              "<module 'numpy' from '/usr/local/lib/python3.7/dist-packages/numpy/__init__.py'>"
            ]
          },
          "metadata": {},
          "execution_count": 2
        }
      ]
    },
    {
      "cell_type": "code",
      "source": [
        "## functions and classes stored in the package are reference with .indexing\n",
        "np.array"
      ],
      "metadata": {
        "id": "Kn-9sAnxjtjy",
        "colab": {
          "base_uri": "https://localhost:8080/"
        },
        "outputId": "fce39412-25fa-4fe6-aad7-20b36baaacee"
      },
      "execution_count": null,
      "outputs": [
        {
          "output_type": "execute_result",
          "data": {
            "text/plain": [
              "<function numpy.array>"
            ]
          },
          "metadata": {},
          "execution_count": 3
        }
      ]
    },
    {
      "cell_type": "code",
      "source": [
        "# !pip install missingno"
      ],
      "metadata": {
        "id": "XbuGfq6gQZFC"
      },
      "execution_count": null,
      "outputs": []
    },
    {
      "cell_type": "markdown",
      "source": [
        "### Submodules"
      ],
      "metadata": {
        "id": "TVX7dlNFKpMK"
      }
    },
    {
      "cell_type": "markdown",
      "source": [
        "- Packages can be made of smaller pieces called submodules. \n",
        "    - Submodules allow functions to be organized in a helpful way.\n",
        "    - Numpy has a submodule called `np.random` that contains functions related to generating or selecting data based on random chance.  \n"
      ],
      "metadata": {
        "id": "l4te96IuKqap"
      }
    },
    {
      "cell_type": "code",
      "source": [
        "## show the np.random module\n",
        "# np.random."
      ],
      "metadata": {
        "colab": {
          "base_uri": "https://localhost:8080/"
        },
        "id": "51dlXT12N-nf",
        "outputId": "eed0d31e-e74f-4bba-afbe-0c5b855c9159"
      },
      "execution_count": null,
      "outputs": [
        {
          "output_type": "execute_result",
          "data": {
            "text/plain": [
              "<module 'numpy.random' from '/usr/local/lib/python3.7/dist-packages/numpy/random/__init__.py'>"
            ]
          },
          "metadata": {},
          "execution_count": 8
        }
      ]
    },
    {
      "cell_type": "code",
      "source": [
        "## Can't choose a dinner option? Let numpy do it!\n",
        "np.random.choice(['Cheeseburger','Chicken Tikka Masala','Lasagna', \"Filet Mignon\"])"
      ],
      "metadata": {
        "colab": {
          "base_uri": "https://localhost:8080/",
          "height": 35
        },
        "id": "sBWTZvRfKjwd",
        "outputId": "c0774374-0f8d-4f80-ab3e-8ab2650e448a"
      },
      "execution_count": null,
      "outputs": [
        {
          "output_type": "execute_result",
          "data": {
            "application/vnd.google.colaboratory.intrinsic+json": {
              "type": "string"
            },
            "text/plain": [
              "'Filet Mignon'"
            ]
          },
          "metadata": {},
          "execution_count": 9
        }
      ]
    },
    {
      "cell_type": "markdown",
      "source": [
        "# Why NumPy?"
      ],
      "metadata": {
        "id": "8ymQlYpiN-HM"
      }
    },
    {
      "cell_type": "markdown",
      "source": [
        "- Python lists and tuples are not efficient with large amounts of data. \n",
        "- Linear Algebra has a lot of helpful mathmatical manipulations we can use.\n",
        "- We need a way to store our data in an organized linear fashion.\n",
        ">- The solution: numpy arrays!\n",
        "\n"
      ],
      "metadata": {
        "id": "coBbGY-COJr4"
      }
    },
    {
      "cell_type": "markdown",
      "source": [
        "## Working with NumPy Arrays"
      ],
      "metadata": {
        "id": "QXolb_vtUrSE"
      }
    },
    {
      "cell_type": "markdown",
      "source": [
        "\n",
        "- Make a `calories_per_serving` array with the calories per serving:\n",
        "\n",
        "|                      |   Calories Per Serving |\n",
        "|:---------------------|-----------------------:|\n",
        "| Cheeseburger         |                    740 |\n",
        "| Chicken Tikka Masala |                    240 |\n",
        "| Lasagna              |                    408 |\n",
        "| Filet Mignon         |                    301 |\n",
        "\n"
      ],
      "metadata": {
        "id": "rbBeFiXGVtfa"
      }
    },
    {
      "cell_type": "code",
      "source": [
        "## Make a color how many calories are in each>? from www.calorieking.com\n",
        "calories_per_serving = np.array([740,240,408,301])\n",
        "calories_per_serving"
      ],
      "metadata": {
        "id": "uoC40XYeL892",
        "colab": {
          "base_uri": "https://localhost:8080/"
        },
        "outputId": "f46ae825-fb45-4b04-c912-a2aaf75721b7"
      },
      "execution_count": null,
      "outputs": [
        {
          "output_type": "execute_result",
          "data": {
            "text/plain": [
              "array([740, 240, 408, 301])"
            ]
          },
          "metadata": {},
          "execution_count": 11
        }
      ]
    },
    {
      "cell_type": "markdown",
      "source": [
        "\n",
        "- Make a `prices` array with ther prices:\n",
        "\n",
        "|                      |   Price |\n",
        "|:---------------------|--------:|\n",
        "| Cheeseburger         |    8.5  |\n",
        "| Chicken Tikka Masala |   12.5  |\n",
        "| Lasagna              |   11    |\n",
        "| Filet Mignon         |   15.75 |\n",
        "\n",
        "\n",
        "    "
      ],
      "metadata": {
        "id": "k3v0559aVvSs"
      }
    },
    {
      "cell_type": "code",
      "source": [
        "# what is the price? https://www.numbeo.com/food-prices/\n",
        "prices = np.array([8.5,12.50,11, 15.75])\n",
        "prices"
      ],
      "metadata": {
        "id": "QSPhonrEMn6r",
        "colab": {
          "base_uri": "https://localhost:8080/"
        },
        "outputId": "f6fe3969-cfca-4b6b-e4b4-6dd361422b6c"
      },
      "execution_count": null,
      "outputs": [
        {
          "output_type": "execute_result",
          "data": {
            "text/plain": [
              "array([ 8.5 , 12.5 , 11.  , 15.75])"
            ]
          },
          "metadata": {},
          "execution_count": 12
        }
      ]
    },
    {
      "cell_type": "markdown",
      "source": [
        "### 💡 How to remind ourselves the names/integer index of each item"
      ],
      "metadata": {
        "id": "6Olu3kNRferj"
      }
    },
    {
      "cell_type": "markdown",
      "source": [
        "- Make an `options_array` of the names of the dinner options:\n",
        "    - 'Cheeseburger', 'Chicken Tikka Masala','Lasagna', \"Filet Mignon\"\n",
        "\n"
      ],
      "metadata": {
        "id": "OBtUgeXjUuI1"
      }
    },
    {
      "cell_type": "code",
      "source": [
        "## arrays can store strings\n",
        "options_array = np.array(['Cheeseburger','Chicken Tikka Masala','Lasagna', \"Filet Mignon\"])\n",
        "options_array"
      ],
      "metadata": {
        "id": "myN_qHgzLPLV",
        "colab": {
          "base_uri": "https://localhost:8080/"
        },
        "outputId": "47cd2410-081e-4c69-813d-612875810f32"
      },
      "execution_count": null,
      "outputs": [
        {
          "output_type": "execute_result",
          "data": {
            "text/plain": [
              "array(['Cheeseburger', 'Chicken Tikka Masala', 'Lasagna', 'Filet Mignon'],\n",
              "      dtype='<U20')"
            ]
          },
          "metadata": {},
          "execution_count": 13
        }
      ]
    },
    {
      "cell_type": "markdown",
      "source": [
        "##### Using Enumerate "
      ],
      "metadata": {
        "id": "g6iCTKsCgCrt"
      }
    },
    {
      "cell_type": "markdown",
      "source": [
        "- We can use the `enumerate` function to slice out each dinner option with its integer index.\n"
      ],
      "metadata": {
        "id": "llKdkmfsgJOL"
      }
    },
    {
      "cell_type": "code",
      "source": [
        "## I can't remember what index is what! \n",
        "# help me, enumerate!\n",
        "for i,option in enumerate(options_array):\n",
        "    print(f\"{i}: {option}\")\n",
        "    # print(\"{}: {}\".format(i, option))"
      ],
      "metadata": {
        "id": "TjeyGMKQQf3D",
        "colab": {
          "base_uri": "https://localhost:8080/"
        },
        "outputId": "25f4e772-e4e8-4669-c5a7-b40d25ceae9c"
      },
      "execution_count": null,
      "outputs": [
        {
          "output_type": "stream",
          "name": "stdout",
          "text": [
            "0: Cheeseburger\n",
            "1: Chicken Tikka Masala\n",
            "2: Lasagna\n",
            "3: Filet Mignon\n"
          ]
        }
      ]
    },
    {
      "cell_type": "markdown",
      "source": [
        "- We will want to re-use this so we can wrap it into a simple function!"
      ],
      "metadata": {
        "id": "dgIyenFxixY1"
      }
    },
    {
      "cell_type": "code",
      "source": [
        "## make the index_report function\n",
        "\n",
        "def index_report():\n",
        "    for i,option in enumerate(options_array):\n",
        "        print(f\"{i}: {option}\")"
      ],
      "metadata": {
        "id": "3n8nhqrxg3_z"
      },
      "execution_count": null,
      "outputs": []
    },
    {
      "cell_type": "markdown",
      "source": [
        "### Q1: What would our total calories be if we ate:\n",
        "\n",
        "- 2 servings of Lasagna, 1 filet mignon, and 3 cheesburgers?\n",
        "\n",
        ">Order total = the sum of all calories * number of servings ordered.\n",
        "- Hint: Make a `servings` array."
      ],
      "metadata": {
        "id": "51GDvH2IQfIn"
      }
    },
    {
      "cell_type": "code",
      "source": [
        "index_report()"
      ],
      "metadata": {
        "colab": {
          "base_uri": "https://localhost:8080/"
        },
        "id": "qOyIikujSinv",
        "outputId": "bf0e5ea7-9f4c-4c3c-b248-b2fc664080fd"
      },
      "execution_count": null,
      "outputs": [
        {
          "output_type": "stream",
          "name": "stdout",
          "text": [
            "0: Cheeseburger\n",
            "1: Chicken Tikka Masala\n",
            "2: Lasagna\n",
            "3: Filet Mignon\n"
          ]
        }
      ]
    },
    {
      "cell_type": "code",
      "source": [
        "# 2 servings of Lasagna and a 1 filet mignon, and 3 cheesburgers?\n",
        "servings = np.array([3,0,2,1])\n",
        "servings"
      ],
      "metadata": {
        "id": "iKjlCEg0QMph",
        "colab": {
          "base_uri": "https://localhost:8080/"
        },
        "outputId": "ee7116b6-e0e9-4bfe-8c4c-fbc44ce30242"
      },
      "execution_count": null,
      "outputs": [
        {
          "output_type": "execute_result",
          "data": {
            "text/plain": [
              "array([3, 0, 2, 1])"
            ]
          },
          "metadata": {},
          "execution_count": 17
        }
      ]
    },
    {
      "cell_type": "code",
      "source": [
        "## Calcualte total caloreis\n",
        "(servings * calories_per_serving).sum()"
      ],
      "metadata": {
        "colab": {
          "base_uri": "https://localhost:8080/"
        },
        "id": "hJnBORzeWDlG",
        "outputId": "f78c92a6-95fd-4629-b2d6-59f6b4d479ae"
      },
      "execution_count": null,
      "outputs": [
        {
          "output_type": "execute_result",
          "data": {
            "text/plain": [
              "3337"
            ]
          },
          "metadata": {},
          "execution_count": 21
        }
      ]
    },
    {
      "cell_type": "markdown",
      "source": [
        "### Q2: What would our total bill be?"
      ],
      "metadata": {
        "id": "L4G726X2RYkm"
      }
    },
    {
      "cell_type": "code",
      "source": [
        "## calculate the total bill\n",
        "(prices * servings).sum()"
      ],
      "metadata": {
        "id": "iHet7cI-RURt",
        "colab": {
          "base_uri": "https://localhost:8080/"
        },
        "outputId": "8f18f96a-9100-465f-e827-30defe220e07"
      },
      "execution_count": null,
      "outputs": [
        {
          "output_type": "execute_result",
          "data": {
            "text/plain": [
              "63.25"
            ]
          },
          "metadata": {},
          "execution_count": 23
        }
      ]
    },
    {
      "cell_type": "markdown",
      "source": [
        "### Q3:  What if we decided to add 2 orders of Tikka Masala?"
      ],
      "metadata": {
        "id": "e_StYO75RwhR"
      }
    },
    {
      "cell_type": "markdown",
      "source": [
        "- Hmmm...what index was Tikka Masala?  🤔"
      ],
      "metadata": {
        "id": "TJTH5t6wiDHg"
      }
    },
    {
      "cell_type": "markdown",
      "source": [
        "### Q3 Continued: What if we decided to add 2 orders of Tikka Masala?"
      ],
      "metadata": {
        "id": "tLTGHgqpTPaE"
      }
    },
    {
      "cell_type": "code",
      "source": [
        "# run our function\n",
        "index_report()"
      ],
      "metadata": {
        "id": "V0UwsY9ni6M3",
        "colab": {
          "base_uri": "https://localhost:8080/"
        },
        "outputId": "72114e42-9912-4304-c11a-7b8911af9b71"
      },
      "execution_count": null,
      "outputs": [
        {
          "output_type": "stream",
          "name": "stdout",
          "text": [
            "0: Cheeseburger\n",
            "1: Chicken Tikka Masala\n",
            "2: Lasagna\n",
            "3: Filet Mignon\n"
          ]
        }
      ]
    },
    {
      "cell_type": "code",
      "source": [
        "## use the index to replace the value for chicken tikka msas with 2\n",
        "servings[1] = 2\n",
        "servings"
      ],
      "metadata": {
        "colab": {
          "base_uri": "https://localhost:8080/"
        },
        "id": "xn1omBHvRfi9",
        "outputId": "f8d8ddc9-3504-43bb-83c8-20d8afe07029"
      },
      "execution_count": null,
      "outputs": [
        {
          "output_type": "execute_result",
          "data": {
            "text/plain": [
              "array([3, 2, 2, 1])"
            ]
          },
          "metadata": {},
          "execution_count": 25
        }
      ]
    },
    {
      "cell_type": "code",
      "source": [
        "# calculate total bill\n",
        "(prices * servings).sum()"
      ],
      "metadata": {
        "colab": {
          "base_uri": "https://localhost:8080/"
        },
        "id": "M4aj2mpZRh7k",
        "outputId": "ab39f763-fcd2-4203-9649-cd6eafafcfc8"
      },
      "execution_count": null,
      "outputs": [
        {
          "output_type": "execute_result",
          "data": {
            "text/plain": [
              "88.25"
            ]
          },
          "metadata": {},
          "execution_count": 26
        }
      ]
    },
    {
      "cell_type": "markdown",
      "source": [
        "### Q4: What if there were discounted happy hour promotions?\n",
        "- Cheesburgers and Filet Mignon are both 25% off\n",
        "> Hint: make a `discounts` array.\n"
      ],
      "metadata": {
        "id": "_ef8InxlSbVi"
      }
    },
    {
      "cell_type": "code",
      "source": [
        "prices"
      ],
      "metadata": {
        "id": "J5C0KhBwTXhU",
        "colab": {
          "base_uri": "https://localhost:8080/"
        },
        "outputId": "701923ef-2672-4b38-b1aa-1a78893de65d"
      },
      "execution_count": null,
      "outputs": [
        {
          "output_type": "execute_result",
          "data": {
            "text/plain": [
              "array([ 8.5 , 12.5 , 11.  , 15.75])"
            ]
          },
          "metadata": {},
          "execution_count": 29
        }
      ]
    },
    {
      "cell_type": "code",
      "source": [
        "## discounts array\n",
        "discounts = np.array([.25,0,.25,0])\n",
        "discounts"
      ],
      "metadata": {
        "id": "BLQnc6DsSsQ8",
        "colab": {
          "base_uri": "https://localhost:8080/"
        },
        "outputId": "566d191e-308b-4378-f057-71126cadde03"
      },
      "execution_count": null,
      "outputs": [
        {
          "output_type": "execute_result",
          "data": {
            "text/plain": [
              "array([0.25, 0.  , 0.25, 0.  ])"
            ]
          },
          "metadata": {},
          "execution_count": 27
        }
      ]
    },
    {
      "cell_type": "code",
      "source": [
        "## discounted prices\n",
        "discounted_prices = prices -discounts*prices\n",
        "discounted_prices"
      ],
      "metadata": {
        "id": "SWfIromoTuTL",
        "colab": {
          "base_uri": "https://localhost:8080/"
        },
        "outputId": "855b2dce-c5cc-426a-a601-8e14d4d93c71"
      },
      "execution_count": null,
      "outputs": [
        {
          "output_type": "execute_result",
          "data": {
            "text/plain": [
              "array([ 6.375, 12.5  ,  8.25 , 15.75 ])"
            ]
          },
          "metadata": {},
          "execution_count": 30
        }
      ]
    },
    {
      "cell_type": "code",
      "source": [
        "## calculate the total prices with the discounts\n",
        "(discounted_prices * servings).sum()"
      ],
      "metadata": {
        "id": "Gka9-OdhT8-y",
        "colab": {
          "base_uri": "https://localhost:8080/"
        },
        "outputId": "1f41d456-3983-44ba-d61e-88003e39f2f6"
      },
      "execution_count": null,
      "outputs": [
        {
          "output_type": "execute_result",
          "data": {
            "text/plain": [
              "76.375"
            ]
          },
          "metadata": {},
          "execution_count": 31
        }
      ]
    },
    {
      "cell_type": "markdown",
      "source": [
        "## Wouldn't it be nice...\n",
        ">-  if we had a way to group ALL of this infromation wihtout memorizing indices that was really easiy to visualize?\n",
        "- Hmmm....🤔 - a dictionary might work!\n",
        "\n",
        "- Make a dinner_data dictionary that contains the data from:\n",
        "    - prices\n",
        "    - calories_per_serving\n",
        "    - discounts\n",
        "    - and servings"
      ],
      "metadata": {
        "id": "ejDxOyJTSBTY"
      }
    },
    {
      "cell_type": "code",
      "source": [
        "# We could use a dictionry for Price, Calories per serving, discount, servings\n",
        "dinner_data = {\"Dish\":options_array,\n",
        "    \"prices\":prices,\n",
        "               'discounts':discounts,\n",
        "               'calories':calories_per_serving,\n",
        "               'servings':servings,\n",
        "               }\n",
        "dinner_data\n"
      ],
      "metadata": {
        "id": "91gT7SzktPlM",
        "colab": {
          "base_uri": "https://localhost:8080/"
        },
        "outputId": "3f8d09f5-3f4e-4034-f109-af316dc14716"
      },
      "execution_count": null,
      "outputs": [
        {
          "output_type": "execute_result",
          "data": {
            "text/plain": [
              "{'Dish': array(['Cheeseburger', 'Chicken Tikka Masala', 'Lasagna', 'Filet Mignon'],\n",
              "       dtype='<U20'),\n",
              " 'calories': array([740, 240, 408, 301]),\n",
              " 'discounts': array([0.25, 0.  , 0.25, 0.  ]),\n",
              " 'prices': array([ 8.5 , 12.5 , 11.  , 15.75]),\n",
              " 'servings': array([3, 2, 2, 1])}"
            ]
          },
          "metadata": {},
          "execution_count": 36
        }
      ]
    },
    {
      "cell_type": "markdown",
      "source": [
        "- Hmmm, thats **better** but its still really hard see the data aligned."
      ],
      "metadata": {
        "id": "YnJ3SJ30t5x9"
      }
    },
    {
      "cell_type": "markdown",
      "source": [
        "> 🐼 PANDAS TO THE RESCUE!"
      ],
      "metadata": {
        "id": "Trkfs8HoSIxy"
      }
    },
    {
      "cell_type": "code",
      "source": [
        "import pandas as pd"
      ],
      "metadata": {
        "id": "uvyJLJgaUDR3"
      },
      "execution_count": null,
      "outputs": []
    },
    {
      "cell_type": "code",
      "source": [
        "## make a dataframe from our dinner_data\n",
        "df =pd.DataFrame(dinner_data)\n",
        "df = df.set_index('Dish')\n",
        "df"
      ],
      "metadata": {
        "id": "kRlnFsWpR8sX",
        "colab": {
          "base_uri": "https://localhost:8080/",
          "height": 206
        },
        "outputId": "5f15fefc-68a6-4522-ee26-71a12c20a128"
      },
      "execution_count": null,
      "outputs": [
        {
          "output_type": "execute_result",
          "data": {
            "text/html": [
              "\n",
              "  <div id=\"df-d1d8ddd7-e2fb-4fd3-8238-92f8495a9270\">\n",
              "    <div class=\"colab-df-container\">\n",
              "      <div>\n",
              "<style scoped>\n",
              "    .dataframe tbody tr th:only-of-type {\n",
              "        vertical-align: middle;\n",
              "    }\n",
              "\n",
              "    .dataframe tbody tr th {\n",
              "        vertical-align: top;\n",
              "    }\n",
              "\n",
              "    .dataframe thead th {\n",
              "        text-align: right;\n",
              "    }\n",
              "</style>\n",
              "<table border=\"1\" class=\"dataframe\">\n",
              "  <thead>\n",
              "    <tr style=\"text-align: right;\">\n",
              "      <th></th>\n",
              "      <th>prices</th>\n",
              "      <th>discounts</th>\n",
              "      <th>calories</th>\n",
              "      <th>servings</th>\n",
              "    </tr>\n",
              "    <tr>\n",
              "      <th>Dish</th>\n",
              "      <th></th>\n",
              "      <th></th>\n",
              "      <th></th>\n",
              "      <th></th>\n",
              "    </tr>\n",
              "  </thead>\n",
              "  <tbody>\n",
              "    <tr>\n",
              "      <th>Cheeseburger</th>\n",
              "      <td>8.50</td>\n",
              "      <td>0.25</td>\n",
              "      <td>740</td>\n",
              "      <td>3</td>\n",
              "    </tr>\n",
              "    <tr>\n",
              "      <th>Chicken Tikka Masala</th>\n",
              "      <td>12.50</td>\n",
              "      <td>0.00</td>\n",
              "      <td>240</td>\n",
              "      <td>2</td>\n",
              "    </tr>\n",
              "    <tr>\n",
              "      <th>Lasagna</th>\n",
              "      <td>11.00</td>\n",
              "      <td>0.25</td>\n",
              "      <td>408</td>\n",
              "      <td>2</td>\n",
              "    </tr>\n",
              "    <tr>\n",
              "      <th>Filet Mignon</th>\n",
              "      <td>15.75</td>\n",
              "      <td>0.00</td>\n",
              "      <td>301</td>\n",
              "      <td>1</td>\n",
              "    </tr>\n",
              "  </tbody>\n",
              "</table>\n",
              "</div>\n",
              "      <button class=\"colab-df-convert\" onclick=\"convertToInteractive('df-d1d8ddd7-e2fb-4fd3-8238-92f8495a9270')\"\n",
              "              title=\"Convert this dataframe to an interactive table.\"\n",
              "              style=\"display:none;\">\n",
              "        \n",
              "  <svg xmlns=\"http://www.w3.org/2000/svg\" height=\"24px\"viewBox=\"0 0 24 24\"\n",
              "       width=\"24px\">\n",
              "    <path d=\"M0 0h24v24H0V0z\" fill=\"none\"/>\n",
              "    <path d=\"M18.56 5.44l.94 2.06.94-2.06 2.06-.94-2.06-.94-.94-2.06-.94 2.06-2.06.94zm-11 1L8.5 8.5l.94-2.06 2.06-.94-2.06-.94L8.5 2.5l-.94 2.06-2.06.94zm10 10l.94 2.06.94-2.06 2.06-.94-2.06-.94-.94-2.06-.94 2.06-2.06.94z\"/><path d=\"M17.41 7.96l-1.37-1.37c-.4-.4-.92-.59-1.43-.59-.52 0-1.04.2-1.43.59L10.3 9.45l-7.72 7.72c-.78.78-.78 2.05 0 2.83L4 21.41c.39.39.9.59 1.41.59.51 0 1.02-.2 1.41-.59l7.78-7.78 2.81-2.81c.8-.78.8-2.07 0-2.86zM5.41 20L4 18.59l7.72-7.72 1.47 1.35L5.41 20z\"/>\n",
              "  </svg>\n",
              "      </button>\n",
              "      \n",
              "  <style>\n",
              "    .colab-df-container {\n",
              "      display:flex;\n",
              "      flex-wrap:wrap;\n",
              "      gap: 12px;\n",
              "    }\n",
              "\n",
              "    .colab-df-convert {\n",
              "      background-color: #E8F0FE;\n",
              "      border: none;\n",
              "      border-radius: 50%;\n",
              "      cursor: pointer;\n",
              "      display: none;\n",
              "      fill: #1967D2;\n",
              "      height: 32px;\n",
              "      padding: 0 0 0 0;\n",
              "      width: 32px;\n",
              "    }\n",
              "\n",
              "    .colab-df-convert:hover {\n",
              "      background-color: #E2EBFA;\n",
              "      box-shadow: 0px 1px 2px rgba(60, 64, 67, 0.3), 0px 1px 3px 1px rgba(60, 64, 67, 0.15);\n",
              "      fill: #174EA6;\n",
              "    }\n",
              "\n",
              "    [theme=dark] .colab-df-convert {\n",
              "      background-color: #3B4455;\n",
              "      fill: #D2E3FC;\n",
              "    }\n",
              "\n",
              "    [theme=dark] .colab-df-convert:hover {\n",
              "      background-color: #434B5C;\n",
              "      box-shadow: 0px 1px 3px 1px rgba(0, 0, 0, 0.15);\n",
              "      filter: drop-shadow(0px 1px 2px rgba(0, 0, 0, 0.3));\n",
              "      fill: #FFFFFF;\n",
              "    }\n",
              "  </style>\n",
              "\n",
              "      <script>\n",
              "        const buttonEl =\n",
              "          document.querySelector('#df-d1d8ddd7-e2fb-4fd3-8238-92f8495a9270 button.colab-df-convert');\n",
              "        buttonEl.style.display =\n",
              "          google.colab.kernel.accessAllowed ? 'block' : 'none';\n",
              "\n",
              "        async function convertToInteractive(key) {\n",
              "          const element = document.querySelector('#df-d1d8ddd7-e2fb-4fd3-8238-92f8495a9270');\n",
              "          const dataTable =\n",
              "            await google.colab.kernel.invokeFunction('convertToInteractive',\n",
              "                                                     [key], {});\n",
              "          if (!dataTable) return;\n",
              "\n",
              "          const docLinkHtml = 'Like what you see? Visit the ' +\n",
              "            '<a target=\"_blank\" href=https://colab.research.google.com/notebooks/data_table.ipynb>data table notebook</a>'\n",
              "            + ' to learn more about interactive tables.';\n",
              "          element.innerHTML = '';\n",
              "          dataTable['output_type'] = 'display_data';\n",
              "          await google.colab.output.renderOutput(dataTable, element);\n",
              "          const docLink = document.createElement('div');\n",
              "          docLink.innerHTML = docLinkHtml;\n",
              "          element.appendChild(docLink);\n",
              "        }\n",
              "      </script>\n",
              "    </div>\n",
              "  </div>\n",
              "  "
            ],
            "text/plain": [
              "                      prices  discounts  calories  servings\n",
              "Dish                                                       \n",
              "Cheeseburger            8.50       0.25       740         3\n",
              "Chicken Tikka Masala   12.50       0.00       240         2\n",
              "Lasagna                11.00       0.25       408         2\n",
              "Filet Mignon           15.75       0.00       301         1"
            ]
          },
          "metadata": {},
          "execution_count": 41
        }
      ]
    },
    {
      "cell_type": "code",
      "source": [
        "\n",
        "df.index"
      ],
      "metadata": {
        "colab": {
          "base_uri": "https://localhost:8080/"
        },
        "id": "uj-WtgyQU5Qb",
        "outputId": "672c78e6-7a08-47a8-8e8b-5866b206e72b"
      },
      "execution_count": null,
      "outputs": [
        {
          "output_type": "execute_result",
          "data": {
            "text/plain": [
              "Index(['Cheeseburger', 'Chicken Tikka Masala', 'Lasagna', 'Filet Mignon'], dtype='object', name='Dish')"
            ]
          },
          "metadata": {},
          "execution_count": 42
        }
      ]
    },
    {
      "cell_type": "code",
      "source": [
        "## loc select row, column\n",
        "df.loc['Cheeseburger','prices']"
      ],
      "metadata": {
        "colab": {
          "base_uri": "https://localhost:8080/"
        },
        "id": "lORksQJcU7GM",
        "outputId": "89575402-8da0-4879-c7fe-51d2c2e0873e"
      },
      "execution_count": null,
      "outputs": [
        {
          "output_type": "execute_result",
          "data": {
            "text/plain": [
              "8.5"
            ]
          },
          "metadata": {},
          "execution_count": 43
        }
      ]
    },
    {
      "cell_type": "code",
      "source": [
        "## just slicing col\n",
        "df['prices']"
      ],
      "metadata": {
        "colab": {
          "base_uri": "https://localhost:8080/"
        },
        "id": "7EbpXfi9VkzA",
        "outputId": "101d90fa-3a50-4792-939e-dde8996da7c2"
      },
      "execution_count": null,
      "outputs": [
        {
          "output_type": "execute_result",
          "data": {
            "text/plain": [
              "Dish\n",
              "Cheeseburger             8.50\n",
              "Chicken Tikka Masala    12.50\n",
              "Lasagna                 11.00\n",
              "Filet Mignon            15.75\n",
              "Name: prices, dtype: float64"
            ]
          },
          "metadata": {},
          "execution_count": 51
        }
      ]
    },
    {
      "cell_type": "code",
      "source": [
        "## calculate the order total using the dataframe \n",
        "df"
      ],
      "metadata": {
        "colab": {
          "base_uri": "https://localhost:8080/",
          "height": 206
        },
        "id": "ewpaslFwW89c",
        "outputId": "427f0df8-4132-4ceb-f26b-16be00969c89"
      },
      "execution_count": null,
      "outputs": [
        {
          "output_type": "execute_result",
          "data": {
            "text/html": [
              "\n",
              "  <div id=\"df-44312184-b6b0-4cd0-8556-6f46d343416e\">\n",
              "    <div class=\"colab-df-container\">\n",
              "      <div>\n",
              "<style scoped>\n",
              "    .dataframe tbody tr th:only-of-type {\n",
              "        vertical-align: middle;\n",
              "    }\n",
              "\n",
              "    .dataframe tbody tr th {\n",
              "        vertical-align: top;\n",
              "    }\n",
              "\n",
              "    .dataframe thead th {\n",
              "        text-align: right;\n",
              "    }\n",
              "</style>\n",
              "<table border=\"1\" class=\"dataframe\">\n",
              "  <thead>\n",
              "    <tr style=\"text-align: right;\">\n",
              "      <th></th>\n",
              "      <th>prices</th>\n",
              "      <th>discounts</th>\n",
              "      <th>calories</th>\n",
              "      <th>servings</th>\n",
              "    </tr>\n",
              "    <tr>\n",
              "      <th>Dish</th>\n",
              "      <th></th>\n",
              "      <th></th>\n",
              "      <th></th>\n",
              "      <th></th>\n",
              "    </tr>\n",
              "  </thead>\n",
              "  <tbody>\n",
              "    <tr>\n",
              "      <th>Cheeseburger</th>\n",
              "      <td>8.50</td>\n",
              "      <td>0.25</td>\n",
              "      <td>740</td>\n",
              "      <td>3</td>\n",
              "    </tr>\n",
              "    <tr>\n",
              "      <th>Chicken Tikka Masala</th>\n",
              "      <td>12.50</td>\n",
              "      <td>0.00</td>\n",
              "      <td>240</td>\n",
              "      <td>2</td>\n",
              "    </tr>\n",
              "    <tr>\n",
              "      <th>Lasagna</th>\n",
              "      <td>11.00</td>\n",
              "      <td>0.25</td>\n",
              "      <td>408</td>\n",
              "      <td>2</td>\n",
              "    </tr>\n",
              "    <tr>\n",
              "      <th>Filet Mignon</th>\n",
              "      <td>15.75</td>\n",
              "      <td>0.00</td>\n",
              "      <td>301</td>\n",
              "      <td>1</td>\n",
              "    </tr>\n",
              "  </tbody>\n",
              "</table>\n",
              "</div>\n",
              "      <button class=\"colab-df-convert\" onclick=\"convertToInteractive('df-44312184-b6b0-4cd0-8556-6f46d343416e')\"\n",
              "              title=\"Convert this dataframe to an interactive table.\"\n",
              "              style=\"display:none;\">\n",
              "        \n",
              "  <svg xmlns=\"http://www.w3.org/2000/svg\" height=\"24px\"viewBox=\"0 0 24 24\"\n",
              "       width=\"24px\">\n",
              "    <path d=\"M0 0h24v24H0V0z\" fill=\"none\"/>\n",
              "    <path d=\"M18.56 5.44l.94 2.06.94-2.06 2.06-.94-2.06-.94-.94-2.06-.94 2.06-2.06.94zm-11 1L8.5 8.5l.94-2.06 2.06-.94-2.06-.94L8.5 2.5l-.94 2.06-2.06.94zm10 10l.94 2.06.94-2.06 2.06-.94-2.06-.94-.94-2.06-.94 2.06-2.06.94z\"/><path d=\"M17.41 7.96l-1.37-1.37c-.4-.4-.92-.59-1.43-.59-.52 0-1.04.2-1.43.59L10.3 9.45l-7.72 7.72c-.78.78-.78 2.05 0 2.83L4 21.41c.39.39.9.59 1.41.59.51 0 1.02-.2 1.41-.59l7.78-7.78 2.81-2.81c.8-.78.8-2.07 0-2.86zM5.41 20L4 18.59l7.72-7.72 1.47 1.35L5.41 20z\"/>\n",
              "  </svg>\n",
              "      </button>\n",
              "      \n",
              "  <style>\n",
              "    .colab-df-container {\n",
              "      display:flex;\n",
              "      flex-wrap:wrap;\n",
              "      gap: 12px;\n",
              "    }\n",
              "\n",
              "    .colab-df-convert {\n",
              "      background-color: #E8F0FE;\n",
              "      border: none;\n",
              "      border-radius: 50%;\n",
              "      cursor: pointer;\n",
              "      display: none;\n",
              "      fill: #1967D2;\n",
              "      height: 32px;\n",
              "      padding: 0 0 0 0;\n",
              "      width: 32px;\n",
              "    }\n",
              "\n",
              "    .colab-df-convert:hover {\n",
              "      background-color: #E2EBFA;\n",
              "      box-shadow: 0px 1px 2px rgba(60, 64, 67, 0.3), 0px 1px 3px 1px rgba(60, 64, 67, 0.15);\n",
              "      fill: #174EA6;\n",
              "    }\n",
              "\n",
              "    [theme=dark] .colab-df-convert {\n",
              "      background-color: #3B4455;\n",
              "      fill: #D2E3FC;\n",
              "    }\n",
              "\n",
              "    [theme=dark] .colab-df-convert:hover {\n",
              "      background-color: #434B5C;\n",
              "      box-shadow: 0px 1px 3px 1px rgba(0, 0, 0, 0.15);\n",
              "      filter: drop-shadow(0px 1px 2px rgba(0, 0, 0, 0.3));\n",
              "      fill: #FFFFFF;\n",
              "    }\n",
              "  </style>\n",
              "\n",
              "      <script>\n",
              "        const buttonEl =\n",
              "          document.querySelector('#df-44312184-b6b0-4cd0-8556-6f46d343416e button.colab-df-convert');\n",
              "        buttonEl.style.display =\n",
              "          google.colab.kernel.accessAllowed ? 'block' : 'none';\n",
              "\n",
              "        async function convertToInteractive(key) {\n",
              "          const element = document.querySelector('#df-44312184-b6b0-4cd0-8556-6f46d343416e');\n",
              "          const dataTable =\n",
              "            await google.colab.kernel.invokeFunction('convertToInteractive',\n",
              "                                                     [key], {});\n",
              "          if (!dataTable) return;\n",
              "\n",
              "          const docLinkHtml = 'Like what you see? Visit the ' +\n",
              "            '<a target=\"_blank\" href=https://colab.research.google.com/notebooks/data_table.ipynb>data table notebook</a>'\n",
              "            + ' to learn more about interactive tables.';\n",
              "          element.innerHTML = '';\n",
              "          dataTable['output_type'] = 'display_data';\n",
              "          await google.colab.output.renderOutput(dataTable, element);\n",
              "          const docLink = document.createElement('div');\n",
              "          docLink.innerHTML = docLinkHtml;\n",
              "          element.appendChild(docLink);\n",
              "        }\n",
              "      </script>\n",
              "    </div>\n",
              "  </div>\n",
              "  "
            ],
            "text/plain": [
              "                      prices  discounts  calories  servings\n",
              "Dish                                                       \n",
              "Cheeseburger            8.50       0.25       740         3\n",
              "Chicken Tikka Masala   12.50       0.00       240         2\n",
              "Lasagna                11.00       0.25       408         2\n",
              "Filet Mignon           15.75       0.00       301         1"
            ]
          },
          "metadata": {},
          "execution_count": 44
        }
      ]
    },
    {
      "cell_type": "code",
      "source": [
        "df['discounted prices'] =df['prices'] - df['prices']* df['discounts']\n",
        "df"
      ],
      "metadata": {
        "colab": {
          "base_uri": "https://localhost:8080/",
          "height": 206
        },
        "id": "IMVtFXxPV5zm",
        "outputId": "219e5553-bfa9-4dc5-90e6-678190dece2d"
      },
      "execution_count": null,
      "outputs": [
        {
          "output_type": "execute_result",
          "data": {
            "text/html": [
              "\n",
              "  <div id=\"df-66b40038-1f0c-49e6-a5d2-d95e1541bf00\">\n",
              "    <div class=\"colab-df-container\">\n",
              "      <div>\n",
              "<style scoped>\n",
              "    .dataframe tbody tr th:only-of-type {\n",
              "        vertical-align: middle;\n",
              "    }\n",
              "\n",
              "    .dataframe tbody tr th {\n",
              "        vertical-align: top;\n",
              "    }\n",
              "\n",
              "    .dataframe thead th {\n",
              "        text-align: right;\n",
              "    }\n",
              "</style>\n",
              "<table border=\"1\" class=\"dataframe\">\n",
              "  <thead>\n",
              "    <tr style=\"text-align: right;\">\n",
              "      <th></th>\n",
              "      <th>prices</th>\n",
              "      <th>discounts</th>\n",
              "      <th>calories</th>\n",
              "      <th>servings</th>\n",
              "      <th>discounted prices</th>\n",
              "    </tr>\n",
              "    <tr>\n",
              "      <th>Dish</th>\n",
              "      <th></th>\n",
              "      <th></th>\n",
              "      <th></th>\n",
              "      <th></th>\n",
              "      <th></th>\n",
              "    </tr>\n",
              "  </thead>\n",
              "  <tbody>\n",
              "    <tr>\n",
              "      <th>Cheeseburger</th>\n",
              "      <td>8.50</td>\n",
              "      <td>0.25</td>\n",
              "      <td>740</td>\n",
              "      <td>3</td>\n",
              "      <td>6.375</td>\n",
              "    </tr>\n",
              "    <tr>\n",
              "      <th>Chicken Tikka Masala</th>\n",
              "      <td>12.50</td>\n",
              "      <td>0.00</td>\n",
              "      <td>240</td>\n",
              "      <td>2</td>\n",
              "      <td>12.500</td>\n",
              "    </tr>\n",
              "    <tr>\n",
              "      <th>Lasagna</th>\n",
              "      <td>11.00</td>\n",
              "      <td>0.25</td>\n",
              "      <td>408</td>\n",
              "      <td>2</td>\n",
              "      <td>8.250</td>\n",
              "    </tr>\n",
              "    <tr>\n",
              "      <th>Filet Mignon</th>\n",
              "      <td>15.75</td>\n",
              "      <td>0.00</td>\n",
              "      <td>301</td>\n",
              "      <td>1</td>\n",
              "      <td>15.750</td>\n",
              "    </tr>\n",
              "  </tbody>\n",
              "</table>\n",
              "</div>\n",
              "      <button class=\"colab-df-convert\" onclick=\"convertToInteractive('df-66b40038-1f0c-49e6-a5d2-d95e1541bf00')\"\n",
              "              title=\"Convert this dataframe to an interactive table.\"\n",
              "              style=\"display:none;\">\n",
              "        \n",
              "  <svg xmlns=\"http://www.w3.org/2000/svg\" height=\"24px\"viewBox=\"0 0 24 24\"\n",
              "       width=\"24px\">\n",
              "    <path d=\"M0 0h24v24H0V0z\" fill=\"none\"/>\n",
              "    <path d=\"M18.56 5.44l.94 2.06.94-2.06 2.06-.94-2.06-.94-.94-2.06-.94 2.06-2.06.94zm-11 1L8.5 8.5l.94-2.06 2.06-.94-2.06-.94L8.5 2.5l-.94 2.06-2.06.94zm10 10l.94 2.06.94-2.06 2.06-.94-2.06-.94-.94-2.06-.94 2.06-2.06.94z\"/><path d=\"M17.41 7.96l-1.37-1.37c-.4-.4-.92-.59-1.43-.59-.52 0-1.04.2-1.43.59L10.3 9.45l-7.72 7.72c-.78.78-.78 2.05 0 2.83L4 21.41c.39.39.9.59 1.41.59.51 0 1.02-.2 1.41-.59l7.78-7.78 2.81-2.81c.8-.78.8-2.07 0-2.86zM5.41 20L4 18.59l7.72-7.72 1.47 1.35L5.41 20z\"/>\n",
              "  </svg>\n",
              "      </button>\n",
              "      \n",
              "  <style>\n",
              "    .colab-df-container {\n",
              "      display:flex;\n",
              "      flex-wrap:wrap;\n",
              "      gap: 12px;\n",
              "    }\n",
              "\n",
              "    .colab-df-convert {\n",
              "      background-color: #E8F0FE;\n",
              "      border: none;\n",
              "      border-radius: 50%;\n",
              "      cursor: pointer;\n",
              "      display: none;\n",
              "      fill: #1967D2;\n",
              "      height: 32px;\n",
              "      padding: 0 0 0 0;\n",
              "      width: 32px;\n",
              "    }\n",
              "\n",
              "    .colab-df-convert:hover {\n",
              "      background-color: #E2EBFA;\n",
              "      box-shadow: 0px 1px 2px rgba(60, 64, 67, 0.3), 0px 1px 3px 1px rgba(60, 64, 67, 0.15);\n",
              "      fill: #174EA6;\n",
              "    }\n",
              "\n",
              "    [theme=dark] .colab-df-convert {\n",
              "      background-color: #3B4455;\n",
              "      fill: #D2E3FC;\n",
              "    }\n",
              "\n",
              "    [theme=dark] .colab-df-convert:hover {\n",
              "      background-color: #434B5C;\n",
              "      box-shadow: 0px 1px 3px 1px rgba(0, 0, 0, 0.15);\n",
              "      filter: drop-shadow(0px 1px 2px rgba(0, 0, 0, 0.3));\n",
              "      fill: #FFFFFF;\n",
              "    }\n",
              "  </style>\n",
              "\n",
              "      <script>\n",
              "        const buttonEl =\n",
              "          document.querySelector('#df-66b40038-1f0c-49e6-a5d2-d95e1541bf00 button.colab-df-convert');\n",
              "        buttonEl.style.display =\n",
              "          google.colab.kernel.accessAllowed ? 'block' : 'none';\n",
              "\n",
              "        async function convertToInteractive(key) {\n",
              "          const element = document.querySelector('#df-66b40038-1f0c-49e6-a5d2-d95e1541bf00');\n",
              "          const dataTable =\n",
              "            await google.colab.kernel.invokeFunction('convertToInteractive',\n",
              "                                                     [key], {});\n",
              "          if (!dataTable) return;\n",
              "\n",
              "          const docLinkHtml = 'Like what you see? Visit the ' +\n",
              "            '<a target=\"_blank\" href=https://colab.research.google.com/notebooks/data_table.ipynb>data table notebook</a>'\n",
              "            + ' to learn more about interactive tables.';\n",
              "          element.innerHTML = '';\n",
              "          dataTable['output_type'] = 'display_data';\n",
              "          await google.colab.output.renderOutput(dataTable, element);\n",
              "          const docLink = document.createElement('div');\n",
              "          docLink.innerHTML = docLinkHtml;\n",
              "          element.appendChild(docLink);\n",
              "        }\n",
              "      </script>\n",
              "    </div>\n",
              "  </div>\n",
              "  "
            ],
            "text/plain": [
              "                      prices  discounts  calories  servings  discounted prices\n",
              "Dish                                                                          \n",
              "Cheeseburger            8.50       0.25       740         3              6.375\n",
              "Chicken Tikka Masala   12.50       0.00       240         2             12.500\n",
              "Lasagna                11.00       0.25       408         2              8.250\n",
              "Filet Mignon           15.75       0.00       301         1             15.750"
            ]
          },
          "metadata": {},
          "execution_count": 52
        }
      ]
    },
    {
      "cell_type": "code",
      "source": [
        "(df['discounted prices'] * df['servings']).sum()"
      ],
      "metadata": {
        "colab": {
          "base_uri": "https://localhost:8080/"
        },
        "id": "LE3-Wl1hVHEG",
        "outputId": "35fd6f58-1c46-4031-f323-c7167a668d99"
      },
      "execution_count": null,
      "outputs": [
        {
          "output_type": "execute_result",
          "data": {
            "text/plain": [
              "76.375"
            ]
          },
          "metadata": {},
          "execution_count": 55
        }
      ]
    },
    {
      "cell_type": "markdown",
      "source": [
        "### Pandas is Built On Top of Numpy"
      ],
      "metadata": {
        "id": "75FdHZztr2wq"
      }
    },
    {
      "cell_type": "markdown",
      "source": [
        "> Pandas is built ON TOP of NumPy and **therefore can do many of the same things as numpy arrays!**"
      ],
      "metadata": {
        "id": "6J3ttOSPXjBJ"
      }
    },
    {
      "cell_type": "code",
      "source": [
        "## you can get the data as an array using .values\n",
        "df.values"
      ],
      "metadata": {
        "id": "0so4uuwuXntT",
        "colab": {
          "base_uri": "https://localhost:8080/"
        },
        "outputId": "81768e2f-672f-4502-ac60-4ec6a89a99b9"
      },
      "execution_count": null,
      "outputs": [
        {
          "output_type": "execute_result",
          "data": {
            "text/plain": [
              "array([[8.500e+00, 2.500e-01, 7.400e+02, 3.000e+00],\n",
              "       [1.250e+01, 0.000e+00, 2.400e+02, 2.000e+00],\n",
              "       [1.100e+01, 2.500e-01, 4.080e+02, 2.000e+00],\n",
              "       [1.575e+01, 0.000e+00, 3.010e+02, 1.000e+00]])"
            ]
          },
          "metadata": {},
          "execution_count": 47
        }
      ]
    },
    {
      "cell_type": "code",
      "source": [
        "## what is the average price of our foods?\n",
        "df['prices'].sum()"
      ],
      "metadata": {
        "id": "7ZqGF5R6r_sx",
        "colab": {
          "base_uri": "https://localhost:8080/"
        },
        "outputId": "a12f4a1f-89c0-457d-d01b-99ed8f0d06f1"
      },
      "execution_count": null,
      "outputs": [
        {
          "output_type": "execute_result",
          "data": {
            "text/plain": [
              "47.75"
            ]
          },
          "metadata": {},
          "execution_count": 49
        }
      ]
    },
    {
      "cell_type": "code",
      "source": [
        "## how many servings did we order in total?\n"
      ],
      "metadata": {
        "id": "4_wtQ6novbFu"
      },
      "execution_count": null,
      "outputs": []
    },
    {
      "cell_type": "markdown",
      "source": [
        "> We will talk MUCH more about Pandas and DataFrames next week!"
      ],
      "metadata": {
        "id": "69QRgwUcjQAN"
      }
    }
  ]
}