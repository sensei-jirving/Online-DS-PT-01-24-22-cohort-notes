{
  "nbformat": 4,
  "nbformat_minor": 0,
  "metadata": {
    "colab": {
      "name": "01.24.22 Week1, Lecture 1 - OOP Activity.ipynb",
      "provenance": [],
      "collapsed_sections": [],
      "authorship_tag": "ABX9TyNF6xkc3XnS/kPzfWoKd2I6",
      "include_colab_link": true
    },
    "kernelspec": {
      "name": "python3",
      "display_name": "Python 3"
    },
    "language_info": {
      "name": "python"
    }
  },
  "cells": [
    {
      "cell_type": "markdown",
      "metadata": {
        "id": "view-in-github",
        "colab_type": "text"
      },
      "source": [
        "<a href=\"https://colab.research.google.com/github/sensei-jirving/Online-DS-PT-01.24.22-cohort-notes/blob/main/Week_01/Lecture_01/01_24_22_Week1%2C_Lecture_1_OOP_Activity.ipynb\" target=\"_parent\"><img src=\"https://colab.research.google.com/assets/colab-badge.svg\" alt=\"Open In Colab\"/></a>"
      ]
    },
    {
      "cell_type": "markdown",
      "metadata": {
        "id": "sQXwDNeDVnhG"
      },
      "source": [
        ">- <font color=red>**FIRST Make a copy of this notebook in your drive!**<font>\n",
        "    - `File` > `Save a Copy in Drive`\n",
        "- By default, Colab **saves all notebooks to a new \"Colab Notebooks\" folder** in Google Drive. \n",
        "    - Take a moment to organize it into a folder where you will be able to find it for future reference.  \n",
        "    - These actions can be done through the 'File' menu above > Select 'Move'\n",
        "___"
      ]
    },
    {
      "cell_type": "markdown",
      "source": [
        "# Week1, Lecture 1 - Group Activity"
      ],
      "metadata": {
        "id": "cuRTj9HR2Ly5"
      }
    },
    {
      "cell_type": "markdown",
      "source": [
        "- 01.24.22 cohort\n",
        "- 01/25/22 Lecture"
      ],
      "metadata": {
        "id": "nbCUZjLa22xP"
      }
    },
    {
      "cell_type": "markdown",
      "source": [
        "# Cohort-Mate Introductions via Object-Oriented-Programming (OOP)"
      ],
      "metadata": {
        "id": "RB_Lxd89-X-E"
      }
    },
    {
      "cell_type": "markdown",
      "source": [
        "- **To help us introduce ourselves and get used to breakut groups. We are going to do a short activity with less coding than usual.**\n",
        "\n",
        "\n",
        "- We have a `Person` class pre-written below.\n",
        "- Each instance of a `Person` has:\n",
        "    - `name`\n",
        "    - have a `fav_color`\n",
        "    - have a `fav_food`\n",
        "    - have a `location`\n",
        "    - It has a method called `.hello()` that will print out: \"👋 Hello, world! My name is \\<NAME> and I currently live in \\<LOCATION> My favorite color is FAV COLOR\n",
        "and my favorite food is a \\<FAV FOOD>.\"\n",
        "___\n"
      ],
      "metadata": {
        "id": "GtqA9LX9-dP2"
      }
    },
    {
      "cell_type": "markdown",
      "source": [
        ">## Your Tasks:\n",
        "1. [ ] Practice annotating a shared screen.\n",
        "2. [ ] Practice creating instances of classes.\n",
        "3. [ ] Share the final notebook so each member can save a copy"
      ],
      "metadata": {
        "id": "7Z0gVB47yyu0"
      }
    },
    {
      "cell_type": "markdown",
      "source": [
        "## Task 1: Practice Annotating the Screen"
      ],
      "metadata": {
        "id": "VrMeU0wTy68J"
      }
    },
    {
      "cell_type": "markdown",
      "source": [
        "- When someone is sharing their screen, the zoom toolbar becomes a very thin mostly-green bar that contains important options.\n",
        "\n",
        "\n",
        "- To Annotate: \n",
        "    - Click on the \"View Options\" part of the bar \n",
        "    - Select \"Annotate\"\n",
        "    - Then, on the image below, each person should circle the number that represents their python comfort/experience level. \n",
        "        - 1 = total beginner, haven't even seen a line of code before.\n",
        "        - 10 = I already use python professionally.\n",
        "    - **Remember the number that you circled!**\n",
        "\n",
        "\n",
        "    \n",
        "<img src=\"https://raw.githubusercontent.com/jirvingphd/data-and-assets/main/ds-fundamentals/zoom_view_options.png\" width=80%>"
      ],
      "metadata": {
        "id": "wKpipqGdy8-p"
      }
    },
    {
      "cell_type": "markdown",
      "source": [
        "## Task 2: Practice Creating an Instance of a Class"
      ],
      "metadata": {
        "id": "_vg1dbvwzzkB"
      }
    },
    {
      "cell_type": "markdown",
      "source": [
        "> - **Your task is to USE the provided `Person` class and make an instance/variable for each person in your group and run the `.hello()` method.** \n"
      ],
      "metadata": {
        "id": "0lo-v-i5yY85"
      }
    },
    {
      "cell_type": "code",
      "source": [
        "## DO NOT CHANGE THIS CELL!\n",
        "class Person:\n",
        "    def __init__(self, name,fav_color,fav_food,location,python_rating):\n",
        "        \"\"\"\n",
        "        Creates a Person with name, favorite color, food, location, and python comfort\n",
        "        \n",
        "        Arguments:\n",
        "            name (str): Person's name\n",
        "            fav_color (str): favorite color\n",
        "            fav_food (str): favorite food\n",
        "            location (str): where do they live?\n",
        "            python_rating (int): what rating did they give in the annotation exercise?\n",
        "\n",
        "        \"\"\"\n",
        "        self.name = name\n",
        "        self.color = fav_color\n",
        "        self.food = fav_food\n",
        "        self.location = location\n",
        "        self.python_rating = python_rating\n",
        "\n",
        "    def hello(self):\n",
        "        msg = f\"\"\"👋 Hello, world! My name is {self.name} and I currently live in {self.location}. My favorite color is {self.color}\n",
        "and my favorite food is {self.food}. My comfort level with Python is {self.python_rating} out of 10.\\n\"\"\"\n",
        "        print(msg)"
      ],
      "metadata": {
        "id": "7dQ8TXGMMabd"
      },
      "execution_count": null,
      "outputs": []
    },
    {
      "cell_type": "markdown",
      "source": [
        "\n",
        "- Example usage:\n",
        "\n",
        "<img src=\"https://raw.githubusercontent.com/jirvingphd/data-and-assets/main/ds-fundamentals/week-1-lecture-1-demo-person.png\" width=60%>\n"
      ],
      "metadata": {
        "id": "5iFl4SY3uKCn"
      }
    },
    {
      "cell_type": "code",
      "source": [
        "## person 1 \n"
      ],
      "metadata": {
        "id": "oxmj2y-1vYbQ"
      },
      "execution_count": null,
      "outputs": []
    },
    {
      "cell_type": "code",
      "source": [
        "# person 2\n"
      ],
      "metadata": {
        "id": "1zVOsbsptWBy"
      },
      "execution_count": null,
      "outputs": []
    },
    {
      "cell_type": "code",
      "source": [
        "#person 3"
      ],
      "metadata": {
        "id": "RHSplaDP_AY1"
      },
      "execution_count": null,
      "outputs": []
    },
    {
      "cell_type": "code",
      "source": [
        "#person 4"
      ],
      "metadata": {
        "id": "8SjOKz_JuJxq"
      },
      "execution_count": null,
      "outputs": []
    },
    {
      "cell_type": "markdown",
      "source": [
        "# Task 3: Sharing your final notebook\n"
      ],
      "metadata": {
        "id": "5wQl7HV6v-MQ"
      }
    },
    {
      "cell_type": "markdown",
      "source": [
        "- First, make sure to **save the final notebook.**\n",
        "    - `File` > `Save & Pin Revision`\n",
        "\n",
        "- Now, make sure to **give your group the share url to the final notebook** so they can make their own copy.\n",
        "- Click `Share` on the top right of the notebook.\n",
        "    - Select \"Anyone with the link\" is a \"Viewer\" (see screenshot below).\n",
        "\n",
        "    <img src=\"https://raw.githubusercontent.com/jirvingphd/data-and-assets/main/ds-fundamentals/share_url.png\" width=60%>\n",
        "\n",
        "- Now share via the Zoom chat window ( also under the View Options menu with the annotate option)\n"
      ],
      "metadata": {
        "id": "82cFd2Am1zDA"
      }
    }
  ]
}