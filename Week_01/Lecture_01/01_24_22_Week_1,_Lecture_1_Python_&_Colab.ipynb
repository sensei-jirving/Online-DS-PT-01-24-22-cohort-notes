{
  "cells": [
    {
      "cell_type": "markdown",
      "metadata": {
        "id": "view-in-github",
        "colab_type": "text"
      },
      "source": [
        "<a href=\"https://colab.research.google.com/github/sensei-jirving/Online-DS-PT-01.24.22-cohort-notes/blob/main/Week_01/Lecture_01/01_24_22_Week_1%2C_Lecture_1_Python_%26_Colab.ipynb\" target=\"_parent\"><img src=\"https://colab.research.google.com/assets/colab-badge.svg\" alt=\"Open In Colab\"/></a>"
      ]
    },
    {
      "cell_type": "markdown",
      "metadata": {
        "id": "96UgJeWLPpyG"
      },
      "source": [
        "# Week 1, Lecture 1: Python Vocabulary & OOP"
      ]
    },
    {
      "cell_type": "markdown",
      "source": [
        "- 01.24.22 Cohort\n",
        "- 01/25/22"
      ],
      "metadata": {
        "id": "o9O27CTbZMHv"
      }
    },
    {
      "cell_type": "markdown",
      "metadata": {
        "id": "6AZh3d2hPpyJ"
      },
      "source": [
        "## Topics"
      ]
    },
    {
      "cell_type": "markdown",
      "metadata": {
        "ExecuteTime": {
          "end_time": "2020-03-04T22:48:55.304853Z",
          "start_time": "2020-03-04T22:48:55.299479Z"
        },
        "id": "jBulbLFXPpyJ"
      },
      "source": [
        "- Python Vocabulary\n",
        "- Object-Oriented Programming\n"
      ]
    },
    {
      "cell_type": "markdown",
      "metadata": {
        "ExecuteTime": {
          "end_time": "2020-03-04T22:50:13.264632Z",
          "start_time": "2020-03-04T22:50:13.257093Z"
        },
        "id": "YVHOV5TXPpyN"
      },
      "source": [
        "# PYTHON VOCABULARY"
      ]
    },
    {
      "cell_type": "markdown",
      "source": [
        "## Basic Python Concepts"
      ],
      "metadata": {
        "id": "7kverhfnau2t"
      }
    },
    {
      "cell_type": "markdown",
      "source": [
        "### Variables"
      ],
      "metadata": {
        "id": "2HxceDLraP-u"
      }
    },
    {
      "cell_type": "markdown",
      "metadata": {
        "ExecuteTime": {
          "end_time": "2020-03-04T22:50:13.264632Z",
          "start_time": "2020-03-04T22:50:13.257093Z"
        },
        "id": "_1MI_PeNPpyN"
      },
      "source": [
        "- **Variable**: \n",
        "    - piece of data stored in memory under a specific name.\n",
        "\n",
        "- Variable Types:\n",
        "    - strings\n",
        "    - lists\n",
        "    - dictionaries\n",
        "    - tuples\n",
        "    - integers\n"
      ]
    },
    {
      "cell_type": "code",
      "source": [
        "## making a string variable\n",
        "str_var = 'this is a string'\n",
        "str_var"
      ],
      "metadata": {
        "id": "w-yq6_3paE6b"
      },
      "execution_count": null,
      "outputs": []
    },
    {
      "cell_type": "markdown",
      "source": [
        "### Functions"
      ],
      "metadata": {
        "id": "aHm-IcqnaRhb"
      }
    },
    {
      "cell_type": "markdown",
      "source": [
        "- **Function**:\n",
        "    - A\"self contained\" block of code that accomplishes a specific task.\n",
        "    - e.g.:\n",
        "        - `type` function \n",
        "        - `print` function\n",
        "    \n",
        "    - When we want to use a functions we need to add`()` and whatever variables the function needs:\n",
        "        - `print(var)`\n",
        "    \n"
      ],
      "metadata": {
        "id": "wZ5JkB8xZaOH"
      }
    },
    {
      "cell_type": "code",
      "source": [
        "# strings\n",
        "str_var = 'this is a string'\n",
        "type(str_var)"
      ],
      "metadata": {
        "id": "THKKiZ5_OlCv"
      },
      "execution_count": null,
      "outputs": []
    },
    {
      "cell_type": "code",
      "source": [
        "# list\n",
        "list_var = [1,4,'cheese',19]\n",
        "type(list_var)"
      ],
      "metadata": {
        "id": "GyPsY86aOoF7"
      },
      "execution_count": null,
      "outputs": []
    },
    {
      "cell_type": "code",
      "source": [
        "# tuples\n",
        "tuple_var = (1,4,'cheese',19)\n",
        "type(tuple_var)"
      ],
      "metadata": {
        "id": "Om6skL9JOwBF"
      },
      "execution_count": null,
      "outputs": []
    },
    {
      "cell_type": "code",
      "source": [
        "# dictionary\n",
        "dict_var = {'Name':'James',\n",
        "            \"age\":35,\n",
        "            \"location\":\"Baltimore, MD\"}\n",
        "type(dict_var)"
      ],
      "metadata": {
        "id": "AN9I-bFFPbBN"
      },
      "execution_count": null,
      "outputs": []
    },
    {
      "cell_type": "markdown",
      "source": [
        "### Iterables"
      ],
      "metadata": {
        "id": "N-WByDeXaTEJ"
      }
    },
    {
      "cell_type": "markdown",
      "source": [
        "\n",
        "- **Iterable**: \n",
        "    - a variable type that holds multiple entries. \n",
        "        - Any variable you can loop through is an iterable:\n",
        "            - Lists\n",
        "            - Dictionaries\n",
        "            - Tuples\n",
        "\n"
      ],
      "metadata": {
        "id": "CqtuXgKAPrNg"
      }
    },
    {
      "cell_type": "code",
      "source": [
        "# loop through list\n",
        "for item in list_var:\n",
        "    print(item)"
      ],
      "metadata": {
        "id": "nRKG2EuCPtFD"
      },
      "execution_count": null,
      "outputs": []
    },
    {
      "cell_type": "code",
      "source": [
        "# loop through dict keys\n",
        "for key in dict_var:\n",
        "    print(item)"
      ],
      "metadata": {
        "id": "YDRsDDRmP2uZ"
      },
      "execution_count": null,
      "outputs": []
    },
    {
      "cell_type": "code",
      "source": [
        "# loop through keys AND values.\n",
        "for key,value in dict_var.items():\n",
        "    print(f\"{key} = {value}\")"
      ],
      "metadata": {
        "id": "XDTzCBzFP4TI"
      },
      "execution_count": null,
      "outputs": []
    },
    {
      "cell_type": "markdown",
      "source": [
        "### Slicing/Indexing"
      ],
      "metadata": {
        "id": "4SIMVLCSaVlv"
      }
    },
    {
      "cell_type": "markdown",
      "source": [
        "\n",
        "\n",
        "- **Slicing/Indexing**: \n",
        "    - Extracting the desired information from an iterable.\n",
        "    - We use `[ ]` to indicate the item we want using its index\n",
        "        - For lists, tuples, index = integer.\n",
        "        - For dictionaries,  index = keys\n",
        "\n",
        "\n"
      ],
      "metadata": {
        "id": "0pej_VIuOkQL"
      }
    },
    {
      "cell_type": "code",
      "source": [
        "## grab the first item from list_var\n",
        "list_var[0]"
      ],
      "metadata": {
        "id": "pjAOzDiUP1lR"
      },
      "execution_count": null,
      "outputs": []
    },
    {
      "cell_type": "code",
      "source": [
        "## grab the last item from list_var\n",
        "list_var[-1]"
      ],
      "metadata": {
        "id": "91NEBgBmQjbA"
      },
      "execution_count": null,
      "outputs": []
    },
    {
      "cell_type": "code",
      "source": [
        "## What value is stored under the \"location\" key\n",
        "dict_var['location']"
      ],
      "metadata": {
        "id": "nJWtMPM2UTVT"
      },
      "execution_count": null,
      "outputs": []
    },
    {
      "cell_type": "markdown",
      "source": [
        "# OOP-Specific Concepts/Vocab"
      ],
      "metadata": {
        "id": "ddJfOo55acVq"
      }
    },
    {
      "cell_type": "markdown",
      "source": [
        "### Classes, Instances, and Objects\n",
        "\n"
      ],
      "metadata": {
        "id": "SLFkCUI_azbA"
      }
    },
    {
      "cell_type": "markdown",
      "source": [
        "- Classes are **blueprints** for different types of objects.\n"
      ],
      "metadata": {
        "id": "m-DsHvZla3dM"
      }
    },
    {
      "cell_type": "code",
      "source": [
        "help(str)"
      ],
      "metadata": {
        "id": "Eh6IuGARbCeh"
      },
      "execution_count": null,
      "outputs": []
    },
    {
      "cell_type": "markdown",
      "source": [
        "\n",
        "- **\"Object\"/Instance**: \n",
        "    - an individual item built from a class.\n"
      ],
      "metadata": {
        "id": "xxH5qqm_Q6PK"
      }
    },
    {
      "cell_type": "code",
      "source": [
        "my_str = \"I love python!\"\n",
        "type(my_str)"
      ],
      "metadata": {
        "id": "Sn9K31SKbHSG"
      },
      "execution_count": null,
      "outputs": []
    },
    {
      "cell_type": "markdown",
      "source": [
        "\n",
        "- **Method**: a function stored inside an object/class.\n",
        "    - Needs to be called  `()`\n",
        "    \n"
      ],
      "metadata": {
        "id": "xqXi66NLbNA6"
      }
    },
    {
      "cell_type": "code",
      "source": [
        "my_str.upper()"
      ],
      "metadata": {
        "id": "3pD-dPerbO-B"
      },
      "execution_count": null,
      "outputs": []
    },
    {
      "cell_type": "code",
      "source": [
        "my_str.split()"
      ],
      "metadata": {
        "id": "Dk_3fS_ubx2f"
      },
      "execution_count": null,
      "outputs": []
    },
    {
      "cell_type": "code",
      "source": [
        "my_str.replace('!','.')"
      ],
      "metadata": {
        "id": "F9R-GDsxbzJS"
      },
      "execution_count": null,
      "outputs": []
    },
    {
      "cell_type": "markdown",
      "source": [
        "\n",
        "- **Attribute**: \n",
        "    - a variable stored inside an object/class\n",
        "    - No `()` needed.\n",
        "\n"
      ],
      "metadata": {
        "id": "pPYx5Pe7RuVp"
      }
    },
    {
      "cell_type": "code",
      "source": [
        "# we will revisit attributes next class with Pandas DataFrames"
      ],
      "metadata": {
        "id": "6ZBu1vcxbie-"
      },
      "execution_count": null,
      "outputs": []
    }
  ],
  "metadata": {
    "interpreter": {
      "hash": "c15d3b161d9e31d3c14101c293414707f40e59d6cae0bbd6b708ca3d1e942f6f"
    },
    "kernelspec": {
      "display_name": "Python 3",
      "language": "python",
      "name": "python3"
    },
    "language_info": {
      "codemirror_mode": {
        "name": "ipython",
        "version": 3
      },
      "file_extension": ".py",
      "mimetype": "text/x-python",
      "name": "python",
      "nbconvert_exporter": "python",
      "pygments_lexer": "ipython3",
      "version": "3.8.5"
    },
    "toc": {
      "base_numbering": 1,
      "nav_menu": {},
      "number_sections": false,
      "sideBar": true,
      "skip_h1_title": false,
      "title_cell": "Table of Contents",
      "title_sidebar": "Contents",
      "toc_cell": false,
      "toc_position": {
        "height": "calc(100% - 180px)",
        "left": "10px",
        "top": "150px",
        "width": "256px"
      },
      "toc_section_display": true,
      "toc_window_display": false
    },
    "colab": {
      "name": "01.24.22 Week 1, Lecture 1 - Python & Colab.ipynb",
      "provenance": [],
      "collapsed_sections": [],
      "include_colab_link": true
    }
  },
  "nbformat": 4,
  "nbformat_minor": 0
}