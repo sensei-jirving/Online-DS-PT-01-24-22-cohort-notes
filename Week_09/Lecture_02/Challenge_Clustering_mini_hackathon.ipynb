{
  "nbformat": 4,
  "nbformat_minor": 0,
  "metadata": {
    "colab": {
      "name": "01.24 Challenge_Clustering_mini_hackathon.ipynb",
      "provenance": [],
      "include_colab_link": true
    },
    "kernelspec": {
      "name": "python3",
      "display_name": "Python 3"
    },
    "language_info": {
      "name": "python"
    }
  },
  "cells": [
    {
      "cell_type": "markdown",
      "metadata": {
        "id": "view-in-github",
        "colab_type": "text"
      },
      "source": [
        "<a href=\"https://colab.research.google.com/github/sensei-jirving/Online-DS-PT-01.24.22-cohort-notes/blob/main/Week_09/Lecture_02/Challenge_Clustering_mini_hackathon.ipynb\" target=\"_parent\"><img src=\"https://colab.research.google.com/assets/colab-badge.svg\" alt=\"Open In Colab\"/></a>"
      ]
    },
    {
      "cell_type": "markdown",
      "source": [
        "\n",
        "<center>\n",
        "<img src=\"https://course_report_production.s3.amazonaws.com/rich/rich_files/rich_files/2470/s300/cd-logo-blue-600x600.png\" alt=\"Coding Dojo Logo\" class=\"center\" height=\"50\">\n",
        "\n",
        "## Clustering - Mini Hackathon \n",
        "Make a copy of this notebook to edit!\n",
        "\n",
        "<img src=\"https://external-content.duckduckgo.com/iu/?u=https%3A%2F%2Fcdn.searchenginejournal.com%2Fwp-content%2Fuploads%2F2020%2F08%2Fcopy-the-colab-notebook-to-your-google-drive-5f2579179f746.jpg&f=1&nofb=1\" alt=\"Make a copy\" class=\"center\" height=\"200\">\n",
        "\n",
        "</center>"
      ],
      "metadata": {
        "id": "VZhoRRztKtyx"
      }
    },
    {
      "cell_type": "markdown",
      "source": [
        "\n",
        "# ⛹ Task : \n",
        "Your task is to use the same [dataset](https://docs.google.com/spreadsheets/d/e/2PACX-1vT9qetZw-uGS1u44KiW-XOJJkhmX0BKPdcsQ_X9cwTHlsTvlBHbEyA5G_D8r9knBbPOQ7My-W4pTfy2/pub?gid=2140088293&single=true&output=csv) we used in today's sample Clustering hackathon to create clusters using different features than just 'lat' and 'long' that would be useful to either \n",
        "> a) Cluster the data using most or all features and analyze those clusters to explain how the clusters are different. **(no train test split required)** OR\n",
        "\n",
        "> b) Improve a supervised learning model to predict the price of a house.  You can use any model you want, but must include cluster labels as a feature.**If you choose this option, you must train test split.**\n",
        "\n",
        "# This data is clean and all numeric, so you should be able to go straight into tuning your KMeans model.\n",
        "\n",
        "The data given is adapted from [Kaggle](https://www.kaggle.com/anthonypino/melbourne-housing-market?select=Melbourne_housing_FULL.csv).The data dictionary is given below:\n",
        "- price: selling price of home\n",
        "- rooms: number of rooms other than bedrooms and bathrooms  \n",
        "- bed: number of bedrooms\n",
        "- bath: number of bathrooms\n",
        "- car: number of car spots\n",
        "- land: land size in meters\n",
        "- lat: Latitude\n",
        "- long: Longitude\n",
        "\n",
        "## In 2 minutes report: \n",
        "1. Which task did you choose, a or b?\n",
        "2. Which features did you use?\n",
        "3. How many clusters did you make?\n",
        "4. How are the clusters different? \n",
        "  **OR**   \n",
        "Did they improve your supervised learning model vs not using them?"
      ],
      "metadata": {
        "id": "mq_mivzeMS7u"
      }
    },
    {
      "cell_type": "code",
      "source": [
        "# Imports\n",
        "import pandas as pd\n",
        "import numpy as np\n",
        "import matplotlib.pyplot as plt\n",
        "from sklearn.model_selection import train_test_split\n",
        "from sklearn.cluster import KMeans\n",
        "from sklearn.metrics import silhouette_score\n",
        "from sklearn.preprocessing import StandardScaler\n",
        "from sklearn.linear_model import LinearRegression"
      ],
      "metadata": {
        "id": "VnhQM-2YLgYn"
      },
      "execution_count": null,
      "outputs": []
    },
    {
      "cell_type": "code",
      "source": [
        "# Load Data\n",
        "\n"
      ],
      "metadata": {
        "id": "U5Wa-56tL74O"
      },
      "execution_count": null,
      "outputs": []
    },
    {
      "cell_type": "code",
      "source": [
        "# (a) Cluster the data using most or all features and analyze those clusters to explain how the clusters are different. \n",
        "# (no train test split required)\n",
        "\n"
      ],
      "metadata": {
        "id": "ps1nBckEL72B"
      },
      "execution_count": null,
      "outputs": []
    },
    {
      "cell_type": "code",
      "source": [
        ""
      ],
      "metadata": {
        "id": "8v6Dh0pbRSso"
      },
      "execution_count": null,
      "outputs": []
    },
    {
      "cell_type": "code",
      "source": [
        "# (b) Improve a supervised learning model to predict the price of a house. \n",
        "# You can use any model you want, but must include cluster labels as a feature. \n",
        "# If you choose this option, you must train test split.\n",
        "\n",
        "\n"
      ],
      "metadata": {
        "id": "V-t9VBwtQFvL"
      },
      "execution_count": null,
      "outputs": []
    },
    {
      "cell_type": "code",
      "source": [
        ""
      ],
      "metadata": {
        "id": "SQ9zusQ4QFpD"
      },
      "execution_count": null,
      "outputs": []
    },
    {
      "cell_type": "code",
      "source": [
        ""
      ],
      "metadata": {
        "id": "nPIqZS-pQFmi"
      },
      "execution_count": null,
      "outputs": []
    }
  ]
}