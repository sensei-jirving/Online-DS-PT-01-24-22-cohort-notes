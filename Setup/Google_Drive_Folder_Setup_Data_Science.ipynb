{
  "cells": [
    {
      "cell_type": "markdown",
      "metadata": {
        "id": "view-in-github",
        "colab_type": "text"
      },
      "source": [
        "<a href=\"https://colab.research.google.com/github/sensei-jirving/Online-DS-PT-01.24.22-cohort-notes/blob/main/Setup/Google_Drive_Folder_Setup_Data_Science.ipynb\" target=\"_parent\"><img src=\"https://colab.research.google.com/assets/colab-badge.svg\" alt=\"Open In Colab\"/></a>"
      ]
    },
    {
      "cell_type": "markdown",
      "metadata": {
        "id": "Tt-2BWCkDcEE"
      },
      "source": [
        "# Google Drive Folder Setup Notebook - Data Science"
      ]
    },
    {
      "cell_type": "markdown",
      "source": [
        "- This notebook will create a new folder on your Google Drive for your bootcamp materials.\n",
        "- It will create a \"Data/\" folder for your data files.\n",
        "- It will create Week_01 - Week_16 folders. \n",
        "    - In each Week folder, it will create:\n",
        "        - an \"Assignments\" folder\n",
        "        - a \"Notes\" folder\n",
        "        - a \"Lecture_01\" & \"Lecture_02\"\n"
      ],
      "metadata": {
        "id": "6VvOdB_zh1iX"
      }
    },
    {
      "cell_type": "markdown",
      "metadata": {
        "id": "NwQ7tx9ZDcEG"
      },
      "source": [
        "\n",
        "## Steps\n",
        "1. Mount Google Drive. \n",
        "2. Change the `BASE_FOLDER` variable to be whatever folder folder name you want to use to store your class materials.\n",
        "    - Note: it is recommended that you keep the default option (`BASE_FOLDER='/content/drive/MyDrive/DS-Bootcamp/' `) so that your file paths will match other student's file paths. \n",
        "        - This will create a new \"DS-Bootcamp\" folder on your Google Drive.\n",
        "3. If you are making these folders for a GitHub repository: \n",
        "    - Change `FOR_GITHUB` to `True`. \n",
        "    - Note: if you are making these folders on google drive, you probably want to keep  the default (`FOR_GITHUB=False`)\n",
        "\n",
        "4. Run the full notebook: \n",
        "    - `Runtime` > ` Run All`\n"
      ]
    },
    {
      "cell_type": "code",
      "source": [
        "import os\n",
        "from google.colab import drive\n",
        "drive.mount('/content/drive')"
      ],
      "metadata": {
        "colab": {
          "base_uri": "https://localhost:8080/"
        },
        "id": "WIn2K69-Dm4c",
        "outputId": "db554f98-ce8c-4249-8af4-1da229a0f119"
      },
      "execution_count": 1,
      "outputs": [
        {
          "output_type": "stream",
          "name": "stdout",
          "text": [
            "Drive already mounted at /content/drive; to attempt to forcibly remount, call drive.mount(\"/content/drive\", force_remount=True).\n"
          ]
        }
      ]
    },
    {
      "cell_type": "code",
      "source": [
        "## Base folder that will be created to contain all Week folders\n",
        "BASE_FOLDER = '/content/drive/MyDrive/DS-Bootcamp/' \n",
        "FOR_GITHUB = False\n",
        "\n",
        "## Make base folder if it doesn't exist\n",
        "os.makedirs(BASE_FOLDER,exist_ok=True)\n",
        "\n",
        "## Make \"Data\" folder \n",
        "os.makedirs(BASE_FOLDER+\"Data/\",exist_ok=True)"
      ],
      "metadata": {
        "id": "azetvTICD_yj"
      },
      "execution_count": 2,
      "outputs": []
    },
    {
      "cell_type": "code",
      "execution_count": 3,
      "metadata": {
        "ExecuteTime": {
          "end_time": "2022-02-03T22:18:46.754731Z",
          "start_time": "2022-02-03T22:18:46.711669Z"
        },
        "id": "tzlP4RCcDcEH",
        "outputId": "36ec502a-f6be-4b7b-f215-11fb0f90efc5",
        "colab": {
          "base_uri": "https://localhost:8080/"
        }
      },
      "outputs": [
        {
          "output_type": "stream",
          "name": "stdout",
          "text": [
            "/content/drive/MyDrive/DS-Bootcamp/Week_01/\n",
            "/content/drive/MyDrive/DS-Bootcamp/Week_02/\n",
            "/content/drive/MyDrive/DS-Bootcamp/Week_03/\n",
            "/content/drive/MyDrive/DS-Bootcamp/Week_04/\n",
            "/content/drive/MyDrive/DS-Bootcamp/Week_05/\n",
            "/content/drive/MyDrive/DS-Bootcamp/Week_06/\n",
            "/content/drive/MyDrive/DS-Bootcamp/Week_07/\n",
            "/content/drive/MyDrive/DS-Bootcamp/Week_08/\n",
            "/content/drive/MyDrive/DS-Bootcamp/Week_09/\n",
            "/content/drive/MyDrive/DS-Bootcamp/Week_10/\n",
            "/content/drive/MyDrive/DS-Bootcamp/Week_11/\n",
            "/content/drive/MyDrive/DS-Bootcamp/Week_12/\n",
            "/content/drive/MyDrive/DS-Bootcamp/Week_13/\n",
            "/content/drive/MyDrive/DS-Bootcamp/Week_14/\n",
            "/content/drive/MyDrive/DS-Bootcamp/Week_15/\n",
            "/content/drive/MyDrive/DS-Bootcamp/Week_16/\n",
            "\n",
            "\n",
            "[i] Folder structure successfully created.\n",
            "- To confirm: check your DS-Bootcamp/ folder on Google Drive\n"
          ]
        }
      ],
      "source": [
        "## make folders for week 01-16\n",
        "for i in range(1,17):\n",
        "\n",
        "    ## Week name with 2-digit week #'s\n",
        "    week = f\"Week_{i:02d}\"\n",
        "    week_fname = BASE_FOLDER + week +'/'\n",
        "    print(week_fname)\n",
        "\n",
        "    ## Make week folder\n",
        "    os.makedirs(week_fname, exist_ok=True)\n",
        "    \n",
        "\n",
        "    ## Make Assignments & Notes folders\n",
        "    os.makedirs(week_fname+'Assignments/',exist_ok=True)\n",
        "    os.makedirs(week_fname+'Notes/',exist_ok=True)\n",
        "\n",
        "\n",
        "    ## Make Lecture folders\n",
        "    for lect_num in range(1,3):\n",
        "\n",
        "    \n",
        "        lect_name = f\"Lecture_{lect_num:02d}\"\n",
        "        fname_lect =week_fname+ lect_name +'/'\n",
        "        # print(fname_lect)\n",
        "        os.makedirs(fname_lect,exist_ok=True)\n",
        "        \n",
        "\n",
        "        ## Make an empty .md file if making folders for a repo\n",
        "        if FOR_GITHUB:\n",
        "            lecture_md_fname = f\"{week}-{lect_name}.md\"\n",
        "            with open(fname_lect+lecture_md_fname,'w') as f:\n",
        "                f.write(f\"# {week.replace('_',' ')} - {lect_name.replace('_',' ')}\")\n",
        "\n",
        "        \n",
        "print('\\n\\n[i] Folder structure successfully created.')\n",
        "print(f\"- To confirm: check your {BASE_FOLDER.replace('/content/drive/MyDrive/','')} folder on Google Drive\")"
      ]
    }
  ],
  "metadata": {
    "kernelspec": {
      "display_name": "Python (dojo-env)",
      "language": "python",
      "name": "dojo-env"
    },
    "language_info": {
      "codemirror_mode": {
        "name": "ipython",
        "version": 3
      },
      "file_extension": ".py",
      "mimetype": "text/x-python",
      "name": "python",
      "nbconvert_exporter": "python",
      "pygments_lexer": "ipython3",
      "version": "3.7.11"
    },
    "toc": {
      "base_numbering": 1,
      "nav_menu": {},
      "number_sections": true,
      "sideBar": true,
      "skip_h1_title": false,
      "title_cell": "Table of Contents",
      "title_sidebar": "Contents",
      "toc_cell": false,
      "toc_position": {},
      "toc_section_display": true,
      "toc_window_display": true
    },
    "colab": {
      "name": "Google Drive Folder Setup-Data Science.ipynb",
      "provenance": [],
      "collapsed_sections": [],
      "include_colab_link": true
    }
  },
  "nbformat": 4,
  "nbformat_minor": 0
}