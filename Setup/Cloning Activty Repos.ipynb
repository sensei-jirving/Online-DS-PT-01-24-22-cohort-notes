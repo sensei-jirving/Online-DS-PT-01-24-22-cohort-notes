{
 "cells": [
  {
   "cell_type": "markdown",
   "metadata": {},
   "source": [
    "# Cloning Activity Repos (but removing git infrastructure)"
   ]
  },
  {
   "cell_type": "code",
   "execution_count": 1,
   "metadata": {},
   "outputs": [],
   "source": [
    "# import pandas as pd\n",
    "# import os, glob, urllib, shutil\n",
    "# df = pd.read_html(\"https://github.com/sensei-jirving/Online-DS-PT-01.24.22-cohort-notes\")[0]\n",
    "# df"
   ]
  },
  {
   "cell_type": "code",
   "execution_count": 2,
   "metadata": {},
   "outputs": [],
   "source": [
    "# df  = df.loc[ df['Week'].isin(['Week_13','Week_14','Week_15','Week_16'])]\n",
    "# df= df.drop(columns=['Unnamed: 0'])\n",
    "# df"
   ]
  },
  {
   "cell_type": "code",
   "execution_count": 3,
   "metadata": {},
   "outputs": [],
   "source": [
    "# ## filter gibhub links\n",
    "# pd.set_option('display.max_colwidth',200)\n",
    "# df_links = df[df['Links'].str.contains('git')]\n",
    "# df_links\n"
   ]
  },
  {
   "cell_type": "code",
   "execution_count": 4,
   "metadata": {},
   "outputs": [],
   "source": [
    "# test_repo = df_links.loc[35]\n",
    "# test_repo"
   ]
  },
  {
   "cell_type": "code",
   "execution_count": 5,
   "metadata": {},
   "outputs": [],
   "source": [
    "# pwd"
   ]
  },
  {
   "cell_type": "code",
   "execution_count": 6,
   "metadata": {},
   "outputs": [],
   "source": [
    "# ## save top level of this repo as abs filepath\n",
    "# BASE_FOLDER = os.path.abspath(\"../\")\n",
    "# BASE_FOLDER"
   ]
  },
  {
   "cell_type": "code",
   "execution_count": 7,
   "metadata": {},
   "outputs": [],
   "source": [
    "# ## Construct folder path to clone files into\n",
    "\n",
    "# def get_folder_name(url):\n",
    "#     path = urllib.parse.urlsplit(url).path\n",
    "#     return path.split(\"/\")[-1]\n",
    "    \n",
    "# repo_link = test_repo['Links']\n",
    "# repo_fname = get_folder_name(repo_link)\n",
    "# repo_fname"
   ]
  },
  {
   "cell_type": "code",
   "execution_count": 8,
   "metadata": {},
   "outputs": [],
   "source": [
    "# lecture_fpath = os.path.join(BASE_FOLDER, test_repo['Week'],test_repo['Lecture'])#,repo_fname)\n",
    "# lecture_fpath"
   ]
  },
  {
   "cell_type": "code",
   "execution_count": 9,
   "metadata": {},
   "outputs": [],
   "source": [
    "# ## CD into the new folder\n",
    "# os.chdir(lecture_fpath)\n",
    "\n",
    "# ## Clone Repo and move contents to \n",
    "# os.system(f\"git clone {repo_link}\")\n",
    "\n",
    "\n",
    "# ## Saving fpath of cloned folder\n",
    "# cloned_fpath = os.path.join(lecture_fpath,repo_fname)#+\"/\"\n",
    "# cloned_fpath"
   ]
  },
  {
   "cell_type": "code",
   "execution_count": 10,
   "metadata": {},
   "outputs": [],
   "source": [
    "# cloned_files = glob.glob(cloned_fpath+\"/*\")\n",
    "# cloned_files"
   ]
  },
  {
   "cell_type": "code",
   "execution_count": 11,
   "metadata": {},
   "outputs": [],
   "source": [
    "# # os.makedirs(lesson_fpath,exist_ok=True)\n",
    "# # lesson_fpath\n",
    "# f =cloned_files[0]\n",
    "# os.path.basename(f)"
   ]
  },
  {
   "cell_type": "code",
   "execution_count": 12,
   "metadata": {},
   "outputs": [],
   "source": [
    "# ## files to remove\n",
    "# bad_files_list = ['.gitignore','.git','.canvas','.learn',\n",
    "#             'CONTRIBUTING.md',\".deploy\",\"LICENSE.md\",'LICENSE',\".gitattributes\"]\n",
    "# for f in cloned_files:\n",
    "#     if os.path.basename(f) in bad_files_list:\n",
    "#         ## Remove unwanted files before getting file list\n",
    "#         os.system(f'rm \"{f}\"')\n",
    "    \n",
    "\n",
    "# cloned_files = glob.glob(cloned_fpath+\"/*\")\n",
    "# cloned_files\n"
   ]
  },
  {
   "cell_type": "code",
   "execution_count": 13,
   "metadata": {},
   "outputs": [],
   "source": [
    "# ## OPEN README AND PREPEND THE REPO URL\n",
    "# with open(os.path.join(cloned_fpath,\"README.md\"), 'r+') as f:\n",
    "# \tcurr = f.read()\n",
    "# \tnew = f\">- Repo Cloned from: {repo_link}\\n___\\n\"\n",
    "\t\n",
    "# \tf.seek(0)\n",
    "# \tf.write(new)\n",
    "# \tf.write(curr)\n"
   ]
  },
  {
   "cell_type": "markdown",
   "metadata": {},
   "source": [
    "# FINAL WORKFLOW"
   ]
  },
  {
   "cell_type": "code",
   "execution_count": 14,
   "metadata": {},
   "outputs": [
    {
     "data": {
      "text/html": [
       "<div>\n",
       "<style scoped>\n",
       "    .dataframe tbody tr th:only-of-type {\n",
       "        vertical-align: middle;\n",
       "    }\n",
       "\n",
       "    .dataframe tbody tr th {\n",
       "        vertical-align: top;\n",
       "    }\n",
       "\n",
       "    .dataframe thead th {\n",
       "        text-align: right;\n",
       "    }\n",
       "</style>\n",
       "<table border=\"1\" class=\"dataframe\">\n",
       "  <thead>\n",
       "    <tr style=\"text-align: right;\">\n",
       "      <th></th>\n",
       "      <th>Week</th>\n",
       "      <th>Lecture</th>\n",
       "      <th>Title</th>\n",
       "      <th>Links</th>\n",
       "    </tr>\n",
       "  </thead>\n",
       "  <tbody>\n",
       "    <tr>\n",
       "      <th>25</th>\n",
       "      <td>Week_13</td>\n",
       "      <td>Lecture_01</td>\n",
       "      <td>Wk13-L01 Intro to MySQL.pdf</td>\n",
       "      <td>https://github.com/coding-dojo-data-science/data-enrichment-wk13-l01-activity</td>\n",
       "    </tr>\n",
       "    <tr>\n",
       "      <th>28</th>\n",
       "      <td>Week_14</td>\n",
       "      <td>Lecture_01</td>\n",
       "      <td>Wk 14-L01 - JSON &amp; APIS.pdf</td>\n",
       "      <td>https://github.com/coding-dojo-data-science/data-enrichment-wk14-l01-json-activity</td>\n",
       "    </tr>\n",
       "    <tr>\n",
       "      <th>29</th>\n",
       "      <td>Week_14</td>\n",
       "      <td>Lecture_01</td>\n",
       "      <td>Wk 14-L01 - JSON &amp; APIS.pdf</td>\n",
       "      <td>https://github.com/coding-dojo-data-science/data-enrichment-wk14-mapping-yelp-results</td>\n",
       "    </tr>\n",
       "    <tr>\n",
       "      <th>30</th>\n",
       "      <td>Week_15</td>\n",
       "      <td>Lecture_01</td>\n",
       "      <td>Wk 15-L01 - Mock Belt Exam.pdf</td>\n",
       "      <td>https://github.com/coding-dojo-data-science/data-enrichment-mock-belt-exam</td>\n",
       "    </tr>\n",
       "    <tr>\n",
       "      <th>33</th>\n",
       "      <td>Week_15</td>\n",
       "      <td>Lecture_02</td>\n",
       "      <td>Wk 15-L02 - Hypothesis Testing with Python.pdf</td>\n",
       "      <td>https://github.com/coding-dojo-data-science/data-enrichment-mock-belt-exam</td>\n",
       "    </tr>\n",
       "    <tr>\n",
       "      <th>35</th>\n",
       "      <td>Week_15</td>\n",
       "      <td>Lecture_02</td>\n",
       "      <td>Wk 15-L02 - Hypothesis Testing with Python.pdf</td>\n",
       "      <td>https://github.com/coding-dojo-data-science/data-enrichment-hypothesis-testing-codealong</td>\n",
       "    </tr>\n",
       "    <tr>\n",
       "      <th>36</th>\n",
       "      <td>Week_16</td>\n",
       "      <td>Lecture_01</td>\n",
       "      <td>Wk 16-L01 - Linear Regression - Revisited.pdf</td>\n",
       "      <td>https://github.com/coding-dojo-data-science/data-enrichment-linear-regression-with-movies</td>\n",
       "    </tr>\n",
       "    <tr>\n",
       "      <th>38</th>\n",
       "      <td>Week_16</td>\n",
       "      <td>Lecture_02</td>\n",
       "      <td>Wk 16-L02 - Diagnosing and Interpreting Linear Regression.pdf</td>\n",
       "      <td>https://github.com/coding-dojo-data-science/data-enrichment-linear-regression-with-movies</td>\n",
       "    </tr>\n",
       "  </tbody>\n",
       "</table>\n",
       "</div>"
      ],
      "text/plain": [
       "       Week     Lecture  \\\n",
       "25  Week_13  Lecture_01   \n",
       "28  Week_14  Lecture_01   \n",
       "29  Week_14  Lecture_01   \n",
       "30  Week_15  Lecture_01   \n",
       "33  Week_15  Lecture_02   \n",
       "35  Week_15  Lecture_02   \n",
       "36  Week_16  Lecture_01   \n",
       "38  Week_16  Lecture_02   \n",
       "\n",
       "                                                            Title  \\\n",
       "25                                    Wk13-L01 Intro to MySQL.pdf   \n",
       "28                                    Wk 14-L01 - JSON & APIS.pdf   \n",
       "29                                    Wk 14-L01 - JSON & APIS.pdf   \n",
       "30                                 Wk 15-L01 - Mock Belt Exam.pdf   \n",
       "33                 Wk 15-L02 - Hypothesis Testing with Python.pdf   \n",
       "35                 Wk 15-L02 - Hypothesis Testing with Python.pdf   \n",
       "36                  Wk 16-L01 - Linear Regression - Revisited.pdf   \n",
       "38  Wk 16-L02 - Diagnosing and Interpreting Linear Regression.pdf   \n",
       "\n",
       "                                                                                        Links  \n",
       "25              https://github.com/coding-dojo-data-science/data-enrichment-wk13-l01-activity  \n",
       "28         https://github.com/coding-dojo-data-science/data-enrichment-wk14-l01-json-activity  \n",
       "29      https://github.com/coding-dojo-data-science/data-enrichment-wk14-mapping-yelp-results  \n",
       "30                 https://github.com/coding-dojo-data-science/data-enrichment-mock-belt-exam  \n",
       "33                 https://github.com/coding-dojo-data-science/data-enrichment-mock-belt-exam  \n",
       "35   https://github.com/coding-dojo-data-science/data-enrichment-hypothesis-testing-codealong  \n",
       "36  https://github.com/coding-dojo-data-science/data-enrichment-linear-regression-with-movies  \n",
       "38  https://github.com/coding-dojo-data-science/data-enrichment-linear-regression-with-movies  "
      ]
     },
     "execution_count": 14,
     "metadata": {},
     "output_type": "execute_result"
    }
   ],
   "source": [
    "import pandas as pd\n",
    "## filter gibhub links\n",
    "pd.set_option('display.max_colwidth',200)\n",
    "\n",
    "import os, glob, urllib, shutil\n",
    "\n",
    "\n",
    "df = pd.read_html(\"https://github.com/sensei-jirving/Online-DS-PT-01.24.22-cohort-notes\")[0]\n",
    "df = df.loc[ df['Week'].isin(['Week_13','Week_14','Week_15','Week_16'])]\n",
    "df = df.drop(columns=['Unnamed: 0'])\n",
    "\n",
    "\n",
    "df_links = df[df['Links'].str.contains('git')]\n",
    "df_links = df_links[~df_links['Links'].str.contains(\"Online-DS-PT-01.24.22-cohort-notes\") \\\n",
    "                   & (df_links['Links']!=\"github.com\")]\n",
    "df_links\n"
   ]
  },
  {
   "cell_type": "code",
   "execution_count": 15,
   "metadata": {},
   "outputs": [],
   "source": [
    "## "
   ]
  },
  {
   "cell_type": "code",
   "execution_count": 16,
   "metadata": {},
   "outputs": [
    {
     "data": {
      "text/plain": [
       "'/Users/codingdojo/Documents/GitHub/_NOTES_REPOS/Online-DS-PT-01.24.22-cohort-notes'"
      ]
     },
     "execution_count": 16,
     "metadata": {},
     "output_type": "execute_result"
    }
   ],
   "source": [
    "## save top level of this repo as abs filepath\n",
    "\n",
    "\n",
    "def get_folder_name(url):\n",
    "    path = urllib.parse.urlsplit(url).path\n",
    "    return path.split(\"/\")[-1]\n",
    "\n",
    "BASE_FOLDER = os.path.abspath(\"../\")\n",
    "BASE_FOLDER"
   ]
  },
  {
   "cell_type": "markdown",
   "metadata": {},
   "source": [
    "## Make a loop"
   ]
  },
  {
   "cell_type": "code",
   "execution_count": null,
   "metadata": {},
   "outputs": [
    {
     "name": "stderr",
     "output_type": "stream",
     "text": [
      "Cloning into 'data-enrichment-wk13-l01-activity'...\n"
     ]
    },
    {
     "name": "stdout",
     "output_type": "stream",
     "text": [
      "- Removing /Users/codingdojo/Documents/GitHub/_NOTES_REPOS/Online-DS-PT-01.24.22-cohort-notes/Week_13/Lecture_01/data-enrichment-wk13-l01-activity/LICENSE\n"
     ]
    },
    {
     "name": "stderr",
     "output_type": "stream",
     "text": [
      "Cloning into 'data-enrichment-wk14-l01-json-activity'...\n"
     ]
    },
    {
     "name": "stdout",
     "output_type": "stream",
     "text": [
      "- Removing /Users/codingdojo/Documents/GitHub/_NOTES_REPOS/Online-DS-PT-01.24.22-cohort-notes/Week_14/Lecture_01/data-enrichment-wk14-l01-json-activity/LICENSE\n"
     ]
    },
    {
     "name": "stderr",
     "output_type": "stream",
     "text": [
      "Cloning into 'data-enrichment-wk14-mapping-yelp-results'...\n"
     ]
    },
    {
     "name": "stdout",
     "output_type": "stream",
     "text": [
      "- Removing /Users/codingdojo/Documents/GitHub/_NOTES_REPOS/Online-DS-PT-01.24.22-cohort-notes/Week_14/Lecture_01/data-enrichment-wk14-mapping-yelp-results/LICENSE\n"
     ]
    },
    {
     "name": "stderr",
     "output_type": "stream",
     "text": [
      "Cloning into 'data-enrichment-mock-belt-exam'...\n",
      "Cloning into 'data-enrichment-mock-belt-exam'...\n",
      "Cloning into 'data-enrichment-hypothesis-testing-codealong'...\n"
     ]
    },
    {
     "name": "stdout",
     "output_type": "stream",
     "text": [
      "- Removing /Users/codingdojo/Documents/GitHub/_NOTES_REPOS/Online-DS-PT-01.24.22-cohort-notes/Week_15/Lecture_02/data-enrichment-hypothesis-testing-codealong/LICENSE\n"
     ]
    },
    {
     "name": "stderr",
     "output_type": "stream",
     "text": [
      "Cloning into 'data-enrichment-linear-regression-with-movies'...\n"
     ]
    },
    {
     "name": "stdout",
     "output_type": "stream",
     "text": [
      "- Removing /Users/codingdojo/Documents/GitHub/_NOTES_REPOS/Online-DS-PT-01.24.22-cohort-notes/Week_16/Lecture_01/data-enrichment-linear-regression-with-movies/LICENSE\n"
     ]
    },
    {
     "name": "stderr",
     "output_type": "stream",
     "text": [
      "Cloning into 'data-enrichment-linear-regression-with-movies'...\n"
     ]
    }
   ],
   "source": [
    "## files to remove\n",
    "bad_files_list = ['.gitignore','.git','.canvas','.learn',\n",
    "                  'CONTRIBUTING.md',\".deploy\",\"LICENSE.md\",'LICENSE',\".gitattributes\"]\n",
    "\n",
    "for row in df_links.index:\n",
    "    try:\n",
    "        curr_repo = df_links.loc[row]\n",
    "\n",
    "        repo_link = curr_repo['Links']\n",
    "        repo_fname = get_folder_name(repo_link)\n",
    "\n",
    "        lecture_fpath = os.path.join(BASE_FOLDER, curr_repo['Week'],curr_repo['Lecture'])#,repo_fname)\n",
    "\n",
    "        ## CD into the new folder\n",
    "        os.chdir(lecture_fpath)\n",
    "\n",
    "        ## Clone Repo and move contents to \n",
    "        os.system(f\"git clone {repo_link}\")\n",
    "\n",
    "\n",
    "        ## Saving fpath of cloned folder\n",
    "        cloned_fpath = os.path.join(lecture_fpath,repo_fname)#+\"/\"\n",
    "\n",
    "\n",
    "\n",
    "        cloned_files = glob.glob(cloned_fpath+\"/*\")\n",
    "        \n",
    "        readme_file = os.path.join(cloned_fpath,\"README.md\")\n",
    "        \n",
    "        ## make starter readme if it doens't exist\n",
    "        if os.path.isfile(readme_file)==False:\n",
    "            with open(readme_file,'w') as f:\n",
    "                f.write(f\"# {repo_fname}\")\n",
    "                \n",
    "        ## OPEN README AND PREPEND THE REPO URL\n",
    "        with open(readme_file, 'r+') as f:\n",
    "            curr = f.read()\n",
    "            new = f\">- Repo Cloned from: {repo_link}\\n___\\n\"\n",
    "\n",
    "            f.seek(0)\n",
    "            f.write(new)\n",
    "            f.write(curr)\n",
    "\n",
    "\n",
    "        for f in cloned_files:\n",
    "            if os.path.basename(f) in bad_files_list:\n",
    "                ## Remove unwanted files before getting file list\n",
    "                print(f\"- Removing {f}\")\n",
    "                os.system(f'rm \"{f}\"')\n",
    "\n",
    "\n",
    "            \n",
    "       ## Remove .git and original repo\n",
    "        git_folder = os.path.join(cloned_fpath,'.git')\n",
    "        os.system(f'rm -rf \"{git_folder}\"')\n",
    "        \n",
    "        gitattr = os.path.join(cloned_fpath,\".gitattributes\")\n",
    "        os.system(f'rm  \"{gitattr}\"')\n",
    "                  \n",
    "        gitignore = os.path.join(cloned_fpath,\".gitignore\")\n",
    "        os.system(f'rm  \"{gitignore}\"')\n",
    "    except Exception as e:\n",
    "        print(f\"Error running {repo_link}:\")\n",
    "        print('    ',e)"
   ]
  },
  {
   "cell_type": "code",
   "execution_count": null,
   "metadata": {},
   "outputs": [],
   "source": [
    "cloned_files"
   ]
  },
  {
   "cell_type": "code",
   "execution_count": null,
   "metadata": {},
   "outputs": [],
   "source": []
  }
 ],
 "metadata": {
  "interpreter": {
   "hash": "295804e8e014c2a214e7062c757c6b8addd86bbffb9090c97cdc9a271490da83"
  },
  "kernelspec": {
   "display_name": "Python (dev-env)",
   "language": "python",
   "name": "dev-env"
  },
  "language_info": {
   "codemirror_mode": {
    "name": "ipython",
    "version": 3
   },
   "file_extension": ".py",
   "mimetype": "text/x-python",
   "name": "python",
   "nbconvert_exporter": "python",
   "pygments_lexer": "ipython3",
   "version": "3.8.13"
  },
  "toc": {
   "base_numbering": 1,
   "nav_menu": {},
   "number_sections": false,
   "sideBar": true,
   "skip_h1_title": false,
   "title_cell": "Table of Contents",
   "title_sidebar": "Contents",
   "toc_cell": false,
   "toc_position": {},
   "toc_section_display": true,
   "toc_window_display": false
  }
 },
 "nbformat": 4,
 "nbformat_minor": 2
}
