{
  "nbformat": 4,
  "nbformat_minor": 0,
  "metadata": {
    "colab": {
      "name": "Challenge-bias-variance activity.ipynb",
      "provenance": [],
      "collapsed_sections": [],
      "include_colab_link": true
    },
    "kernelspec": {
      "display_name": "Python 3",
      "name": "python3"
    }
  },
  "cells": [
    {
      "cell_type": "markdown",
      "metadata": {
        "id": "view-in-github",
        "colab_type": "text"
      },
      "source": [
        "<a href=\"https://colab.research.google.com/github/sensei-jirving/Online-DS-PT-01.24.22-cohort-notes/blob/main/Week_06/Lecture_02/Challenge/Challenge_bias_variance_activity.ipynb\" target=\"_parent\"><img src=\"https://colab.research.google.com/assets/colab-badge.svg\" alt=\"Open In Colab\"/></a>"
      ]
    },
    {
      "cell_type": "markdown",
      "metadata": {
        "id": "W126R0Qz5QNm"
      },
      "source": [
        "<center>\n",
        "<img src=\"https://course_report_production.s3.amazonaws.com/rich/rich_files/rich_files/2470/s300/cd-logo-blue-600x600.png\" alt=\"Coding Dojo Logo\" class=\"center\" height=\"50\">\n",
        "\n",
        "# Bias/Variance Tradeoff\n",
        "\n",
        "*Make a copy of this notebook to edit!*\n",
        "\n",
        "<img src=\"https://external-content.duckduckgo.com/iu/?u=https%3A%2F%2Fcdn.searchenginejournal.com%2Fwp-content%2Fuploads%2F2020%2F08%2Fcopy-the-colab-notebook-to-your-google-drive-5f2579179f746.jpg&f=1&nofb=1\" alt=\"Make a copy\" class=\"center\" height=\"300\">\n",
        "\n",
        "</center>"
      ]
    },
    {
      "cell_type": "markdown",
      "metadata": {
        "id": "M3wwYi6u_VU3"
      },
      "source": [
        "## What is the bias/variance trade-off?\n",
        "\n",
        "The bias/variance trade-off is the trade-off we make in machine learning between having too high bias and too high variance. You ultimately want to strike a good balance between the two.\n",
        "\n",
        "![](https://miro.medium.com/max/1400/1*9hPX9pAO3jqLrzt0IE3JzA.png)\n",
        "\n",
        "## High Bias\n",
        "\n",
        "Bias is essentially just how good of a job your model does at fitting to your data. (High bias = bad model).\n",
        "\n",
        "**High bias = underfit**\n",
        "\n",
        "## High Variance\n",
        "\n",
        "Variance is essentially how well your model does at generalizing to new data. High variance means your model is too overfit to the data it was trained on.\n",
        "\n",
        "**High variance = overfit**\n",
        "\n",
        "![](https://miro.medium.com/max/875/1*wHw8x8hZZdfUO-kBf-lobg.jpeg)\n",
        "\n",
        "## Bias/Variance Tradeoff using Tree Based Models\n",
        "\n",
        "In this notebook you will:\n",
        "1. load and inspect data (code provided)\n",
        "2. select features for use in modeling (code provided)\n",
        "3. change data types to fit variable types (code provided)\n",
        "  1. ordinal and numeric = numeric data type\n",
        "  2. nominal = object datatype\n",
        "4. create a column transformer for data preprocessing, including:\n",
        "  1. scaling numeric data\n",
        "  2. one-hot encoding nominal categorical data\n",
        "5. create a baseline model\n",
        "6. fit a Decision Tree model with a high vias\n",
        "7. fit a Decision Tree model with a high variance\n",
        "8. fit a Random Forest model with the optimal value for max_depth"
      ]
    },
    {
      "cell_type": "markdown",
      "metadata": {
        "id": "_A7msLwr_4TA"
      },
      "source": [
        "Import Libraries"
      ]
    },
    {
      "cell_type": "code",
      "metadata": {
        "id": "1qqHcPH56CaM"
      },
      "source": [
        "# Imports\n",
        "import pandas as pd\n",
        "import numpy as np\n",
        "import matplotlib.pyplot as plt\n",
        "from sklearn.model_selection import train_test_split\n",
        "from sklearn.preprocessing import StandardScaler, OneHotEncoder\n",
        "from sklearn.compose import make_column_selector, make_column_transformer\n",
        "from sklearn.pipeline import make_pipeline\n",
        "from sklearn.dummy import DummyRegressor\n",
        "from sklearn.metrics import mean_squared_error, mean_absolute_error, r2_score\n",
        "from sklearn.tree import DecisionTreeRegressor\n",
        "from sklearn.ensemble import RandomForestRegressor\n",
        "from sklearn import set_config\n",
        "set_config(display='diagram')"
      ],
      "execution_count": null,
      "outputs": []
    },
    {
      "cell_type": "markdown",
      "metadata": {
        "id": "7Djq4Nz1_5dD"
      },
      "source": [
        "Load Data\n",
        "\n",
        "You can download the data [here](https://drive.google.com/file/d/1hcRko3e-Os1ImFJGXaWOYMtkFjuveZyJ/view?usp=sharing), which is originally from [this source](https://archive.ics.uci.edu/ml/datasets/Auto+MPG).\n",
        "\n",
        "**Data Dictionary:**\n",
        "\n",
        "Variable Name | Description | Units\n",
        "--- | --- | ---\n",
        "mpg | Target variable | [mpg](https://www.kbb.com/what-is/mpg/)\n",
        "cylinders | number of [cylinders](https://en.wikipedia.org/wiki/Cylinder_%28engine%29) the car has | discrete number\n",
        "displacement | [engine displacement](https://en.wikipedia.org/wiki/Engine_displacement) | cubic inches\n",
        "horsepower | [engine power](https://en.wikipedia.org/wiki/Horsepower) of the car | horsepower\n",
        "weight | weight of car | pounds\n",
        "acceleration | elapsed time to go from 0 to 60 miles per hour | seconds\n",
        "model year | model year of the car | year\n",
        "origin | Country of origin | discrete number\n",
        "car name | name of the car | n/a\n"
      ]
    },
    {
      "cell_type": "code",
      "metadata": {
        "colab": {
          "base_uri": "https://localhost:8080/",
          "height": 206
        },
        "id": "x0N_O7tr5WV8",
        "outputId": "72e93e4b-6e1d-43a1-d814-a0494484a1b0"
      },
      "source": [
        "# Load Data\n",
        "mpg = pd.read_csv('https://docs.google.com/spreadsheets/d/e/2PACX-1vTg36jLawSOgGP9hp0oJ3OYZiHMWbuGLiau-8DMjtcKNv7v9Zy_zFBQs9gZU-44GGeIyfXE2iwo26_z/pub?output=csv')\n",
        "mpg.head()"
      ],
      "execution_count": null,
      "outputs": [
        {
          "output_type": "execute_result",
          "data": {
            "text/html": [
              "\n",
              "  <div id=\"df-85aa9429-6944-4f73-ba8f-db9f300128bb\">\n",
              "    <div class=\"colab-df-container\">\n",
              "      <div>\n",
              "<style scoped>\n",
              "    .dataframe tbody tr th:only-of-type {\n",
              "        vertical-align: middle;\n",
              "    }\n",
              "\n",
              "    .dataframe tbody tr th {\n",
              "        vertical-align: top;\n",
              "    }\n",
              "\n",
              "    .dataframe thead th {\n",
              "        text-align: right;\n",
              "    }\n",
              "</style>\n",
              "<table border=\"1\" class=\"dataframe\">\n",
              "  <thead>\n",
              "    <tr style=\"text-align: right;\">\n",
              "      <th></th>\n",
              "      <th>mpg</th>\n",
              "      <th>cylinders</th>\n",
              "      <th>displacement</th>\n",
              "      <th>horsepower</th>\n",
              "      <th>weight</th>\n",
              "      <th>acceleration</th>\n",
              "      <th>model year</th>\n",
              "      <th>origin</th>\n",
              "      <th>car name</th>\n",
              "    </tr>\n",
              "  </thead>\n",
              "  <tbody>\n",
              "    <tr>\n",
              "      <th>0</th>\n",
              "      <td>18.0</td>\n",
              "      <td>8</td>\n",
              "      <td>307.0</td>\n",
              "      <td>130</td>\n",
              "      <td>3504</td>\n",
              "      <td>12.0</td>\n",
              "      <td>70</td>\n",
              "      <td>1</td>\n",
              "      <td>chevrolet chevelle malibu</td>\n",
              "    </tr>\n",
              "    <tr>\n",
              "      <th>1</th>\n",
              "      <td>15.0</td>\n",
              "      <td>8</td>\n",
              "      <td>350.0</td>\n",
              "      <td>165</td>\n",
              "      <td>3693</td>\n",
              "      <td>11.5</td>\n",
              "      <td>70</td>\n",
              "      <td>1</td>\n",
              "      <td>buick skylark 320</td>\n",
              "    </tr>\n",
              "    <tr>\n",
              "      <th>2</th>\n",
              "      <td>18.0</td>\n",
              "      <td>8</td>\n",
              "      <td>318.0</td>\n",
              "      <td>150</td>\n",
              "      <td>3436</td>\n",
              "      <td>11.0</td>\n",
              "      <td>70</td>\n",
              "      <td>1</td>\n",
              "      <td>plymouth satellite</td>\n",
              "    </tr>\n",
              "    <tr>\n",
              "      <th>3</th>\n",
              "      <td>16.0</td>\n",
              "      <td>8</td>\n",
              "      <td>304.0</td>\n",
              "      <td>150</td>\n",
              "      <td>3433</td>\n",
              "      <td>12.0</td>\n",
              "      <td>70</td>\n",
              "      <td>1</td>\n",
              "      <td>amc rebel sst</td>\n",
              "    </tr>\n",
              "    <tr>\n",
              "      <th>4</th>\n",
              "      <td>17.0</td>\n",
              "      <td>8</td>\n",
              "      <td>302.0</td>\n",
              "      <td>140</td>\n",
              "      <td>3449</td>\n",
              "      <td>10.5</td>\n",
              "      <td>70</td>\n",
              "      <td>1</td>\n",
              "      <td>ford torino</td>\n",
              "    </tr>\n",
              "  </tbody>\n",
              "</table>\n",
              "</div>\n",
              "      <button class=\"colab-df-convert\" onclick=\"convertToInteractive('df-85aa9429-6944-4f73-ba8f-db9f300128bb')\"\n",
              "              title=\"Convert this dataframe to an interactive table.\"\n",
              "              style=\"display:none;\">\n",
              "        \n",
              "  <svg xmlns=\"http://www.w3.org/2000/svg\" height=\"24px\"viewBox=\"0 0 24 24\"\n",
              "       width=\"24px\">\n",
              "    <path d=\"M0 0h24v24H0V0z\" fill=\"none\"/>\n",
              "    <path d=\"M18.56 5.44l.94 2.06.94-2.06 2.06-.94-2.06-.94-.94-2.06-.94 2.06-2.06.94zm-11 1L8.5 8.5l.94-2.06 2.06-.94-2.06-.94L8.5 2.5l-.94 2.06-2.06.94zm10 10l.94 2.06.94-2.06 2.06-.94-2.06-.94-.94-2.06-.94 2.06-2.06.94z\"/><path d=\"M17.41 7.96l-1.37-1.37c-.4-.4-.92-.59-1.43-.59-.52 0-1.04.2-1.43.59L10.3 9.45l-7.72 7.72c-.78.78-.78 2.05 0 2.83L4 21.41c.39.39.9.59 1.41.59.51 0 1.02-.2 1.41-.59l7.78-7.78 2.81-2.81c.8-.78.8-2.07 0-2.86zM5.41 20L4 18.59l7.72-7.72 1.47 1.35L5.41 20z\"/>\n",
              "  </svg>\n",
              "      </button>\n",
              "      \n",
              "  <style>\n",
              "    .colab-df-container {\n",
              "      display:flex;\n",
              "      flex-wrap:wrap;\n",
              "      gap: 12px;\n",
              "    }\n",
              "\n",
              "    .colab-df-convert {\n",
              "      background-color: #E8F0FE;\n",
              "      border: none;\n",
              "      border-radius: 50%;\n",
              "      cursor: pointer;\n",
              "      display: none;\n",
              "      fill: #1967D2;\n",
              "      height: 32px;\n",
              "      padding: 0 0 0 0;\n",
              "      width: 32px;\n",
              "    }\n",
              "\n",
              "    .colab-df-convert:hover {\n",
              "      background-color: #E2EBFA;\n",
              "      box-shadow: 0px 1px 2px rgba(60, 64, 67, 0.3), 0px 1px 3px 1px rgba(60, 64, 67, 0.15);\n",
              "      fill: #174EA6;\n",
              "    }\n",
              "\n",
              "    [theme=dark] .colab-df-convert {\n",
              "      background-color: #3B4455;\n",
              "      fill: #D2E3FC;\n",
              "    }\n",
              "\n",
              "    [theme=dark] .colab-df-convert:hover {\n",
              "      background-color: #434B5C;\n",
              "      box-shadow: 0px 1px 3px 1px rgba(0, 0, 0, 0.15);\n",
              "      filter: drop-shadow(0px 1px 2px rgba(0, 0, 0, 0.3));\n",
              "      fill: #FFFFFF;\n",
              "    }\n",
              "  </style>\n",
              "\n",
              "      <script>\n",
              "        const buttonEl =\n",
              "          document.querySelector('#df-85aa9429-6944-4f73-ba8f-db9f300128bb button.colab-df-convert');\n",
              "        buttonEl.style.display =\n",
              "          google.colab.kernel.accessAllowed ? 'block' : 'none';\n",
              "\n",
              "        async function convertToInteractive(key) {\n",
              "          const element = document.querySelector('#df-85aa9429-6944-4f73-ba8f-db9f300128bb');\n",
              "          const dataTable =\n",
              "            await google.colab.kernel.invokeFunction('convertToInteractive',\n",
              "                                                     [key], {});\n",
              "          if (!dataTable) return;\n",
              "\n",
              "          const docLinkHtml = 'Like what you see? Visit the ' +\n",
              "            '<a target=\"_blank\" href=https://colab.research.google.com/notebooks/data_table.ipynb>data table notebook</a>'\n",
              "            + ' to learn more about interactive tables.';\n",
              "          element.innerHTML = '';\n",
              "          dataTable['output_type'] = 'display_data';\n",
              "          await google.colab.output.renderOutput(dataTable, element);\n",
              "          const docLink = document.createElement('div');\n",
              "          docLink.innerHTML = docLinkHtml;\n",
              "          element.appendChild(docLink);\n",
              "        }\n",
              "      </script>\n",
              "    </div>\n",
              "  </div>\n",
              "  "
            ],
            "text/plain": [
              "    mpg  cylinders  displacement  ...  model year  origin                   car name\n",
              "0  18.0          8         307.0  ...          70       1  chevrolet chevelle malibu\n",
              "1  15.0          8         350.0  ...          70       1          buick skylark 320\n",
              "2  18.0          8         318.0  ...          70       1         plymouth satellite\n",
              "3  16.0          8         304.0  ...          70       1              amc rebel sst\n",
              "4  17.0          8         302.0  ...          70       1                ford torino\n",
              "\n",
              "[5 rows x 9 columns]"
            ]
          },
          "metadata": {},
          "execution_count": 2
        }
      ]
    },
    {
      "cell_type": "code",
      "metadata": {
        "colab": {
          "base_uri": "https://localhost:8080/"
        },
        "id": "8VYdJui27Vfo",
        "outputId": "eaa168c1-c15e-4734-f511-350174ecc121"
      },
      "source": [
        "mpg.info()"
      ],
      "execution_count": null,
      "outputs": [
        {
          "output_type": "stream",
          "name": "stdout",
          "text": [
            "<class 'pandas.core.frame.DataFrame'>\n",
            "RangeIndex: 392 entries, 0 to 391\n",
            "Data columns (total 9 columns):\n",
            " #   Column        Non-Null Count  Dtype  \n",
            "---  ------        --------------  -----  \n",
            " 0   mpg           392 non-null    float64\n",
            " 1   cylinders     392 non-null    int64  \n",
            " 2   displacement  392 non-null    float64\n",
            " 3   horsepower    392 non-null    int64  \n",
            " 4   weight        392 non-null    int64  \n",
            " 5   acceleration  392 non-null    float64\n",
            " 6   model year    392 non-null    int64  \n",
            " 7   origin        392 non-null    int64  \n",
            " 8   car name      392 non-null    object \n",
            "dtypes: float64(3), int64(5), object(1)\n",
            "memory usage: 27.7+ KB\n"
          ]
        }
      ]
    },
    {
      "cell_type": "markdown",
      "metadata": {
        "id": "Ga2kf8s0gZue"
      },
      "source": [
        "Deal with categorical variables."
      ]
    },
    {
      "cell_type": "code",
      "metadata": {
        "id": "IEymuPV1h5yv",
        "colab": {
          "base_uri": "https://localhost:8080/"
        },
        "outputId": "cc86a8e9-86e0-4f05-c980-5b255af2b5a0"
      },
      "source": [
        "# origin\n",
        "mpg['origin'].value_counts()"
      ],
      "execution_count": null,
      "outputs": [
        {
          "output_type": "execute_result",
          "data": {
            "text/plain": [
              "1    245\n",
              "3     79\n",
              "2     68\n",
              "Name: origin, dtype: int64"
            ]
          },
          "metadata": {},
          "execution_count": 4
        }
      ]
    },
    {
      "cell_type": "code",
      "metadata": {
        "id": "xzHEEIlfiKUR",
        "colab": {
          "base_uri": "https://localhost:8080/"
        },
        "outputId": "f40cca26-2168-4113-8a46-64b678aa615f"
      },
      "source": [
        "# model year\n",
        "mpg['model year'].nunique()"
      ],
      "execution_count": null,
      "outputs": [
        {
          "output_type": "execute_result",
          "data": {
            "text/plain": [
              "13"
            ]
          },
          "metadata": {},
          "execution_count": 5
        }
      ]
    },
    {
      "cell_type": "markdown",
      "metadata": {
        "id": "yqMtXyIfCtdO"
      },
      "source": [
        "Even though 'model year' and 'orgin' are integer datatypes, the number of unique values tells us they represent categories, not actual numeric values.  We will need to one hot encode them after we split the data.  'model year' could be interpreted as either ordinal (earlier years to later years) or nominal.  We will treat it as nominal in this instance.  It would also be a valid choice to treat it as ordinal."
      ]
    },
    {
      "cell_type": "code",
      "metadata": {
        "colab": {
          "base_uri": "https://localhost:8080/"
        },
        "id": "C6wMvbjU_2YW",
        "outputId": "3127a1cc-4a6a-4d8e-ba01-75d49db92a96"
      },
      "source": [
        "#transform 'model year' and 'origin' into object type variables for one-hot encoding\n",
        "cat_cols = ['model year','origin']\n",
        "mpg[cat_cols] = mpg[cat_cols].astype('object')\n",
        "mpg.info()"
      ],
      "execution_count": null,
      "outputs": [
        {
          "output_type": "stream",
          "name": "stdout",
          "text": [
            "<class 'pandas.core.frame.DataFrame'>\n",
            "RangeIndex: 392 entries, 0 to 391\n",
            "Data columns (total 9 columns):\n",
            " #   Column        Non-Null Count  Dtype  \n",
            "---  ------        --------------  -----  \n",
            " 0   mpg           392 non-null    float64\n",
            " 1   cylinders     392 non-null    int64  \n",
            " 2   displacement  392 non-null    float64\n",
            " 3   horsepower    392 non-null    int64  \n",
            " 4   weight        392 non-null    int64  \n",
            " 5   acceleration  392 non-null    float64\n",
            " 6   model year    392 non-null    object \n",
            " 7   origin        392 non-null    object \n",
            " 8   car name      392 non-null    object \n",
            "dtypes: float64(3), int64(3), object(3)\n",
            "memory usage: 27.7+ KB\n"
          ]
        }
      ]
    },
    {
      "cell_type": "code",
      "metadata": {
        "id": "l70NH_S5ZfmJ",
        "colab": {
          "base_uri": "https://localhost:8080/"
        },
        "outputId": "ea1dda66-de19-40be-dd03-170261b09cb3"
      },
      "source": [
        "# car name\n",
        "mpg['car name'].nunique()"
      ],
      "execution_count": null,
      "outputs": [
        {
          "output_type": "execute_result",
          "data": {
            "text/plain": [
              "301"
            ]
          },
          "metadata": {},
          "execution_count": 7
        }
      ]
    },
    {
      "cell_type": "markdown",
      "metadata": {
        "id": "nh4AXbauN6Lp"
      },
      "source": [
        "The car name seems to be unique and will not help with modeling, \n",
        "I will drop this column"
      ]
    },
    {
      "cell_type": "code",
      "metadata": {
        "id": "m8pobLr3aDGO"
      },
      "source": [
        "mpg.drop(columns = 'car name', inplace = True)"
      ],
      "execution_count": null,
      "outputs": []
    },
    {
      "cell_type": "markdown",
      "metadata": {
        "id": "EmB0xtNu-0eQ"
      },
      "source": [
        "Split data into target vector and features matrix. We are predicting mpg."
      ]
    },
    {
      "cell_type": "code",
      "metadata": {
        "id": "xI7iSmc5-28-"
      },
      "source": [
        "X = mpg.drop(columns='mpg')\n",
        "y = mpg['mpg']"
      ],
      "execution_count": null,
      "outputs": []
    },
    {
      "cell_type": "markdown",
      "metadata": {
        "id": "isXcsVPE-p_O"
      },
      "source": [
        "### Train-Test-Split\n",
        "\n",
        "This method allows us to validate how our model does on unseen data - which allows us to check for high variance."
      ]
    },
    {
      "cell_type": "code",
      "metadata": {
        "id": "97oNeZL--yNh"
      },
      "source": [
        "X_train, X_test, y_train, y_test = train_test_split(X, y, random_state=42)"
      ],
      "execution_count": null,
      "outputs": []
    },
    {
      "cell_type": "markdown",
      "metadata": {
        "id": "3YsWFkARCnOG"
      },
      "source": [
        "# ColumnTransformer\n",
        "\n",
        "Create \n",
        "\n",
        "1. column selectors\n",
        "2. one hot encoding and scaling transformers \n",
        "3. and a ColumnTransformer object that will one-hot encode the categorical variables and scale the numeric variables.\n",
        "\n",
        "## KNN is a clustering algorithm.  It is ALWAYS necessary to scale your data when using a clustering algorithm."
      ]
    },
    {
      "cell_type": "code",
      "metadata": {
        "id": "VzHOmW71DKPk"
      },
      "source": [
        "# Create your preprocessing steps\n",
        "# use make_column_selector, ColumnTransformer, and OneHotEncoder\n",
        "# remember to set sparse=False for the OneHotEncoder\n",
        "# remember to set remainder='passthrough' for the ColumnTransformer\n"
      ],
      "execution_count": null,
      "outputs": []
    },
    {
      "cell_type": "markdown",
      "metadata": {
        "id": "BuKbEXtlD2qd"
      },
      "source": [
        "Create a function to take the true and predicted labels and print MAE, MSE, RMSE, and R2 metrics"
      ]
    },
    {
      "cell_type": "code",
      "metadata": {
        "id": "UL-cSgWTCUhL"
      },
      "source": [
        "# Create a function to take the true and predicted labels and print MAE, MSE, RMSE, and R2 metrics\n",
        "def evaluate_model(y_true, y_pred):\n",
        "  \"\"\"takes two arrays, true labels and predicted labels, and prints\n",
        "  MAE, MSE, RMSE, and R2 metrics\"\"\"\n",
        "  mae = mean_absolute_error(y_true, y_pred)\n",
        "  mse = mean_squared_error(y_true, y_pred)\n",
        "  rmse = np.sqrt(mean_squared_error(y_true, y_pred))\n",
        "  r2 = r2_score(y_true, y_pred)\n",
        "\n",
        "  print(f'scores: MAE: {mae:,.2f} \\nMSE: {mse:,.2f} \\nRMSE: {rmse:,.2f} \\\n",
        "  \\nR2: {r2:.2f}')"
      ],
      "execution_count": null,
      "outputs": []
    },
    {
      "cell_type": "markdown",
      "metadata": {
        "id": "IEtnCx0XBzp2"
      },
      "source": [
        "## Baseline model\n",
        "\n",
        "1. Instantiate DummyRegressor with the 'mean' strategy to get some baseline metrics.\n",
        "\n",
        "2. Put your ColumnTransformer and baseline model into a pipeline.\n",
        "\n",
        "3. Fit your pipeline on the training data and evaluate it on BOTH the training and the testing data using a metric of your choice."
      ]
    },
    {
      "cell_type": "code",
      "metadata": {
        "id": "kC5QEipKTzMe"
      },
      "source": [
        "#instantiate baseling\n",
        "\n",
        "\n",
        "#create pipeline\n",
        "\n",
        "#fit pipeline\n",
        "\n",
        "#create train and test predictions\n",
        "\n",
        "#evaluate model\n"
      ],
      "execution_count": null,
      "outputs": []
    },
    {
      "cell_type": "markdown",
      "metadata": {
        "id": "TIQB179LAvUg"
      },
      "source": [
        "## High Bias\n",
        "Fit a Decision Tree Regressor model to predict price that has very high bias by adjusting max_depth."
      ]
    },
    {
      "cell_type": "code",
      "metadata": {
        "id": "eHj_vR2X_jtR"
      },
      "source": [
        ""
      ],
      "execution_count": null,
      "outputs": []
    },
    {
      "cell_type": "markdown",
      "metadata": {
        "id": "xyJAnYmbC_Uy"
      },
      "source": [
        "## High Variance\n",
        "Now, fit a Decision Tree Regressor pipeline to predict price that has very high variance by adjusting max_depth."
      ]
    },
    {
      "cell_type": "code",
      "metadata": {
        "id": "G7qQ7bgnBwd1"
      },
      "source": [
        ""
      ],
      "execution_count": null,
      "outputs": []
    },
    {
      "cell_type": "code",
      "source": [
        ""
      ],
      "metadata": {
        "id": "GNbNlbe6pLci"
      },
      "execution_count": null,
      "outputs": []
    },
    {
      "cell_type": "markdown",
      "metadata": {
        "id": "SRPQ1YlJDJbh"
      },
      "source": [
        "## Balance\n",
        "\n",
        "1. Choose a metric to optimize in order to decide which model is best.  In a comment, explain why you chose that metric.\n",
        "\n",
        "2. Adjust the max_depth to get the best model possible.  \n",
        "\n",
        "Hint: You might try creating a loop over a reasonable number of max_depth values and storing lists of scores, then plotting those scores to visually determine the best value for the max_depth."
      ]
    },
    {
      "cell_type": "code",
      "metadata": {
        "id": "5iP7PlbEDGwP"
      },
      "source": [
        "#create a range of max_depth values\n",
        "\n",
        "#create a dataframe to store train and test scores.\n",
        "\n",
        "#loop over the values in depths\n",
        "\n",
        "  #fit a new model with max_depth\n",
        "\n",
        "  #put the model into a pipeline\n",
        " \n",
        "  \n",
        "  #fit the model\n",
        "  \n",
        "  \n",
        "  #create prediction arrays\n",
        "  \n",
        "  \n",
        "  #evaluate the model using R2 Score\n",
        " \n",
        "  \n",
        "  #store the scores in the scores dataframe\n"
      ],
      "execution_count": null,
      "outputs": []
    },
    {
      "cell_type": "code",
      "source": [
        "#display the scores from adjusting the max_depth.\n"
      ],
      "metadata": {
        "id": "xH2_BH_m7ZUd"
      },
      "execution_count": null,
      "outputs": []
    },
    {
      "cell_type": "code",
      "metadata": {
        "id": "BKYfVBIZDPYN"
      },
      "source": [
        "#plot the scores to visually determine the best max_depth\n"
      ],
      "execution_count": null,
      "outputs": []
    },
    {
      "cell_type": "code",
      "metadata": {
        "id": "qgFsQe5XLuR0"
      },
      "source": [
        "#sort the dataframe by test scores and save the index (k) of the best score\n"
      ],
      "execution_count": null,
      "outputs": []
    },
    {
      "cell_type": "markdown",
      "source": [
        "## Balance for Random Forest\n",
        "\n",
        "1. Choose a metric to optimize in order to decide which model is best.  In a comment, explain why you chose that metric.\n",
        "\n",
        "2. Adjust the max_depth to get the best model possible.  \n",
        "\n",
        "Hint: You might try creating a loop over a reasonable number of max_depth values and storing lists of scores, then plotting those scores to visually determine the best value for the max_depth."
      ],
      "metadata": {
        "id": "6PsiZXXEq1_M"
      }
    },
    {
      "cell_type": "code",
      "metadata": {
        "id": "KmY7yUiYUIcT"
      },
      "source": [
        "#create a range of max_depth values\n",
        "\n",
        "#create a dataframe to store train and test scores.\n",
        "\n",
        "\n",
        "#loop over the values in depths\n",
        "\n",
        "  #Trying depth. Printing depth = n\n",
        "  #fit a new model with max_depth=n\n",
        "  \n",
        "\n",
        "  #put the model into a pipeline\n",
        "  \n",
        "  \n",
        "  #fit the model\n",
        "  \n",
        "  \n",
        "  #create prediction arrays\n",
        " \n",
        "  \n",
        "  #evaluate the model using R2 Score\n",
        " \n",
        "  \n",
        "  #store the scores in the scores dataframe\n",
        "  "
      ],
      "execution_count": null,
      "outputs": []
    },
    {
      "cell_type": "code",
      "source": [
        "#display the scores from adjusting the max depth for the Random Forest\n"
      ],
      "metadata": {
        "id": "9D_sBhMynbwD"
      },
      "execution_count": null,
      "outputs": []
    },
    {
      "cell_type": "code",
      "metadata": {
        "id": "wS__IVkyPEc8"
      },
      "source": [
        "#plot the scores to visually determine the best max_depth\n"
      ],
      "execution_count": null,
      "outputs": []
    },
    {
      "cell_type": "code",
      "source": [
        "#sort the dataframe by test scores and save the index max_depth of the best score\n"
      ],
      "metadata": {
        "id": "AJIcSb3WniyZ"
      },
      "execution_count": null,
      "outputs": []
    },
    {
      "cell_type": "code",
      "source": [
        "#create and fit a final model using the best value for max_depth\n",
        "\n",
        "\n",
        "#evaluate the final model\n"
      ],
      "metadata": {
        "id": "YEzYsEqank1o"
      },
      "execution_count": null,
      "outputs": []
    },
    {
      "cell_type": "code",
      "source": [
        ""
      ],
      "metadata": {
        "id": "e0GdW2NxnkxV"
      },
      "execution_count": null,
      "outputs": []
    }
  ]
}