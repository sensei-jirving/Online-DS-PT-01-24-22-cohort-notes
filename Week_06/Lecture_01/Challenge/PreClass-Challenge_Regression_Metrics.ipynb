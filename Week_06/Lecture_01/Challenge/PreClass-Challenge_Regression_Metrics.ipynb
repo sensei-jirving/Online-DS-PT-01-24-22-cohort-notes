{
  "nbformat": 4,
  "nbformat_minor": 0,
  "metadata": {
    "colab": {
      "name": "Challenge Regression Metrics.ipynb",
      "provenance": [],
      "collapsed_sections": [],
      "include_colab_link": true
    },
    "kernelspec": {
      "name": "python3",
      "display_name": "Python 3"
    }
  },
  "cells": [
    {
      "cell_type": "markdown",
      "metadata": {
        "id": "view-in-github",
        "colab_type": "text"
      },
      "source": [
        "<a href=\"https://colab.research.google.com/github/sensei-jirving/Online-DS-PT-01.24.22-cohort-notes/blob/main/Week_06/Lecture_01/Challenge/PreClass-Challenge_Regression_Metrics.ipynb\" target=\"_parent\"><img src=\"https://colab.research.google.com/assets/colab-badge.svg\" alt=\"Open In Colab\"/></a>"
      ]
    },
    {
      "cell_type": "markdown",
      "metadata": {
        "id": "M3wwYi6u_VU3"
      },
      "source": [
        "# From data to model\n",
        "\n",
        "In this notebook we will take a dataset and prepare it, train a model, and make a prediction.\n",
        "\n",
        "Steps\n",
        "1. Load and inspect the data\n",
        "2. Clean the data\n",
        "3. Split the data\n",
        "4. Pre-process the data\n",
        "5. Model the Data and Evaluate the Model\n",
        "\n"
      ]
    },
    {
      "cell_type": "markdown",
      "metadata": {
        "id": "_A7msLwr_4TA"
      },
      "source": [
        "Import Libraries"
      ]
    },
    {
      "cell_type": "code",
      "metadata": {
        "id": "1qqHcPH56CaM"
      },
      "source": [
        "# Imports\n",
        "import pandas as pd\n",
        "import numpy as np\n",
        "from sklearn.model_selection import train_test_split\n",
        "from sklearn.compose import make_column_selector, make_column_transformer\n",
        "from sklearn.linear_model import LinearRegression\n",
        "from sklearn.preprocessing import StandardScaler, OneHotEncoder\n",
        "from sklearn.pipeline import make_pipeline\n",
        "from sklearn.dummy import DummyRegressor\n",
        "from sklearn.metrics import mean_absolute_error, mean_squared_error, r2_score\n",
        "from sklearn import set_config"
      ],
      "execution_count": null,
      "outputs": []
    },
    {
      "cell_type": "markdown",
      "metadata": {
        "id": "7Djq4Nz1_5dD"
      },
      "source": [
        "Load Data\n",
        "\n",
        "You can download the data [here](https://drive.google.com/file/d/1BE4DAABG45aEga4AQeB-9DuTsRWpz46A/view?usp=sharing), which is adapted from data.world.\n",
        "\n",
        "**Data Dictionary:**\n",
        "\n",
        "**Attribute** | **Description**  \n",
        "--- | ---\n",
        "model | model of the car\n",
        "price | price car last sold for\n",
        "transmission | transmission type: Automatic or Manual\n",
        "mileage | current mileage of the car\n",
        "fuelType | fuel type the car runs on\n",
        "tax | tax paid on car at last sale\n",
        "mpg | miles per gallon of car (target)\n",
        "engineSize | size of engine in cubic litres"
      ]
    },
    {
      "cell_type": "code",
      "metadata": {
        "id": "x0N_O7tr5WV8",
        "colab": {
          "base_uri": "https://localhost:8080/",
          "height": 206
        },
        "outputId": "afbb193b-649c-40ca-803c-87448793e41a"
      },
      "source": [
        "# Load Data\n",
        "path = 'https://docs.google.com/spreadsheets/d/e/2PACX-1vS2dIT3WEj2j4nSpai7K0wSCwFc_hQBYQR6Xf10VtnyI64EItM9SWxN1UFU_XhrkWdUp6ayrUOoJSgY/pub?output=csv'\n",
        "df = pd.read_csv(path)\n",
        "df.head()"
      ],
      "execution_count": null,
      "outputs": [
        {
          "output_type": "execute_result",
          "data": {
            "text/html": [
              "\n",
              "  <div id=\"df-18c7d969-953a-49e0-a54e-77e90818f4ca\">\n",
              "    <div class=\"colab-df-container\">\n",
              "      <div>\n",
              "<style scoped>\n",
              "    .dataframe tbody tr th:only-of-type {\n",
              "        vertical-align: middle;\n",
              "    }\n",
              "\n",
              "    .dataframe tbody tr th {\n",
              "        vertical-align: top;\n",
              "    }\n",
              "\n",
              "    .dataframe thead th {\n",
              "        text-align: right;\n",
              "    }\n",
              "</style>\n",
              "<table border=\"1\" class=\"dataframe\">\n",
              "  <thead>\n",
              "    <tr style=\"text-align: right;\">\n",
              "      <th></th>\n",
              "      <th>model</th>\n",
              "      <th>year</th>\n",
              "      <th>price</th>\n",
              "      <th>transmission</th>\n",
              "      <th>mileage</th>\n",
              "      <th>fuelType</th>\n",
              "      <th>tax</th>\n",
              "      <th>mpg</th>\n",
              "      <th>engineSize</th>\n",
              "    </tr>\n",
              "  </thead>\n",
              "  <tbody>\n",
              "    <tr>\n",
              "      <th>0</th>\n",
              "      <td>SLK</td>\n",
              "      <td>2005</td>\n",
              "      <td>5200</td>\n",
              "      <td>Automatic</td>\n",
              "      <td>63000</td>\n",
              "      <td>Petrol</td>\n",
              "      <td>325</td>\n",
              "      <td>32.1</td>\n",
              "      <td>1.8</td>\n",
              "    </tr>\n",
              "    <tr>\n",
              "      <th>1</th>\n",
              "      <td>S Class</td>\n",
              "      <td>2017</td>\n",
              "      <td>34948</td>\n",
              "      <td>Automatic</td>\n",
              "      <td>27000</td>\n",
              "      <td>Hybrid</td>\n",
              "      <td>20</td>\n",
              "      <td>61.4</td>\n",
              "      <td>2.1</td>\n",
              "    </tr>\n",
              "    <tr>\n",
              "      <th>2</th>\n",
              "      <td>SL CLASS</td>\n",
              "      <td>2016</td>\n",
              "      <td>49948</td>\n",
              "      <td>Automatic</td>\n",
              "      <td>6200</td>\n",
              "      <td>Petrol</td>\n",
              "      <td>555</td>\n",
              "      <td>28.0</td>\n",
              "      <td>5.5</td>\n",
              "    </tr>\n",
              "    <tr>\n",
              "      <th>3</th>\n",
              "      <td>G Class</td>\n",
              "      <td>2016</td>\n",
              "      <td>61948</td>\n",
              "      <td>Automatic</td>\n",
              "      <td>16000</td>\n",
              "      <td>Petrol</td>\n",
              "      <td>325</td>\n",
              "      <td>30.4</td>\n",
              "      <td>4.0</td>\n",
              "    </tr>\n",
              "    <tr>\n",
              "      <th>4</th>\n",
              "      <td>G Class</td>\n",
              "      <td>2016</td>\n",
              "      <td>73948</td>\n",
              "      <td>Automatic</td>\n",
              "      <td>4000</td>\n",
              "      <td>Petrol</td>\n",
              "      <td>325</td>\n",
              "      <td>30.1</td>\n",
              "      <td>4.0</td>\n",
              "    </tr>\n",
              "  </tbody>\n",
              "</table>\n",
              "</div>\n",
              "      <button class=\"colab-df-convert\" onclick=\"convertToInteractive('df-18c7d969-953a-49e0-a54e-77e90818f4ca')\"\n",
              "              title=\"Convert this dataframe to an interactive table.\"\n",
              "              style=\"display:none;\">\n",
              "        \n",
              "  <svg xmlns=\"http://www.w3.org/2000/svg\" height=\"24px\"viewBox=\"0 0 24 24\"\n",
              "       width=\"24px\">\n",
              "    <path d=\"M0 0h24v24H0V0z\" fill=\"none\"/>\n",
              "    <path d=\"M18.56 5.44l.94 2.06.94-2.06 2.06-.94-2.06-.94-.94-2.06-.94 2.06-2.06.94zm-11 1L8.5 8.5l.94-2.06 2.06-.94-2.06-.94L8.5 2.5l-.94 2.06-2.06.94zm10 10l.94 2.06.94-2.06 2.06-.94-2.06-.94-.94-2.06-.94 2.06-2.06.94z\"/><path d=\"M17.41 7.96l-1.37-1.37c-.4-.4-.92-.59-1.43-.59-.52 0-1.04.2-1.43.59L10.3 9.45l-7.72 7.72c-.78.78-.78 2.05 0 2.83L4 21.41c.39.39.9.59 1.41.59.51 0 1.02-.2 1.41-.59l7.78-7.78 2.81-2.81c.8-.78.8-2.07 0-2.86zM5.41 20L4 18.59l7.72-7.72 1.47 1.35L5.41 20z\"/>\n",
              "  </svg>\n",
              "      </button>\n",
              "      \n",
              "  <style>\n",
              "    .colab-df-container {\n",
              "      display:flex;\n",
              "      flex-wrap:wrap;\n",
              "      gap: 12px;\n",
              "    }\n",
              "\n",
              "    .colab-df-convert {\n",
              "      background-color: #E8F0FE;\n",
              "      border: none;\n",
              "      border-radius: 50%;\n",
              "      cursor: pointer;\n",
              "      display: none;\n",
              "      fill: #1967D2;\n",
              "      height: 32px;\n",
              "      padding: 0 0 0 0;\n",
              "      width: 32px;\n",
              "    }\n",
              "\n",
              "    .colab-df-convert:hover {\n",
              "      background-color: #E2EBFA;\n",
              "      box-shadow: 0px 1px 2px rgba(60, 64, 67, 0.3), 0px 1px 3px 1px rgba(60, 64, 67, 0.15);\n",
              "      fill: #174EA6;\n",
              "    }\n",
              "\n",
              "    [theme=dark] .colab-df-convert {\n",
              "      background-color: #3B4455;\n",
              "      fill: #D2E3FC;\n",
              "    }\n",
              "\n",
              "    [theme=dark] .colab-df-convert:hover {\n",
              "      background-color: #434B5C;\n",
              "      box-shadow: 0px 1px 3px 1px rgba(0, 0, 0, 0.15);\n",
              "      filter: drop-shadow(0px 1px 2px rgba(0, 0, 0, 0.3));\n",
              "      fill: #FFFFFF;\n",
              "    }\n",
              "  </style>\n",
              "\n",
              "      <script>\n",
              "        const buttonEl =\n",
              "          document.querySelector('#df-18c7d969-953a-49e0-a54e-77e90818f4ca button.colab-df-convert');\n",
              "        buttonEl.style.display =\n",
              "          google.colab.kernel.accessAllowed ? 'block' : 'none';\n",
              "\n",
              "        async function convertToInteractive(key) {\n",
              "          const element = document.querySelector('#df-18c7d969-953a-49e0-a54e-77e90818f4ca');\n",
              "          const dataTable =\n",
              "            await google.colab.kernel.invokeFunction('convertToInteractive',\n",
              "                                                     [key], {});\n",
              "          if (!dataTable) return;\n",
              "\n",
              "          const docLinkHtml = 'Like what you see? Visit the ' +\n",
              "            '<a target=\"_blank\" href=https://colab.research.google.com/notebooks/data_table.ipynb>data table notebook</a>'\n",
              "            + ' to learn more about interactive tables.';\n",
              "          element.innerHTML = '';\n",
              "          dataTable['output_type'] = 'display_data';\n",
              "          await google.colab.output.renderOutput(dataTable, element);\n",
              "          const docLink = document.createElement('div');\n",
              "          docLink.innerHTML = docLinkHtml;\n",
              "          element.appendChild(docLink);\n",
              "        }\n",
              "      </script>\n",
              "    </div>\n",
              "  </div>\n",
              "  "
            ],
            "text/plain": [
              "      model  year  price transmission  mileage fuelType  tax   mpg  engineSize\n",
              "0       SLK  2005   5200    Automatic    63000   Petrol  325  32.1         1.8\n",
              "1   S Class  2017  34948    Automatic    27000   Hybrid   20  61.4         2.1\n",
              "2  SL CLASS  2016  49948    Automatic     6200   Petrol  555  28.0         5.5\n",
              "3   G Class  2016  61948    Automatic    16000   Petrol  325  30.4         4.0\n",
              "4   G Class  2016  73948    Automatic     4000   Petrol  325  30.1         4.0"
            ]
          },
          "metadata": {},
          "execution_count": 12
        }
      ]
    },
    {
      "cell_type": "code",
      "metadata": {
        "colab": {
          "base_uri": "https://localhost:8080/"
        },
        "id": "t9B91f1WH_AJ",
        "outputId": "a460d470-44d5-4fe0-d57c-5429a4669e21"
      },
      "source": [
        "df.shape"
      ],
      "execution_count": null,
      "outputs": [
        {
          "output_type": "execute_result",
          "data": {
            "text/plain": [
              "(13119, 9)"
            ]
          },
          "metadata": {},
          "execution_count": 13
        }
      ]
    },
    {
      "cell_type": "markdown",
      "metadata": {
        "id": "2ej75b3IxrUI"
      },
      "source": [
        "# 2. Clean the Data"
      ]
    },
    {
      "cell_type": "markdown",
      "metadata": {
        "id": "2Y3eeg5twyGe"
      },
      "source": [
        "### Check for duplicates"
      ]
    },
    {
      "cell_type": "code",
      "metadata": {
        "id": "hoN-7TB-rFY7"
      },
      "source": [
        ""
      ],
      "execution_count": null,
      "outputs": []
    },
    {
      "cell_type": "markdown",
      "metadata": {
        "id": "Dt0hGG0zwOEo"
      },
      "source": [
        "If there are duplicates, drop them."
      ]
    },
    {
      "cell_type": "code",
      "metadata": {
        "id": "qDODZVvrwj-5"
      },
      "source": [
        ""
      ],
      "execution_count": null,
      "outputs": []
    },
    {
      "cell_type": "markdown",
      "metadata": {
        "id": "M3cMg8K6WsGU"
      },
      "source": [
        "Check out the datatypes and missing data."
      ]
    },
    {
      "cell_type": "code",
      "metadata": {
        "id": "9ycie_ndWsb2"
      },
      "source": [
        ""
      ],
      "execution_count": null,
      "outputs": []
    },
    {
      "cell_type": "markdown",
      "metadata": {
        "id": "mmS4V3qSvWgR"
      },
      "source": [
        "Inpect the unique values of the categorical columns\n"
      ]
    },
    {
      "cell_type": "code",
      "metadata": {
        "id": "BNlHMSJgL5eg"
      },
      "source": [
        ""
      ],
      "execution_count": null,
      "outputs": []
    },
    {
      "cell_type": "markdown",
      "metadata": {
        "id": "GsoSCfWfMkK1"
      },
      "source": [
        "When we one-hot encode this data there will a column for each one of the above categories with a value for each car of 0 or 1."
      ]
    },
    {
      "cell_type": "markdown",
      "metadata": {
        "id": "4LDOtl5IBKVT"
      },
      "source": [
        "# 3. Split the Data\n",
        "\n",
        "We want to predict the mpg of the car, so that will be our `y` variable.  The rest of the columns are the features our model will use to make that prediction, so those are the `X` variable."
      ]
    },
    {
      "cell_type": "code",
      "metadata": {
        "id": "1DfQnaMQ2Sz_"
      },
      "source": [
        "# split X and y\n",
        "\n",
        "\n",
        "# split training and test\n",
        "# set random_state to 42 for reproducibility\n"
      ],
      "execution_count": null,
      "outputs": []
    },
    {
      "cell_type": "markdown",
      "metadata": {
        "id": "_GS1-guIy2Sg"
      },
      "source": [
        "# 4. Prepare the Data"
      ]
    },
    {
      "cell_type": "markdown",
      "metadata": {
        "id": "VIZAjsq77nA1"
      },
      "source": [
        "### ColumnSelector\n",
        "\n",
        "Remember that we only want to one-hot encode our categorical variables, but not our numeric ones.  We are going to use the OneHotEncoder transformer from sklearn, but that class cannot automatically decide which columns to encode.  After all, maybe we want to encode some integer columns because they are actually nominal categories.  \n",
        "\n",
        "We could make a list of all of the categorical columns to encode.  That sounds like a lot of work, so let's let Python do it for us.\n",
        "\n",
        "We can use the sklearn ColumnSelector class to return a list of names of a particular type.  We will use this to return the categorical columns."
      ]
    },
    {
      "cell_type": "code",
      "metadata": {
        "id": "dPs3aOaQt-Xk"
      },
      "source": [
        "# instantiate the column selectors\n"
      ],
      "execution_count": null,
      "outputs": []
    },
    {
      "cell_type": "markdown",
      "metadata": {
        "id": "BYSDsphd8h90"
      },
      "source": [
        "### OneHotEncoder\n",
        "\n",
        "sklearn includes a class for one-hot encoding nominal variables.  However, we ONLY want to use it on the categorical columns.  If we use it on numeric variables then we will end up with a separate column for each different value in that column (which would be a lot!) and the model will not consider that column as a numeric variable.\n",
        "\n",
        "* We also want to make sure that OneHotEncoder returns a dense array, rather than a compressed kind of array called a 'sparse array', so we set `sparse=False`.\n",
        "\n",
        "* We also want it to ignore any categories in the test data that it doesn't see in the training data, so we set `handle_unkown = 'ignore'`.  Otherwise it will give us an error if there is a category in the test set that it didn't see in the training set.  This could be a problem if we put this model into a production environment where it is making predictions on new data!"
      ]
    },
    {
      "cell_type": "code",
      "metadata": {
        "id": "tB7nRM9Gt-UY"
      },
      "source": [
        "#instantiate the Standard Scaler and OneHotEncoder\n"
      ],
      "execution_count": null,
      "outputs": []
    },
    {
      "cell_type": "markdown",
      "metadata": {
        "id": "ZAxHHWIJA8A7"
      },
      "source": [
        "# Setup Tuples\n",
        "\n",
        "We will create a tuple for the standard scaler and the numeric column selector and a categorical tuple for the one hot encoder and the categorical column selector."
      ]
    },
    {
      "cell_type": "code",
      "source": [
        ""
      ],
      "metadata": {
        "id": "4Ls8U7TlY9fy"
      },
      "execution_count": null,
      "outputs": []
    },
    {
      "cell_type": "markdown",
      "metadata": {
        "id": "TGVWrSqi9sSE"
      },
      "source": [
        "### ColumnTransformer\n",
        "\n",
        "sklearn has another class that allows us to apply certain preprocessing steps, such as imputers, scalers, or encoders, to certain columns and not others.  This is much easier than splitting them up by hand and joining them again after processing.\n",
        "\n",
        "ColumnTransformer takes a list of tuples.  The columns can be a list of columns, or it can be a ColumnSelector class object like we made above.\n",
        "\n",
        "By default it won't include any columns that haven't been selected, so we have to set `remainder='passthrough'`"
      ]
    },
    {
      "cell_type": "code",
      "source": [
        ""
      ],
      "metadata": {
        "id": "kJPxKm2qZJmv"
      },
      "execution_count": null,
      "outputs": []
    },
    {
      "cell_type": "markdown",
      "source": [
        "# 5. Model the Data and Evaluate the Model\n",
        "#### Baseline Model\n",
        "Define a baseline model using the 'mean' strategy.\n",
        "Put your Columntransformer and the baseline model into a pipeline.\n",
        "Fit your pipe onto the training data.\n"
      ],
      "metadata": {
        "id": "K6GsTSNXzCHh"
      }
    },
    {
      "cell_type": "code",
      "source": [
        ""
      ],
      "metadata": {
        "id": "QQ2oToLcxyFG"
      },
      "execution_count": null,
      "outputs": []
    },
    {
      "cell_type": "markdown",
      "source": [
        "### Define a function \n",
        "Define a function that takes true and predicted values as arguments and prints all 4 metrics"
      ],
      "metadata": {
        "id": "D4EaiwDCza4w"
      }
    },
    {
      "cell_type": "code",
      "source": [
        "# define a function that takes true and predicted values as arguments\n",
        "# and prints all 4 metrics\n"
      ],
      "metadata": {
        "id": "S9Dw83fOxx1e"
      },
      "execution_count": null,
      "outputs": []
    },
    {
      "cell_type": "code",
      "source": [
        "# find MAE, MSE, RMSE and R2 on the baseline model for both the train and test data\n"
      ],
      "metadata": {
        "id": "TAGxjMc3x8SL"
      },
      "execution_count": null,
      "outputs": []
    },
    {
      "cell_type": "markdown",
      "source": [
        "### Linear Regression Model with Pipeline\n",
        "Instantiate a linear regression model.Put your ColumnTransformer and linear regression model into a pipeline. Fit your pipe on the training data."
      ],
      "metadata": {
        "id": "gh9WUuYQzi0R"
      }
    },
    {
      "cell_type": "code",
      "source": [
        "# instantiate a linear regression model\n",
        "# put your ColumnTransformer and linear regression model into a pipeline\n",
        "# fit your pipe on the training data\n"
      ],
      "metadata": {
        "id": "Zcl1DGMQZhRi"
      },
      "execution_count": null,
      "outputs": []
    },
    {
      "cell_type": "code",
      "source": [
        "# find MAE, MSE, RMSE and R2 on the linear regression model for both the train and test data\n"
      ],
      "metadata": {
        "id": "gNpZz9XVrpG4"
      },
      "execution_count": null,
      "outputs": []
    },
    {
      "cell_type": "code",
      "source": [
        ""
      ],
      "metadata": {
        "id": "6I14DUJtyeME"
      },
      "execution_count": null,
      "outputs": []
    }
  ]
}